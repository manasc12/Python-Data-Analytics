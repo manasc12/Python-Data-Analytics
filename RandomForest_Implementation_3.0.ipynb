{
 "cells": [
  {
   "cell_type": "markdown",
   "metadata": {},
   "source": [
    "<h1> Implementing Random Forest Classifier </h1>\n",
    "<h3> Importing Required Libraries </h3>"
   ]
  },
  {
   "cell_type": "code",
   "execution_count": 2,
   "metadata": {},
   "outputs": [],
   "source": [
    "import pandas as pd\n",
    "import numpy as np\n",
    "from matplotlib import pyplot as plt\n",
    "%matplotlib inline\n",
    "from sklearn import svm\n",
    "from sklearn import datasets\n",
    "from sklearn.preprocessing import LabelEncoder\n",
    "from imblearn.over_sampling import RandomOverSampler\n",
    "from sklearn.model_selection import train_test_split\n",
    "from sklearn.ensemble import RandomForestClassifier\n",
    "from sklearn import metrics\n",
    "from sklearn.model_selection import RandomizedSearchCV\n",
    "from joblib import dump, load #to save ur model\n",
    "from sklearn.model_selection import GridSearchCV"
   ]
  },
  {
   "cell_type": "markdown",
   "metadata": {},
   "source": [
    "<h3> Reading the Data from CSV file </h3>\n",
    "<h4>1. Accident Data\n",
    "<br>2. Casualities Data\n",
    "<br>3. Vehicles Data\n",
    "<br> We will try to add more and more features this time to build a highly accurate classifier.\n",
    "<br><h3>Provided:</h3> <h5>Previously we have only used Accident Data to build our classifier without balancing the data and we didn't got a single considerable classifier which can classify most effectively in all of the accident_severity(3,2,1) scenarios.</h5></h4>"
   ]
  },
  {
   "cell_type": "code",
   "execution_count": 4,
   "metadata": {},
   "outputs": [
    {
     "name": "stderr",
     "output_type": "stream",
     "text": [
      "/opt/anaconda3/envs/tensorflow/lib/python3.8/site-packages/IPython/core/interactiveshell.py:3145: DtypeWarning: Columns (0) have mixed types.Specify dtype option on import or set low_memory=False.\n",
      "  has_raised = await self.run_ast_nodes(code_ast.body, cell_name,\n"
     ]
    },
    {
     "data": {
      "text/html": [
       "<div>\n",
       "<style scoped>\n",
       "    .dataframe tbody tr th:only-of-type {\n",
       "        vertical-align: middle;\n",
       "    }\n",
       "\n",
       "    .dataframe tbody tr th {\n",
       "        vertical-align: top;\n",
       "    }\n",
       "\n",
       "    .dataframe thead th {\n",
       "        text-align: right;\n",
       "    }\n",
       "</style>\n",
       "<table border=\"1\" class=\"dataframe\">\n",
       "  <thead>\n",
       "    <tr style=\"text-align: right;\">\n",
       "      <th></th>\n",
       "      <th>Accident_Index</th>\n",
       "      <th>Location_Easting_OSGR</th>\n",
       "      <th>Location_Northing_OSGR</th>\n",
       "      <th>Longitude</th>\n",
       "      <th>Latitude</th>\n",
       "      <th>Police_Force</th>\n",
       "      <th>Accident_Severity</th>\n",
       "      <th>Number_of_Vehicles</th>\n",
       "      <th>Number_of_Casualties</th>\n",
       "      <th>Date</th>\n",
       "      <th>...</th>\n",
       "      <th>Pedestrian_Crossing-Human_Control</th>\n",
       "      <th>Pedestrian_Crossing-Physical_Facilities</th>\n",
       "      <th>Light_Conditions</th>\n",
       "      <th>Weather_Conditions</th>\n",
       "      <th>Road_Surface_Conditions</th>\n",
       "      <th>Special_Conditions_at_Site</th>\n",
       "      <th>Carriageway_Hazards</th>\n",
       "      <th>Urban_or_Rural_Area</th>\n",
       "      <th>Did_Police_Officer_Attend_Scene_of_Accident</th>\n",
       "      <th>LSOA_of_Accident_Location</th>\n",
       "    </tr>\n",
       "  </thead>\n",
       "  <tbody>\n",
       "    <tr>\n",
       "      <th>0</th>\n",
       "      <td>2018010080971</td>\n",
       "      <td>529150.0</td>\n",
       "      <td>182270.0</td>\n",
       "      <td>-0.139737</td>\n",
       "      <td>51.524587</td>\n",
       "      <td>1</td>\n",
       "      <td>3</td>\n",
       "      <td>2</td>\n",
       "      <td>2</td>\n",
       "      <td>01/01/2018</td>\n",
       "      <td>...</td>\n",
       "      <td>0</td>\n",
       "      <td>0</td>\n",
       "      <td>4</td>\n",
       "      <td>1</td>\n",
       "      <td>1</td>\n",
       "      <td>0</td>\n",
       "      <td>0</td>\n",
       "      <td>1</td>\n",
       "      <td>1</td>\n",
       "      <td>E01000854</td>\n",
       "    </tr>\n",
       "    <tr>\n",
       "      <th>1</th>\n",
       "      <td>2018010080973</td>\n",
       "      <td>542020.0</td>\n",
       "      <td>184290.0</td>\n",
       "      <td>0.046471</td>\n",
       "      <td>51.539651</td>\n",
       "      <td>1</td>\n",
       "      <td>3</td>\n",
       "      <td>1</td>\n",
       "      <td>1</td>\n",
       "      <td>01/01/2018</td>\n",
       "      <td>...</td>\n",
       "      <td>0</td>\n",
       "      <td>0</td>\n",
       "      <td>4</td>\n",
       "      <td>1</td>\n",
       "      <td>1</td>\n",
       "      <td>0</td>\n",
       "      <td>0</td>\n",
       "      <td>1</td>\n",
       "      <td>1</td>\n",
       "      <td>E01003531</td>\n",
       "    </tr>\n",
       "    <tr>\n",
       "      <th>2</th>\n",
       "      <td>2018010080974</td>\n",
       "      <td>531720.0</td>\n",
       "      <td>182910.0</td>\n",
       "      <td>-0.102474</td>\n",
       "      <td>51.529746</td>\n",
       "      <td>1</td>\n",
       "      <td>3</td>\n",
       "      <td>2</td>\n",
       "      <td>1</td>\n",
       "      <td>01/01/2018</td>\n",
       "      <td>...</td>\n",
       "      <td>0</td>\n",
       "      <td>5</td>\n",
       "      <td>4</td>\n",
       "      <td>1</td>\n",
       "      <td>1</td>\n",
       "      <td>0</td>\n",
       "      <td>0</td>\n",
       "      <td>1</td>\n",
       "      <td>1</td>\n",
       "      <td>E01002723</td>\n",
       "    </tr>\n",
       "    <tr>\n",
       "      <th>3</th>\n",
       "      <td>2018010080981</td>\n",
       "      <td>541450.0</td>\n",
       "      <td>183220.0</td>\n",
       "      <td>0.037828</td>\n",
       "      <td>51.530179</td>\n",
       "      <td>1</td>\n",
       "      <td>2</td>\n",
       "      <td>2</td>\n",
       "      <td>1</td>\n",
       "      <td>01/01/2018</td>\n",
       "      <td>...</td>\n",
       "      <td>0</td>\n",
       "      <td>5</td>\n",
       "      <td>4</td>\n",
       "      <td>2</td>\n",
       "      <td>2</td>\n",
       "      <td>0</td>\n",
       "      <td>0</td>\n",
       "      <td>1</td>\n",
       "      <td>1</td>\n",
       "      <td>E01003492</td>\n",
       "    </tr>\n",
       "    <tr>\n",
       "      <th>4</th>\n",
       "      <td>2018010080982</td>\n",
       "      <td>543580.0</td>\n",
       "      <td>176500.0</td>\n",
       "      <td>0.065781</td>\n",
       "      <td>51.469258</td>\n",
       "      <td>1</td>\n",
       "      <td>2</td>\n",
       "      <td>2</td>\n",
       "      <td>2</td>\n",
       "      <td>01/01/2018</td>\n",
       "      <td>...</td>\n",
       "      <td>0</td>\n",
       "      <td>0</td>\n",
       "      <td>4</td>\n",
       "      <td>1</td>\n",
       "      <td>2</td>\n",
       "      <td>0</td>\n",
       "      <td>0</td>\n",
       "      <td>1</td>\n",
       "      <td>1</td>\n",
       "      <td>E01001682</td>\n",
       "    </tr>\n",
       "  </tbody>\n",
       "</table>\n",
       "<p>5 rows × 32 columns</p>\n",
       "</div>"
      ],
      "text/plain": [
       "  Accident_Index  Location_Easting_OSGR  Location_Northing_OSGR  Longitude  \\\n",
       "0  2018010080971               529150.0                182270.0  -0.139737   \n",
       "1  2018010080973               542020.0                184290.0   0.046471   \n",
       "2  2018010080974               531720.0                182910.0  -0.102474   \n",
       "3  2018010080981               541450.0                183220.0   0.037828   \n",
       "4  2018010080982               543580.0                176500.0   0.065781   \n",
       "\n",
       "    Latitude  Police_Force  Accident_Severity  Number_of_Vehicles  \\\n",
       "0  51.524587             1                  3                   2   \n",
       "1  51.539651             1                  3                   1   \n",
       "2  51.529746             1                  3                   2   \n",
       "3  51.530179             1                  2                   2   \n",
       "4  51.469258             1                  2                   2   \n",
       "\n",
       "   Number_of_Casualties        Date  ...  Pedestrian_Crossing-Human_Control  \\\n",
       "0                     2  01/01/2018  ...                                  0   \n",
       "1                     1  01/01/2018  ...                                  0   \n",
       "2                     1  01/01/2018  ...                                  0   \n",
       "3                     1  01/01/2018  ...                                  0   \n",
       "4                     2  01/01/2018  ...                                  0   \n",
       "\n",
       "  Pedestrian_Crossing-Physical_Facilities  Light_Conditions  \\\n",
       "0                                       0                 4   \n",
       "1                                       0                 4   \n",
       "2                                       5                 4   \n",
       "3                                       5                 4   \n",
       "4                                       0                 4   \n",
       "\n",
       "  Weather_Conditions  Road_Surface_Conditions  Special_Conditions_at_Site  \\\n",
       "0                  1                        1                           0   \n",
       "1                  1                        1                           0   \n",
       "2                  1                        1                           0   \n",
       "3                  2                        2                           0   \n",
       "4                  1                        2                           0   \n",
       "\n",
       "   Carriageway_Hazards  Urban_or_Rural_Area  \\\n",
       "0                    0                    1   \n",
       "1                    0                    1   \n",
       "2                    0                    1   \n",
       "3                    0                    1   \n",
       "4                    0                    1   \n",
       "\n",
       "   Did_Police_Officer_Attend_Scene_of_Accident  LSOA_of_Accident_Location  \n",
       "0                                            1                  E01000854  \n",
       "1                                            1                  E01003531  \n",
       "2                                            1                  E01002723  \n",
       "3                                            1                  E01003492  \n",
       "4                                            1                  E01001682  \n",
       "\n",
       "[5 rows x 32 columns]"
      ]
     },
     "execution_count": 4,
     "metadata": {},
     "output_type": "execute_result"
    }
   ],
   "source": [
    "df_Acc=pd.read_csv('/Users/manasc12/MyProjects/Data/RealUKAccidentAnalysisData/dftRoadSafetyData_Accidents_2018.csv')\n",
    "df_Veh=pd.read_csv('/Users/manasc12/MyProjects/Data/RealUKAccidentAnalysisData/dftRoadSafetyData_Vehicles_2018.csv')\n",
    "df_Acc.head(5)"
   ]
  },
  {
   "cell_type": "code",
   "execution_count": 5,
   "metadata": {},
   "outputs": [
    {
     "data": {
      "text/html": [
       "<div>\n",
       "<style scoped>\n",
       "    .dataframe tbody tr th:only-of-type {\n",
       "        vertical-align: middle;\n",
       "    }\n",
       "\n",
       "    .dataframe tbody tr th {\n",
       "        vertical-align: top;\n",
       "    }\n",
       "\n",
       "    .dataframe thead th {\n",
       "        text-align: right;\n",
       "    }\n",
       "</style>\n",
       "<table border=\"1\" class=\"dataframe\">\n",
       "  <thead>\n",
       "    <tr style=\"text-align: right;\">\n",
       "      <th></th>\n",
       "      <th>Accident_Index</th>\n",
       "      <th>Vehicle_Reference</th>\n",
       "      <th>Vehicle_Type</th>\n",
       "      <th>Towing_and_Articulation</th>\n",
       "      <th>Vehicle_Manoeuvre</th>\n",
       "      <th>Vehicle_Location-Restricted_Lane</th>\n",
       "      <th>Junction_Location</th>\n",
       "      <th>Skidding_and_Overturning</th>\n",
       "      <th>Hit_Object_in_Carriageway</th>\n",
       "      <th>Vehicle_Leaving_Carriageway</th>\n",
       "      <th>...</th>\n",
       "      <th>Journey_Purpose_of_Driver</th>\n",
       "      <th>Sex_of_Driver</th>\n",
       "      <th>Age_of_Driver</th>\n",
       "      <th>Age_Band_of_Driver</th>\n",
       "      <th>Engine_Capacity_(CC)</th>\n",
       "      <th>Propulsion_Code</th>\n",
       "      <th>Age_of_Vehicle</th>\n",
       "      <th>Driver_IMD_Decile</th>\n",
       "      <th>Driver_Home_Area_Type</th>\n",
       "      <th>Vehicle_IMD_Decile</th>\n",
       "    </tr>\n",
       "  </thead>\n",
       "  <tbody>\n",
       "    <tr>\n",
       "      <th>0</th>\n",
       "      <td>2018010080971</td>\n",
       "      <td>1</td>\n",
       "      <td>9</td>\n",
       "      <td>0</td>\n",
       "      <td>18</td>\n",
       "      <td>0</td>\n",
       "      <td>0</td>\n",
       "      <td>0</td>\n",
       "      <td>0</td>\n",
       "      <td>0</td>\n",
       "      <td>...</td>\n",
       "      <td>6</td>\n",
       "      <td>1</td>\n",
       "      <td>32</td>\n",
       "      <td>6</td>\n",
       "      <td>1995</td>\n",
       "      <td>2</td>\n",
       "      <td>5</td>\n",
       "      <td>8</td>\n",
       "      <td>1</td>\n",
       "      <td>8</td>\n",
       "    </tr>\n",
       "    <tr>\n",
       "      <th>1</th>\n",
       "      <td>2018010080971</td>\n",
       "      <td>2</td>\n",
       "      <td>8</td>\n",
       "      <td>0</td>\n",
       "      <td>18</td>\n",
       "      <td>0</td>\n",
       "      <td>0</td>\n",
       "      <td>0</td>\n",
       "      <td>0</td>\n",
       "      <td>0</td>\n",
       "      <td>...</td>\n",
       "      <td>6</td>\n",
       "      <td>1</td>\n",
       "      <td>48</td>\n",
       "      <td>8</td>\n",
       "      <td>1798</td>\n",
       "      <td>8</td>\n",
       "      <td>6</td>\n",
       "      <td>1</td>\n",
       "      <td>1</td>\n",
       "      <td>1</td>\n",
       "    </tr>\n",
       "    <tr>\n",
       "      <th>2</th>\n",
       "      <td>2018010080973</td>\n",
       "      <td>1</td>\n",
       "      <td>9</td>\n",
       "      <td>0</td>\n",
       "      <td>18</td>\n",
       "      <td>0</td>\n",
       "      <td>2</td>\n",
       "      <td>0</td>\n",
       "      <td>0</td>\n",
       "      <td>0</td>\n",
       "      <td>...</td>\n",
       "      <td>6</td>\n",
       "      <td>3</td>\n",
       "      <td>-1</td>\n",
       "      <td>-1</td>\n",
       "      <td>-1</td>\n",
       "      <td>-1</td>\n",
       "      <td>-1</td>\n",
       "      <td>-1</td>\n",
       "      <td>-1</td>\n",
       "      <td>-1</td>\n",
       "    </tr>\n",
       "    <tr>\n",
       "      <th>3</th>\n",
       "      <td>2018010080974</td>\n",
       "      <td>1</td>\n",
       "      <td>8</td>\n",
       "      <td>0</td>\n",
       "      <td>7</td>\n",
       "      <td>0</td>\n",
       "      <td>8</td>\n",
       "      <td>0</td>\n",
       "      <td>0</td>\n",
       "      <td>0</td>\n",
       "      <td>...</td>\n",
       "      <td>1</td>\n",
       "      <td>1</td>\n",
       "      <td>40</td>\n",
       "      <td>7</td>\n",
       "      <td>1797</td>\n",
       "      <td>8</td>\n",
       "      <td>6</td>\n",
       "      <td>3</td>\n",
       "      <td>1</td>\n",
       "      <td>3</td>\n",
       "    </tr>\n",
       "    <tr>\n",
       "      <th>4</th>\n",
       "      <td>2018010080974</td>\n",
       "      <td>2</td>\n",
       "      <td>9</td>\n",
       "      <td>0</td>\n",
       "      <td>18</td>\n",
       "      <td>0</td>\n",
       "      <td>1</td>\n",
       "      <td>0</td>\n",
       "      <td>0</td>\n",
       "      <td>3</td>\n",
       "      <td>...</td>\n",
       "      <td>6</td>\n",
       "      <td>1</td>\n",
       "      <td>21</td>\n",
       "      <td>5</td>\n",
       "      <td>-1</td>\n",
       "      <td>-1</td>\n",
       "      <td>-1</td>\n",
       "      <td>5</td>\n",
       "      <td>1</td>\n",
       "      <td>5</td>\n",
       "    </tr>\n",
       "    <tr>\n",
       "      <th>...</th>\n",
       "      <td>...</td>\n",
       "      <td>...</td>\n",
       "      <td>...</td>\n",
       "      <td>...</td>\n",
       "      <td>...</td>\n",
       "      <td>...</td>\n",
       "      <td>...</td>\n",
       "      <td>...</td>\n",
       "      <td>...</td>\n",
       "      <td>...</td>\n",
       "      <td>...</td>\n",
       "      <td>...</td>\n",
       "      <td>...</td>\n",
       "      <td>...</td>\n",
       "      <td>...</td>\n",
       "      <td>...</td>\n",
       "      <td>...</td>\n",
       "      <td>...</td>\n",
       "      <td>...</td>\n",
       "      <td>...</td>\n",
       "      <td>...</td>\n",
       "    </tr>\n",
       "    <tr>\n",
       "      <th>226404</th>\n",
       "      <td>2018984116018</td>\n",
       "      <td>1</td>\n",
       "      <td>9</td>\n",
       "      <td>0</td>\n",
       "      <td>9</td>\n",
       "      <td>0</td>\n",
       "      <td>0</td>\n",
       "      <td>0</td>\n",
       "      <td>0</td>\n",
       "      <td>0</td>\n",
       "      <td>...</td>\n",
       "      <td>6</td>\n",
       "      <td>1</td>\n",
       "      <td>67</td>\n",
       "      <td>10</td>\n",
       "      <td>998</td>\n",
       "      <td>1</td>\n",
       "      <td>4</td>\n",
       "      <td>-1</td>\n",
       "      <td>3</td>\n",
       "      <td>-1</td>\n",
       "    </tr>\n",
       "    <tr>\n",
       "      <th>226405</th>\n",
       "      <td>2018984116018</td>\n",
       "      <td>2</td>\n",
       "      <td>9</td>\n",
       "      <td>0</td>\n",
       "      <td>15</td>\n",
       "      <td>0</td>\n",
       "      <td>0</td>\n",
       "      <td>1</td>\n",
       "      <td>0</td>\n",
       "      <td>7</td>\n",
       "      <td>...</td>\n",
       "      <td>6</td>\n",
       "      <td>1</td>\n",
       "      <td>24</td>\n",
       "      <td>5</td>\n",
       "      <td>3000</td>\n",
       "      <td>2</td>\n",
       "      <td>21</td>\n",
       "      <td>-1</td>\n",
       "      <td>3</td>\n",
       "      <td>-1</td>\n",
       "    </tr>\n",
       "    <tr>\n",
       "      <th>226406</th>\n",
       "      <td>2018984116018</td>\n",
       "      <td>3</td>\n",
       "      <td>9</td>\n",
       "      <td>0</td>\n",
       "      <td>2</td>\n",
       "      <td>6</td>\n",
       "      <td>0</td>\n",
       "      <td>0</td>\n",
       "      <td>0</td>\n",
       "      <td>0</td>\n",
       "      <td>...</td>\n",
       "      <td>6</td>\n",
       "      <td>3</td>\n",
       "      <td>-1</td>\n",
       "      <td>-1</td>\n",
       "      <td>2400</td>\n",
       "      <td>2</td>\n",
       "      <td>5</td>\n",
       "      <td>-1</td>\n",
       "      <td>-1</td>\n",
       "      <td>-1</td>\n",
       "    </tr>\n",
       "    <tr>\n",
       "      <th>226407</th>\n",
       "      <td>2018984116318</td>\n",
       "      <td>1</td>\n",
       "      <td>2</td>\n",
       "      <td>0</td>\n",
       "      <td>18</td>\n",
       "      <td>0</td>\n",
       "      <td>1</td>\n",
       "      <td>1</td>\n",
       "      <td>0</td>\n",
       "      <td>0</td>\n",
       "      <td>...</td>\n",
       "      <td>1</td>\n",
       "      <td>1</td>\n",
       "      <td>60</td>\n",
       "      <td>9</td>\n",
       "      <td>49</td>\n",
       "      <td>1</td>\n",
       "      <td>10</td>\n",
       "      <td>-1</td>\n",
       "      <td>3</td>\n",
       "      <td>-1</td>\n",
       "    </tr>\n",
       "    <tr>\n",
       "      <th>226408</th>\n",
       "      <td>2018984116418</td>\n",
       "      <td>1</td>\n",
       "      <td>9</td>\n",
       "      <td>0</td>\n",
       "      <td>18</td>\n",
       "      <td>0</td>\n",
       "      <td>0</td>\n",
       "      <td>0</td>\n",
       "      <td>12</td>\n",
       "      <td>0</td>\n",
       "      <td>...</td>\n",
       "      <td>2</td>\n",
       "      <td>2</td>\n",
       "      <td>21</td>\n",
       "      <td>5</td>\n",
       "      <td>899</td>\n",
       "      <td>1</td>\n",
       "      <td>5</td>\n",
       "      <td>-1</td>\n",
       "      <td>2</td>\n",
       "      <td>-1</td>\n",
       "    </tr>\n",
       "  </tbody>\n",
       "</table>\n",
       "<p>226409 rows × 23 columns</p>\n",
       "</div>"
      ],
      "text/plain": [
       "       Accident_Index  Vehicle_Reference  Vehicle_Type  \\\n",
       "0       2018010080971                  1             9   \n",
       "1       2018010080971                  2             8   \n",
       "2       2018010080973                  1             9   \n",
       "3       2018010080974                  1             8   \n",
       "4       2018010080974                  2             9   \n",
       "...               ...                ...           ...   \n",
       "226404  2018984116018                  1             9   \n",
       "226405  2018984116018                  2             9   \n",
       "226406  2018984116018                  3             9   \n",
       "226407  2018984116318                  1             2   \n",
       "226408  2018984116418                  1             9   \n",
       "\n",
       "        Towing_and_Articulation  Vehicle_Manoeuvre  \\\n",
       "0                             0                 18   \n",
       "1                             0                 18   \n",
       "2                             0                 18   \n",
       "3                             0                  7   \n",
       "4                             0                 18   \n",
       "...                         ...                ...   \n",
       "226404                        0                  9   \n",
       "226405                        0                 15   \n",
       "226406                        0                  2   \n",
       "226407                        0                 18   \n",
       "226408                        0                 18   \n",
       "\n",
       "        Vehicle_Location-Restricted_Lane  Junction_Location  \\\n",
       "0                                      0                  0   \n",
       "1                                      0                  0   \n",
       "2                                      0                  2   \n",
       "3                                      0                  8   \n",
       "4                                      0                  1   \n",
       "...                                  ...                ...   \n",
       "226404                                 0                  0   \n",
       "226405                                 0                  0   \n",
       "226406                                 6                  0   \n",
       "226407                                 0                  1   \n",
       "226408                                 0                  0   \n",
       "\n",
       "        Skidding_and_Overturning  Hit_Object_in_Carriageway  \\\n",
       "0                              0                          0   \n",
       "1                              0                          0   \n",
       "2                              0                          0   \n",
       "3                              0                          0   \n",
       "4                              0                          0   \n",
       "...                          ...                        ...   \n",
       "226404                         0                          0   \n",
       "226405                         1                          0   \n",
       "226406                         0                          0   \n",
       "226407                         1                          0   \n",
       "226408                         0                         12   \n",
       "\n",
       "        Vehicle_Leaving_Carriageway  ...  Journey_Purpose_of_Driver  \\\n",
       "0                                 0  ...                          6   \n",
       "1                                 0  ...                          6   \n",
       "2                                 0  ...                          6   \n",
       "3                                 0  ...                          1   \n",
       "4                                 3  ...                          6   \n",
       "...                             ...  ...                        ...   \n",
       "226404                            0  ...                          6   \n",
       "226405                            7  ...                          6   \n",
       "226406                            0  ...                          6   \n",
       "226407                            0  ...                          1   \n",
       "226408                            0  ...                          2   \n",
       "\n",
       "        Sex_of_Driver  Age_of_Driver  Age_Band_of_Driver  \\\n",
       "0                   1             32                   6   \n",
       "1                   1             48                   8   \n",
       "2                   3             -1                  -1   \n",
       "3                   1             40                   7   \n",
       "4                   1             21                   5   \n",
       "...               ...            ...                 ...   \n",
       "226404              1             67                  10   \n",
       "226405              1             24                   5   \n",
       "226406              3             -1                  -1   \n",
       "226407              1             60                   9   \n",
       "226408              2             21                   5   \n",
       "\n",
       "        Engine_Capacity_(CC)  Propulsion_Code  Age_of_Vehicle  \\\n",
       "0                       1995                2               5   \n",
       "1                       1798                8               6   \n",
       "2                         -1               -1              -1   \n",
       "3                       1797                8               6   \n",
       "4                         -1               -1              -1   \n",
       "...                      ...              ...             ...   \n",
       "226404                   998                1               4   \n",
       "226405                  3000                2              21   \n",
       "226406                  2400                2               5   \n",
       "226407                    49                1              10   \n",
       "226408                   899                1               5   \n",
       "\n",
       "        Driver_IMD_Decile  Driver_Home_Area_Type  Vehicle_IMD_Decile  \n",
       "0                       8                      1                   8  \n",
       "1                       1                      1                   1  \n",
       "2                      -1                     -1                  -1  \n",
       "3                       3                      1                   3  \n",
       "4                       5                      1                   5  \n",
       "...                   ...                    ...                 ...  \n",
       "226404                 -1                      3                  -1  \n",
       "226405                 -1                      3                  -1  \n",
       "226406                 -1                     -1                  -1  \n",
       "226407                 -1                      3                  -1  \n",
       "226408                 -1                      2                  -1  \n",
       "\n",
       "[226409 rows x 23 columns]"
      ]
     },
     "execution_count": 5,
     "metadata": {},
     "output_type": "execute_result"
    }
   ],
   "source": [
    "df_Veh"
   ]
  },
  {
   "cell_type": "markdown",
   "metadata": {},
   "source": [
    "<h3> Data Cleaning and Wrangling"
   ]
  },
  {
   "cell_type": "code",
   "execution_count": 6,
   "metadata": {},
   "outputs": [],
   "source": [
    "#Cleaning up the null valued rows\n",
    "df_Acc_clnd=df_Acc[~df_Acc.isnull().any(axis=1)]\n",
    "df_Veh_clnd=df_Veh[~df_Veh.isnull().any(axis=1)]"
   ]
  },
  {
   "cell_type": "code",
   "execution_count": 7,
   "metadata": {
    "scrolled": false
   },
   "outputs": [
    {
     "name": "stderr",
     "output_type": "stream",
     "text": [
      "<ipython-input-7-eeec47519302>:3: SettingWithCopyWarning: \n",
      "A value is trying to be set on a copy of a slice from a DataFrame.\n",
      "Try using .loc[row_indexer,col_indexer] = value instead\n",
      "\n",
      "See the caveats in the documentation: https://pandas.pydata.org/pandas-docs/stable/user_guide/indexing.html#returning-a-view-versus-a-copy\n",
      "  df_Acc_clnd['Time_Conv']=a\n"
     ]
    }
   ],
   "source": [
    "#Transforming 'Time' Attribute from hh:mm to only minutes\n",
    "a= np.array([(int(str(x).split(':')[0])*60+int(str(x).split(':')[1])) for x in df_Acc_clnd['Time'].values])\n",
    "df_Acc_clnd['Time_Conv']=a"
   ]
  },
  {
   "cell_type": "code",
   "execution_count": 8,
   "metadata": {},
   "outputs": [
    {
     "name": "stdout",
     "output_type": "stream",
     "text": [
      "df_Acc.shape---(122635, 32)\n",
      "df_Veh.shape---(226409, 23)\n",
      "df_Acc_clnd.shape---(116181, 33)\n",
      "df_Veh_clnd.shape---(226409, 23)\n",
      "----------------------------------------------------------------------\n",
      "df_Acc_clnd unique values---\n",
      "----------------------------------------------------------------------\n",
      "Accident_Index                                 116181\n",
      "Location_Easting_OSGR                           79980\n",
      "Location_Northing_OSGR                          80961\n",
      "Longitude                                      111657\n",
      "Latitude                                       110374\n",
      "Police_Force                                       43\n",
      "Accident_Severity                                   3\n",
      "Number_of_Vehicles                                 14\n",
      "Number_of_Casualties                               17\n",
      "Date                                              365\n",
      "Day_of_Week                                         7\n",
      "Time                                             1438\n",
      "Local_Authority_(District)                        348\n",
      "Local_Authority_(Highway)                         175\n",
      "1st_Road_Class                                      6\n",
      "1st_Road_Number                                  3381\n",
      "Road_Type                                           6\n",
      "Speed_limit                                         6\n",
      "Junction_Detail                                    10\n",
      "Junction_Control                                    5\n",
      "2nd_Road_Class                                      7\n",
      "2nd_Road_Number                                  2995\n",
      "Pedestrian_Crossing-Human_Control                   4\n",
      "Pedestrian_Crossing-Physical_Facilities             7\n",
      "Light_Conditions                                    5\n",
      "Weather_Conditions                                  9\n",
      "Road_Surface_Conditions                             6\n",
      "Special_Conditions_at_Site                          9\n",
      "Carriageway_Hazards                                 7\n",
      "Urban_or_Rural_Area                                 2\n",
      "Did_Police_Officer_Attend_Scene_of_Accident         3\n",
      "LSOA_of_Accident_Location                       27964\n",
      "Time_Conv                                        1438\n",
      "dtype: int64\n",
      "----------------------------------------------------------------------\n",
      "df_Veh_clnd unique values---\n",
      "----------------------------------------------------------------------\n",
      "Accident_Index                      122635\n",
      "Vehicle_Reference                       26\n",
      "Vehicle_Type                            21\n",
      "Towing_and_Articulation                  7\n",
      "Vehicle_Manoeuvre                       19\n",
      "Vehicle_Location-Restricted_Lane        11\n",
      "Junction_Location                       10\n",
      "Skidding_and_Overturning                 7\n",
      "Hit_Object_in_Carriageway               13\n",
      "Vehicle_Leaving_Carriageway             10\n",
      "Hit_Object_off_Carriageway              13\n",
      "1st_Point_of_Impact                      6\n",
      "Was_Vehicle_Left_Hand_Drive?             3\n",
      "Journey_Purpose_of_Driver                7\n",
      "Sex_of_Driver                            4\n",
      "Age_of_Driver                          101\n",
      "Age_Band_of_Driver                      12\n",
      "Engine_Capacity_(CC)                  1111\n",
      "Propulsion_Code                          9\n",
      "Age_of_Vehicle                          72\n",
      "Driver_IMD_Decile                       11\n",
      "Driver_Home_Area_Type                    4\n",
      "Vehicle_IMD_Decile                      11\n",
      "dtype: int64\n"
     ]
    }
   ],
   "source": [
    "#Visualizing the shape \n",
    "print('df_Acc.shape---'+str(df_Acc.shape))\n",
    "print('df_Veh.shape---'+str(df_Veh.shape))\n",
    "print('df_Acc_clnd.shape---'+str(df_Acc_clnd.shape))\n",
    "print('df_Veh_clnd.shape---'+str(df_Veh_clnd.shape))\n",
    "print('----------------------------------------------------------------------')\n",
    "print('df_Acc_clnd unique values---')\n",
    "print('----------------------------------------------------------------------')\n",
    "print(df_Acc_clnd.nunique(axis=0))\n",
    "print('----------------------------------------------------------------------')\n",
    "print('df_Veh_clnd unique values---')\n",
    "print('----------------------------------------------------------------------')\n",
    "print(df_Veh_clnd.nunique(axis=0))"
   ]
  },
  {
   "cell_type": "code",
   "execution_count": 9,
   "metadata": {},
   "outputs": [
    {
     "name": "stdout",
     "output_type": "stream",
     "text": [
      "----------------------------------------------------------------------\n",
      "df_Acc_clnd Data types---\n",
      "----------------------------------------------------------------------\n",
      "Accident_Index                                  object\n",
      "Location_Easting_OSGR                          float64\n",
      "Location_Northing_OSGR                         float64\n",
      "Longitude                                      float64\n",
      "Latitude                                       float64\n",
      "Police_Force                                     int64\n",
      "Accident_Severity                                int64\n",
      "Number_of_Vehicles                               int64\n",
      "Number_of_Casualties                             int64\n",
      "Date                                            object\n",
      "Day_of_Week                                      int64\n",
      "Time                                            object\n",
      "Local_Authority_(District)                       int64\n",
      "Local_Authority_(Highway)                       object\n",
      "1st_Road_Class                                   int64\n",
      "1st_Road_Number                                  int64\n",
      "Road_Type                                        int64\n",
      "Speed_limit                                      int64\n",
      "Junction_Detail                                  int64\n",
      "Junction_Control                                 int64\n",
      "2nd_Road_Class                                   int64\n",
      "2nd_Road_Number                                  int64\n",
      "Pedestrian_Crossing-Human_Control                int64\n",
      "Pedestrian_Crossing-Physical_Facilities          int64\n",
      "Light_Conditions                                 int64\n",
      "Weather_Conditions                               int64\n",
      "Road_Surface_Conditions                          int64\n",
      "Special_Conditions_at_Site                       int64\n",
      "Carriageway_Hazards                              int64\n",
      "Urban_or_Rural_Area                              int64\n",
      "Did_Police_Officer_Attend_Scene_of_Accident      int64\n",
      "LSOA_of_Accident_Location                       object\n",
      "Time_Conv                                        int64\n",
      "dtype: object\n",
      "----------------------------------------------------------------------\n",
      "df_Veh_clnd Data types---\n",
      "----------------------------------------------------------------------\n",
      "Accident_Index                      object\n",
      "Vehicle_Reference                    int64\n",
      "Vehicle_Type                         int64\n",
      "Towing_and_Articulation              int64\n",
      "Vehicle_Manoeuvre                    int64\n",
      "Vehicle_Location-Restricted_Lane     int64\n",
      "Junction_Location                    int64\n",
      "Skidding_and_Overturning             int64\n",
      "Hit_Object_in_Carriageway            int64\n",
      "Vehicle_Leaving_Carriageway          int64\n",
      "Hit_Object_off_Carriageway           int64\n",
      "1st_Point_of_Impact                  int64\n",
      "Was_Vehicle_Left_Hand_Drive?         int64\n",
      "Journey_Purpose_of_Driver            int64\n",
      "Sex_of_Driver                        int64\n",
      "Age_of_Driver                        int64\n",
      "Age_Band_of_Driver                   int64\n",
      "Engine_Capacity_(CC)                 int64\n",
      "Propulsion_Code                      int64\n",
      "Age_of_Vehicle                       int64\n",
      "Driver_IMD_Decile                    int64\n",
      "Driver_Home_Area_Type                int64\n",
      "Vehicle_IMD_Decile                   int64\n",
      "dtype: object\n"
     ]
    }
   ],
   "source": [
    "#and Data Types\n",
    "print('----------------------------------------------------------------------')\n",
    "print('df_Acc_clnd Data types---')\n",
    "print('----------------------------------------------------------------------')\n",
    "print(df_Acc_clnd.dtypes)\n",
    "print('----------------------------------------------------------------------')\n",
    "print('df_Veh_clnd Data types---')\n",
    "print('----------------------------------------------------------------------')\n",
    "print(df_Veh_clnd.dtypes)"
   ]
  },
  {
   "cell_type": "markdown",
   "metadata": {},
   "source": [
    "<h4>There are 2 sheets(2 dataframes). So lets check which are the columns(attributes/features) on which we can perform our join operation. Inorder to get a single dataframe."
   ]
  },
  {
   "cell_type": "code",
   "execution_count": 11,
   "metadata": {},
   "outputs": [
    {
     "name": "stdout",
     "output_type": "stream",
     "text": [
      "-----------------------------------------\n",
      "Columns same in Accident and Vehicle:\n",
      "-----------------------------------------\n",
      "Accident_Index\n"
     ]
    }
   ],
   "source": [
    "print('-----------------------------------------')\n",
    "print('Columns same in Accident and Vehicle:')\n",
    "print('-----------------------------------------')\n",
    "for c1 in df_Acc_clnd.columns:\n",
    "    for c2 in df_Veh_clnd.columns:\n",
    "        if(c1==c2):\n",
    "            print(c1)"
   ]
  },
  {
   "cell_type": "markdown",
   "metadata": {},
   "source": [
    "<h4>Now that we know our join keys so lets merge our 3 dataframes"
   ]
  },
  {
   "cell_type": "code",
   "execution_count": 13,
   "metadata": {},
   "outputs": [],
   "source": [
    "df_All_clnd=pd.merge(df_Acc_clnd,df_Veh_clnd,how='inner',on=['Accident_Index'])"
   ]
  },
  {
   "cell_type": "markdown",
   "metadata": {},
   "source": [
    "<h4> Bifurcating Attributes for Training and Target"
   ]
  },
  {
   "cell_type": "code",
   "execution_count": 49,
   "metadata": {},
   "outputs": [],
   "source": [
    "df=df_All_clnd.reset_index(drop=True)\n",
    "\n",
    "##Drop the columns which are irrelevant to get before the accident or totally irrelevant w.r.t the prediction model\n",
    "df.drop(['Date','Time','Accident_Index','Number_of_Casualties','Vehicle_Reference'\n",
    "         ,'Police_Force','Did_Police_Officer_Attend_Scene_of_Accident','1st_Point_of_Impact'\n",
    "         ,'Skidding_and_Overturning','Vehicle_Leaving_Carriageway','Hit_Object_off_Carriageway'\n",
    "         ,'Driver_Home_Area_Type','Carriageway_Hazards','Towing_and_Articulation','Vehicle_Location-Restricted_Lane'\n",
    "        ,'Hit_Object_in_Carriageway'],axis=1,inplace=True)\n",
    "\n",
    "target_c=['Accident_Severity']\n",
    "df_train=df.drop(target_c,axis=1)\n",
    "df_target=df[target_c]"
   ]
  },
  {
   "cell_type": "markdown",
   "metadata": {},
   "source": [
    "<h4> Balancing/Sampling"
   ]
  },
  {
   "cell_type": "code",
   "execution_count": 50,
   "metadata": {},
   "outputs": [
    {
     "data": {
      "text/plain": [
       "Text(0, 0.5, 'No. Of Records')"
      ]
     },
     "execution_count": 50,
     "metadata": {},
     "output_type": "execute_result"
    },
    {
     "data": {
      "image/png": "[encoded data removed]",
      "text/plain": [
       "<Figure size 360x360 with 1 Axes>"
      ]
     },
     "metadata": {
      "needs_background": "light"
     },
     "output_type": "display_data"
    }
   ],
   "source": [
    "#Determining Balance of our Data Samples\n",
    "acc_sev_counts=pd.value_counts(df_target['Accident_Severity'],sort=True)\n",
    "plt.figure(figsize=(5,5))\n",
    "acc_sev_counts.plot(kind='bar')\n",
    "plt.xlabel('Accident Severity')\n",
    "plt.ylabel('No. Of Records')\n"
   ]
  },
  {
   "cell_type": "markdown",
   "metadata": {},
   "source": [
    "<h3>As u can see our data set is highly unbalanced w.r.t our output feature.\n",
    "    <h5><br>1. And probably the reason for which we aren't able to train an effective model in our previous attempts.\n",
    "    <br>2. But now we will resample our data to balance it and then we will apply our RandomForestClassifier on top of it.\n",
    "    <br>3. But before applying resampling we would like to do some Label-Encoding as the classifier doesn't accept string data types."
   ]
  },
  {
   "cell_type": "markdown",
   "metadata": {},
   "source": [
    "<h4> LabelEncoding"
   ]
  },
  {
   "cell_type": "code",
   "execution_count": 51,
   "metadata": {},
   "outputs": [],
   "source": [
    "labelEncodeCols=['LSOA_of_Accident_Location','Local_Authority_(Highway)']\n",
    "#labelEncodeCols=['Local_Authority_(Highway)']\n",
    "Local_Authority_Highway               = LabelEncoder()\n",
    "LSOA_of_Accident_Location               = LabelEncoder()\n",
    "\n",
    "Local_Authority_Highway.fit(df_train['Local_Authority_(Highway)'])\n",
    "LSOA_of_Accident_Location.fit(df_train['LSOA_of_Accident_Location'])\n",
    "\n",
    "df_train['Local_Authority_(Highway)_E']=Local_Authority_Highway.transform(df_train['Local_Authority_(Highway)'])\n",
    "df_train['LSOA_of_Accident_Location_E']=LSOA_of_Accident_Location.transform(df_train['LSOA_of_Accident_Location'])\n",
    "df_train.drop(labelEncodeCols,axis=1,inplace=True)\n"
   ]
  },
  {
   "cell_type": "code",
   "execution_count": 52,
   "metadata": {},
   "outputs": [],
   "source": [
    "#Performing Over Sampling\n",
    "#There are various sampling technique you can use like;- NearMiss, SMOTETomek, RandomOverSampler\n",
    "## RandomOverSampler to handle imbalanced data\n",
    "\n",
    "os =  RandomOverSampler(random_state=42)\n",
    "df_train_smpl, df_target_smpl = os.fit_sample(df_train, df_target)"
   ]
  },
  {
   "cell_type": "code",
   "execution_count": 53,
   "metadata": {},
   "outputs": [
    {
     "data": {
      "text/plain": [
       "Text(0, 0.5, 'No. Of Records')"
      ]
     },
     "execution_count": 53,
     "metadata": {},
     "output_type": "execute_result"
    },
    {
     "data": {
      "image/png": "[encoded data removed]",
      "text/plain": [
       "<Figure size 360x360 with 1 Axes>"
      ]
     },
     "metadata": {
      "needs_background": "light"
     },
     "output_type": "display_data"
    }
   ],
   "source": [
    "#Checking the new sampled Data set for balance\n",
    "acc_sev_counts=pd.value_counts(df_target_smpl['Accident_Severity'],sort=True)\n",
    "plt.figure(figsize=(5,5))\n",
    "acc_sev_counts.plot(kind='bar')\n",
    "plt.xlabel('Accident Severity')\n",
    "plt.ylabel('No. Of Records')\n"
   ]
  },
  {
   "cell_type": "markdown",
   "metadata": {},
   "source": [
    "<h3> Splitting up Training and Testing Data Samples"
   ]
  },
  {
   "cell_type": "code",
   "execution_count": 54,
   "metadata": {},
   "outputs": [],
   "source": [
    "x1_train, x1_test, y1_train, y1_test = train_test_split(df_train_smpl,df_target_smpl.to_numpy(),test_size=0.7,random_state=42)\n",
    "y1_train=y1_train.reshape(len(y1_train),)\n",
    "y1_test=y1_test.reshape(len(y1_test),)"
   ]
  },
  {
   "cell_type": "markdown",
   "metadata": {},
   "source": [
    "<h3> Implementing Random Forest Classifier With More features Than before"
   ]
  },
  {
   "cell_type": "markdown",
   "metadata": {},
   "source": [
    "<h4>1. Model with LabelEncoded Data(Sampled)+ All features(63)"
   ]
  },
  {
   "cell_type": "code",
   "execution_count": 55,
   "metadata": {},
   "outputs": [
    {
     "name": "stdout",
     "output_type": "stream",
     "text": [
      "0.8988847769692959\n"
     ]
    },
    {
     "data": {
      "text/plain": [
       "array([[100024,  19697,    224],\n",
       "       [ 16380, 103619,     66],\n",
       "       [     0,      0, 119649]])"
      ]
     },
     "execution_count": 55,
     "metadata": {},
     "output_type": "execute_result"
    }
   ],
   "source": [
    "model_W_Le = RandomForestClassifier(n_estimators=50)\n",
    "model_W_Le.fit(x1_train, y1_train)\n",
    "print(\"{}\".format(model_W_Le.score(x1_test, y1_test)))\n",
    "metrics.confusion_matrix(y1_test, model_W_Le.predict(x1_test), labels=[3, 2, 1])"
   ]
  },
  {
   "cell_type": "markdown",
   "metadata": {},
   "source": [
    "<h4> Getting The Feature Importance\n",
    "<h5> The Code below is only Usable if you have Data Frames( i.e. x1_train , y1_train ) as Traning and ( i.e. x1_test , y1_test ) as Testing Data."
   ]
  },
  {
   "cell_type": "code",
   "execution_count": 56,
   "metadata": {},
   "outputs": [
    {
     "name": "stdout",
     "output_type": "stream",
     "text": [
      "Feature--------Time_Conv: Importance: 0.07\n",
      "Feature--------Location_Easting_OSGR: Importance: 0.06\n",
      "Feature--------Longitude: Importance: 0.06\n",
      "Feature--------Latitude: Importance: 0.06\n",
      "Feature--------LSOA_of_Accident_Location_E: Importance: 0.06\n",
      "Feature--------Location_Northing_OSGR: Importance: 0.05\n",
      "Feature--------Local_Authority_(District): Importance: 0.04\n",
      "Feature--------1st_Road_Number: Importance: 0.04\n",
      "Feature--------Age_of_Driver: Importance: 0.04\n",
      "Feature--------Engine_Capacity_(CC): Importance: 0.04\n",
      "Feature--------Local_Authority_(Highway)_E: Importance: 0.04\n",
      "Feature--------Number_of_Vehicles: Importance: 0.03\n",
      "Feature--------Day_of_Week: Importance: 0.03\n",
      "Feature--------Speed_limit: Importance: 0.03\n",
      "Feature--------Vehicle_Type: Importance: 0.03\n",
      "Feature--------Vehicle_Manoeuvre: Importance: 0.03\n",
      "Feature--------Age_of_Vehicle: Importance: 0.03\n",
      "Feature--------1st_Road_Class: Importance: 0.02\n",
      "Feature--------Junction_Detail: Importance: 0.02\n",
      "Feature--------Urban_or_Rural_Area: Importance: 0.02\n",
      "Feature--------Age_Band_of_Driver: Importance: 0.02\n",
      "Feature--------Driver_IMD_Decile: Importance: 0.02\n",
      "Feature--------Vehicle_IMD_Decile: Importance: 0.02\n",
      "Feature--------Road_Type: Importance: 0.01\n",
      "Feature--------Junction_Control: Importance: 0.01\n",
      "Feature--------2nd_Road_Class: Importance: 0.01\n",
      "Feature--------2nd_Road_Number: Importance: 0.01\n",
      "Feature--------Pedestrian_Crossing-Physical_Facilities: Importance: 0.01\n",
      "Feature--------Light_Conditions: Importance: 0.01\n",
      "Feature--------Weather_Conditions: Importance: 0.01\n",
      "Feature--------Road_Surface_Conditions: Importance: 0.01\n",
      "Feature--------Junction_Location: Importance: 0.01\n",
      "Feature--------Journey_Purpose_of_Driver: Importance: 0.01\n",
      "Feature--------Sex_of_Driver: Importance: 0.01\n",
      "Feature--------Propulsion_Code: Importance: 0.01\n",
      "Feature--------Pedestrian_Crossing-Human_Control: Importance: 0.0\n",
      "Feature--------Special_Conditions_at_Site: Importance: 0.0\n",
      "Feature--------Was_Vehicle_Left_Hand_Drive?: Importance: 0.0\n"
     ]
    }
   ],
   "source": [
    "# Get numerical feature importances\n",
    "importances = list(model_W_Le.feature_importances_)\n",
    "# List of tuples with variable and importance\n",
    "feature_importances = [(feature, round(importance, 2)) for feature, importance in zip(x1_train.columns, importances)]\n",
    "# Sort the feature importances by most important first\n",
    "feature_importances = sorted(feature_importances, key = lambda x: x[1], reverse = True)\n",
    "# Print out the feature and importances \n",
    "[print('Feature--------{}: Importance: {}'.format(*pair)) for pair in feature_importances];"
   ]
  },
  {
   "cell_type": "markdown",
   "metadata": {},
   "source": [
    "<h3> Visualize a random Tree from the Forest"
   ]
  },
  {
   "cell_type": "code",
   "execution_count": 79,
   "metadata": {},
   "outputs": [],
   "source": [
    "\n",
    "# Import tools needed for visualization\n",
    "from sklearn.tree import export_graphviz\n",
    "import pydot\n",
    "\n",
    "# Pull out one tree from the forest\n",
    "tree = model_W_Le.estimators_[5]\n",
    "\n",
    "# Export the image to a dot file\n",
    "export_graphviz(tree, out_file = 'tree.dot', feature_names = x1_train.columns, rounded = True, precision = 1)\n",
    "\n",
    "\n",
    "\n"
   ]
  },
  {
   "cell_type": "code",
   "execution_count": 80,
   "metadata": {},
   "outputs": [],
   "source": [
    "# Use dot file to create a graph\n",
    "(graph, ) = pydot.graph_from_dot_file('tree.dot')"
   ]
  },
  {
   "cell_type": "code",
   "execution_count": 81,
   "metadata": {},
   "outputs": [],
   "source": [
    "# Write graph to a png file\n",
    "graph.write_png('tree.jpg')"
   ]
  },
  {
   "cell_type": "markdown",
   "metadata": {},
   "source": [
    "<h3>Now Lets Implement Our Classifier with Only the most Important features</h3>\n",
    "<h4><br>2. Model with LabelEncoded Data(Sampled) + Most Important Features(Found above)</h4>\n",
    "<h7>-----------------------------------------------------------------------------------------------------------------------------------------------------------------</h7>\n",
    "<h7><br>Here I have considered top features according to their feature_importance>= 2%."
   ]
  },
  {
   "cell_type": "code",
   "execution_count": 57,
   "metadata": {},
   "outputs": [
    {
     "data": {
      "text/plain": [
       "array(['Time_Conv', 'Location_Easting_OSGR', 'Longitude', 'Latitude',\n",
       "       'LSOA_of_Accident_Location_E', 'Location_Northing_OSGR',\n",
       "       'Local_Authority_(District)', '1st_Road_Number', 'Age_of_Driver',\n",
       "       'Engine_Capacity_(CC)', 'Local_Authority_(Highway)_E',\n",
       "       'Number_of_Vehicles', 'Day_of_Week', 'Speed_limit', 'Vehicle_Type',\n",
       "       'Vehicle_Manoeuvre', 'Age_of_Vehicle', '1st_Road_Class',\n",
       "       'Junction_Detail', 'Urban_or_Rural_Area', 'Age_Band_of_Driver',\n",
       "       'Driver_IMD_Decile', 'Vehicle_IMD_Decile'], dtype='<U39')"
      ]
     },
     "execution_count": 57,
     "metadata": {},
     "output_type": "execute_result"
    }
   ],
   "source": [
    "#Only keeping the most important Features\n",
    "most_imp_ftr_cols=np.array(feature_importances)[np.array(feature_importances)[:,1].astype(float)>=0.02][:,0]\n",
    "most_imp_ftr_cols"
   ]
  },
  {
   "cell_type": "code",
   "execution_count": 58,
   "metadata": {},
   "outputs": [],
   "source": [
    "x2_train=x1_train[most_imp_ftr_cols]\n",
    "x2_test=x1_test[most_imp_ftr_cols]\n",
    "y2_train=y1_train\n",
    "y2_test=y1_test"
   ]
  },
  {
   "cell_type": "code",
   "execution_count": 59,
   "metadata": {},
   "outputs": [
    {
     "name": "stdout",
     "output_type": "stream",
     "text": [
      "0.8941274929864121\n"
     ]
    },
    {
     "data": {
      "text/plain": [
       "array([[ 98620,  21064,    261],\n",
       "       [ 16673, 103312,     80],\n",
       "       [     0,      0, 119649]])"
      ]
     },
     "execution_count": 59,
     "metadata": {},
     "output_type": "execute_result"
    }
   ],
   "source": [
    "#Re-training the same model\n",
    "model_W_Le.fit(x2_train, y2_train)\n",
    "print(\"{}\".format(model_W_Le.score(x2_test, y2_test)))\n",
    "metrics.confusion_matrix(y2_test, model_W_Le.predict(x2_test), labels=[3, 2, 1])"
   ]
  },
  {
   "cell_type": "markdown",
   "metadata": {},
   "source": [
    "<h3> Now Lets Implement Our Classifier with some HyperParameters using Parameter Tuning</h3>\n",
    "<h7>-----------------------------------------------------------------------------------------------------------------------------------------------------------------</h7>\n",
    "<h7><br> Previously we have tried implementing Random Forest Classifier only with Accident Dataset. But the results didn't look promising for: <br>Accident Severity=2 <b>(Serious)</b> and Accident Severity=1 <b>(Fatal)</b>\n",
    "<br>Now that we have: \n",
    "<br>1. Sampled our dataset w.r.t our output feature.\n",
    "<br>And we've got =~ 89.5% accuracy with just selecting top Features. We may now apply some hyperparameter tuning and try to improve accuracy as much as possible. </h7>"
   ]
  },
  {
   "cell_type": "markdown",
   "metadata": {},
   "source": [
    "<h4>3. Model with LabelEncoded Data(Sampled) + Most Important Features + HyperParameters + RandomizedSearchCV + CrossValidation "
   ]
  },
  {
   "cell_type": "code",
   "execution_count": 60,
   "metadata": {},
   "outputs": [
    {
     "name": "stdout",
     "output_type": "stream",
     "text": [
      "{'n_estimators': [20, 28, 37, 46, 55, 64, 73, 82, 91, 100], 'max_features': ['auto', 'sqrt'], 'max_depth': [10, 20, 30, 40, 50, 60, 70, 80, 90, 100, 110, None], 'min_samples_split': [2, 5, 10], 'min_samples_leaf': [1, 2, 4], 'bootstrap': [True, False]}\n"
     ]
    }
   ],
   "source": [
    "# Number of trees in random forest\n",
    "n_estimators = [int(x) for x in np.linspace(start = 20, stop = 100, num = 10)]\n",
    "# Number of features to consider at every split\n",
    "max_features = ['auto', 'sqrt']\n",
    "# Maximum number of levels in tree\n",
    "max_depth = [int(x) for x in np.linspace(10, 110, num = 11)]\n",
    "max_depth.append(None)\n",
    "# Minimum number of samples required to split a node\n",
    "min_samples_split = [2, 5, 10]\n",
    "# Minimum number of samples required at each leaf node\n",
    "min_samples_leaf = [1, 2, 4]\n",
    "# Method of selecting samples for training each tree\n",
    "bootstrap = [True, False]\n",
    "# Create the random grid\n",
    "random_grid = {'n_estimators': n_estimators,\n",
    "               'max_features': max_features,\n",
    "               'max_depth': max_depth,\n",
    "               'min_samples_split': min_samples_split,\n",
    "               'min_samples_leaf': min_samples_leaf,\n",
    "               'bootstrap': bootstrap}\n",
    "print(random_grid)"
   ]
  },
  {
   "cell_type": "code",
   "execution_count": 61,
   "metadata": {},
   "outputs": [
    {
     "name": "stdout",
     "output_type": "stream",
     "text": [
      "Fitting 3 folds for each of 50 candidates, totalling 150 fits\n"
     ]
    },
    {
     "name": "stderr",
     "output_type": "stream",
     "text": [
      "[Parallel(n_jobs=-1)]: Using backend LokyBackend with 4 concurrent workers.\n",
      "[Parallel(n_jobs=-1)]: Done  33 tasks      | elapsed:  6.0min\n",
      "[Parallel(n_jobs=-1)]: Done 150 out of 150 | elapsed: 23.9min finished\n"
     ]
    },
    {
     "data": {
      "text/plain": [
       "RandomizedSearchCV(cv=3, estimator=RandomForestClassifier(), n_iter=50,\n",
       "                   n_jobs=-1,\n",
       "                   param_distributions={'bootstrap': [True, False],\n",
       "                                        'max_depth': [10, 20, 30, 40, 50, 60,\n",
       "                                                      70, 80, 90, 100, 110,\n",
       "                                                      None],\n",
       "                                        'max_features': ['auto', 'sqrt'],\n",
       "                                        'min_samples_leaf': [1, 2, 4],\n",
       "                                        'min_samples_split': [2, 5, 10],\n",
       "                                        'n_estimators': [20, 28, 37, 46, 55, 64,\n",
       "                                                         73, 82, 91, 100]},\n",
       "                   random_state=42, verbose=2)"
      ]
     },
     "execution_count": 61,
     "metadata": {},
     "output_type": "execute_result"
    }
   ],
   "source": [
    "# Use the random grid to search for best hyperparameters\n",
    "# First create the base model to tune\n",
    "model_W_Le_Hp = RandomForestClassifier()\n",
    "# Random search of parameters, using 3 fold cross validation, \n",
    "# search across 50 different combinations, and use all available cores\n",
    "model_W_Le_Hp_Rnd = RandomizedSearchCV(estimator = model_W_Le_Hp, param_distributions = random_grid, n_iter = 50, cv = 3, verbose=2, random_state=42, n_jobs = -1)\n",
    "# Fit the random search model\n",
    "model_W_Le_Hp_Rnd.fit(x2_train, y2_train)\n"
   ]
  },
  {
   "cell_type": "code",
   "execution_count": 62,
   "metadata": {},
   "outputs": [
    {
     "data": {
      "text/plain": [
       "['RF_model_W_Le_Hp_Rnd.joblib']"
      ]
     },
     "execution_count": 62,
     "metadata": {},
     "output_type": "execute_result"
    }
   ],
   "source": [
    "dump(model_W_Le_Hp_Rnd, 'RF_model_W_Le_Hp_Rnd.joblib') \n",
    "#model_W_Le_Hp_Rnd=load('RF_model_W_Le_Hp_Rnd.joblib')"
   ]
  },
  {
   "cell_type": "code",
   "execution_count": 63,
   "metadata": {},
   "outputs": [
    {
     "data": {
      "text/plain": [
       "{'n_estimators': 73,\n",
       " 'min_samples_split': 2,\n",
       " 'min_samples_leaf': 1,\n",
       " 'max_features': 'auto',\n",
       " 'max_depth': 40,\n",
       " 'bootstrap': False}"
      ]
     },
     "execution_count": 63,
     "metadata": {},
     "output_type": "execute_result"
    }
   ],
   "source": [
    "#View the best parameters of the best estimator\n",
    "model_W_Le_Hp_Rnd.best_params_"
   ]
  },
  {
   "cell_type": "code",
   "execution_count": 64,
   "metadata": {},
   "outputs": [
    {
     "data": {
      "text/plain": [
       "0.9103539741810993"
      ]
     },
     "execution_count": 64,
     "metadata": {},
     "output_type": "execute_result"
    }
   ],
   "source": [
    "#Test ur model with the best estimator \n",
    "metrics.accuracy_score(y2_test, model_W_Le_Hp_Rnd.best_estimator_.predict(x2_test))"
   ]
  },
  {
   "cell_type": "code",
   "execution_count": 65,
   "metadata": {},
   "outputs": [
    {
     "data": {
      "text/plain": [
       "array([[107029,  12813,    103],\n",
       "       [ 19269, 100739,     57],\n",
       "       [     0,      0, 119649]])"
      ]
     },
     "execution_count": 65,
     "metadata": {},
     "output_type": "execute_result"
    }
   ],
   "source": [
    "#Test ur model with the best estimator \n",
    "metrics.confusion_matrix(y2_test, model_W_Le_Hp_Rnd.best_estimator_.predict(x2_test), labels=[3, 2, 1])"
   ]
  },
  {
   "cell_type": "markdown",
   "metadata": {},
   "source": [
    "<h4>4. Model with LabelEncoded Data(Sampled) + Most Important Features + HyperParameters + GridSearchCV + CrossValidation "
   ]
  },
  {
   "cell_type": "code",
   "execution_count": 67,
   "metadata": {},
   "outputs": [
    {
     "name": "stdout",
     "output_type": "stream",
     "text": [
      "Fitting 3 folds for each of 81 candidates, totalling 243 fits\n"
     ]
    },
    {
     "name": "stderr",
     "output_type": "stream",
     "text": [
      "[Parallel(n_jobs=-1)]: Using backend LokyBackend with 4 concurrent workers.\n",
      "[Parallel(n_jobs=-1)]: Done  33 tasks      | elapsed:  7.9min\n",
      "[Parallel(n_jobs=-1)]: Done 154 tasks      | elapsed: 34.3min\n",
      "[Parallel(n_jobs=-1)]: Done 243 out of 243 | elapsed: 53.7min finished\n"
     ]
    },
    {
     "data": {
      "text/plain": [
       "GridSearchCV(cv=3, estimator=RandomForestClassifier(), n_jobs=-1,\n",
       "             param_grid={'bootstrap': [False], 'max_depth': [30, 40, 50],\n",
       "                         'max_features': ['auto'],\n",
       "                         'min_samples_leaf': [1, 2, 3],\n",
       "                         'min_samples_split': [2, 4, 8],\n",
       "                         'n_estimators': [63, 73, 83]},\n",
       "             verbose=2)"
      ]
     },
     "execution_count": 67,
     "metadata": {},
     "output_type": "execute_result"
    }
   ],
   "source": [
    "# Create the parameter grid based on the results of ur above random search \n",
    "param_grid_2 = {\n",
    "    'bootstrap': [False],\n",
    "    'max_depth': [30, 40, 50],\n",
    "    'max_features': ['auto'],\n",
    "    'min_samples_leaf': [1, 2, 3],\n",
    "    'min_samples_split': [2, 4, 8],\n",
    "    'n_estimators': [63, 73, 83]\n",
    "}\n",
    "\n",
    "# Instantiate the grid search model\n",
    "model_W_Le_Hp_Grd = GridSearchCV(estimator = model_W_Le_Hp, param_grid = param_grid_2, \n",
    "                          cv = 3, n_jobs = -1, verbose = 2)\n",
    "model_W_Le_Hp_Grd.fit(x2_train, y2_train)"
   ]
  },
  {
   "cell_type": "code",
   "execution_count": 68,
   "metadata": {},
   "outputs": [
    {
     "data": {
      "text/plain": [
       "['RF_model_W_Le_Hp_Grd.joblib']"
      ]
     },
     "execution_count": 68,
     "metadata": {},
     "output_type": "execute_result"
    }
   ],
   "source": [
    "dump(model_W_Le_Hp_Grd, 'RF_model_W_Le_Hp_Grd.joblib') \n",
    "#model_W_Le_Hp_Rnd=load('RF_model_W_Le_Hp_Grd.joblib')"
   ]
  },
  {
   "cell_type": "code",
   "execution_count": 69,
   "metadata": {
    "scrolled": true
   },
   "outputs": [
    {
     "data": {
      "text/plain": [
       "{'bootstrap': False,\n",
       " 'max_depth': 50,\n",
       " 'max_features': 'auto',\n",
       " 'min_samples_leaf': 1,\n",
       " 'min_samples_split': 4,\n",
       " 'n_estimators': 73}"
      ]
     },
     "execution_count": 69,
     "metadata": {},
     "output_type": "execute_result"
    }
   ],
   "source": [
    "#View the best parameters of the best estimator\n",
    "model_W_Le_Hp_Grd.best_params_"
   ]
  },
  {
   "cell_type": "code",
   "execution_count": 70,
   "metadata": {},
   "outputs": [
    {
     "data": {
      "text/plain": [
       "0.9114689191706589"
      ]
     },
     "execution_count": 70,
     "metadata": {},
     "output_type": "execute_result"
    }
   ],
   "source": [
    "#Test ur model with the best estimator \n",
    "best_Mdl_W_Le_Hp_Grd=model_W_Le_Hp_Grd.best_estimator_\n",
    "best_Mdl_W_Le_Hp_Grd.score(x2_test, y2_test)"
   ]
  },
  {
   "cell_type": "code",
   "execution_count": 71,
   "metadata": {},
   "outputs": [
    {
     "data": {
      "text/plain": [
       "array([[107450,  12396,     99],\n",
       "       [ 19304, 100719,     42],\n",
       "       [     0,      0, 119649]])"
      ]
     },
     "execution_count": 71,
     "metadata": {},
     "output_type": "execute_result"
    }
   ],
   "source": [
    "metrics.confusion_matrix(y2_test,best_Mdl_W_Le_Hp_Grd.predict(x2_test),labels=[3,2,1])"
   ]
  },
  {
   "cell_type": "markdown",
   "metadata": {},
   "source": [
    "<h3>Accuracy Description After Adding More Features + Performing Sampling:-\n",
    "<br>-------------------------------------------------------------------------------------------------\n",
    "<h4>1. Model with LabelEncoded Data(Sampled) + All features(63) -------------------- 98.02%\n",
    "<br>2. Model with LabelEncoded Data(Sampled) + Most Important Features(16) ----- 97.81%\n",
    "<br>3. Model with LabelEncoded Data(Sampled) + Most Important Features(16) + HyperParameters + RandomizedSearchCV + CrossValidation -- 98.04%\n",
    "<br>4. Model with LabelEncoded Data(Sampled) + Most Important Features(16) + HyperParameters + GridSearchCV + CrossValidation ------------ 98.03%\n",
    "\n",
    "From Confusion matrix calucalated in each of the above cases you can now verify that our newly Trained classifier can effectively classify in each of the 3 Accident Severity types."
   ]
  },
  {
   "cell_type": "markdown",
   "metadata": {},
   "source": [
    "## Referrences\n",
    "- **[For Hyperparameter Tuning and RandomForest Classifier]**\n",
    "    - https://towardsdatascience.com/hyperparameter-tuning-the-random-forest-in-python-using-scikit-learn-28d2aa77dd74 \n",
    "- **[For Handling Imbalanced Data Sets]**\n",
    "    - https://github.com/krishnaik06/Handle-Imbalanced-Dataset \n",
    "- **[For LabelEncoding]** \n",
    "    - https://jinchuika.com/post/1-preprocessing-part-1/ \n",
    "- **[For Feature Selection]**\n",
    "    - https://towardsdatascience.com/feature-selection-techniques-in-machine-learning-with-python-f24e7da3f36e \n",
    "- **[Pickle tutorial]**\n",
    "    - https://www.youtube.com/watch?v=KfnhNlD8WZI&list=PLeo1K3hjS3uvCeTYTeyfe0-rN5r8zn9rw&index=5 \n",
    "- **[getDummies& OneHotEncoding]**\n",
    "    - https://www.youtube.com/watch?v=9yl6-HEY7_s&list=PLeo1K3hjS3uvCeTYTeyfe0-rN5r8zn9rw&index=6 \n",
    "    - https://queirozf.com/entries/one-hot-encoding-a-feature-on-a-pandas-dataframe-an-example#:~:text=hot%2Dencoded%2Dfeatures-,One%2Dhot%20encoding%20vs%20Dummy%20variables,%2C%20but%20one%2Dhot%20encoding.\n",
    "- **[How to handle imbalanced data set]**\n",
    "    - https://machinelearningmastery.com/data-sampling-methods-for-imbalanced-classification/  "
   ]
  },
  {
   "cell_type": "code",
   "execution_count": null,
   "metadata": {},
   "outputs": [],
   "source": []
  }
 ],
 "metadata": {
  "kernelspec": {
   "display_name": "Python 3",
   "language": "python",
   "name": "python3"
  },
  "language_info": {
   "codemirror_mode": {
    "name": "ipython",
    "version": 3
   },
   "file_extension": ".py",
   "mimetype": "text/x-python",
   "name": "python",
   "nbconvert_exporter": "python",
   "pygments_lexer": "ipython3",
   "version": "3.8.2"
  }
 },
 "nbformat": 4,
 "nbformat_minor": 2
}
