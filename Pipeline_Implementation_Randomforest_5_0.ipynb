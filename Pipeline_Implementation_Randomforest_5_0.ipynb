{
  "nbformat": 4,
  "nbformat_minor": 0,
  "metadata": {
    "kernelspec": {
      "display_name": "Python 3",
      "language": "python",
      "name": "python3"
    },
    "language_info": {
      "codemirror_mode": {
        "name": "ipython",
        "version": 3
      },
      "file_extension": ".py",
      "mimetype": "text/x-python",
      "name": "python",
      "nbconvert_exporter": "python",
      "pygments_lexer": "ipython3",
      "version": "3.8.2"
    },
    "colab": {
      "name": "Pipeline_Implementation_Randomforest_5.0.ipynb",
      "provenance": [],
      "collapsed_sections": [],
      "toc_visible": true,
      "include_colab_link": true
    },
    "accelerator": "GPU"
  },
  "cells": [
    {
      "cell_type": "markdown",
      "metadata": {
        "id": "view-in-github",
        "colab_type": "text"
      },
      "source": [
        "<a href=\"https://colab.research.google.com/github/manasc12/Road_Mishap_Risk_Analysis_Using_Machine_Learning_and_Deep_Learning/blob/master/Pipeline_Implementation_Randomforest_5_0.ipynb\" target=\"_parent\"><img src=\"https://colab.research.google.com/assets/colab-badge.svg\" alt=\"Open In Colab\"/></a>"
      ]
    },
    {
      "cell_type": "markdown",
      "metadata": {
        "id": "yySzJmEVf4cb"
      },
      "source": [
        "## Implementing Randomforest with Pipeline\n",
        "### Importing Required Google Drive"
      ]
    },
    {
      "cell_type": "code",
      "metadata": {
        "id": "Qiparse6gA9a",
        "colab": {
          "base_uri": "https://localhost:8080/"
        },
        "outputId": "4ac1a865-24ef-4abd-d2da-4606e868feeb"
      },
      "source": [
        "from google.colab import drive\n",
        "drive.mount('/content/drive')"
      ],
      "execution_count": null,
      "outputs": [
        {
          "output_type": "stream",
          "text": [
            "Drive already mounted at /content/drive; to attempt to forcibly remount, call drive.mount(\"/content/drive\", force_remount=True).\n"
          ],
          "name": "stdout"
        }
      ]
    },
    {
      "cell_type": "markdown",
      "metadata": {
        "id": "6J_WskEWGpAU"
      },
      "source": [
        "### Import Necessary Libraries"
      ]
    },
    {
      "cell_type": "code",
      "metadata": {
        "id": "HysW2STpf4ch"
      },
      "source": [
        "import pandas as pd\n",
        "import numpy as np\n",
        "from matplotlib import pyplot as plt\n",
        "%matplotlib inline\n",
        "import seaborn as sns"
      ],
      "execution_count": null,
      "outputs": []
    },
    {
      "cell_type": "code",
      "metadata": {
        "id": "Ir-r2uRPF_P7"
      },
      "source": [
        "from sklearn.preprocessing import LabelEncoder\n",
        "from imblearn.over_sampling import RandomOverSampler\n",
        "from sklearn.model_selection import train_test_split\n",
        "from sklearn.ensemble import RandomForestClassifier\n",
        "from sklearn.pipeline import FeatureUnion,make_pipeline,Pipeline\n",
        "from sklearn.compose import make_column_transformer,ColumnTransformer\n",
        "from sklearn.preprocessing import FunctionTransformer\n",
        "from sklearn.metrics import accuracy_score\n",
        "# from sklearn.base import BaseEstimator, TransformerMixin"
      ],
      "execution_count": null,
      "outputs": []
    },
    {
      "cell_type": "markdown",
      "metadata": {
        "id": "RC-LF6xIf4cv"
      },
      "source": [
        "<h3> Reading the Data from CSV file </h3>\n",
        "<h4>1. Accident Data\n",
        "<br>3. Vehicles Data"
      ]
    },
    {
      "cell_type": "code",
      "metadata": {
        "id": "t4APLQAUf4cv",
        "colab": {
          "base_uri": "https://localhost:8080/"
        },
        "outputId": "bdaeeb80-8dfa-43c1-e891-30d5df63bc5f"
      },
      "source": [
        "df_Acc=pd.read_csv('/content/drive/My Drive/data/dftRoadSafetyData_Accidents_2018.csv')\n",
        "df_Veh=pd.read_csv('/content/drive/My Drive/data/dftRoadSafetyData_Vehicles_2018.csv')"
      ],
      "execution_count": null,
      "outputs": [
        {
          "output_type": "stream",
          "text": [
            "/usr/local/lib/python3.6/dist-packages/IPython/core/interactiveshell.py:2718: DtypeWarning: Columns (0) have mixed types.Specify dtype option on import or set low_memory=False.\n",
            "  interactivity=interactivity, compiler=compiler, result=result)\n"
          ],
          "name": "stderr"
        }
      ]
    },
    {
      "cell_type": "code",
      "metadata": {
        "id": "6UFOd0QpriAG"
      },
      "source": [
        "df_All=pd.merge(df_Acc,df_Veh,how='inner',on=['Accident_Index'])"
      ],
      "execution_count": null,
      "outputs": []
    },
    {
      "cell_type": "markdown",
      "metadata": {
        "id": "AiP4D6OJh6Z9"
      },
      "source": [
        "### Creating the Estimator functions and building Pipeline"
      ]
    },
    {
      "cell_type": "code",
      "metadata": {
        "id": "G3Y-t-gSXUWn"
      },
      "source": [
        "### Function for cleaning null valued rows\n",
        "def cleanNullRows(X,y):\n",
        "    X=X[~X.isnull().any(axis=1)]\n",
        "    y=y[y.index.isin(X.index)]\n",
        "    return X,y\n",
        "\n",
        "\n",
        "### Function for sampling the data set\n",
        "def sampling(X,y):\n",
        "    return RandomOverSampler(random_state=42).fit_sample(X, y)\n",
        "\n",
        "\n",
        "### Function and FunctionTransform to convert the 'Time' feature \n",
        "def addTime_Conv(X):\n",
        "    a= np.array([(int(str(x).split(':')[0])*60+int(str(x).split(':')[1])) for x in X['Time'].values])\n",
        "    X_=X.copy()\n",
        "    X_['Time_Conv']=a\n",
        "    return X_\n",
        "time_conv_transformer=FunctionTransformer(addTime_Conv)\n",
        "\n",
        "\n",
        "### Function and FunctionTransform for Feature selection\n",
        "def dropFeatures(X):\n",
        "    X_=X.copy()\n",
        "    return X_[['Time_Conv', 'Location_Easting_OSGR', 'Longitude', 'Latitude',\n",
        "       'LSOA_of_Accident_Location', 'Location_Northing_OSGR',\n",
        "       'Local_Authority_(District)', '1st_Road_Number', 'Age_of_Driver',\n",
        "       'Engine_Capacity_(CC)', 'Local_Authority_(Highway)',\n",
        "       'Number_of_Vehicles', 'Day_of_Week', 'Speed_limit', 'Vehicle_Type',\n",
        "       'Vehicle_Manoeuvre', 'Age_of_Vehicle', '1st_Road_Class',\n",
        "       'Junction_Detail', 'Urban_or_Rural_Area', 'Age_Band_of_Driver',\n",
        "       'Driver_IMD_Decile', 'Vehicle_IMD_Decile']]\n",
        "dropFeat_transformer=FunctionTransformer(dropFeatures)\n",
        "\n",
        "\n",
        "### Creating transformer functions for LabelEncoder as it doesnt support ColumnTransformer\n",
        "class ModifiedLabelEncoderLSOA(LabelEncoder):\n",
        "\n",
        "    def fit_transform(self, y, *args, **kwargs):\n",
        "        return super().fit(df_All[df_All['LSOA_of_Accident_Location'].notna()]['LSOA_of_Accident_Location']).transform(y).reshape(-1, 1)\n",
        "\n",
        "    def transform(self, y, *args, **kwargs):\n",
        "        return super().transform(y).reshape(-1, 1)\n",
        "\n",
        "\n",
        "class ModifiedLabelEncoderHighWay(LabelEncoder):\n",
        "\n",
        "    def fit_transform(self, y, *args, **kwargs):\n",
        "        return super().fit(df_All[df_All['Local_Authority_(Highway)'].notna()]['Local_Authority_(Highway)']).transform(y).reshape(-1, 1)\n",
        "\n",
        "    def transform(self, y, *args, **kwargs):\n",
        "        return super().transform(y).reshape(-1, 1)\n",
        "\n",
        "### Creating ColumnTransformer for the features having 'str' data\n",
        "labelEncode_transformer=ColumnTransformer(remainder='passthrough',transformers=[('Lblencoder_LSOA',ModifiedLabelEncoderLSOA(),['LSOA_of_Accident_Location'])\n",
        "                                                                                ,('Lblencoder_Highway',ModifiedLabelEncoderHighWay(),['Local_Authority_(Highway)'])])\n",
        "\n",
        "\n",
        "\n",
        "###Creating Pipeline\n",
        "pre_process=Pipeline(steps=[('time_conv_transformer',time_conv_transformer),('dropFeat_transformer',dropFeat_transformer),('labelEncode_transformer',labelEncode_transformer)],)\n",
        "pipeline1=Pipeline(steps=[('pre_process',pre_process),('RandomForestClassifier',RandomForestClassifier(n_estimators=50))])"
      ],
      "execution_count": null,
      "outputs": []
    },
    {
      "cell_type": "markdown",
      "metadata": {
        "id": "31EojiBMiAXS"
      },
      "source": [
        "### Splitting up the training and Testing Data for Our Pipeline"
      ]
    },
    {
      "cell_type": "code",
      "metadata": {
        "id": "wkrThEEWr-bz"
      },
      "source": [
        "target_c=['Accident_Severity']\n",
        "X=df_All.drop(target_c,axis=1)\n",
        "y=df_All[target_c]\n",
        "\n",
        "X,y=cleanNullRows(X,y)\n",
        "X,y=sampling(X,y)\n",
        "\n",
        "\n",
        "X_train,X_test,y_train,y_test=train_test_split(X,y,test_size=0.3,random_state=42,stratify=y)\n"
      ],
      "execution_count": null,
      "outputs": []
    },
    {
      "cell_type": "markdown",
      "metadata": {
        "id": "uqChOTaciJ_b"
      },
      "source": [
        "### Calling fit and predict methods for our Pipeline"
      ]
    },
    {
      "cell_type": "code",
      "metadata": {
        "id": "m5bAaN4nkx8g",
        "colab": {
          "base_uri": "https://localhost:8080/"
        },
        "outputId": "8afe1f91-c09a-404e-f28f-e2208dd9b361"
      },
      "source": [
        "pipeline1.fit(X_train,y_train)\n",
        "y_pred=pipeline1.predict(X_test)"
      ],
      "execution_count": null,
      "outputs": [
        {
          "output_type": "stream",
          "text": [
            "/usr/local/lib/python3.6/dist-packages/sklearn/utils/validation.py:72: DataConversionWarning: A column-vector y was passed when a 1d array was expected. Please change the shape of y to (n_samples, ), for example using ravel().\n",
            "  return f(**kwargs)\n",
            "/usr/local/lib/python3.6/dist-packages/sklearn/pipeline.py:335: DataConversionWarning: A column-vector y was passed when a 1d array was expected. Please change the shape of y to (n_samples,), for example using ravel().\n",
            "  self._final_estimator.fit(Xt, y, **fit_params_last_step)\n",
            "/usr/local/lib/python3.6/dist-packages/sklearn/utils/validation.py:72: DataConversionWarning: A column-vector y was passed when a 1d array was expected. Please change the shape of y to (n_samples, ), for example using ravel().\n",
            "  return f(**kwargs)\n"
          ],
          "name": "stderr"
        }
      ]
    },
    {
      "cell_type": "code",
      "metadata": {
        "id": "6HJbhoTS04Ga",
        "colab": {
          "base_uri": "https://localhost:8080/"
        },
        "outputId": "5e3db4ea-2e0a-4ca6-9fd1-cdfc2889a4bd"
      },
      "source": [
        "accuracy_score(y_test,y_pred)"
      ],
      "execution_count": null,
      "outputs": [
        {
          "output_type": "execute_result",
          "data": {
            "text/plain": [
              "0.9759374594524458"
            ]
          },
          "metadata": {
            "tags": []
          },
          "execution_count": 22
        }
      ]
    },
    {
      "cell_type": "markdown",
      "metadata": {
        "id": "YFb2POEuiREJ"
      },
      "source": [
        "### Visualizing our created Pipeline"
      ]
    },
    {
      "cell_type": "code",
      "metadata": {
        "id": "aXaaI5Bd2bl9",
        "colab": {
          "base_uri": "https://localhost:8080/",
          "height": 249
        },
        "outputId": "9f5e3423-5d76-45e2-8a44-1f330ebaa6a5"
      },
      "source": [
        "from sklearn import set_config\n",
        "set_config(display='diagram')   \n",
        "pipeline1  "
      ],
      "execution_count": null,
      "outputs": [
        {
          "output_type": "execute_result",
          "data": {
            "text/html": [
              "<style>div.sk-top-container {color: black;background-color: white;}div.sk-toggleable {background-color: white;}label.sk-toggleable__label {cursor: pointer;display: block;width: 100%;margin-bottom: 0;padding: 0.2em 0.3em;box-sizing: border-box;text-align: center;}div.sk-toggleable__content {max-height: 0;max-width: 0;overflow: hidden;text-align: left;background-color: #f0f8ff;}div.sk-toggleable__content pre {margin: 0.2em;color: black;border-radius: 0.25em;background-color: #f0f8ff;}input.sk-toggleable__control:checked~div.sk-toggleable__content {max-height: 200px;max-width: 100%;overflow: auto;}div.sk-estimator input.sk-toggleable__control:checked~label.sk-toggleable__label {background-color: #d4ebff;}div.sk-label input.sk-toggleable__control:checked~label.sk-toggleable__label {background-color: #d4ebff;}input.sk-hidden--visually {border: 0;clip: rect(1px 1px 1px 1px);clip: rect(1px, 1px, 1px, 1px);height: 1px;margin: -1px;overflow: hidden;padding: 0;position: absolute;width: 1px;}div.sk-estimator {font-family: monospace;background-color: #f0f8ff;margin: 0.25em 0.25em;border: 1px dotted black;border-radius: 0.25em;box-sizing: border-box;}div.sk-estimator:hover {background-color: #d4ebff;}div.sk-parallel-item::after {content: \"\";width: 100%;border-bottom: 1px solid gray;flex-grow: 1;}div.sk-label:hover label.sk-toggleable__label {background-color: #d4ebff;}div.sk-serial::before {content: \"\";position: absolute;border-left: 1px solid gray;box-sizing: border-box;top: 2em;bottom: 0;left: 50%;}div.sk-serial {display: flex;flex-direction: column;align-items: center;background-color: white;}div.sk-item {z-index: 1;}div.sk-parallel {display: flex;align-items: stretch;justify-content: center;background-color: white;}div.sk-parallel-item {display: flex;flex-direction: column;position: relative;background-color: white;}div.sk-parallel-item:first-child::after {align-self: flex-end;width: 50%;}div.sk-parallel-item:last-child::after {align-self: flex-start;width: 50%;}div.sk-parallel-item:only-child::after {width: 0;}div.sk-dashed-wrapped {border: 1px dashed gray;margin: 0.2em;box-sizing: border-box;padding-bottom: 0.1em;background-color: white;position: relative;}div.sk-label label {font-family: monospace;font-weight: bold;background-color: white;display: inline-block;line-height: 1.2em;}div.sk-label-container {position: relative;z-index: 2;text-align: center;}div.sk-container {display: inline-block;position: relative;}</style><div class=\"sk-top-container\"><div class=\"sk-container\"><div class=\"sk-item sk-dashed-wrapped\"><div class=\"sk-label-container\"><div class=\"sk-label sk-toggleable\"><input class=\"sk-toggleable__control sk-hidden--visually\" id=\"f0c5419b-cf77-4134-a2ed-aa6adf248ac8\" type=\"checkbox\" ><label class=\"sk-toggleable__label\" for=\"f0c5419b-cf77-4134-a2ed-aa6adf248ac8\">Pipeline</label><div class=\"sk-toggleable__content\"><pre>Pipeline(steps=[('pre_process',\n",
              "                 Pipeline(steps=[('time_conv_transformer',\n",
              "                                  FunctionTransformer(func=<function addTime_Conv at 0x7f682d2e86a8>)),\n",
              "                                 ('dropFeat_transformer',\n",
              "                                  FunctionTransformer(func=<function dropFeatures at 0x7f682dcd0ea0>)),\n",
              "                                 ('labelEncode_transformer',\n",
              "                                  ColumnTransformer(remainder='passthrough',\n",
              "                                                    transformers=[('Lblencoder_LSOA',\n",
              "                                                                   ModifiedLabelEncoderLSOA(),\n",
              "                                                                   ['LSOA_of_Accident_Location']),\n",
              "                                                                  ('Lblencoder_Highway',\n",
              "                                                                   ModifiedLabelEncoderHighWay(),\n",
              "                                                                   ['Local_Authority_(Highway)'])]))])),\n",
              "                ('RandomForestClassifier',\n",
              "                 RandomForestClassifier(n_estimators=50))])</pre></div></div></div><div class=\"sk-serial\"><div class=\"sk-item\"><div class=\"sk-label-container\"><div class=\"sk-label sk-toggleable\"><input class=\"sk-toggleable__control sk-hidden--visually\" id=\"faaf41b1-55f9-4efd-86c6-5e20355ce400\" type=\"checkbox\" ><label class=\"sk-toggleable__label\" for=\"faaf41b1-55f9-4efd-86c6-5e20355ce400\">pre_process: Pipeline</label><div class=\"sk-toggleable__content\"><pre>Pipeline(steps=[('time_conv_transformer',\n",
              "                 FunctionTransformer(func=<function addTime_Conv at 0x7f682d2e86a8>)),\n",
              "                ('dropFeat_transformer',\n",
              "                 FunctionTransformer(func=<function dropFeatures at 0x7f682dcd0ea0>)),\n",
              "                ('labelEncode_transformer',\n",
              "                 ColumnTransformer(remainder='passthrough',\n",
              "                                   transformers=[('Lblencoder_LSOA',\n",
              "                                                  ModifiedLabelEncoderLSOA(),\n",
              "                                                  ['LSOA_of_Accident_Location']),\n",
              "                                                 ('Lblencoder_Highway',\n",
              "                                                  ModifiedLabelEncoderHighWay(),\n",
              "                                                  ['Local_Authority_(Highway)'])]))])</pre></div></div></div><div class=\"sk-serial\"><div class=\"sk-item\"><div class=\"sk-estimator sk-toggleable\"><input class=\"sk-toggleable__control sk-hidden--visually\" id=\"b64cad3c-e0b7-435b-a9b4-16474fd0c837\" type=\"checkbox\" ><label class=\"sk-toggleable__label\" for=\"b64cad3c-e0b7-435b-a9b4-16474fd0c837\">FunctionTransformer</label><div class=\"sk-toggleable__content\"><pre>FunctionTransformer(func=<function addTime_Conv at 0x7f682d2e86a8>)</pre></div></div></div><div class=\"sk-item\"><div class=\"sk-estimator sk-toggleable\"><input class=\"sk-toggleable__control sk-hidden--visually\" id=\"a924cf86-41d6-4a12-9d84-6685074a9a5c\" type=\"checkbox\" ><label class=\"sk-toggleable__label\" for=\"a924cf86-41d6-4a12-9d84-6685074a9a5c\">FunctionTransformer</label><div class=\"sk-toggleable__content\"><pre>FunctionTransformer(func=<function dropFeatures at 0x7f682dcd0ea0>)</pre></div></div></div><div class=\"sk-item sk-dashed-wrapped\"><div class=\"sk-label-container\"><div class=\"sk-label sk-toggleable\"><input class=\"sk-toggleable__control sk-hidden--visually\" id=\"85891afa-78b5-4c6c-9d00-50ef7072b25e\" type=\"checkbox\" ><label class=\"sk-toggleable__label\" for=\"85891afa-78b5-4c6c-9d00-50ef7072b25e\">labelEncode_transformer: ColumnTransformer</label><div class=\"sk-toggleable__content\"><pre>ColumnTransformer(remainder='passthrough',\n",
              "                  transformers=[('Lblencoder_LSOA', ModifiedLabelEncoderLSOA(),\n",
              "                                 ['LSOA_of_Accident_Location']),\n",
              "                                ('Lblencoder_Highway',\n",
              "                                 ModifiedLabelEncoderHighWay(),\n",
              "                                 ['Local_Authority_(Highway)'])])</pre></div></div></div><div class=\"sk-parallel\"><div class=\"sk-parallel-item\"><div class=\"sk-item\"><div class=\"sk-label-container\"><div class=\"sk-label sk-toggleable\"><input class=\"sk-toggleable__control sk-hidden--visually\" id=\"82d20d71-0a6e-4f9f-af29-32d01afdd220\" type=\"checkbox\" ><label class=\"sk-toggleable__label\" for=\"82d20d71-0a6e-4f9f-af29-32d01afdd220\">Lblencoder_LSOA</label><div class=\"sk-toggleable__content\"><pre>['LSOA_of_Accident_Location']</pre></div></div></div><div class=\"sk-serial\"><div class=\"sk-item\"><div class=\"sk-estimator sk-toggleable\"><input class=\"sk-toggleable__control sk-hidden--visually\" id=\"8d8592e0-5a6d-4495-bfbd-81bf2a4d1925\" type=\"checkbox\" ><label class=\"sk-toggleable__label\" for=\"8d8592e0-5a6d-4495-bfbd-81bf2a4d1925\">ModifiedLabelEncoderLSOA</label><div class=\"sk-toggleable__content\"><pre>ModifiedLabelEncoderLSOA()</pre></div></div></div></div></div></div><div class=\"sk-parallel-item\"><div class=\"sk-item\"><div class=\"sk-label-container\"><div class=\"sk-label sk-toggleable\"><input class=\"sk-toggleable__control sk-hidden--visually\" id=\"759ddebc-d1b5-429d-ab35-6b18f8ac6e68\" type=\"checkbox\" ><label class=\"sk-toggleable__label\" for=\"759ddebc-d1b5-429d-ab35-6b18f8ac6e68\">Lblencoder_Highway</label><div class=\"sk-toggleable__content\"><pre>['Local_Authority_(Highway)']</pre></div></div></div><div class=\"sk-serial\"><div class=\"sk-item\"><div class=\"sk-estimator sk-toggleable\"><input class=\"sk-toggleable__control sk-hidden--visually\" id=\"f4945a2c-6f40-483d-8b21-55de09ec59b7\" type=\"checkbox\" ><label class=\"sk-toggleable__label\" for=\"f4945a2c-6f40-483d-8b21-55de09ec59b7\">ModifiedLabelEncoderHighWay</label><div class=\"sk-toggleable__content\"><pre>ModifiedLabelEncoderHighWay()</pre></div></div></div></div></div></div></div></div></div></div><div class=\"sk-item\"><div class=\"sk-estimator sk-toggleable\"><input class=\"sk-toggleable__control sk-hidden--visually\" id=\"e0c3139f-77a2-4f5b-8189-e14513784296\" type=\"checkbox\" ><label class=\"sk-toggleable__label\" for=\"e0c3139f-77a2-4f5b-8189-e14513784296\">RandomForestClassifier</label><div class=\"sk-toggleable__content\"><pre>RandomForestClassifier(n_estimators=50)</pre></div></div></div></div></div></div></div>"
            ],
            "text/plain": [
              "Pipeline(steps=[('pre_process',\n",
              "                 Pipeline(steps=[('time_conv_transformer',\n",
              "                                  FunctionTransformer(func=<function addTime_Conv at 0x7f682d2e86a8>)),\n",
              "                                 ('dropFeat_transformer',\n",
              "                                  FunctionTransformer(func=<function dropFeatures at 0x7f682dcd0ea0>)),\n",
              "                                 ('labelEncode_transformer',\n",
              "                                  ColumnTransformer(remainder='passthrough',\n",
              "                                                    transformers=[('Lblencoder_LSOA',\n",
              "                                                                   ModifiedLabelEncoderLSOA(),\n",
              "                                                                   ['LSOA_of_Accident_Location']),\n",
              "                                                                  ('Lblencoder_Highway',\n",
              "                                                                   ModifiedLabelEncoderHighWay(),\n",
              "                                                                   ['Local_Authority_(Highway)'])]))])),\n",
              "                ('RandomForestClassifier',\n",
              "                 RandomForestClassifier(n_estimators=50))])"
            ]
          },
          "metadata": {
            "tags": []
          },
          "execution_count": 23
        }
      ]
    },
    {
      "cell_type": "markdown",
      "metadata": {
        "id": "fKY9PAuWf4e0"
      },
      "source": [
        "#### Plot Confusion Matrix and other relevant Evaluation Criteria"
      ]
    },
    {
      "cell_type": "code",
      "metadata": {
        "id": "aATTKToKKOoT"
      },
      "source": [
        "def plot_confusion_matrix(actual_target_list,predicted_target_list,classes_list,axis_notation_list=[]):\n",
        "    if len(axis_notation_list)==0:\n",
        "      axis_notation_list=classes_list\n",
        "    conf_mat=[]\n",
        "    actual_target_list=list(actual_target_list)\n",
        "    for aclass in classes_list:\n",
        "        row_list=[]\n",
        "        for pclass in classes_list:\n",
        "            row_list.append(sum(pd.Series(predicted_target_list)[pd.Series(actual_target_list)==aclass]==pclass))\n",
        "        conf_mat.append(row_list)\n",
        "    hw=len(classes_list)*1.5\n",
        "    fig, ax = plt.subplots(figsize=(hw,hw/2))\n",
        "    heatmap=sns.heatmap(conf_mat,\n",
        "            xticklabels=axis_notation_list,yticklabels=axis_notation_list,\n",
        "            annot=True,cbar=False,ax=ax,fmt='g',cmap='Blues',\n",
        "                       linewidths=0.3, linecolor='black')\n",
        "\n",
        "\n",
        "    ax.set(xlabel='Predicted',ylabel='Actual')\n",
        "    ax.xaxis.tick_top()\n",
        "    ax.xaxis.set_label_position(\"top\")\n",
        "    plt.show()\n",
        "    return conf_mat"
      ],
      "execution_count": null,
      "outputs": []
    },
    {
      "cell_type": "code",
      "metadata": {
        "id": "jlqqFZ3Xf4e1",
        "colab": {
          "base_uri": "https://localhost:8080/",
          "height": 199
        },
        "outputId": "da5d796c-2d9c-4fbb-f08f-3b38fc548a48"
      },
      "source": [
        "plot_confusion_matrix(y_test.to_numpy().reshape(len(y_test),).tolist(),y_pred,[1,2,3],['Fatal','Moderate','Slight'])"
      ],
      "execution_count": null,
      "outputs": [
        {
          "output_type": "display_data",
          "data": {
            "image/png": "[encoded data removed]",
            "text/plain": [
              "<Figure size 324x162 with 1 Axes>"
            ]
          },
          "metadata": {
            "tags": [],
            "needs_background": "light"
          }
        },
        {
          "output_type": "execute_result",
          "data": {
            "text/plain": [
              "[[51380, 0, 0], [0, 50676, 704], [26, 2979, 48375]]"
            ]
          },
          "metadata": {
            "tags": []
          },
          "execution_count": 25
        }
      ]
    },
    {
      "cell_type": "code",
      "metadata": {
        "id": "vjY33ETrQG09"
      },
      "source": [
        ""
      ],
      "execution_count": null,
      "outputs": []
    }
  ]
}