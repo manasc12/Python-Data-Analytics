{
  "nbformat": 4,
  "nbformat_minor": 0,
  "metadata": {
    "kernelspec": {
      "display_name": "Python 3",
      "language": "python",
      "name": "python3"
    },
    "language_info": {
      "codemirror_mode": {
        "name": "ipython",
        "version": 3
      },
      "file_extension": ".py",
      "mimetype": "text/x-python",
      "name": "python",
      "nbconvert_exporter": "python",
      "pygments_lexer": "ipython3",
      "version": "3.7.4"
    },
    "colab": {
      "name": "SVM_Implementation_2.0.ipynb",
      "provenance": [],
      "collapsed_sections": [],
      "include_colab_link": true
    }
  },
  "cells": [
    {
      "cell_type": "markdown",
      "metadata": {
        "id": "view-in-github",
        "colab_type": "text"
      },
      "source": [
        "<a href=\"https://colab.research.google.com/github/manasc12/RoadMishapRiskAssessment/blob/master/SVM_Implementation_2_0.ipynb\" target=\"_parent\"><img src=\"https://colab.research.google.com/assets/colab-badge.svg\" alt=\"Open In Colab\"/></a>"
      ]
    },
    {
      "cell_type": "markdown",
      "metadata": {
        "id": "czH3c_2EBudi",
        "colab_type": "text"
      },
      "source": [
        "<h1> Implementing Support Vector M. </h1>\n",
        "<h3> Importing Required Libraries </h3>"
      ]
    },
    {
      "cell_type": "code",
      "metadata": {
        "id": "tAfDtUZnBudj",
        "colab_type": "code",
        "colab": {}
      },
      "source": [
        "import pandas as pd\n",
        "import numpy as np\n",
        "from matplotlib import pyplot as plt\n",
        "%matplotlib inline\n",
        "from sklearn import svm\n",
        "from sklearn import datasets\n",
        "from sklearn.preprocessing import LabelEncoder\n",
        "from imblearn.over_sampling import RandomOverSampler\n",
        "from sklearn.model_selection import train_test_split\n",
        "from sklearn.ensemble import RandomForestClassifier\n",
        "from sklearn import metrics\n",
        "from sklearn.model_selection import RandomizedSearchCV\n",
        "from joblib import dump, load #to save ur model\n",
        "from sklearn.model_selection import GridSearchCV"
      ],
      "execution_count": null,
      "outputs": []
    },
    {
      "cell_type": "markdown",
      "metadata": {
        "id": "1cQSjV5gBudn",
        "colab_type": "text"
      },
      "source": [
        "<h3> Reading the Data from CSV file </h3>\n",
        "<h4>1. Accident Data\n",
        "<br>2. Casualities Data\n",
        "<br>3. Vehicles Data\n",
        "<br> We will try to add more and more features this time to build a highly accurate classifier.\n",
        "<br><h3>Provided:</h3> <h5>Previously we have only used Accident Data to build our classifier without balancing the data and we didn't got a single considerable classifier which can classify most effectively in all of the accident_severity(3,2,1) scenarios.</h5></h4>"
      ]
    },
    {
      "cell_type": "code",
      "metadata": {
        "id": "zqL1PxaUBudo",
        "colab_type": "code",
        "colab": {},
        "outputId": "d23e4990-bd39-4337-def8-58f7b96956ed"
      },
      "source": [
        "df_Acc=pd.read_csv('/Users/manasc12/MyProjects/Data/RealUKAccidentAnalysisData/dftRoadSafetyData_Accidents_2018.csv')\n",
        "df_Cas=pd.read_csv('/Users/manasc12/MyProjects/Data/RealUKAccidentAnalysisData/dftRoadSafetyData_Casualties_2018.csv')\n",
        "df_Veh=pd.read_csv('/Users/manasc12/MyProjects/Data/RealUKAccidentAnalysisData/dftRoadSafetyData_Vehicles_2018.csv')\n",
        "df_Acc.head(5)"
      ],
      "execution_count": null,
      "outputs": [
        {
          "output_type": "stream",
          "text": [
            "/Library/Frameworks/Python.framework/Versions/3.7/lib/python3.7/site-packages/IPython/core/interactiveshell.py:3063: DtypeWarning: Columns (0) have mixed types.Specify dtype option on import or set low_memory=False.\n",
            "  interactivity=interactivity, compiler=compiler, result=result)\n"
          ],
          "name": "stderr"
        },
        {
          "output_type": "execute_result",
          "data": {
            "text/html": [
              "<div>\n",
              "<style scoped>\n",
              "    .dataframe tbody tr th:only-of-type {\n",
              "        vertical-align: middle;\n",
              "    }\n",
              "\n",
              "    .dataframe tbody tr th {\n",
              "        vertical-align: top;\n",
              "    }\n",
              "\n",
              "    .dataframe thead th {\n",
              "        text-align: right;\n",
              "    }\n",
              "</style>\n",
              "<table border=\"1\" class=\"dataframe\">\n",
              "  <thead>\n",
              "    <tr style=\"text-align: right;\">\n",
              "      <th></th>\n",
              "      <th>Accident_Index</th>\n",
              "      <th>Location_Easting_OSGR</th>\n",
              "      <th>Location_Northing_OSGR</th>\n",
              "      <th>Longitude</th>\n",
              "      <th>Latitude</th>\n",
              "      <th>Police_Force</th>\n",
              "      <th>Accident_Severity</th>\n",
              "      <th>Number_of_Vehicles</th>\n",
              "      <th>Number_of_Casualties</th>\n",
              "      <th>Date</th>\n",
              "      <th>...</th>\n",
              "      <th>Pedestrian_Crossing-Human_Control</th>\n",
              "      <th>Pedestrian_Crossing-Physical_Facilities</th>\n",
              "      <th>Light_Conditions</th>\n",
              "      <th>Weather_Conditions</th>\n",
              "      <th>Road_Surface_Conditions</th>\n",
              "      <th>Special_Conditions_at_Site</th>\n",
              "      <th>Carriageway_Hazards</th>\n",
              "      <th>Urban_or_Rural_Area</th>\n",
              "      <th>Did_Police_Officer_Attend_Scene_of_Accident</th>\n",
              "      <th>LSOA_of_Accident_Location</th>\n",
              "    </tr>\n",
              "  </thead>\n",
              "  <tbody>\n",
              "    <tr>\n",
              "      <th>0</th>\n",
              "      <td>2018010080971</td>\n",
              "      <td>529150.0</td>\n",
              "      <td>182270.0</td>\n",
              "      <td>-0.139737</td>\n",
              "      <td>51.524587</td>\n",
              "      <td>1</td>\n",
              "      <td>3</td>\n",
              "      <td>2</td>\n",
              "      <td>2</td>\n",
              "      <td>01/01/2018</td>\n",
              "      <td>...</td>\n",
              "      <td>0</td>\n",
              "      <td>0</td>\n",
              "      <td>4</td>\n",
              "      <td>1</td>\n",
              "      <td>1</td>\n",
              "      <td>0</td>\n",
              "      <td>0</td>\n",
              "      <td>1</td>\n",
              "      <td>1</td>\n",
              "      <td>E01000854</td>\n",
              "    </tr>\n",
              "    <tr>\n",
              "      <th>1</th>\n",
              "      <td>2018010080973</td>\n",
              "      <td>542020.0</td>\n",
              "      <td>184290.0</td>\n",
              "      <td>0.046471</td>\n",
              "      <td>51.539651</td>\n",
              "      <td>1</td>\n",
              "      <td>3</td>\n",
              "      <td>1</td>\n",
              "      <td>1</td>\n",
              "      <td>01/01/2018</td>\n",
              "      <td>...</td>\n",
              "      <td>0</td>\n",
              "      <td>0</td>\n",
              "      <td>4</td>\n",
              "      <td>1</td>\n",
              "      <td>1</td>\n",
              "      <td>0</td>\n",
              "      <td>0</td>\n",
              "      <td>1</td>\n",
              "      <td>1</td>\n",
              "      <td>E01003531</td>\n",
              "    </tr>\n",
              "    <tr>\n",
              "      <th>2</th>\n",
              "      <td>2018010080974</td>\n",
              "      <td>531720.0</td>\n",
              "      <td>182910.0</td>\n",
              "      <td>-0.102474</td>\n",
              "      <td>51.529746</td>\n",
              "      <td>1</td>\n",
              "      <td>3</td>\n",
              "      <td>2</td>\n",
              "      <td>1</td>\n",
              "      <td>01/01/2018</td>\n",
              "      <td>...</td>\n",
              "      <td>0</td>\n",
              "      <td>5</td>\n",
              "      <td>4</td>\n",
              "      <td>1</td>\n",
              "      <td>1</td>\n",
              "      <td>0</td>\n",
              "      <td>0</td>\n",
              "      <td>1</td>\n",
              "      <td>1</td>\n",
              "      <td>E01002723</td>\n",
              "    </tr>\n",
              "    <tr>\n",
              "      <th>3</th>\n",
              "      <td>2018010080981</td>\n",
              "      <td>541450.0</td>\n",
              "      <td>183220.0</td>\n",
              "      <td>0.037828</td>\n",
              "      <td>51.530179</td>\n",
              "      <td>1</td>\n",
              "      <td>2</td>\n",
              "      <td>2</td>\n",
              "      <td>1</td>\n",
              "      <td>01/01/2018</td>\n",
              "      <td>...</td>\n",
              "      <td>0</td>\n",
              "      <td>5</td>\n",
              "      <td>4</td>\n",
              "      <td>2</td>\n",
              "      <td>2</td>\n",
              "      <td>0</td>\n",
              "      <td>0</td>\n",
              "      <td>1</td>\n",
              "      <td>1</td>\n",
              "      <td>E01003492</td>\n",
              "    </tr>\n",
              "    <tr>\n",
              "      <th>4</th>\n",
              "      <td>2018010080982</td>\n",
              "      <td>543580.0</td>\n",
              "      <td>176500.0</td>\n",
              "      <td>0.065781</td>\n",
              "      <td>51.469258</td>\n",
              "      <td>1</td>\n",
              "      <td>2</td>\n",
              "      <td>2</td>\n",
              "      <td>2</td>\n",
              "      <td>01/01/2018</td>\n",
              "      <td>...</td>\n",
              "      <td>0</td>\n",
              "      <td>0</td>\n",
              "      <td>4</td>\n",
              "      <td>1</td>\n",
              "      <td>2</td>\n",
              "      <td>0</td>\n",
              "      <td>0</td>\n",
              "      <td>1</td>\n",
              "      <td>1</td>\n",
              "      <td>E01001682</td>\n",
              "    </tr>\n",
              "  </tbody>\n",
              "</table>\n",
              "<p>5 rows × 32 columns</p>\n",
              "</div>"
            ],
            "text/plain": [
              "  Accident_Index  Location_Easting_OSGR  Location_Northing_OSGR  Longitude  \\\n",
              "0  2018010080971               529150.0                182270.0  -0.139737   \n",
              "1  2018010080973               542020.0                184290.0   0.046471   \n",
              "2  2018010080974               531720.0                182910.0  -0.102474   \n",
              "3  2018010080981               541450.0                183220.0   0.037828   \n",
              "4  2018010080982               543580.0                176500.0   0.065781   \n",
              "\n",
              "    Latitude  Police_Force  Accident_Severity  Number_of_Vehicles  \\\n",
              "0  51.524587             1                  3                   2   \n",
              "1  51.539651             1                  3                   1   \n",
              "2  51.529746             1                  3                   2   \n",
              "3  51.530179             1                  2                   2   \n",
              "4  51.469258             1                  2                   2   \n",
              "\n",
              "   Number_of_Casualties        Date  ...  Pedestrian_Crossing-Human_Control  \\\n",
              "0                     2  01/01/2018  ...                                  0   \n",
              "1                     1  01/01/2018  ...                                  0   \n",
              "2                     1  01/01/2018  ...                                  0   \n",
              "3                     1  01/01/2018  ...                                  0   \n",
              "4                     2  01/01/2018  ...                                  0   \n",
              "\n",
              "  Pedestrian_Crossing-Physical_Facilities  Light_Conditions  \\\n",
              "0                                       0                 4   \n",
              "1                                       0                 4   \n",
              "2                                       5                 4   \n",
              "3                                       5                 4   \n",
              "4                                       0                 4   \n",
              "\n",
              "  Weather_Conditions  Road_Surface_Conditions  Special_Conditions_at_Site  \\\n",
              "0                  1                        1                           0   \n",
              "1                  1                        1                           0   \n",
              "2                  1                        1                           0   \n",
              "3                  2                        2                           0   \n",
              "4                  1                        2                           0   \n",
              "\n",
              "   Carriageway_Hazards  Urban_or_Rural_Area  \\\n",
              "0                    0                    1   \n",
              "1                    0                    1   \n",
              "2                    0                    1   \n",
              "3                    0                    1   \n",
              "4                    0                    1   \n",
              "\n",
              "   Did_Police_Officer_Attend_Scene_of_Accident  LSOA_of_Accident_Location  \n",
              "0                                            1                  E01000854  \n",
              "1                                            1                  E01003531  \n",
              "2                                            1                  E01002723  \n",
              "3                                            1                  E01003492  \n",
              "4                                            1                  E01001682  \n",
              "\n",
              "[5 rows x 32 columns]"
            ]
          },
          "metadata": {
            "tags": []
          },
          "execution_count": 2
        }
      ]
    },
    {
      "cell_type": "code",
      "metadata": {
        "id": "WaZL1pSVBudr",
        "colab_type": "code",
        "colab": {},
        "outputId": "21a6b342-1659-4aef-f622-fc7c212e41f9"
      },
      "source": [
        "df_Cas"
      ],
      "execution_count": null,
      "outputs": [
        {
          "output_type": "execute_result",
          "data": {
            "text/html": [
              "<div>\n",
              "<style scoped>\n",
              "    .dataframe tbody tr th:only-of-type {\n",
              "        vertical-align: middle;\n",
              "    }\n",
              "\n",
              "    .dataframe tbody tr th {\n",
              "        vertical-align: top;\n",
              "    }\n",
              "\n",
              "    .dataframe thead th {\n",
              "        text-align: right;\n",
              "    }\n",
              "</style>\n",
              "<table border=\"1\" class=\"dataframe\">\n",
              "  <thead>\n",
              "    <tr style=\"text-align: right;\">\n",
              "      <th></th>\n",
              "      <th>Accident_Index</th>\n",
              "      <th>Vehicle_Reference</th>\n",
              "      <th>Casualty_Reference</th>\n",
              "      <th>Casualty_Class</th>\n",
              "      <th>Sex_of_Casualty</th>\n",
              "      <th>Age_of_Casualty</th>\n",
              "      <th>Age_Band_of_Casualty</th>\n",
              "      <th>Casualty_Severity</th>\n",
              "      <th>Pedestrian_Location</th>\n",
              "      <th>Pedestrian_Movement</th>\n",
              "      <th>Car_Passenger</th>\n",
              "      <th>Bus_or_Coach_Passenger</th>\n",
              "      <th>Pedestrian_Road_Maintenance_Worker</th>\n",
              "      <th>Casualty_Type</th>\n",
              "      <th>Casualty_Home_Area_Type</th>\n",
              "      <th>Casualty_IMD_Decile</th>\n",
              "    </tr>\n",
              "  </thead>\n",
              "  <tbody>\n",
              "    <tr>\n",
              "      <th>0</th>\n",
              "      <td>2018010080971</td>\n",
              "      <td>1</td>\n",
              "      <td>1</td>\n",
              "      <td>2</td>\n",
              "      <td>2</td>\n",
              "      <td>50</td>\n",
              "      <td>8</td>\n",
              "      <td>3</td>\n",
              "      <td>0</td>\n",
              "      <td>0</td>\n",
              "      <td>2</td>\n",
              "      <td>0</td>\n",
              "      <td>0</td>\n",
              "      <td>9</td>\n",
              "      <td>1</td>\n",
              "      <td>8</td>\n",
              "    </tr>\n",
              "    <tr>\n",
              "      <th>1</th>\n",
              "      <td>2018010080971</td>\n",
              "      <td>2</td>\n",
              "      <td>2</td>\n",
              "      <td>1</td>\n",
              "      <td>1</td>\n",
              "      <td>48</td>\n",
              "      <td>8</td>\n",
              "      <td>3</td>\n",
              "      <td>0</td>\n",
              "      <td>0</td>\n",
              "      <td>0</td>\n",
              "      <td>0</td>\n",
              "      <td>0</td>\n",
              "      <td>8</td>\n",
              "      <td>1</td>\n",
              "      <td>1</td>\n",
              "    </tr>\n",
              "    <tr>\n",
              "      <th>2</th>\n",
              "      <td>2018010080973</td>\n",
              "      <td>1</td>\n",
              "      <td>1</td>\n",
              "      <td>3</td>\n",
              "      <td>1</td>\n",
              "      <td>29</td>\n",
              "      <td>6</td>\n",
              "      <td>3</td>\n",
              "      <td>5</td>\n",
              "      <td>1</td>\n",
              "      <td>0</td>\n",
              "      <td>0</td>\n",
              "      <td>2</td>\n",
              "      <td>0</td>\n",
              "      <td>1</td>\n",
              "      <td>3</td>\n",
              "    </tr>\n",
              "    <tr>\n",
              "      <th>3</th>\n",
              "      <td>2018010080974</td>\n",
              "      <td>1</td>\n",
              "      <td>1</td>\n",
              "      <td>1</td>\n",
              "      <td>1</td>\n",
              "      <td>40</td>\n",
              "      <td>7</td>\n",
              "      <td>3</td>\n",
              "      <td>0</td>\n",
              "      <td>0</td>\n",
              "      <td>0</td>\n",
              "      <td>0</td>\n",
              "      <td>0</td>\n",
              "      <td>8</td>\n",
              "      <td>1</td>\n",
              "      <td>3</td>\n",
              "    </tr>\n",
              "    <tr>\n",
              "      <th>4</th>\n",
              "      <td>2018010080981</td>\n",
              "      <td>1</td>\n",
              "      <td>1</td>\n",
              "      <td>1</td>\n",
              "      <td>1</td>\n",
              "      <td>27</td>\n",
              "      <td>6</td>\n",
              "      <td>2</td>\n",
              "      <td>0</td>\n",
              "      <td>0</td>\n",
              "      <td>0</td>\n",
              "      <td>0</td>\n",
              "      <td>0</td>\n",
              "      <td>9</td>\n",
              "      <td>1</td>\n",
              "      <td>7</td>\n",
              "    </tr>\n",
              "    <tr>\n",
              "      <th>...</th>\n",
              "      <td>...</td>\n",
              "      <td>...</td>\n",
              "      <td>...</td>\n",
              "      <td>...</td>\n",
              "      <td>...</td>\n",
              "      <td>...</td>\n",
              "      <td>...</td>\n",
              "      <td>...</td>\n",
              "      <td>...</td>\n",
              "      <td>...</td>\n",
              "      <td>...</td>\n",
              "      <td>...</td>\n",
              "      <td>...</td>\n",
              "      <td>...</td>\n",
              "      <td>...</td>\n",
              "      <td>...</td>\n",
              "    </tr>\n",
              "    <tr>\n",
              "      <th>160592</th>\n",
              "      <td>2018984115718</td>\n",
              "      <td>2</td>\n",
              "      <td>1</td>\n",
              "      <td>2</td>\n",
              "      <td>2</td>\n",
              "      <td>59</td>\n",
              "      <td>9</td>\n",
              "      <td>3</td>\n",
              "      <td>0</td>\n",
              "      <td>0</td>\n",
              "      <td>1</td>\n",
              "      <td>0</td>\n",
              "      <td>0</td>\n",
              "      <td>9</td>\n",
              "      <td>3</td>\n",
              "      <td>-1</td>\n",
              "    </tr>\n",
              "    <tr>\n",
              "      <th>160593</th>\n",
              "      <td>2018984115918</td>\n",
              "      <td>1</td>\n",
              "      <td>1</td>\n",
              "      <td>3</td>\n",
              "      <td>1</td>\n",
              "      <td>39</td>\n",
              "      <td>7</td>\n",
              "      <td>3</td>\n",
              "      <td>6</td>\n",
              "      <td>9</td>\n",
              "      <td>0</td>\n",
              "      <td>0</td>\n",
              "      <td>0</td>\n",
              "      <td>0</td>\n",
              "      <td>1</td>\n",
              "      <td>3</td>\n",
              "    </tr>\n",
              "    <tr>\n",
              "      <th>160594</th>\n",
              "      <td>2018984116018</td>\n",
              "      <td>2</td>\n",
              "      <td>1</td>\n",
              "      <td>2</td>\n",
              "      <td>1</td>\n",
              "      <td>18</td>\n",
              "      <td>4</td>\n",
              "      <td>3</td>\n",
              "      <td>0</td>\n",
              "      <td>0</td>\n",
              "      <td>1</td>\n",
              "      <td>0</td>\n",
              "      <td>0</td>\n",
              "      <td>9</td>\n",
              "      <td>2</td>\n",
              "      <td>-1</td>\n",
              "    </tr>\n",
              "    <tr>\n",
              "      <th>160595</th>\n",
              "      <td>2018984116318</td>\n",
              "      <td>1</td>\n",
              "      <td>1</td>\n",
              "      <td>1</td>\n",
              "      <td>1</td>\n",
              "      <td>60</td>\n",
              "      <td>9</td>\n",
              "      <td>2</td>\n",
              "      <td>0</td>\n",
              "      <td>0</td>\n",
              "      <td>0</td>\n",
              "      <td>0</td>\n",
              "      <td>0</td>\n",
              "      <td>2</td>\n",
              "      <td>3</td>\n",
              "      <td>-1</td>\n",
              "    </tr>\n",
              "    <tr>\n",
              "      <th>160596</th>\n",
              "      <td>2018984116418</td>\n",
              "      <td>1</td>\n",
              "      <td>1</td>\n",
              "      <td>1</td>\n",
              "      <td>2</td>\n",
              "      <td>21</td>\n",
              "      <td>5</td>\n",
              "      <td>3</td>\n",
              "      <td>0</td>\n",
              "      <td>0</td>\n",
              "      <td>0</td>\n",
              "      <td>0</td>\n",
              "      <td>0</td>\n",
              "      <td>9</td>\n",
              "      <td>2</td>\n",
              "      <td>-1</td>\n",
              "    </tr>\n",
              "  </tbody>\n",
              "</table>\n",
              "<p>160597 rows × 16 columns</p>\n",
              "</div>"
            ],
            "text/plain": [
              "       Accident_Index  Vehicle_Reference  Casualty_Reference  Casualty_Class  \\\n",
              "0       2018010080971                  1                   1               2   \n",
              "1       2018010080971                  2                   2               1   \n",
              "2       2018010080973                  1                   1               3   \n",
              "3       2018010080974                  1                   1               1   \n",
              "4       2018010080981                  1                   1               1   \n",
              "...               ...                ...                 ...             ...   \n",
              "160592  2018984115718                  2                   1               2   \n",
              "160593  2018984115918                  1                   1               3   \n",
              "160594  2018984116018                  2                   1               2   \n",
              "160595  2018984116318                  1                   1               1   \n",
              "160596  2018984116418                  1                   1               1   \n",
              "\n",
              "        Sex_of_Casualty  Age_of_Casualty  Age_Band_of_Casualty  \\\n",
              "0                     2               50                     8   \n",
              "1                     1               48                     8   \n",
              "2                     1               29                     6   \n",
              "3                     1               40                     7   \n",
              "4                     1               27                     6   \n",
              "...                 ...              ...                   ...   \n",
              "160592                2               59                     9   \n",
              "160593                1               39                     7   \n",
              "160594                1               18                     4   \n",
              "160595                1               60                     9   \n",
              "160596                2               21                     5   \n",
              "\n",
              "        Casualty_Severity  Pedestrian_Location  Pedestrian_Movement  \\\n",
              "0                       3                    0                    0   \n",
              "1                       3                    0                    0   \n",
              "2                       3                    5                    1   \n",
              "3                       3                    0                    0   \n",
              "4                       2                    0                    0   \n",
              "...                   ...                  ...                  ...   \n",
              "160592                  3                    0                    0   \n",
              "160593                  3                    6                    9   \n",
              "160594                  3                    0                    0   \n",
              "160595                  2                    0                    0   \n",
              "160596                  3                    0                    0   \n",
              "\n",
              "        Car_Passenger  Bus_or_Coach_Passenger  \\\n",
              "0                   2                       0   \n",
              "1                   0                       0   \n",
              "2                   0                       0   \n",
              "3                   0                       0   \n",
              "4                   0                       0   \n",
              "...               ...                     ...   \n",
              "160592              1                       0   \n",
              "160593              0                       0   \n",
              "160594              1                       0   \n",
              "160595              0                       0   \n",
              "160596              0                       0   \n",
              "\n",
              "        Pedestrian_Road_Maintenance_Worker  Casualty_Type  \\\n",
              "0                                        0              9   \n",
              "1                                        0              8   \n",
              "2                                        2              0   \n",
              "3                                        0              8   \n",
              "4                                        0              9   \n",
              "...                                    ...            ...   \n",
              "160592                                   0              9   \n",
              "160593                                   0              0   \n",
              "160594                                   0              9   \n",
              "160595                                   0              2   \n",
              "160596                                   0              9   \n",
              "\n",
              "        Casualty_Home_Area_Type  Casualty_IMD_Decile  \n",
              "0                             1                    8  \n",
              "1                             1                    1  \n",
              "2                             1                    3  \n",
              "3                             1                    3  \n",
              "4                             1                    7  \n",
              "...                         ...                  ...  \n",
              "160592                        3                   -1  \n",
              "160593                        1                    3  \n",
              "160594                        2                   -1  \n",
              "160595                        3                   -1  \n",
              "160596                        2                   -1  \n",
              "\n",
              "[160597 rows x 16 columns]"
            ]
          },
          "metadata": {
            "tags": []
          },
          "execution_count": 3
        }
      ]
    },
    {
      "cell_type": "code",
      "metadata": {
        "id": "EuGAEk_hBudv",
        "colab_type": "code",
        "colab": {},
        "outputId": "2015903b-c719-4c55-a5db-fdaeef7f49e5"
      },
      "source": [
        "df_Veh"
      ],
      "execution_count": null,
      "outputs": [
        {
          "output_type": "execute_result",
          "data": {
            "text/html": [
              "<div>\n",
              "<style scoped>\n",
              "    .dataframe tbody tr th:only-of-type {\n",
              "        vertical-align: middle;\n",
              "    }\n",
              "\n",
              "    .dataframe tbody tr th {\n",
              "        vertical-align: top;\n",
              "    }\n",
              "\n",
              "    .dataframe thead th {\n",
              "        text-align: right;\n",
              "    }\n",
              "</style>\n",
              "<table border=\"1\" class=\"dataframe\">\n",
              "  <thead>\n",
              "    <tr style=\"text-align: right;\">\n",
              "      <th></th>\n",
              "      <th>Accident_Index</th>\n",
              "      <th>Vehicle_Reference</th>\n",
              "      <th>Vehicle_Type</th>\n",
              "      <th>Towing_and_Articulation</th>\n",
              "      <th>Vehicle_Manoeuvre</th>\n",
              "      <th>Vehicle_Location-Restricted_Lane</th>\n",
              "      <th>Junction_Location</th>\n",
              "      <th>Skidding_and_Overturning</th>\n",
              "      <th>Hit_Object_in_Carriageway</th>\n",
              "      <th>Vehicle_Leaving_Carriageway</th>\n",
              "      <th>...</th>\n",
              "      <th>Journey_Purpose_of_Driver</th>\n",
              "      <th>Sex_of_Driver</th>\n",
              "      <th>Age_of_Driver</th>\n",
              "      <th>Age_Band_of_Driver</th>\n",
              "      <th>Engine_Capacity_(CC)</th>\n",
              "      <th>Propulsion_Code</th>\n",
              "      <th>Age_of_Vehicle</th>\n",
              "      <th>Driver_IMD_Decile</th>\n",
              "      <th>Driver_Home_Area_Type</th>\n",
              "      <th>Vehicle_IMD_Decile</th>\n",
              "    </tr>\n",
              "  </thead>\n",
              "  <tbody>\n",
              "    <tr>\n",
              "      <th>0</th>\n",
              "      <td>2018010080971</td>\n",
              "      <td>1</td>\n",
              "      <td>9</td>\n",
              "      <td>0</td>\n",
              "      <td>18</td>\n",
              "      <td>0</td>\n",
              "      <td>0</td>\n",
              "      <td>0</td>\n",
              "      <td>0</td>\n",
              "      <td>0</td>\n",
              "      <td>...</td>\n",
              "      <td>6</td>\n",
              "      <td>1</td>\n",
              "      <td>32</td>\n",
              "      <td>6</td>\n",
              "      <td>1995</td>\n",
              "      <td>2</td>\n",
              "      <td>5</td>\n",
              "      <td>8</td>\n",
              "      <td>1</td>\n",
              "      <td>8</td>\n",
              "    </tr>\n",
              "    <tr>\n",
              "      <th>1</th>\n",
              "      <td>2018010080971</td>\n",
              "      <td>2</td>\n",
              "      <td>8</td>\n",
              "      <td>0</td>\n",
              "      <td>18</td>\n",
              "      <td>0</td>\n",
              "      <td>0</td>\n",
              "      <td>0</td>\n",
              "      <td>0</td>\n",
              "      <td>0</td>\n",
              "      <td>...</td>\n",
              "      <td>6</td>\n",
              "      <td>1</td>\n",
              "      <td>48</td>\n",
              "      <td>8</td>\n",
              "      <td>1798</td>\n",
              "      <td>8</td>\n",
              "      <td>6</td>\n",
              "      <td>1</td>\n",
              "      <td>1</td>\n",
              "      <td>1</td>\n",
              "    </tr>\n",
              "    <tr>\n",
              "      <th>2</th>\n",
              "      <td>2018010080973</td>\n",
              "      <td>1</td>\n",
              "      <td>9</td>\n",
              "      <td>0</td>\n",
              "      <td>18</td>\n",
              "      <td>0</td>\n",
              "      <td>2</td>\n",
              "      <td>0</td>\n",
              "      <td>0</td>\n",
              "      <td>0</td>\n",
              "      <td>...</td>\n",
              "      <td>6</td>\n",
              "      <td>3</td>\n",
              "      <td>-1</td>\n",
              "      <td>-1</td>\n",
              "      <td>-1</td>\n",
              "      <td>-1</td>\n",
              "      <td>-1</td>\n",
              "      <td>-1</td>\n",
              "      <td>-1</td>\n",
              "      <td>-1</td>\n",
              "    </tr>\n",
              "    <tr>\n",
              "      <th>3</th>\n",
              "      <td>2018010080974</td>\n",
              "      <td>1</td>\n",
              "      <td>8</td>\n",
              "      <td>0</td>\n",
              "      <td>7</td>\n",
              "      <td>0</td>\n",
              "      <td>8</td>\n",
              "      <td>0</td>\n",
              "      <td>0</td>\n",
              "      <td>0</td>\n",
              "      <td>...</td>\n",
              "      <td>1</td>\n",
              "      <td>1</td>\n",
              "      <td>40</td>\n",
              "      <td>7</td>\n",
              "      <td>1797</td>\n",
              "      <td>8</td>\n",
              "      <td>6</td>\n",
              "      <td>3</td>\n",
              "      <td>1</td>\n",
              "      <td>3</td>\n",
              "    </tr>\n",
              "    <tr>\n",
              "      <th>4</th>\n",
              "      <td>2018010080974</td>\n",
              "      <td>2</td>\n",
              "      <td>9</td>\n",
              "      <td>0</td>\n",
              "      <td>18</td>\n",
              "      <td>0</td>\n",
              "      <td>1</td>\n",
              "      <td>0</td>\n",
              "      <td>0</td>\n",
              "      <td>3</td>\n",
              "      <td>...</td>\n",
              "      <td>6</td>\n",
              "      <td>1</td>\n",
              "      <td>21</td>\n",
              "      <td>5</td>\n",
              "      <td>-1</td>\n",
              "      <td>-1</td>\n",
              "      <td>-1</td>\n",
              "      <td>5</td>\n",
              "      <td>1</td>\n",
              "      <td>5</td>\n",
              "    </tr>\n",
              "    <tr>\n",
              "      <th>...</th>\n",
              "      <td>...</td>\n",
              "      <td>...</td>\n",
              "      <td>...</td>\n",
              "      <td>...</td>\n",
              "      <td>...</td>\n",
              "      <td>...</td>\n",
              "      <td>...</td>\n",
              "      <td>...</td>\n",
              "      <td>...</td>\n",
              "      <td>...</td>\n",
              "      <td>...</td>\n",
              "      <td>...</td>\n",
              "      <td>...</td>\n",
              "      <td>...</td>\n",
              "      <td>...</td>\n",
              "      <td>...</td>\n",
              "      <td>...</td>\n",
              "      <td>...</td>\n",
              "      <td>...</td>\n",
              "      <td>...</td>\n",
              "      <td>...</td>\n",
              "    </tr>\n",
              "    <tr>\n",
              "      <th>226404</th>\n",
              "      <td>2018984116018</td>\n",
              "      <td>1</td>\n",
              "      <td>9</td>\n",
              "      <td>0</td>\n",
              "      <td>9</td>\n",
              "      <td>0</td>\n",
              "      <td>0</td>\n",
              "      <td>0</td>\n",
              "      <td>0</td>\n",
              "      <td>0</td>\n",
              "      <td>...</td>\n",
              "      <td>6</td>\n",
              "      <td>1</td>\n",
              "      <td>67</td>\n",
              "      <td>10</td>\n",
              "      <td>998</td>\n",
              "      <td>1</td>\n",
              "      <td>4</td>\n",
              "      <td>-1</td>\n",
              "      <td>3</td>\n",
              "      <td>-1</td>\n",
              "    </tr>\n",
              "    <tr>\n",
              "      <th>226405</th>\n",
              "      <td>2018984116018</td>\n",
              "      <td>2</td>\n",
              "      <td>9</td>\n",
              "      <td>0</td>\n",
              "      <td>15</td>\n",
              "      <td>0</td>\n",
              "      <td>0</td>\n",
              "      <td>1</td>\n",
              "      <td>0</td>\n",
              "      <td>7</td>\n",
              "      <td>...</td>\n",
              "      <td>6</td>\n",
              "      <td>1</td>\n",
              "      <td>24</td>\n",
              "      <td>5</td>\n",
              "      <td>3000</td>\n",
              "      <td>2</td>\n",
              "      <td>21</td>\n",
              "      <td>-1</td>\n",
              "      <td>3</td>\n",
              "      <td>-1</td>\n",
              "    </tr>\n",
              "    <tr>\n",
              "      <th>226406</th>\n",
              "      <td>2018984116018</td>\n",
              "      <td>3</td>\n",
              "      <td>9</td>\n",
              "      <td>0</td>\n",
              "      <td>2</td>\n",
              "      <td>6</td>\n",
              "      <td>0</td>\n",
              "      <td>0</td>\n",
              "      <td>0</td>\n",
              "      <td>0</td>\n",
              "      <td>...</td>\n",
              "      <td>6</td>\n",
              "      <td>3</td>\n",
              "      <td>-1</td>\n",
              "      <td>-1</td>\n",
              "      <td>2400</td>\n",
              "      <td>2</td>\n",
              "      <td>5</td>\n",
              "      <td>-1</td>\n",
              "      <td>-1</td>\n",
              "      <td>-1</td>\n",
              "    </tr>\n",
              "    <tr>\n",
              "      <th>226407</th>\n",
              "      <td>2018984116318</td>\n",
              "      <td>1</td>\n",
              "      <td>2</td>\n",
              "      <td>0</td>\n",
              "      <td>18</td>\n",
              "      <td>0</td>\n",
              "      <td>1</td>\n",
              "      <td>1</td>\n",
              "      <td>0</td>\n",
              "      <td>0</td>\n",
              "      <td>...</td>\n",
              "      <td>1</td>\n",
              "      <td>1</td>\n",
              "      <td>60</td>\n",
              "      <td>9</td>\n",
              "      <td>49</td>\n",
              "      <td>1</td>\n",
              "      <td>10</td>\n",
              "      <td>-1</td>\n",
              "      <td>3</td>\n",
              "      <td>-1</td>\n",
              "    </tr>\n",
              "    <tr>\n",
              "      <th>226408</th>\n",
              "      <td>2018984116418</td>\n",
              "      <td>1</td>\n",
              "      <td>9</td>\n",
              "      <td>0</td>\n",
              "      <td>18</td>\n",
              "      <td>0</td>\n",
              "      <td>0</td>\n",
              "      <td>0</td>\n",
              "      <td>12</td>\n",
              "      <td>0</td>\n",
              "      <td>...</td>\n",
              "      <td>2</td>\n",
              "      <td>2</td>\n",
              "      <td>21</td>\n",
              "      <td>5</td>\n",
              "      <td>899</td>\n",
              "      <td>1</td>\n",
              "      <td>5</td>\n",
              "      <td>-1</td>\n",
              "      <td>2</td>\n",
              "      <td>-1</td>\n",
              "    </tr>\n",
              "  </tbody>\n",
              "</table>\n",
              "<p>226409 rows × 23 columns</p>\n",
              "</div>"
            ],
            "text/plain": [
              "       Accident_Index  Vehicle_Reference  Vehicle_Type  \\\n",
              "0       2018010080971                  1             9   \n",
              "1       2018010080971                  2             8   \n",
              "2       2018010080973                  1             9   \n",
              "3       2018010080974                  1             8   \n",
              "4       2018010080974                  2             9   \n",
              "...               ...                ...           ...   \n",
              "226404  2018984116018                  1             9   \n",
              "226405  2018984116018                  2             9   \n",
              "226406  2018984116018                  3             9   \n",
              "226407  2018984116318                  1             2   \n",
              "226408  2018984116418                  1             9   \n",
              "\n",
              "        Towing_and_Articulation  Vehicle_Manoeuvre  \\\n",
              "0                             0                 18   \n",
              "1                             0                 18   \n",
              "2                             0                 18   \n",
              "3                             0                  7   \n",
              "4                             0                 18   \n",
              "...                         ...                ...   \n",
              "226404                        0                  9   \n",
              "226405                        0                 15   \n",
              "226406                        0                  2   \n",
              "226407                        0                 18   \n",
              "226408                        0                 18   \n",
              "\n",
              "        Vehicle_Location-Restricted_Lane  Junction_Location  \\\n",
              "0                                      0                  0   \n",
              "1                                      0                  0   \n",
              "2                                      0                  2   \n",
              "3                                      0                  8   \n",
              "4                                      0                  1   \n",
              "...                                  ...                ...   \n",
              "226404                                 0                  0   \n",
              "226405                                 0                  0   \n",
              "226406                                 6                  0   \n",
              "226407                                 0                  1   \n",
              "226408                                 0                  0   \n",
              "\n",
              "        Skidding_and_Overturning  Hit_Object_in_Carriageway  \\\n",
              "0                              0                          0   \n",
              "1                              0                          0   \n",
              "2                              0                          0   \n",
              "3                              0                          0   \n",
              "4                              0                          0   \n",
              "...                          ...                        ...   \n",
              "226404                         0                          0   \n",
              "226405                         1                          0   \n",
              "226406                         0                          0   \n",
              "226407                         1                          0   \n",
              "226408                         0                         12   \n",
              "\n",
              "        Vehicle_Leaving_Carriageway  ...  Journey_Purpose_of_Driver  \\\n",
              "0                                 0  ...                          6   \n",
              "1                                 0  ...                          6   \n",
              "2                                 0  ...                          6   \n",
              "3                                 0  ...                          1   \n",
              "4                                 3  ...                          6   \n",
              "...                             ...  ...                        ...   \n",
              "226404                            0  ...                          6   \n",
              "226405                            7  ...                          6   \n",
              "226406                            0  ...                          6   \n",
              "226407                            0  ...                          1   \n",
              "226408                            0  ...                          2   \n",
              "\n",
              "        Sex_of_Driver  Age_of_Driver  Age_Band_of_Driver  \\\n",
              "0                   1             32                   6   \n",
              "1                   1             48                   8   \n",
              "2                   3             -1                  -1   \n",
              "3                   1             40                   7   \n",
              "4                   1             21                   5   \n",
              "...               ...            ...                 ...   \n",
              "226404              1             67                  10   \n",
              "226405              1             24                   5   \n",
              "226406              3             -1                  -1   \n",
              "226407              1             60                   9   \n",
              "226408              2             21                   5   \n",
              "\n",
              "        Engine_Capacity_(CC)  Propulsion_Code  Age_of_Vehicle  \\\n",
              "0                       1995                2               5   \n",
              "1                       1798                8               6   \n",
              "2                         -1               -1              -1   \n",
              "3                       1797                8               6   \n",
              "4                         -1               -1              -1   \n",
              "...                      ...              ...             ...   \n",
              "226404                   998                1               4   \n",
              "226405                  3000                2              21   \n",
              "226406                  2400                2               5   \n",
              "226407                    49                1              10   \n",
              "226408                   899                1               5   \n",
              "\n",
              "        Driver_IMD_Decile  Driver_Home_Area_Type  Vehicle_IMD_Decile  \n",
              "0                       8                      1                   8  \n",
              "1                       1                      1                   1  \n",
              "2                      -1                     -1                  -1  \n",
              "3                       3                      1                   3  \n",
              "4                       5                      1                   5  \n",
              "...                   ...                    ...                 ...  \n",
              "226404                 -1                      3                  -1  \n",
              "226405                 -1                      3                  -1  \n",
              "226406                 -1                     -1                  -1  \n",
              "226407                 -1                      3                  -1  \n",
              "226408                 -1                      2                  -1  \n",
              "\n",
              "[226409 rows x 23 columns]"
            ]
          },
          "metadata": {
            "tags": []
          },
          "execution_count": 4
        }
      ]
    },
    {
      "cell_type": "markdown",
      "metadata": {
        "id": "-ZtvtfUMBudy",
        "colab_type": "text"
      },
      "source": [
        "<h3> Data Cleaning and Wrangling"
      ]
    },
    {
      "cell_type": "code",
      "metadata": {
        "id": "i0L1pE5bBudz",
        "colab_type": "code",
        "colab": {}
      },
      "source": [
        "#Cleaning up the null valued rows\n",
        "df_Acc_clnd=df_Acc[~df_Acc.isnull().any(axis=1)]\n",
        "df_Cas_clnd=df_Cas[~df_Cas.isnull().any(axis=1)]\n",
        "df_Veh_clnd=df_Veh[~df_Veh.isnull().any(axis=1)]"
      ],
      "execution_count": null,
      "outputs": []
    },
    {
      "cell_type": "code",
      "metadata": {
        "scrolled": false,
        "id": "nr4n38KjBud2",
        "colab_type": "code",
        "colab": {},
        "outputId": "f453f5aa-4172-41ce-a830-9ecf9c91bc7c"
      },
      "source": [
        "#Transforming 'Time' Attribute from hh:mm to only minutes\n",
        "a= np.array([(int(str(x).split(':')[0])*60+int(str(x).split(':')[1])) for x in df_Acc_clnd['Time'].values])\n",
        "df_Acc_clnd['Time_Conv']=a"
      ],
      "execution_count": null,
      "outputs": [
        {
          "output_type": "stream",
          "text": [
            "/Library/Frameworks/Python.framework/Versions/3.7/lib/python3.7/site-packages/ipykernel_launcher.py:3: SettingWithCopyWarning: \n",
            "A value is trying to be set on a copy of a slice from a DataFrame.\n",
            "Try using .loc[row_indexer,col_indexer] = value instead\n",
            "\n",
            "See the caveats in the documentation: https://pandas.pydata.org/pandas-docs/stable/user_guide/indexing.html#returning-a-view-versus-a-copy\n",
            "  This is separate from the ipykernel package so we can avoid doing imports until\n"
          ],
          "name": "stderr"
        }
      ]
    },
    {
      "cell_type": "code",
      "metadata": {
        "id": "5Qmma0IGBud5",
        "colab_type": "code",
        "colab": {},
        "outputId": "b1903094-075b-47ff-8db4-c9d49c68915f"
      },
      "source": [
        "#Visualizing the shape \n",
        "print('df_Acc.shape---'+str(df_Acc.shape))\n",
        "print('df_Cas.shape---'+str(df_Cas.shape))\n",
        "print('df_Veh.shape---'+str(df_Veh.shape))\n",
        "print('df_Acc_clnd.shape---'+str(df_Acc_clnd.shape))\n",
        "print('df_Cas_clnd.shape---'+str(df_Cas_clnd.shape))\n",
        "print('df_Veh_clnd.shape---'+str(df_Veh_clnd.shape))\n",
        "print('df_Acc_clnd unique values---')\n",
        "print(df_Acc_clnd.nunique(axis=0))\n",
        "print('df_Cas_clnd unique values---')\n",
        "print(df_Cas_clnd.nunique(axis=0))\n",
        "print('df_Veh_clnd unique values---')\n",
        "print(df_Veh_clnd.nunique(axis=0))"
      ],
      "execution_count": null,
      "outputs": [
        {
          "output_type": "stream",
          "text": [
            "df_Acc.shape---(122635, 32)\n",
            "df_Cas.shape---(160597, 16)\n",
            "df_Veh.shape---(226409, 23)\n",
            "df_Acc_clnd.shape---(116181, 33)\n",
            "df_Cas_clnd.shape---(160597, 16)\n",
            "df_Veh_clnd.shape---(226409, 23)\n",
            "df_Acc_clnd unique values---\n",
            "Accident_Index                                 116181\n",
            "Location_Easting_OSGR                           79980\n",
            "Location_Northing_OSGR                          80961\n",
            "Longitude                                      111657\n",
            "Latitude                                       110374\n",
            "Police_Force                                       43\n",
            "Accident_Severity                                   3\n",
            "Number_of_Vehicles                                 14\n",
            "Number_of_Casualties                               17\n",
            "Date                                              365\n",
            "Day_of_Week                                         7\n",
            "Time                                             1438\n",
            "Local_Authority_(District)                        348\n",
            "Local_Authority_(Highway)                         175\n",
            "1st_Road_Class                                      6\n",
            "1st_Road_Number                                  3381\n",
            "Road_Type                                           6\n",
            "Speed_limit                                         6\n",
            "Junction_Detail                                    10\n",
            "Junction_Control                                    5\n",
            "2nd_Road_Class                                      7\n",
            "2nd_Road_Number                                  2995\n",
            "Pedestrian_Crossing-Human_Control                   4\n",
            "Pedestrian_Crossing-Physical_Facilities             7\n",
            "Light_Conditions                                    5\n",
            "Weather_Conditions                                  9\n",
            "Road_Surface_Conditions                             6\n",
            "Special_Conditions_at_Site                          9\n",
            "Carriageway_Hazards                                 7\n",
            "Urban_or_Rural_Area                                 2\n",
            "Did_Police_Officer_Attend_Scene_of_Accident         3\n",
            "LSOA_of_Accident_Location                       27964\n",
            "Time_Conv                                        1438\n",
            "dtype: int64\n",
            "df_Cas_clnd unique values---\n",
            "Accident_Index                        122635\n",
            "Vehicle_Reference                         18\n",
            "Casualty_Reference                        60\n",
            "Casualty_Class                             3\n",
            "Sex_of_Casualty                            3\n",
            "Age_of_Casualty                          104\n",
            "Age_Band_of_Casualty                      12\n",
            "Casualty_Severity                          3\n",
            "Pedestrian_Location                       12\n",
            "Pedestrian_Movement                       10\n",
            "Car_Passenger                              4\n",
            "Bus_or_Coach_Passenger                     6\n",
            "Pedestrian_Road_Maintenance_Worker         4\n",
            "Casualty_Type                             22\n",
            "Casualty_Home_Area_Type                    4\n",
            "Casualty_IMD_Decile                       11\n",
            "dtype: int64\n",
            "df_Veh_clnd unique values---\n",
            "Accident_Index                      122635\n",
            "Vehicle_Reference                       26\n",
            "Vehicle_Type                            21\n",
            "Towing_and_Articulation                  7\n",
            "Vehicle_Manoeuvre                       19\n",
            "Vehicle_Location-Restricted_Lane        11\n",
            "Junction_Location                       10\n",
            "Skidding_and_Overturning                 7\n",
            "Hit_Object_in_Carriageway               13\n",
            "Vehicle_Leaving_Carriageway             10\n",
            "Hit_Object_off_Carriageway              13\n",
            "1st_Point_of_Impact                      6\n",
            "Was_Vehicle_Left_Hand_Drive?             3\n",
            "Journey_Purpose_of_Driver                7\n",
            "Sex_of_Driver                            4\n",
            "Age_of_Driver                          101\n",
            "Age_Band_of_Driver                      12\n",
            "Engine_Capacity_(CC)                  1111\n",
            "Propulsion_Code                          9\n",
            "Age_of_Vehicle                          72\n",
            "Driver_IMD_Decile                       11\n",
            "Driver_Home_Area_Type                    4\n",
            "Vehicle_IMD_Decile                      11\n",
            "dtype: int64\n"
          ],
          "name": "stdout"
        }
      ]
    },
    {
      "cell_type": "code",
      "metadata": {
        "id": "nxluact4Bud9",
        "colab_type": "code",
        "colab": {},
        "outputId": "a159f4c2-46e2-4b6b-8081-76c40c33d570"
      },
      "source": [
        "#and Data Types\n",
        "print(df_Acc_clnd.dtypes)\n",
        "print(df_Cas_clnd.dtypes)\n",
        "print(df_Veh_clnd.dtypes)"
      ],
      "execution_count": null,
      "outputs": [
        {
          "output_type": "stream",
          "text": [
            "Accident_Index                                  object\n",
            "Location_Easting_OSGR                          float64\n",
            "Location_Northing_OSGR                         float64\n",
            "Longitude                                      float64\n",
            "Latitude                                       float64\n",
            "Police_Force                                     int64\n",
            "Accident_Severity                                int64\n",
            "Number_of_Vehicles                               int64\n",
            "Number_of_Casualties                             int64\n",
            "Date                                            object\n",
            "Day_of_Week                                      int64\n",
            "Time                                            object\n",
            "Local_Authority_(District)                       int64\n",
            "Local_Authority_(Highway)                       object\n",
            "1st_Road_Class                                   int64\n",
            "1st_Road_Number                                  int64\n",
            "Road_Type                                        int64\n",
            "Speed_limit                                      int64\n",
            "Junction_Detail                                  int64\n",
            "Junction_Control                                 int64\n",
            "2nd_Road_Class                                   int64\n",
            "2nd_Road_Number                                  int64\n",
            "Pedestrian_Crossing-Human_Control                int64\n",
            "Pedestrian_Crossing-Physical_Facilities          int64\n",
            "Light_Conditions                                 int64\n",
            "Weather_Conditions                               int64\n",
            "Road_Surface_Conditions                          int64\n",
            "Special_Conditions_at_Site                       int64\n",
            "Carriageway_Hazards                              int64\n",
            "Urban_or_Rural_Area                              int64\n",
            "Did_Police_Officer_Attend_Scene_of_Accident      int64\n",
            "LSOA_of_Accident_Location                       object\n",
            "Time_Conv                                        int64\n",
            "dtype: object\n",
            "Accident_Index                        object\n",
            "Vehicle_Reference                      int64\n",
            "Casualty_Reference                     int64\n",
            "Casualty_Class                         int64\n",
            "Sex_of_Casualty                        int64\n",
            "Age_of_Casualty                        int64\n",
            "Age_Band_of_Casualty                   int64\n",
            "Casualty_Severity                      int64\n",
            "Pedestrian_Location                    int64\n",
            "Pedestrian_Movement                    int64\n",
            "Car_Passenger                          int64\n",
            "Bus_or_Coach_Passenger                 int64\n",
            "Pedestrian_Road_Maintenance_Worker     int64\n",
            "Casualty_Type                          int64\n",
            "Casualty_Home_Area_Type                int64\n",
            "Casualty_IMD_Decile                    int64\n",
            "dtype: object\n",
            "Accident_Index                      object\n",
            "Vehicle_Reference                    int64\n",
            "Vehicle_Type                         int64\n",
            "Towing_and_Articulation              int64\n",
            "Vehicle_Manoeuvre                    int64\n",
            "Vehicle_Location-Restricted_Lane     int64\n",
            "Junction_Location                    int64\n",
            "Skidding_and_Overturning             int64\n",
            "Hit_Object_in_Carriageway            int64\n",
            "Vehicle_Leaving_Carriageway          int64\n",
            "Hit_Object_off_Carriageway           int64\n",
            "1st_Point_of_Impact                  int64\n",
            "Was_Vehicle_Left_Hand_Drive?         int64\n",
            "Journey_Purpose_of_Driver            int64\n",
            "Sex_of_Driver                        int64\n",
            "Age_of_Driver                        int64\n",
            "Age_Band_of_Driver                   int64\n",
            "Engine_Capacity_(CC)                 int64\n",
            "Propulsion_Code                      int64\n",
            "Age_of_Vehicle                       int64\n",
            "Driver_IMD_Decile                    int64\n",
            "Driver_Home_Area_Type                int64\n",
            "Vehicle_IMD_Decile                   int64\n",
            "dtype: object\n"
          ],
          "name": "stdout"
        }
      ]
    },
    {
      "cell_type": "code",
      "metadata": {
        "id": "aI1iPNF1BueA",
        "colab_type": "code",
        "colab": {},
        "outputId": "64325f30-26e6-4be8-c848-3603f84dbf34"
      },
      "source": [
        "#Dropping some of the irrelevant columns(Features/Attributes)\n",
        "df_Acc_clnd.drop(['Date','Time','Location_Easting_OSGR','Location_Northing_OSGR'],axis=1,inplace=True)\n"
      ],
      "execution_count": null,
      "outputs": [
        {
          "output_type": "stream",
          "text": [
            "/Library/Frameworks/Python.framework/Versions/3.7/lib/python3.7/site-packages/pandas/core/frame.py:3997: SettingWithCopyWarning: \n",
            "A value is trying to be set on a copy of a slice from a DataFrame\n",
            "\n",
            "See the caveats in the documentation: https://pandas.pydata.org/pandas-docs/stable/user_guide/indexing.html#returning-a-view-versus-a-copy\n",
            "  errors=errors,\n"
          ],
          "name": "stderr"
        }
      ]
    },
    {
      "cell_type": "markdown",
      "metadata": {
        "id": "bQ00Yp6MBueD",
        "colab_type": "text"
      },
      "source": [
        "<h4>There are 3 sheets(3 dataframes). So lets check which are the columns(attributes/features) on which we can perform our join operation. Inorder to get a single dataframe."
      ]
    },
    {
      "cell_type": "code",
      "metadata": {
        "id": "gwKCB-N6BueE",
        "colab_type": "code",
        "colab": {},
        "outputId": "a0ae28a7-23a2-42f6-9c37-a688bb951e1f"
      },
      "source": [
        "print('Columns same in Casuality and Vehicle:')\n",
        "print('-----------------------------------------')\n",
        "for c1 in df_Cas_clnd.columns:\n",
        "    for c2 in df_Veh_clnd.columns:\n",
        "        if(c1==c2):\n",
        "            print(c1)\n",
        "print('--------\\n--------\\n--------')\n",
        "print('Columns same in Accident and Vehicle:')\n",
        "print('-----------------------------------------')\n",
        "for c1 in df_Acc_clnd.columns:\n",
        "    for c2 in df_Veh_clnd.columns:\n",
        "        if(c1==c2):\n",
        "            print(c1)\n",
        "print('--------\\n--------\\n--------')\n",
        "print('Columns same in Accident and Casuality:')\n",
        "print('-----------------------------------------')\n",
        "for c1 in df_Acc_clnd.columns:\n",
        "    for c2 in df_Cas_clnd.columns:\n",
        "        if(c1==c2):\n",
        "            print(c1)"
      ],
      "execution_count": null,
      "outputs": [
        {
          "output_type": "stream",
          "text": [
            "Columns same in Casuality and Vehicle:\n",
            "-----------------------------------------\n",
            "Accident_Index\n",
            "Vehicle_Reference\n",
            "--------\n",
            "--------\n",
            "--------\n",
            "Columns same in Accident and Vehicle:\n",
            "-----------------------------------------\n",
            "Accident_Index\n",
            "--------\n",
            "--------\n",
            "--------\n",
            "Columns same in Accident and Casuality:\n",
            "-----------------------------------------\n",
            "Accident_Index\n"
          ],
          "name": "stdout"
        }
      ]
    },
    {
      "cell_type": "markdown",
      "metadata": {
        "id": "5FFRszSgBueH",
        "colab_type": "text"
      },
      "source": [
        "<h4>Now that we know our join keys so lets merge our 3 dataframes"
      ]
    },
    {
      "cell_type": "code",
      "metadata": {
        "id": "pGx3WAn5BueI",
        "colab_type": "code",
        "colab": {}
      },
      "source": [
        "df_All_clnd=pd.merge(pd.merge(df_Acc_clnd,df_Cas_clnd,how='inner',on='Accident_Index'),df_Veh_clnd,how='inner',on=['Accident_Index','Vehicle_Reference'])"
      ],
      "execution_count": null,
      "outputs": []
    },
    {
      "cell_type": "markdown",
      "metadata": {
        "id": "TkYXzLGEBueL",
        "colab_type": "text"
      },
      "source": [
        "<h4> Bifurcating Attributes for Training and Target"
      ]
    },
    {
      "cell_type": "code",
      "metadata": {
        "id": "93h7AJ8xBueL",
        "colab_type": "code",
        "colab": {}
      },
      "source": [
        "df=df_All_clnd.reset_index(drop=True)\n",
        "target_c=['Accident_Severity']\n",
        "df_train=df.drop(target_c,axis=1)\n",
        "df_target=df[target_c]"
      ],
      "execution_count": null,
      "outputs": []
    },
    {
      "cell_type": "markdown",
      "metadata": {
        "id": "LVEUHh-qBueO",
        "colab_type": "text"
      },
      "source": [
        "<h4> Balancing/Sampling"
      ]
    },
    {
      "cell_type": "code",
      "metadata": {
        "id": "In83R09dBueP",
        "colab_type": "code",
        "colab": {},
        "outputId": "cede31bc-bd91-4603-a835-64fc0be6a4e5"
      },
      "source": [
        "#Determining Balance of our Data Samples\n",
        "acc_sev_counts=pd.value_counts(df_target['Accident_Severity'],sort=True)\n",
        "plt.figure(figsize=(5,5))\n",
        "acc_sev_counts.plot(kind='bar')\n",
        "plt.xlabel('Accident Severity')\n",
        "plt.ylabel('No. Of Records')\n"
      ],
      "execution_count": null,
      "outputs": [
        {
          "output_type": "execute_result",
          "data": {
            "text/plain": [
              "Text(0, 0.5, 'No. Of Records')"
            ]
          },
          "metadata": {
            "tags": []
          },
          "execution_count": 13
        },
        {
          "output_type": "display_data",
          "data": {
            "image/png": "[encoded data removed]",
            "text/plain": [
              "<Figure size 360x360 with 1 Axes>"
            ]
          },
          "metadata": {
            "tags": [],
            "needs_background": "light"
          }
        }
      ]
    },
    {
      "cell_type": "markdown",
      "metadata": {
        "id": "KauiaOqwBueR",
        "colab_type": "text"
      },
      "source": [
        "<h3>As u can see our data set is highly unbalanced w.r.t our output feature.\n",
        "    <h5><br>1. And probably the reason for which we aren't able to train an effective model in our previous attempts.\n",
        "    <br>2. But now we will resample our data to balance it and then we will apply our RandomForestClassifier on top of it.\n",
        "    <br>3. But before applying resampling we would like to do some Label-Encoding as the classifier doesn't accept string data types."
      ]
    },
    {
      "cell_type": "markdown",
      "metadata": {
        "id": "U0HgmMhiBueS",
        "colab_type": "text"
      },
      "source": [
        "<h4> LabelEncoding"
      ]
    },
    {
      "cell_type": "code",
      "metadata": {
        "id": "oUp4KTzXBueS",
        "colab_type": "code",
        "colab": {}
      },
      "source": [
        "labelEncodeCols=['LSOA_of_Accident_Location','Local_Authority_(Highway)','Accident_Index']\n",
        "#labelEncodeCols=['Local_Authority_(Highway)']\n",
        "Local_Authority_Highway               = LabelEncoder()\n",
        "LSOA_of_Accident_Location               = LabelEncoder()\n",
        "\n",
        "Local_Authority_Highway.fit(df_train['Local_Authority_(Highway)'])\n",
        "LSOA_of_Accident_Location.fit(df_train['LSOA_of_Accident_Location'])\n",
        "\n",
        "df_train['Local_Authority_(Highway)_E']=Local_Authority_Highway.transform(df_train['Local_Authority_(Highway)'])\n",
        "df_train['LSOA_of_Accident_Location_E']=LSOA_of_Accident_Location.transform(df_train['LSOA_of_Accident_Location'])\n",
        "df_train.drop(labelEncodeCols,axis=1,inplace=True)\n"
      ],
      "execution_count": null,
      "outputs": []
    },
    {
      "cell_type": "code",
      "metadata": {
        "id": "motaF7GSBueV",
        "colab_type": "code",
        "colab": {}
      },
      "source": [
        "#Performing Over Sampling\n",
        "#There are various sampling technique you can use like;- NearMiss, SMOTETomek, RandomOverSampler\n",
        "## RandomOverSampler to handle imbalanced data\n",
        "\n",
        "os =  RandomOverSampler(random_state=42)\n",
        "df_train_smpl, df_target_smpl = os.fit_sample(df_train, df_target)"
      ],
      "execution_count": null,
      "outputs": []
    },
    {
      "cell_type": "code",
      "metadata": {
        "id": "lJ5ra9hsBueY",
        "colab_type": "code",
        "colab": {},
        "outputId": "26f18d5b-e507-407a-9439-def828d5f88b"
      },
      "source": [
        "#Checking the new sampled Data set for balance\n",
        "acc_sev_counts=pd.value_counts(df_target_smpl['Accident_Severity'],sort=True)\n",
        "plt.figure(figsize=(5,5))\n",
        "acc_sev_counts.plot(kind='bar')\n",
        "plt.xlabel('Accident Severity')\n",
        "plt.ylabel('No. Of Records')\n"
      ],
      "execution_count": null,
      "outputs": [
        {
          "output_type": "execute_result",
          "data": {
            "text/plain": [
              "Text(0, 0.5, 'No. Of Records')"
            ]
          },
          "metadata": {
            "tags": []
          },
          "execution_count": 16
        },
        {
          "output_type": "display_data",
          "data": {
            "image/png": "[encoded data removed]",
            "text/plain": [
              "<Figure size 360x360 with 1 Axes>"
            ]
          },
          "metadata": {
            "tags": [],
            "needs_background": "light"
          }
        }
      ]
    },
    {
      "cell_type": "markdown",
      "metadata": {
        "id": "JukYH9geBueb",
        "colab_type": "text"
      },
      "source": [
        "<h3> Splitting up Training and Testing Data Samples"
      ]
    },
    {
      "cell_type": "code",
      "metadata": {
        "id": "O7rwmny8Bueb",
        "colab_type": "code",
        "colab": {}
      },
      "source": [
        "x1_train, x1_test, y1_train, y1_test = train_test_split(df_train_smpl,df_target_smpl,test_size=0.7,random_state=42) #Orignal LabelEncod"
      ],
      "execution_count": null,
      "outputs": []
    },
    {
      "cell_type": "code",
      "metadata": {
        "scrolled": true,
        "id": "ewIzKK6OBuef",
        "colab_type": "code",
        "colab": {},
        "outputId": "bf53508a-c34f-44ad-81e1-d066f0765d4a"
      },
      "source": [
        "#Checking the new training Data set after splitting for balance\n",
        "acc_sev_counts=pd.value_counts(y1_train['Accident_Severity'],sort=True)\n",
        "plt.figure(figsize=(5,5))\n",
        "acc_sev_counts.plot(kind='bar')\n",
        "plt.xlabel('Accident Severity')\n",
        "plt.ylabel('No. Of Records')"
      ],
      "execution_count": null,
      "outputs": [
        {
          "output_type": "execute_result",
          "data": {
            "text/plain": [
              "Text(0, 0.5, 'No. Of Records')"
            ]
          },
          "metadata": {
            "tags": []
          },
          "execution_count": 18
        },
        {
          "output_type": "display_data",
          "data": {
            "image/png": "[encoded data removed]",
            "text/plain": [
              "<Figure size 360x360 with 1 Axes>"
            ]
          },
          "metadata": {
            "tags": [],
            "needs_background": "light"
          }
        }
      ]
    },
    {
      "cell_type": "code",
      "metadata": {
        "id": "_ZUPrjNgBueh",
        "colab_type": "code",
        "colab": {}
      },
      "source": [
        "model_svm = svm.SVC(kernel='poly',decision_function_shape='ovr')"
      ],
      "execution_count": null,
      "outputs": []
    },
    {
      "cell_type": "code",
      "metadata": {
        "id": "HIDHvG3kBuek",
        "colab_type": "code",
        "colab": {},
        "outputId": "05643d99-d400-461f-8364-06f53fddf9c7"
      },
      "source": [
        "model_svm.fit(x1_train,y1_train)"
      ],
      "execution_count": null,
      "outputs": [
        {
          "output_type": "stream",
          "text": [
            "/Library/Frameworks/Python.framework/Versions/3.7/lib/python3.7/site-packages/sklearn/utils/validation.py:73: DataConversionWarning: A column-vector y was passed when a 1d array was expected. Please change the shape of y to (n_samples, ), for example using ravel().\n",
            "  return f(**kwargs)\n"
          ],
          "name": "stderr"
        },
        {
          "output_type": "execute_result",
          "data": {
            "text/plain": [
              "SVC(kernel='poly')"
            ]
          },
          "metadata": {
            "tags": []
          },
          "execution_count": 20
        }
      ]
    },
    {
      "cell_type": "code",
      "metadata": {
        "id": "G0I6e93EBuen",
        "colab_type": "code",
        "colab": {}
      },
      "source": [
        "y1_pred=model_svm.predict(x1_test)"
      ],
      "execution_count": null,
      "outputs": []
    },
    {
      "cell_type": "code",
      "metadata": {
        "id": "QMg3vOTnBuep",
        "colab_type": "code",
        "colab": {},
        "outputId": "6eb7ecfc-a9cc-42af-f8df-594030b024cf"
      },
      "source": [
        "# Model Accuracy: how often is the classifier correct?\n",
        "print(\"Accuracy:\",metrics.accuracy_score(y1_test, y1_pred))"
      ],
      "execution_count": null,
      "outputs": [
        {
          "output_type": "stream",
          "text": [
            "Accuracy: 0.3761761544698584\n"
          ],
          "name": "stdout"
        }
      ]
    },
    {
      "cell_type": "code",
      "metadata": {
        "id": "_1ppCHbWBuez",
        "colab_type": "code",
        "colab": {},
        "outputId": "47b90e43-ff31-4135-e642-90d8afdefe6e"
      },
      "source": [
        "metrics.confusion_matrix(y1_test, y1_pred, labels=[3, 2, 1])"
      ],
      "execution_count": null,
      "outputs": [
        {
          "output_type": "execute_result",
          "data": {
            "text/plain": [
              "array([[49603,  7511, 13469],\n",
              "       [46394,  9801, 14530],\n",
              "       [41927,  8502, 20395]])"
            ]
          },
          "metadata": {
            "tags": []
          },
          "execution_count": 23
        }
      ]
    },
    {
      "cell_type": "code",
      "metadata": {
        "id": "faiBgvlrBue2",
        "colab_type": "code",
        "colab": {}
      },
      "source": [
        "from sklearn.preprocessing import StandardScaler\n",
        "X_std = StandardScaler().fit_transform(df_train_smpl)"
      ],
      "execution_count": null,
      "outputs": []
    },
    {
      "cell_type": "code",
      "metadata": {
        "id": "opZZvgUZBue5",
        "colab_type": "code",
        "colab": {},
        "outputId": "7f4fd05f-cd4d-4a09-a9c3-19415f4095f7"
      },
      "source": [
        "cov_mat = np.cov(X_std.T)\n",
        "\n",
        "eig_vals, eig_vecs = np.linalg.eig(cov_mat)\n",
        "\n",
        "print('Eigenvectors \\n%s' %eig_vecs)\n",
        "print('\\nEigenvalues \\n%s' %eig_vals)"
      ],
      "execution_count": null,
      "outputs": [
        {
          "output_type": "stream",
          "text": [
            "Eigenvectors \n",
            "[[ 2.82655679e-02 -4.94868704e-02 -1.64854777e-04 ...  3.54593571e-01\n",
            "  -9.21647293e-02 -4.88671775e-04]\n",
            " [-1.29628089e-01 -8.00646361e-04  1.04011180e-01 ... -1.48147938e-02\n",
            "  -3.98893074e-03  8.48763341e-03]\n",
            " [ 2.03571830e-01  6.21508379e-02 -1.40555864e-01 ...  3.61637371e-02\n",
            "  -3.32438908e-02 -2.99201025e-02]\n",
            " ...\n",
            " [ 2.09509980e-01 -2.38564767e-01  5.98552742e-02 ... -6.13301356e-02\n",
            "   1.60179977e-02  1.84111085e-02]\n",
            " [ 1.58320947e-01  6.33863251e-02 -5.47997897e-02 ... -8.24448908e-02\n",
            "   1.64554399e-01  6.70408862e-02]\n",
            " [ 2.10397066e-01  6.50312821e-02 -8.56642144e-02 ... -8.38160842e-02\n",
            "   4.26828178e-02  9.24328914e-03]]\n",
            "\n",
            "Eigenvalues \n",
            "[ 5.07124361e+00  3.95534611e+00  3.13494366e+00  2.92901769e+00\n",
            "  2.79419068e+00  2.34661417e+00  2.17759179e+00  1.80318449e+00\n",
            "  1.66072170e+00  1.58350770e+00  1.49175204e+00  1.37217583e+00\n",
            "  1.33135824e+00  1.28154117e+00  1.25283147e+00  1.94755161e-02\n",
            "  1.30421144e-02  4.47315297e-02  5.33061999e-02 -6.17453617e-16\n",
            "  1.00121345e-01  1.05707307e-01  1.14011293e-01  2.01936592e-01\n",
            "  2.11571247e-01  2.41850172e-01  1.19270456e+00  2.74841113e-01\n",
            "  1.14925028e+00  1.13414826e+00  3.50101119e-01  3.59705258e-01\n",
            "  3.88077698e-01  4.09641506e-01  4.24012166e-01  4.43595855e-01\n",
            "  4.76986969e-01  1.08415462e+00  5.04262849e-01  1.03618143e+00\n",
            "  1.02400647e+00  1.01232046e+00  9.97151009e-01  9.86861605e-01\n",
            "  5.62919676e-01  5.85120564e-01  9.45084913e-01  9.20156543e-01\n",
            "  9.18536358e-01  8.88487121e-01  8.57329953e-01  8.45197980e-01\n",
            "  8.32317085e-01  8.07205707e-01  7.87896263e-01  6.24913597e-01\n",
            "  7.59850537e-01  7.35134715e-01  7.12669042e-01  6.51020580e-01\n",
            "  6.86845261e-01  6.63648470e-01  6.76096633e-01]\n"
          ],
          "name": "stdout"
        }
      ]
    },
    {
      "cell_type": "code",
      "metadata": {
        "id": "Ckif7JXkBue8",
        "colab_type": "code",
        "colab": {}
      },
      "source": [
        "for ev in eig_vecs.T:\n",
        "    np.testing.assert_array_almost_equal(1.0, np.linalg.norm(ev))"
      ],
      "execution_count": null,
      "outputs": []
    },
    {
      "cell_type": "code",
      "metadata": {
        "id": "xYFXskWFBue_",
        "colab_type": "code",
        "colab": {},
        "outputId": "d8f4ccb6-d736-43fe-a631-f3956d4b1f63"
      },
      "source": [
        "# Make a list of (eigenvalue, eigenvector) tuples\n",
        "eig_pairs = [(np.abs(eig_vals[i]), eig_vecs[:,i]) for i in range(len(eig_vals))]\n",
        "\n",
        "# Sort the (eigenvalue, eigenvector) tuples from high to low\n",
        "eig_pairs.sort(key=lambda x: x[0], reverse=True)\n",
        "\n",
        "# Visually confirm that the list is correctly sorted by decreasing eigenvalues\n",
        "print('Eigenvalues in descending order:')\n",
        "for i in eig_pairs:\n",
        "    print(i[0])"
      ],
      "execution_count": null,
      "outputs": [
        {
          "output_type": "stream",
          "text": [
            "Eigenvalues in descending order:\n",
            "5.0712436065682205\n",
            "3.955346109107446\n",
            "3.134943662487753\n",
            "2.929017691855468\n",
            "2.7941906781894255\n",
            "2.346614165283143\n",
            "2.1775917933018\n",
            "1.8031844900441238\n",
            "1.6607216957832882\n",
            "1.5835076999663042\n",
            "1.4917520413620216\n",
            "1.3721758336880963\n",
            "1.331358242642679\n",
            "1.2815411657907567\n",
            "1.2528314688073823\n",
            "1.192704563123864\n",
            "1.1492502840426888\n",
            "1.134148255946525\n",
            "1.084154624448289\n",
            "1.0361814341580957\n",
            "1.024006466491455\n",
            "1.0123204568550215\n",
            "0.9971510092333445\n",
            "0.9868616051871868\n",
            "0.9450849125761482\n",
            "0.9201565426607046\n",
            "0.9185363584785057\n",
            "0.8884871211476217\n",
            "0.8573299531253029\n",
            "0.8451979795429686\n",
            "0.8323170849855029\n",
            "0.8072057070422666\n",
            "0.787896262917658\n",
            "0.7598505368710056\n",
            "0.7351347154737611\n",
            "0.7126690417102657\n",
            "0.6868452608694\n",
            "0.6760966333486993\n",
            "0.6636484700323834\n",
            "0.6510205796683953\n",
            "0.6249135969980154\n",
            "0.5851205641223589\n",
            "0.5629196759773337\n",
            "0.504262848690508\n",
            "0.4769869689190048\n",
            "0.4435958551267042\n",
            "0.4240121661314755\n",
            "0.4096415058797464\n",
            "0.3880776980769335\n",
            "0.35970525790854246\n",
            "0.3501011185314676\n",
            "0.2748411132415226\n",
            "0.24185017157992536\n",
            "0.21157124732466911\n",
            "0.20193659221056767\n",
            "0.11401129288803204\n",
            "0.10570730700601168\n",
            "0.10012134503112005\n",
            "0.053306199890736\n",
            "0.044731529699574925\n",
            "0.019475516131524692\n",
            "0.013042114422670956\n",
            "6.174536168330153e-16\n"
          ],
          "name": "stdout"
        }
      ]
    },
    {
      "cell_type": "code",
      "metadata": {
        "scrolled": true,
        "id": "stBVsvEyBufB",
        "colab_type": "code",
        "colab": {},
        "outputId": "7d9d1d0b-eb82-4118-b330-56781e5ca35f"
      },
      "source": [
        "len(eig_pairs[0][1])"
      ],
      "execution_count": null,
      "outputs": [
        {
          "output_type": "execute_result",
          "data": {
            "text/plain": [
              "63"
            ]
          },
          "metadata": {
            "tags": []
          },
          "execution_count": 59
        }
      ]
    },
    {
      "cell_type": "code",
      "metadata": {
        "scrolled": false,
        "id": "m-DyWueUBufD",
        "colab_type": "code",
        "colab": {},
        "outputId": "e73c9225-b339-4040-be98-c2e5cf9af7f7"
      },
      "source": [
        "tot = sum(eig_vals)\n",
        "var_exp = [(i / tot)*100 for i in sorted(eig_vals, reverse=True)]\n",
        "cum_var_exp = np.cumsum(var_exp)\n",
        "with plt.style.context('seaborn-whitegrid'):\n",
        "    plt.figure(figsize=(15, 10))\n",
        "\n",
        "    plt.bar(np.arange(1,len(eig_vals)+1), var_exp, alpha=0.5, align='center',\n",
        "            label='individual explained variance')\n",
        "    plt.step(np.arange(1,len(eig_vals)+1), cum_var_exp, where='mid',\n",
        "             label='cumulative explained variance')\n",
        "    plt.ylabel('Explained variance ratio')\n",
        "    plt.xlabel('Principal components')\n",
        "    plt.yticks(np.arange(0,105,5))\n",
        "    plt.xticks(np.arange(1,64,1))\n",
        "    plt.legend(loc='best')\n",
        "    plt.tight_layout()"
      ],
      "execution_count": null,
      "outputs": [
        {
          "output_type": "display_data",
          "data": {
            "image/png": "[encoded data removed]",
            "text/plain": [
              "<Figure size 1080x720 with 1 Axes>"
            ]
          },
          "metadata": {
            "tags": []
          }
        }
      ]
    },
    {
      "cell_type": "code",
      "metadata": {
        "id": "8mGkuOIGBufH",
        "colab_type": "code",
        "colab": {},
        "outputId": "947ed61c-75ed-4b3e-d1bb-1df7284deaaf"
      },
      "source": [
        "matrix_w = np.hstack((eig_pairs[0][1].reshape(len(eig_vals),1),\n",
        "                     eig_pairs[1][1].reshape(len(eig_vals),1),\n",
        "                     eig_pairs[2][1].reshape(len(eig_vals),1),\n",
        "                     eig_pairs[3][1].reshape(len(eig_vals),1),\n",
        "                     eig_pairs[4][1].reshape(len(eig_vals),1),\n",
        "                     eig_pairs[5][1].reshape(len(eig_vals),1),\n",
        "                     eig_pairs[6][1].reshape(len(eig_vals),1),\n",
        "                     eig_pairs[7][1].reshape(len(eig_vals),1),\n",
        "                     eig_pairs[8][1].reshape(len(eig_vals),1),\n",
        "                     eig_pairs[9][1].reshape(len(eig_vals),1),\n",
        "                     eig_pairs[10][1].reshape(len(eig_vals),1),\n",
        "                     eig_pairs[11][1].reshape(len(eig_vals),1),\n",
        "                     eig_pairs[12][1].reshape(len(eig_vals),1),\n",
        "                     eig_pairs[13][1].reshape(len(eig_vals),1),\n",
        "                     eig_pairs[14][1].reshape(len(eig_vals),1),\n",
        "                     eig_pairs[15][1].reshape(len(eig_vals),1),\n",
        "                     eig_pairs[16][1].reshape(len(eig_vals),1),\n",
        "                     eig_pairs[17][1].reshape(len(eig_vals),1),\n",
        "                     eig_pairs[18][1].reshape(len(eig_vals),1),\n",
        "                     eig_pairs[19][1].reshape(len(eig_vals),1),\n",
        "                     eig_pairs[20][1].reshape(len(eig_vals),1),\n",
        "                     eig_pairs[21][1].reshape(len(eig_vals),1),\n",
        "                     eig_pairs[22][1].reshape(len(eig_vals),1),\n",
        "                     eig_pairs[23][1].reshape(len(eig_vals),1),\n",
        "                     eig_pairs[24][1].reshape(len(eig_vals),1),\n",
        "                     eig_pairs[25][1].reshape(len(eig_vals),1),\n",
        "                     eig_pairs[26][1].reshape(len(eig_vals),1),\n",
        "                     eig_pairs[27][1].reshape(len(eig_vals),1),\n",
        "                     eig_pairs[28][1].reshape(len(eig_vals),1),\n",
        "                     eig_pairs[29][1].reshape(len(eig_vals),1),\n",
        "                     eig_pairs[30][1].reshape(len(eig_vals),1),\n",
        "                     eig_pairs[31][1].reshape(len(eig_vals),1),\n",
        "                     eig_pairs[32][1].reshape(len(eig_vals),1),\n",
        "                     eig_pairs[33][1].reshape(len(eig_vals),1),\n",
        "                     eig_pairs[34][1].reshape(len(eig_vals),1),\n",
        "                     eig_pairs[35][1].reshape(len(eig_vals),1),\n",
        "                     eig_pairs[36][1].reshape(len(eig_vals),1),\n",
        "                     eig_pairs[37][1].reshape(len(eig_vals),1),\n",
        "                     eig_pairs[38][1].reshape(len(eig_vals),1),\n",
        "                     eig_pairs[39][1].reshape(len(eig_vals),1)\n",
        "                    ))\n",
        "\n",
        "print('Matrix W:\\n', matrix_w)"
      ],
      "execution_count": null,
      "outputs": [
        {
          "output_type": "stream",
          "text": [
            "Matrix W:\n",
            " [[ 2.82655679e-02 -4.94868704e-02 -1.64854777e-04 ... -4.88671775e-04\n",
            "  -9.21647293e-02 -2.81571041e-01]\n",
            " [-1.29628089e-01 -8.00646361e-04  1.04011180e-01 ...  8.48763341e-03\n",
            "  -3.98893074e-03  6.83366731e-02]\n",
            " [ 2.03571830e-01  6.21508379e-02 -1.40555864e-01 ... -2.99201025e-02\n",
            "  -3.32438908e-02  5.43980023e-03]\n",
            " ...\n",
            " [ 2.09509980e-01 -2.38564767e-01  5.98552742e-02 ...  1.84111085e-02\n",
            "   1.60179977e-02  5.89068266e-02]\n",
            " [ 1.58320947e-01  6.33863251e-02 -5.47997897e-02 ...  6.70408862e-02\n",
            "   1.64554399e-01  4.68302698e-03]\n",
            " [ 2.10397066e-01  6.50312821e-02 -8.56642144e-02 ...  9.24328914e-03\n",
            "   4.26828178e-02  5.28290684e-02]]\n"
          ],
          "name": "stdout"
        }
      ]
    },
    {
      "cell_type": "code",
      "metadata": {
        "id": "75dyt3hOBufJ",
        "colab_type": "code",
        "colab": {}
      },
      "source": [
        "#Prepare the Data with the eigen values u've got\n",
        "eig_df_train = X_std.dot(matrix_w)"
      ],
      "execution_count": null,
      "outputs": []
    },
    {
      "cell_type": "code",
      "metadata": {
        "id": "awELBEBdBufM",
        "colab_type": "code",
        "colab": {}
      },
      "source": [
        "eig_x1_train, eig_x1_test, eig_y1_train, eig_y1_test = train_test_split(eig_df_train,df_target_smpl,test_size=0.7,random_state=42) #Orignal LabelEncod"
      ],
      "execution_count": null,
      "outputs": []
    },
    {
      "cell_type": "code",
      "metadata": {
        "id": "eXb5-TLnBufP",
        "colab_type": "code",
        "colab": {}
      },
      "source": [
        "model_svm_pca = svm.SVC(kernel='poly',decision_function_shape='ovr')"
      ],
      "execution_count": null,
      "outputs": []
    },
    {
      "cell_type": "code",
      "metadata": {
        "id": "Vb4ALxxZBufR",
        "colab_type": "code",
        "colab": {},
        "outputId": "a0ab6888-a8dd-4fed-caa7-dc99128e4ca5"
      },
      "source": [
        "model_svm_pca.fit(eig_x1_train,eig_y1_train)"
      ],
      "execution_count": null,
      "outputs": [
        {
          "output_type": "stream",
          "text": [
            "/Library/Frameworks/Python.framework/Versions/3.7/lib/python3.7/site-packages/sklearn/utils/validation.py:73: DataConversionWarning: A column-vector y was passed when a 1d array was expected. Please change the shape of y to (n_samples, ), for example using ravel().\n",
            "  return f(**kwargs)\n"
          ],
          "name": "stderr"
        },
        {
          "output_type": "execute_result",
          "data": {
            "text/plain": [
              "SVC(kernel='poly')"
            ]
          },
          "metadata": {
            "tags": []
          },
          "execution_count": 73
        }
      ]
    },
    {
      "cell_type": "code",
      "metadata": {
        "id": "dFrDoMGjBufT",
        "colab_type": "code",
        "colab": {}
      },
      "source": [
        "eig_y1_pred=model_svm_pca.predict(eig_x1_test)"
      ],
      "execution_count": null,
      "outputs": []
    },
    {
      "cell_type": "code",
      "metadata": {
        "id": "IM13krZMBufW",
        "colab_type": "code",
        "colab": {},
        "outputId": "f1b5240c-c212-4ed2-b5eb-ed338ea0b233"
      },
      "source": [
        "# Model Accuracy: how often is the classifier correct?\n",
        "print(\"Accuracy:\",metrics.accuracy_score(eig_y1_test, eig_y1_pred))"
      ],
      "execution_count": null,
      "outputs": [
        {
          "output_type": "stream",
          "text": [
            "Accuracy: 0.893834970678634\n"
          ],
          "name": "stdout"
        }
      ]
    },
    {
      "cell_type": "code",
      "metadata": {
        "id": "Gb_eIvlsBufY",
        "colab_type": "code",
        "colab": {},
        "outputId": "b5546df3-d5ef-4006-9407-f370d303df78"
      },
      "source": [
        "metrics.confusion_matrix(eig_y1_test, eig_y1_pred, labels=[3, 2, 1])"
      ],
      "execution_count": null,
      "outputs": [
        {
          "output_type": "execute_result",
          "data": {
            "text/plain": [
              "array([[66627,  3104,   852],\n",
              "       [10806, 55665,  4254],\n",
              "       [ 1565,  1940, 67319]])"
            ]
          },
          "metadata": {
            "tags": []
          },
          "execution_count": 158
        }
      ]
    },
    {
      "cell_type": "code",
      "metadata": {
        "id": "HocVn7QiBufb",
        "colab_type": "code",
        "colab": {},
        "outputId": "3c154f1f-aa6b-49df-c24c-0ed2bbfa8373"
      },
      "source": [
        "#https://matplotlib.org/3.1.1/gallery/mplot3d/scatter3d.html\n",
        "\n",
        "from mpl_toolkits.mplot3d import Axes3D\n",
        "\n",
        "with plt.style.context('seaborn-whitegrid'):\n",
        "    fig=plt.figure(figsize=(15, 10))\n",
        "    ax=fig.add_subplot(111, projection='3d')\n",
        "    for lab, col, si in zip((1, 2, 3),\n",
        "                        ('grey', 'yellow', 'red'),\n",
        "                        (5,5,5)):\n",
        "        ax.scatter(eig_df_train[df_target_smpl.values.reshape(len(df_target_smpl))==lab,0],eig_df_train[df_target_smpl.values.reshape(len(df_target_smpl))==lab,1], eig_df_train[df_target_smpl.values.reshape(len(df_target_smpl))==lab,2] ,label=lab, c=col, s=si)\n",
        "        ax.view_init(150, 50)\n",
        "    ax.set_xlabel('PC1')\n",
        "    ax.set_ylabel('PC2')\n",
        "    ax.set_zlabel('PC3')\n",
        "    plt.legend(loc='best')\n",
        "    plt.tight_layout()\n",
        "    plt.show()\n",
        "    \n"
      ],
      "execution_count": null,
      "outputs": [
        {
          "output_type": "display_data",
          "data": {
            "image/png": "[encoded data removed]",
            "text/plain": [
              "<Figure size 1080x720 with 1 Axes>"
            ]
          },
          "metadata": {
            "tags": []
          }
        }
      ]
    },
    {
      "cell_type": "markdown",
      "metadata": {
        "id": "UNa_pKYEBufe",
        "colab_type": "text"
      },
      "source": [
        "<h2>Referrences\n",
        "<h4>1. https://towardsdatascience.com/hyperparameter-tuning-the-random-forest-in-python-using-scikit-learn-28d2aa77dd74 (For Hyperparameter Tuning and RandomForest Classifier)\n",
        "<br>2. https://github.com/krishnaik06/Handle-Imbalanced-Dataset (For Handling Imbalanced Data Sets)\n",
        "<br>3. https://jinchuika.com/post/1-preprocessing-part-1/ (For LabelEncoding)\n",
        "<br>4. https://towardsdatascience.com/feature-selection-techniques-in-machine-learning-with-python-f24e7da3f36e (For Feature Selection)"
      ]
    },
    {
      "cell_type": "code",
      "metadata": {
        "id": "deCzq0tyBufe",
        "colab_type": "code",
        "colab": {}
      },
      "source": [
        ""
      ],
      "execution_count": null,
      "outputs": []
    }
  ]
}