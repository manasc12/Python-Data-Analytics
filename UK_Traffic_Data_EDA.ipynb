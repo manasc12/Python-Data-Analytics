{
 "cells": [
  {
   "cell_type": "markdown",
   "metadata": {},
   "source": [
    "<h1>Load Prerequisite Libraries"
   ]
  },
  {
   "cell_type": "code",
   "execution_count": 47,
   "metadata": {},
   "outputs": [],
   "source": [
    "import pandas as pd\n",
    "pd.plotting.register_matplotlib_converters()\n",
    "import matplotlib.pyplot as plt\n",
    "%matplotlib inline\n",
    "import seaborn as sns\n",
    "import pandas_profiling as pp"
   ]
  },
  {
   "cell_type": "markdown",
   "metadata": {},
   "source": [
    "<h1>Load The Data"
   ]
  },
  {
   "cell_type": "code",
   "execution_count": 48,
   "metadata": {
    "scrolled": true
   },
   "outputs": [
    {
     "name": "stderr",
     "output_type": "stream",
     "text": [
      "/Library/Frameworks/Python.framework/Versions/3.7/lib/python3.7/site-packages/IPython/core/interactiveshell.py:3063: DtypeWarning: Columns (0) have mixed types.Specify dtype option on import or set low_memory=False.\n",
      "  interactivity=interactivity, compiler=compiler, result=result)\n"
     ]
    }
   ],
   "source": [
    "df = pd.read_csv('Data/RealUKAccidentAnalysisData/dftRoadSafetyData_Accidents_2018.csv')"
   ]
  },
  {
   "cell_type": "markdown",
   "metadata": {},
   "source": [
    "<h1>Examine The Data</h1>"
   ]
  },
  {
   "cell_type": "code",
   "execution_count": null,
   "metadata": {
    "scrolled": false
   },
   "outputs": [],
   "source": [
    "df.head"
   ]
  },
  {
   "cell_type": "code",
   "execution_count": 50,
   "metadata": {},
   "outputs": [
    {
     "data": {
      "text/plain": [
       "(122635, 32)"
      ]
     },
     "execution_count": 50,
     "metadata": {},
     "output_type": "execute_result"
    }
   ],
   "source": [
    "df.shape"
   ]
  },
  {
   "cell_type": "code",
   "execution_count": 51,
   "metadata": {},
   "outputs": [
    {
     "data": {
      "text/plain": [
       "Index(['Accident_Index', 'Location_Easting_OSGR', 'Location_Northing_OSGR',\n",
       "       'Longitude', 'Latitude', 'Police_Force', 'Accident_Severity',\n",
       "       'Number_of_Vehicles', 'Number_of_Casualties', 'Date', 'Day_of_Week',\n",
       "       'Time', 'Local_Authority_(District)', 'Local_Authority_(Highway)',\n",
       "       '1st_Road_Class', '1st_Road_Number', 'Road_Type', 'Speed_limit',\n",
       "       'Junction_Detail', 'Junction_Control', '2nd_Road_Class',\n",
       "       '2nd_Road_Number', 'Pedestrian_Crossing-Human_Control',\n",
       "       'Pedestrian_Crossing-Physical_Facilities', 'Light_Conditions',\n",
       "       'Weather_Conditions', 'Road_Surface_Conditions',\n",
       "       'Special_Conditions_at_Site', 'Carriageway_Hazards',\n",
       "       'Urban_or_Rural_Area', 'Did_Police_Officer_Attend_Scene_of_Accident',\n",
       "       'LSOA_of_Accident_Location'],\n",
       "      dtype='object')"
      ]
     },
     "execution_count": 51,
     "metadata": {},
     "output_type": "execute_result"
    }
   ],
   "source": [
    "df.columns"
   ]
  },
  {
   "cell_type": "markdown",
   "metadata": {},
   "source": [
    "<h3>1. List down the Categorical Attributes"
   ]
  },
  {
   "cell_type": "code",
   "execution_count": 52,
   "metadata": {},
   "outputs": [
    {
     "data": {
      "text/plain": [
       "Accident_Index                                 122635\n",
       "Location_Easting_OSGR                           85434\n",
       "Location_Northing_OSGR                          86863\n",
       "Longitude                                      117984\n",
       "Latitude                                       116696\n",
       "Police_Force                                       51\n",
       "Accident_Severity                                   3\n",
       "Number_of_Vehicles                                 15\n",
       "Number_of_Casualties                               18\n",
       "Date                                              365\n",
       "Day_of_Week                                         7\n",
       "Time                                             1438\n",
       "Local_Authority_(District)                        380\n",
       "Local_Authority_(Highway)                         207\n",
       "1st_Road_Class                                      6\n",
       "1st_Road_Number                                  3675\n",
       "Road_Type                                           6\n",
       "Speed_limit                                         6\n",
       "Junction_Detail                                    10\n",
       "Junction_Control                                    5\n",
       "2nd_Road_Class                                      7\n",
       "2nd_Road_Number                                  3194\n",
       "Pedestrian_Crossing-Human_Control                   4\n",
       "Pedestrian_Crossing-Physical_Facilities             7\n",
       "Light_Conditions                                    5\n",
       "Weather_Conditions                                 10\n",
       "Road_Surface_Conditions                             6\n",
       "Special_Conditions_at_Site                          9\n",
       "Carriageway_Hazards                                 7\n",
       "Urban_or_Rural_Area                                 4\n",
       "Did_Police_Officer_Attend_Scene_of_Accident         4\n",
       "LSOA_of_Accident_Location                       27965\n",
       "dtype: int64"
      ]
     },
     "execution_count": 52,
     "metadata": {},
     "output_type": "execute_result"
    }
   ],
   "source": [
    "df.nunique(axis=0)"
   ]
  },
  {
   "cell_type": "code",
   "execution_count": 53,
   "metadata": {},
   "outputs": [
    {
     "data": {
      "text/plain": [
       "array([3, 2, 1])"
      ]
     },
     "execution_count": 53,
     "metadata": {},
     "output_type": "execute_result"
    }
   ],
   "source": [
    "df.Accident_Severity.unique()"
   ]
  },
  {
   "cell_type": "code",
   "execution_count": 54,
   "metadata": {},
   "outputs": [
    {
     "data": {
      "text/plain": [
       "array([ 1, 48,  3,  4,  5,  6,  7, 10, 11, 12, 13, 14, 16, 17, 20, 21, 22,\n",
       "       23, 30, 31, 32, 33, 34, 35, 36, 37, 40, 41, 42, 43, 44, 45, 46, 47,\n",
       "       50, 52, 53, 54, 55, 60, 61, 62, 63, 91, 92, 93, 94, 95, 96, 97, 98])"
      ]
     },
     "execution_count": 54,
     "metadata": {},
     "output_type": "execute_result"
    }
   ],
   "source": [
    "df.Police_Force.unique()"
   ]
  },
  {
   "cell_type": "code",
   "execution_count": 55,
   "metadata": {},
   "outputs": [
    {
     "data": {
      "text/plain": [
       "array([ 2,  1,  3,  4,  6,  8,  5,  7,  9, 13, 10, 16, 11, 24, 18])"
      ]
     },
     "execution_count": 55,
     "metadata": {},
     "output_type": "execute_result"
    }
   ],
   "source": [
    "df.Number_of_Vehicles.unique()"
   ]
  },
  {
   "cell_type": "code",
   "execution_count": 56,
   "metadata": {},
   "outputs": [
    {
     "data": {
      "text/plain": [
       "array([ 2,  1,  4,  7,  3,  6,  5, 12,  9,  8, 10, 13, 11, 59, 20, 23, 17,\n",
       "       29])"
      ]
     },
     "execution_count": 56,
     "metadata": {},
     "output_type": "execute_result"
    }
   ],
   "source": [
    "df.Number_of_Casualties.unique()"
   ]
  },
  {
   "cell_type": "code",
   "execution_count": 57,
   "metadata": {},
   "outputs": [
    {
     "data": {
      "text/plain": [
       "array([2, 3, 4, 5, 6, 7, 1])"
      ]
     },
     "execution_count": 57,
     "metadata": {},
     "output_type": "execute_result"
    }
   ],
   "source": [
    "df.Day_of_Week.unique()"
   ]
  },
  {
   "cell_type": "code",
   "execution_count": 58,
   "metadata": {},
   "outputs": [
    {
     "data": {
      "text/plain": [
       "array(['01:30', '00:50', '00:45', ..., '04:39', '04:59', '04:31'],\n",
       "      dtype=object)"
      ]
     },
     "execution_count": 58,
     "metadata": {},
     "output_type": "execute_result"
    }
   ],
   "source": [
    "df.Time.unique()"
   ]
  },
  {
   "cell_type": "code",
   "execution_count": 59,
   "metadata": {},
   "outputs": [
    {
     "data": {
      "text/plain": [
       "array([  2,  17,   3,   6,  30,  12,   7,  28,   5,  25,  29,   8,   9,\n",
       "        27,  10,   4,  31,  24,  32,  21,  13,  14,  11,  16,  22,  20,\n",
       "        26,  15,  19,   1,  18,  23,  57, 570,  62,  60,  65,  61,  64,\n",
       "        63,  71,  70,  75,  80,  83,  72,  82,  77,  79,  73,  84,  74,\n",
       "        76,  85,  90,  91,  95,  93,  92, 102, 107, 110, 109, 100, 114,\n",
       "       112, 101, 106, 104, 128, 129, 130, 124, 147, 139, 148, 149, 150,\n",
       "       146, 169, 161, 187, 182, 181, 189, 180, 184, 186, 185, 206, 204,\n",
       "       200, 203, 202, 215, 210, 211, 213, 228, 233, 231, 232, 240, 241,\n",
       "       243, 245, 305, 302, 300, 307, 303, 309, 306, 256, 255, 254, 258,\n",
       "       252, 251, 253, 250, 257, 273, 286, 276, 285, 284, 277, 274, 270,\n",
       "       278, 290, 291, 294, 293, 292, 327, 323, 324, 328, 325, 320, 322,\n",
       "       321, 329, 340, 344, 345, 341, 346, 342, 343, 347, 351, 355, 350,\n",
       "       353, 356, 352, 354, 364, 362, 367, 366, 368, 363, 361, 360, 365,\n",
       "       380, 382, 383, 381, 385, 386, 384, 393, 395, 390, 391, 394, 392,\n",
       "       404, 407, 405, 400, 401, 406, 402, 410, 414, 412, 415, 413, 411,\n",
       "       416, 421, 420, 424, 432, 431, 433, 435, 438, 430, 437,  33, 436,\n",
       "       434, 462, 455, 456, 463, 460, 461, 450, 452, 454, 453, 459, 458,\n",
       "       451, 457, 481, 472, 479, 480, 471, 474, 484, 485, 482, 483, 476,\n",
       "       477, 473, 475, 470, 478, 533, 496, 491, 498, 490, 497, 500, 495,\n",
       "       492, 494, 493, 505, 501, 502, 499,  38, 511, 512, 514, 513, 510,\n",
       "       515, 516, 518,  40, 517, 544, 541, 538, 540, 539, 542, 543, 530,\n",
       "       535, 531, 532, 536, 565, 557, 563, 555, 554, 562, 560, 552, 551,\n",
       "       564, 559, 558, 556, 596, 584, 583, 588, 580, 585, 581, 589, 587,\n",
       "       582, 586, 608, 609, 607, 610, 606, 605, 601, 611, 612, 625, 624,\n",
       "       621, 620, 622, 623, 635, 633, 643, 645, 646, 640, 644, 647, 641,\n",
       "       642, 723, 725, 724, 722, 721, 720, 731, 733, 730, 732, 734, 741,\n",
       "       744, 742, 745, 743, 746, 740, 751, 750, 752, 753, 927, 941, 936,\n",
       "       933, 910, 911, 930, 934, 912, 918, 925, 923, 929, 940, 914, 921,\n",
       "       924, 939, 915, 926, 935, 922, 920, 928, 913, 916, 932, 938, 931,\n",
       "       919, 937, 917])"
      ]
     },
     "execution_count": 59,
     "metadata": {},
     "output_type": "execute_result"
    }
   ],
   "source": [
    "df['Local_Authority_(District)'].unique()"
   ]
  },
  {
   "cell_type": "code",
   "execution_count": 60,
   "metadata": {},
   "outputs": [
    {
     "data": {
      "text/plain": [
       "array(['E09000007', 'E09000025', 'E09000019', 'E09000011', 'E09000003',\n",
       "       'E09000020', 'E09000023', 'E09000005', 'E09000030', 'E09000018',\n",
       "       'E09000015', 'E09000028', 'E09000022', 'E09000009', 'E09000032',\n",
       "       'E09000012', 'E09000014', 'E09000027', 'E09000010', 'E09000029',\n",
       "       'E09000031', 'E09000026', 'E09000013', 'E09000002', 'E09000024',\n",
       "       'E09000008', 'E09000017', 'E09000016', 'E09000006', 'E09000033',\n",
       "       'E09000004', 'E09000021', 'EHEATHROW', 'E09000001', 'E10000006',\n",
       "       'E06000009', 'E06000008', 'E10000017', 'E08000011', 'E08000012',\n",
       "       'E08000015', 'E08000014', 'E08000013', 'E08000003', 'E08000006',\n",
       "       'E08000008', 'E08000007', 'E08000001', 'E08000010', 'E08000009',\n",
       "       'E08000002', 'E08000005', 'E08000004', 'E06000007', 'E06000049',\n",
       "       'E06000050', 'E06000006', 'E08000021', 'E06000048', 'E08000022',\n",
       "       'E08000023', 'E08000024', 'E08000020', 'E06000047', 'E06000005',\n",
       "       'E10000023', 'E06000014', 'E08000036', 'E08000035', 'E08000032',\n",
       "       'E08000034', 'E08000033', 'E08000019', 'E08000016', 'E08000017',\n",
       "       'E08000018', 'E06000010', 'E06000012', 'E06000011', 'E06000013',\n",
       "       'E06000001', 'E06000003', 'E06000002', 'E06000004', 'E08000028',\n",
       "       'E08000026', 'E08000025', 'E08000030', 'E08000027', 'E08000031',\n",
       "       'E08000029', 'E10000028', 'E06000021', 'E10000034', 'E06000051',\n",
       "       'E06000019', 'E06000020', 'E10000031', 'E10000007', 'E06000015',\n",
       "       'E10000024', 'E06000018', 'E10000019', 'E06000016', 'E10000018',\n",
       "       'E06000017', 'E10000021', 'E10000003', 'E06000031', 'E10000020',\n",
       "       'E10000029', 'E06000032', 'E06000055', 'E06000056', 'E10000015',\n",
       "       'E06000034', 'E10000012', 'E06000033', 'E10000025', 'E06000038',\n",
       "       'E06000042', 'E10000002', 'E06000037', 'E06000040', 'E06000039',\n",
       "       'E06000041', 'E06000036', 'E10000016', 'E10000014', 'E06000044',\n",
       "       'E06000045', 'E06000046', 'E10000030', 'E06000035', 'E06000043',\n",
       "       'E10000032', 'E10000011', 'E06000052', 'E10000008', 'E06000026',\n",
       "       'E06000027', 'E06000053', 'E10000027', 'E06000024', 'E06000023',\n",
       "       'E06000022', 'E06000025', 'E10000013', 'E06000054', 'E06000030',\n",
       "       'E06000029', 'E10000009', 'E06000028', 'W06000004', 'W06000006',\n",
       "       'W06000005', 'W06000002', 'W06000003', 'W06000001', 'W06000018',\n",
       "       'W06000022', 'W06000019', 'W06000021', 'W06000020', 'W06000015',\n",
       "       'W06000016', 'W06000024', 'W06000011', 'W06000012', 'W06000014',\n",
       "       'W06000013', 'W06000010', 'W06000008', 'W06000009', 'W06000023',\n",
       "       'S12000017', 'S12000013', 'S12000027', 'S12000023', 'S12000033',\n",
       "       'S12000034', 'S12000020', 'S12000024', 'S12000041', 'S12000042',\n",
       "       'S12000015', 'S12000036', 'S12000019', 'S12000040', 'S12000026',\n",
       "       'S12000010', 'S12000014', 'S12000030', 'S12000005', 'S12000043',\n",
       "       'S12000038', 'S12000011', 'S12000009', 'S12000018', 'S12000035',\n",
       "       'S12000039', 'S12000044', 'S12000029', 'S12000021', 'S12000008',\n",
       "       'S12000028', 'S12000006'], dtype=object)"
      ]
     },
     "execution_count": 60,
     "metadata": {},
     "output_type": "execute_result"
    }
   ],
   "source": [
    "df['Local_Authority_(Highway)'].unique()"
   ]
  },
  {
   "cell_type": "code",
   "execution_count": 61,
   "metadata": {},
   "outputs": [
    {
     "data": {
      "text/plain": [
       "array([3, 4, 5, 6, 1, 2])"
      ]
     },
     "execution_count": 61,
     "metadata": {},
     "output_type": "execute_result"
    }
   ],
   "source": [
    "df['1st_Road_Class'].unique()"
   ]
  },
  {
   "cell_type": "code",
   "execution_count": 62,
   "metadata": {},
   "outputs": [
    {
     "data": {
      "text/plain": [
       "array([ 501,  165,    1, ...,  783, 7020, 7068])"
      ]
     },
     "execution_count": 62,
     "metadata": {},
     "output_type": "execute_result"
    }
   ],
   "source": [
    "df['1st_Road_Number'].unique()"
   ]
  },
  {
   "cell_type": "code",
   "execution_count": 63,
   "metadata": {},
   "outputs": [
    {
     "data": {
      "text/plain": [
       "array([3, 6, 2, 1, 9, 7])"
      ]
     },
     "execution_count": 63,
     "metadata": {},
     "output_type": "execute_result"
    }
   ],
   "source": [
    "df.Road_Type.unique()"
   ]
  },
  {
   "cell_type": "code",
   "execution_count": 64,
   "metadata": {},
   "outputs": [
    {
     "data": {
      "text/plain": [
       "array([30, 20, 40, 50, 70, 60])"
      ]
     },
     "execution_count": 64,
     "metadata": {},
     "output_type": "execute_result"
    }
   ],
   "source": [
    "df.Speed_limit.unique()"
   ]
  },
  {
   "cell_type": "code",
   "execution_count": 65,
   "metadata": {},
   "outputs": [
    {
     "data": {
      "text/plain": [
       "array([ 0,  2,  6,  7,  5,  3,  9,  1,  8, -1])"
      ]
     },
     "execution_count": 65,
     "metadata": {},
     "output_type": "execute_result"
    }
   ],
   "source": [
    "df.Junction_Detail.unique()"
   ]
  },
  {
   "cell_type": "code",
   "execution_count": 66,
   "metadata": {},
   "outputs": [
    {
     "data": {
      "text/plain": [
       "array([-1,  4,  2,  1,  3])"
      ]
     },
     "execution_count": 66,
     "metadata": {},
     "output_type": "execute_result"
    }
   ],
   "source": [
    "df.Junction_Control.unique()"
   ]
  },
  {
   "cell_type": "code",
   "execution_count": 67,
   "metadata": {},
   "outputs": [
    {
     "data": {
      "text/plain": [
       "array([-1,  6,  5,  3,  4,  1,  2])"
      ]
     },
     "execution_count": 67,
     "metadata": {},
     "output_type": "execute_result"
    }
   ],
   "source": [
    "df['2nd_Road_Class'].unique()"
   ]
  },
  {
   "cell_type": "code",
   "execution_count": 68,
   "metadata": {},
   "outputs": [
    {
     "data": {
      "text/plain": [
       "array([   0,  124,   20, ...,  781,  709, 7068])"
      ]
     },
     "execution_count": 68,
     "metadata": {},
     "output_type": "execute_result"
    }
   ],
   "source": [
    "df['2nd_Road_Number'].unique()"
   ]
  },
  {
   "cell_type": "code",
   "execution_count": 69,
   "metadata": {},
   "outputs": [
    {
     "data": {
      "text/plain": [
       "array([ 0, -1,  2,  1])"
      ]
     },
     "execution_count": 69,
     "metadata": {},
     "output_type": "execute_result"
    }
   ],
   "source": [
    "df['Pedestrian_Crossing-Human_Control'].unique()"
   ]
  },
  {
   "cell_type": "code",
   "execution_count": 70,
   "metadata": {},
   "outputs": [
    {
     "data": {
      "text/plain": [
       "array([ 0,  5,  8,  4,  1,  7, -1])"
      ]
     },
     "execution_count": 70,
     "metadata": {},
     "output_type": "execute_result"
    }
   ],
   "source": [
    "df['Pedestrian_Crossing-Physical_Facilities'].unique()"
   ]
  },
  {
   "cell_type": "code",
   "execution_count": 71,
   "metadata": {},
   "outputs": [
    {
     "data": {
      "text/plain": [
       "array([4, 7, 1, 6, 5])"
      ]
     },
     "execution_count": 71,
     "metadata": {},
     "output_type": "execute_result"
    }
   ],
   "source": [
    "df.Light_Conditions.unique()"
   ]
  },
  {
   "cell_type": "code",
   "execution_count": 72,
   "metadata": {},
   "outputs": [
    {
     "data": {
      "text/plain": [
       "array([ 1,  2,  5,  9,  4,  8,  6,  3,  7, -1])"
      ]
     },
     "execution_count": 72,
     "metadata": {},
     "output_type": "execute_result"
    }
   ],
   "source": [
    "df.Weather_Conditions.unique()"
   ]
  },
  {
   "cell_type": "code",
   "execution_count": 73,
   "metadata": {},
   "outputs": [
    {
     "data": {
      "text/plain": [
       "array([ 1,  2, -1,  4,  5,  3])"
      ]
     },
     "execution_count": 73,
     "metadata": {},
     "output_type": "execute_result"
    }
   ],
   "source": [
    "df.Road_Surface_Conditions.unique()"
   ]
  },
  {
   "cell_type": "code",
   "execution_count": 74,
   "metadata": {},
   "outputs": [
    {
     "data": {
      "text/plain": [
       "array([ 0,  3, -1,  1,  4,  5,  6,  2,  7])"
      ]
     },
     "execution_count": 74,
     "metadata": {},
     "output_type": "execute_result"
    }
   ],
   "source": [
    "df.Special_Conditions_at_Site.unique()"
   ]
  },
  {
   "cell_type": "code",
   "execution_count": 75,
   "metadata": {},
   "outputs": [
    {
     "data": {
      "text/plain": [
       "array([ 0,  3, -1,  2,  1,  7,  6])"
      ]
     },
     "execution_count": 75,
     "metadata": {},
     "output_type": "execute_result"
    }
   ],
   "source": [
    "df.Carriageway_Hazards.unique()"
   ]
  },
  {
   "cell_type": "code",
   "execution_count": 76,
   "metadata": {},
   "outputs": [
    {
     "data": {
      "text/plain": [
       "array([ 1,  2,  3, -1])"
      ]
     },
     "execution_count": 76,
     "metadata": {},
     "output_type": "execute_result"
    }
   ],
   "source": [
    "df.Urban_or_Rural_Area.unique()"
   ]
  },
  {
   "cell_type": "code",
   "execution_count": 77,
   "metadata": {},
   "outputs": [
    {
     "data": {
      "text/plain": [
       "array([ 1,  2,  3, -1])"
      ]
     },
     "execution_count": 77,
     "metadata": {},
     "output_type": "execute_result"
    }
   ],
   "source": [
    "df.Did_Police_Officer_Attend_Scene_of_Accident.unique()"
   ]
  },
  {
   "cell_type": "code",
   "execution_count": 78,
   "metadata": {},
   "outputs": [
    {
     "data": {
      "text/plain": [
       "array(['E01000854', 'E01003531', 'E01002723', ..., 'W01001907',\n",
       "       'W01000485', 'W01000456'], dtype=object)"
      ]
     },
     "execution_count": 78,
     "metadata": {},
     "output_type": "execute_result"
    }
   ],
   "source": [
    "df.LSOA_of_Accident_Location.unique()"
   ]
  },
  {
   "cell_type": "markdown",
   "metadata": {},
   "source": [
    "<h3>2. Data Types</h3>\n",
    "<h5>A. List out the Data Types</h5>"
   ]
  },
  {
   "cell_type": "code",
   "execution_count": 79,
   "metadata": {},
   "outputs": [
    {
     "data": {
      "text/plain": [
       "Accident_Index                                  object\n",
       "Location_Easting_OSGR                          float64\n",
       "Location_Northing_OSGR                         float64\n",
       "Longitude                                      float64\n",
       "Latitude                                       float64\n",
       "Police_Force                                     int64\n",
       "Accident_Severity                                int64\n",
       "Number_of_Vehicles                               int64\n",
       "Number_of_Casualties                             int64\n",
       "Date                                            object\n",
       "Day_of_Week                                      int64\n",
       "Time                                            object\n",
       "Local_Authority_(District)                       int64\n",
       "Local_Authority_(Highway)                       object\n",
       "1st_Road_Class                                   int64\n",
       "1st_Road_Number                                  int64\n",
       "Road_Type                                        int64\n",
       "Speed_limit                                      int64\n",
       "Junction_Detail                                  int64\n",
       "Junction_Control                                 int64\n",
       "2nd_Road_Class                                   int64\n",
       "2nd_Road_Number                                  int64\n",
       "Pedestrian_Crossing-Human_Control                int64\n",
       "Pedestrian_Crossing-Physical_Facilities          int64\n",
       "Light_Conditions                                 int64\n",
       "Weather_Conditions                               int64\n",
       "Road_Surface_Conditions                          int64\n",
       "Special_Conditions_at_Site                       int64\n",
       "Carriageway_Hazards                              int64\n",
       "Urban_or_Rural_Area                              int64\n",
       "Did_Police_Officer_Attend_Scene_of_Accident      int64\n",
       "LSOA_of_Accident_Location                       object\n",
       "dtype: object"
      ]
     },
     "execution_count": 79,
     "metadata": {},
     "output_type": "execute_result"
    }
   ],
   "source": [
    "df.dtypes"
   ]
  },
  {
   "cell_type": "markdown",
   "metadata": {},
   "source": [
    "<h5>B. Select Only Selected Data Types</h5>"
   ]
  },
  {
   "cell_type": "code",
   "execution_count": 80,
   "metadata": {},
   "outputs": [
    {
     "data": {
      "text/html": [
       "<div>\n",
       "<style scoped>\n",
       "    .dataframe tbody tr th:only-of-type {\n",
       "        vertical-align: middle;\n",
       "    }\n",
       "\n",
       "    .dataframe tbody tr th {\n",
       "        vertical-align: top;\n",
       "    }\n",
       "\n",
       "    .dataframe thead th {\n",
       "        text-align: right;\n",
       "    }\n",
       "</style>\n",
       "<table border=\"1\" class=\"dataframe\">\n",
       "  <thead>\n",
       "    <tr style=\"text-align: right;\">\n",
       "      <th></th>\n",
       "      <th>Location_Easting_OSGR</th>\n",
       "      <th>Location_Northing_OSGR</th>\n",
       "      <th>Longitude</th>\n",
       "      <th>Latitude</th>\n",
       "      <th>Police_Force</th>\n",
       "      <th>Accident_Severity</th>\n",
       "      <th>Number_of_Vehicles</th>\n",
       "      <th>Number_of_Casualties</th>\n",
       "      <th>Day_of_Week</th>\n",
       "      <th>Local_Authority_(District)</th>\n",
       "      <th>...</th>\n",
       "      <th>2nd_Road_Number</th>\n",
       "      <th>Pedestrian_Crossing-Human_Control</th>\n",
       "      <th>Pedestrian_Crossing-Physical_Facilities</th>\n",
       "      <th>Light_Conditions</th>\n",
       "      <th>Weather_Conditions</th>\n",
       "      <th>Road_Surface_Conditions</th>\n",
       "      <th>Special_Conditions_at_Site</th>\n",
       "      <th>Carriageway_Hazards</th>\n",
       "      <th>Urban_or_Rural_Area</th>\n",
       "      <th>Did_Police_Officer_Attend_Scene_of_Accident</th>\n",
       "    </tr>\n",
       "  </thead>\n",
       "  <tbody>\n",
       "    <tr>\n",
       "      <th>0</th>\n",
       "      <td>529150.0</td>\n",
       "      <td>182270.0</td>\n",
       "      <td>-0.139737</td>\n",
       "      <td>51.524587</td>\n",
       "      <td>1</td>\n",
       "      <td>3</td>\n",
       "      <td>2</td>\n",
       "      <td>2</td>\n",
       "      <td>2</td>\n",
       "      <td>2</td>\n",
       "      <td>...</td>\n",
       "      <td>0</td>\n",
       "      <td>0</td>\n",
       "      <td>0</td>\n",
       "      <td>4</td>\n",
       "      <td>1</td>\n",
       "      <td>1</td>\n",
       "      <td>0</td>\n",
       "      <td>0</td>\n",
       "      <td>1</td>\n",
       "      <td>1</td>\n",
       "    </tr>\n",
       "    <tr>\n",
       "      <th>1</th>\n",
       "      <td>542020.0</td>\n",
       "      <td>184290.0</td>\n",
       "      <td>0.046471</td>\n",
       "      <td>51.539651</td>\n",
       "      <td>1</td>\n",
       "      <td>3</td>\n",
       "      <td>1</td>\n",
       "      <td>1</td>\n",
       "      <td>2</td>\n",
       "      <td>17</td>\n",
       "      <td>...</td>\n",
       "      <td>0</td>\n",
       "      <td>0</td>\n",
       "      <td>0</td>\n",
       "      <td>4</td>\n",
       "      <td>1</td>\n",
       "      <td>1</td>\n",
       "      <td>0</td>\n",
       "      <td>0</td>\n",
       "      <td>1</td>\n",
       "      <td>1</td>\n",
       "    </tr>\n",
       "    <tr>\n",
       "      <th>2</th>\n",
       "      <td>531720.0</td>\n",
       "      <td>182910.0</td>\n",
       "      <td>-0.102474</td>\n",
       "      <td>51.529746</td>\n",
       "      <td>1</td>\n",
       "      <td>3</td>\n",
       "      <td>2</td>\n",
       "      <td>1</td>\n",
       "      <td>2</td>\n",
       "      <td>3</td>\n",
       "      <td>...</td>\n",
       "      <td>0</td>\n",
       "      <td>0</td>\n",
       "      <td>5</td>\n",
       "      <td>4</td>\n",
       "      <td>1</td>\n",
       "      <td>1</td>\n",
       "      <td>0</td>\n",
       "      <td>0</td>\n",
       "      <td>1</td>\n",
       "      <td>1</td>\n",
       "    </tr>\n",
       "    <tr>\n",
       "      <th>3</th>\n",
       "      <td>541450.0</td>\n",
       "      <td>183220.0</td>\n",
       "      <td>0.037828</td>\n",
       "      <td>51.530179</td>\n",
       "      <td>1</td>\n",
       "      <td>2</td>\n",
       "      <td>2</td>\n",
       "      <td>1</td>\n",
       "      <td>2</td>\n",
       "      <td>17</td>\n",
       "      <td>...</td>\n",
       "      <td>124</td>\n",
       "      <td>0</td>\n",
       "      <td>5</td>\n",
       "      <td>4</td>\n",
       "      <td>2</td>\n",
       "      <td>2</td>\n",
       "      <td>0</td>\n",
       "      <td>0</td>\n",
       "      <td>1</td>\n",
       "      <td>1</td>\n",
       "    </tr>\n",
       "    <tr>\n",
       "      <th>4</th>\n",
       "      <td>543580.0</td>\n",
       "      <td>176500.0</td>\n",
       "      <td>0.065781</td>\n",
       "      <td>51.469258</td>\n",
       "      <td>1</td>\n",
       "      <td>2</td>\n",
       "      <td>2</td>\n",
       "      <td>2</td>\n",
       "      <td>2</td>\n",
       "      <td>6</td>\n",
       "      <td>...</td>\n",
       "      <td>0</td>\n",
       "      <td>0</td>\n",
       "      <td>0</td>\n",
       "      <td>4</td>\n",
       "      <td>1</td>\n",
       "      <td>2</td>\n",
       "      <td>0</td>\n",
       "      <td>0</td>\n",
       "      <td>1</td>\n",
       "      <td>1</td>\n",
       "    </tr>\n",
       "    <tr>\n",
       "      <th>...</th>\n",
       "      <td>...</td>\n",
       "      <td>...</td>\n",
       "      <td>...</td>\n",
       "      <td>...</td>\n",
       "      <td>...</td>\n",
       "      <td>...</td>\n",
       "      <td>...</td>\n",
       "      <td>...</td>\n",
       "      <td>...</td>\n",
       "      <td>...</td>\n",
       "      <td>...</td>\n",
       "      <td>...</td>\n",
       "      <td>...</td>\n",
       "      <td>...</td>\n",
       "      <td>...</td>\n",
       "      <td>...</td>\n",
       "      <td>...</td>\n",
       "      <td>...</td>\n",
       "      <td>...</td>\n",
       "      <td>...</td>\n",
       "      <td>...</td>\n",
       "    </tr>\n",
       "    <tr>\n",
       "      <th>122630</th>\n",
       "      <td>307124.0</td>\n",
       "      <td>594145.0</td>\n",
       "      <td>-3.461918</td>\n",
       "      <td>55.232746</td>\n",
       "      <td>98</td>\n",
       "      <td>3</td>\n",
       "      <td>2</td>\n",
       "      <td>1</td>\n",
       "      <td>1</td>\n",
       "      <td>917</td>\n",
       "      <td>...</td>\n",
       "      <td>0</td>\n",
       "      <td>0</td>\n",
       "      <td>0</td>\n",
       "      <td>1</td>\n",
       "      <td>1</td>\n",
       "      <td>2</td>\n",
       "      <td>0</td>\n",
       "      <td>0</td>\n",
       "      <td>2</td>\n",
       "      <td>1</td>\n",
       "    </tr>\n",
       "    <tr>\n",
       "      <th>122631</th>\n",
       "      <td>313325.0</td>\n",
       "      <td>581065.0</td>\n",
       "      <td>-3.360440</td>\n",
       "      <td>55.116374</td>\n",
       "      <td>98</td>\n",
       "      <td>3</td>\n",
       "      <td>2</td>\n",
       "      <td>1</td>\n",
       "      <td>2</td>\n",
       "      <td>917</td>\n",
       "      <td>...</td>\n",
       "      <td>0</td>\n",
       "      <td>0</td>\n",
       "      <td>0</td>\n",
       "      <td>1</td>\n",
       "      <td>1</td>\n",
       "      <td>1</td>\n",
       "      <td>0</td>\n",
       "      <td>0</td>\n",
       "      <td>1</td>\n",
       "      <td>1</td>\n",
       "    </tr>\n",
       "    <tr>\n",
       "      <th>122632</th>\n",
       "      <td>319337.0</td>\n",
       "      <td>574511.0</td>\n",
       "      <td>-3.264352</td>\n",
       "      <td>55.058510</td>\n",
       "      <td>98</td>\n",
       "      <td>3</td>\n",
       "      <td>3</td>\n",
       "      <td>1</td>\n",
       "      <td>5</td>\n",
       "      <td>917</td>\n",
       "      <td>...</td>\n",
       "      <td>0</td>\n",
       "      <td>0</td>\n",
       "      <td>0</td>\n",
       "      <td>4</td>\n",
       "      <td>1</td>\n",
       "      <td>2</td>\n",
       "      <td>0</td>\n",
       "      <td>0</td>\n",
       "      <td>2</td>\n",
       "      <td>1</td>\n",
       "    </tr>\n",
       "    <tr>\n",
       "      <th>122633</th>\n",
       "      <td>318858.0</td>\n",
       "      <td>566932.0</td>\n",
       "      <td>-3.269695</td>\n",
       "      <td>54.990344</td>\n",
       "      <td>98</td>\n",
       "      <td>2</td>\n",
       "      <td>1</td>\n",
       "      <td>1</td>\n",
       "      <td>2</td>\n",
       "      <td>917</td>\n",
       "      <td>...</td>\n",
       "      <td>552</td>\n",
       "      <td>0</td>\n",
       "      <td>0</td>\n",
       "      <td>1</td>\n",
       "      <td>1</td>\n",
       "      <td>4</td>\n",
       "      <td>0</td>\n",
       "      <td>0</td>\n",
       "      <td>2</td>\n",
       "      <td>1</td>\n",
       "    </tr>\n",
       "    <tr>\n",
       "      <th>122634</th>\n",
       "      <td>316008.0</td>\n",
       "      <td>568771.0</td>\n",
       "      <td>-3.314764</td>\n",
       "      <td>55.006392</td>\n",
       "      <td>98</td>\n",
       "      <td>3</td>\n",
       "      <td>1</td>\n",
       "      <td>1</td>\n",
       "      <td>2</td>\n",
       "      <td>917</td>\n",
       "      <td>...</td>\n",
       "      <td>0</td>\n",
       "      <td>0</td>\n",
       "      <td>0</td>\n",
       "      <td>6</td>\n",
       "      <td>1</td>\n",
       "      <td>1</td>\n",
       "      <td>0</td>\n",
       "      <td>7</td>\n",
       "      <td>2</td>\n",
       "      <td>2</td>\n",
       "    </tr>\n",
       "  </tbody>\n",
       "</table>\n",
       "<p>122635 rows × 27 columns</p>\n",
       "</div>"
      ],
      "text/plain": [
       "        Location_Easting_OSGR  Location_Northing_OSGR  Longitude   Latitude  \\\n",
       "0                    529150.0                182270.0  -0.139737  51.524587   \n",
       "1                    542020.0                184290.0   0.046471  51.539651   \n",
       "2                    531720.0                182910.0  -0.102474  51.529746   \n",
       "3                    541450.0                183220.0   0.037828  51.530179   \n",
       "4                    543580.0                176500.0   0.065781  51.469258   \n",
       "...                       ...                     ...        ...        ...   \n",
       "122630               307124.0                594145.0  -3.461918  55.232746   \n",
       "122631               313325.0                581065.0  -3.360440  55.116374   \n",
       "122632               319337.0                574511.0  -3.264352  55.058510   \n",
       "122633               318858.0                566932.0  -3.269695  54.990344   \n",
       "122634               316008.0                568771.0  -3.314764  55.006392   \n",
       "\n",
       "        Police_Force  Accident_Severity  Number_of_Vehicles  \\\n",
       "0                  1                  3                   2   \n",
       "1                  1                  3                   1   \n",
       "2                  1                  3                   2   \n",
       "3                  1                  2                   2   \n",
       "4                  1                  2                   2   \n",
       "...              ...                ...                 ...   \n",
       "122630            98                  3                   2   \n",
       "122631            98                  3                   2   \n",
       "122632            98                  3                   3   \n",
       "122633            98                  2                   1   \n",
       "122634            98                  3                   1   \n",
       "\n",
       "        Number_of_Casualties  Day_of_Week  Local_Authority_(District)  ...  \\\n",
       "0                          2            2                           2  ...   \n",
       "1                          1            2                          17  ...   \n",
       "2                          1            2                           3  ...   \n",
       "3                          1            2                          17  ...   \n",
       "4                          2            2                           6  ...   \n",
       "...                      ...          ...                         ...  ...   \n",
       "122630                     1            1                         917  ...   \n",
       "122631                     1            2                         917  ...   \n",
       "122632                     1            5                         917  ...   \n",
       "122633                     1            2                         917  ...   \n",
       "122634                     1            2                         917  ...   \n",
       "\n",
       "        2nd_Road_Number  Pedestrian_Crossing-Human_Control  \\\n",
       "0                     0                                  0   \n",
       "1                     0                                  0   \n",
       "2                     0                                  0   \n",
       "3                   124                                  0   \n",
       "4                     0                                  0   \n",
       "...                 ...                                ...   \n",
       "122630                0                                  0   \n",
       "122631                0                                  0   \n",
       "122632                0                                  0   \n",
       "122633              552                                  0   \n",
       "122634                0                                  0   \n",
       "\n",
       "        Pedestrian_Crossing-Physical_Facilities  Light_Conditions  \\\n",
       "0                                             0                 4   \n",
       "1                                             0                 4   \n",
       "2                                             5                 4   \n",
       "3                                             5                 4   \n",
       "4                                             0                 4   \n",
       "...                                         ...               ...   \n",
       "122630                                        0                 1   \n",
       "122631                                        0                 1   \n",
       "122632                                        0                 4   \n",
       "122633                                        0                 1   \n",
       "122634                                        0                 6   \n",
       "\n",
       "        Weather_Conditions  Road_Surface_Conditions  \\\n",
       "0                        1                        1   \n",
       "1                        1                        1   \n",
       "2                        1                        1   \n",
       "3                        2                        2   \n",
       "4                        1                        2   \n",
       "...                    ...                      ...   \n",
       "122630                   1                        2   \n",
       "122631                   1                        1   \n",
       "122632                   1                        2   \n",
       "122633                   1                        4   \n",
       "122634                   1                        1   \n",
       "\n",
       "        Special_Conditions_at_Site  Carriageway_Hazards  Urban_or_Rural_Area  \\\n",
       "0                                0                    0                    1   \n",
       "1                                0                    0                    1   \n",
       "2                                0                    0                    1   \n",
       "3                                0                    0                    1   \n",
       "4                                0                    0                    1   \n",
       "...                            ...                  ...                  ...   \n",
       "122630                           0                    0                    2   \n",
       "122631                           0                    0                    1   \n",
       "122632                           0                    0                    2   \n",
       "122633                           0                    0                    2   \n",
       "122634                           0                    7                    2   \n",
       "\n",
       "        Did_Police_Officer_Attend_Scene_of_Accident  \n",
       "0                                                 1  \n",
       "1                                                 1  \n",
       "2                                                 1  \n",
       "3                                                 1  \n",
       "4                                                 1  \n",
       "...                                             ...  \n",
       "122630                                            1  \n",
       "122631                                            1  \n",
       "122632                                            1  \n",
       "122633                                            1  \n",
       "122634                                            2  \n",
       "\n",
       "[122635 rows x 27 columns]"
      ]
     },
     "execution_count": 80,
     "metadata": {},
     "output_type": "execute_result"
    }
   ],
   "source": [
    "#To show only Numbers\n",
    "df.select_dtypes(include=['number'])"
   ]
  },
  {
   "cell_type": "code",
   "execution_count": 81,
   "metadata": {},
   "outputs": [
    {
     "data": {
      "text/html": [
       "<div>\n",
       "<style scoped>\n",
       "    .dataframe tbody tr th:only-of-type {\n",
       "        vertical-align: middle;\n",
       "    }\n",
       "\n",
       "    .dataframe tbody tr th {\n",
       "        vertical-align: top;\n",
       "    }\n",
       "\n",
       "    .dataframe thead th {\n",
       "        text-align: right;\n",
       "    }\n",
       "</style>\n",
       "<table border=\"1\" class=\"dataframe\">\n",
       "  <thead>\n",
       "    <tr style=\"text-align: right;\">\n",
       "      <th></th>\n",
       "      <th>Accident_Index</th>\n",
       "      <th>Date</th>\n",
       "      <th>Time</th>\n",
       "      <th>Local_Authority_(Highway)</th>\n",
       "      <th>LSOA_of_Accident_Location</th>\n",
       "    </tr>\n",
       "  </thead>\n",
       "  <tbody>\n",
       "    <tr>\n",
       "      <th>0</th>\n",
       "      <td>2018010080971</td>\n",
       "      <td>01/01/2018</td>\n",
       "      <td>01:30</td>\n",
       "      <td>E09000007</td>\n",
       "      <td>E01000854</td>\n",
       "    </tr>\n",
       "    <tr>\n",
       "      <th>1</th>\n",
       "      <td>2018010080973</td>\n",
       "      <td>01/01/2018</td>\n",
       "      <td>00:50</td>\n",
       "      <td>E09000025</td>\n",
       "      <td>E01003531</td>\n",
       "    </tr>\n",
       "    <tr>\n",
       "      <th>2</th>\n",
       "      <td>2018010080974</td>\n",
       "      <td>01/01/2018</td>\n",
       "      <td>00:45</td>\n",
       "      <td>E09000019</td>\n",
       "      <td>E01002723</td>\n",
       "    </tr>\n",
       "    <tr>\n",
       "      <th>3</th>\n",
       "      <td>2018010080981</td>\n",
       "      <td>01/01/2018</td>\n",
       "      <td>03:00</td>\n",
       "      <td>E09000025</td>\n",
       "      <td>E01003492</td>\n",
       "    </tr>\n",
       "    <tr>\n",
       "      <th>4</th>\n",
       "      <td>2018010080982</td>\n",
       "      <td>01/01/2018</td>\n",
       "      <td>02:20</td>\n",
       "      <td>E09000011</td>\n",
       "      <td>E01001682</td>\n",
       "    </tr>\n",
       "    <tr>\n",
       "      <th>...</th>\n",
       "      <td>...</td>\n",
       "      <td>...</td>\n",
       "      <td>...</td>\n",
       "      <td>...</td>\n",
       "      <td>...</td>\n",
       "    </tr>\n",
       "    <tr>\n",
       "      <th>122630</th>\n",
       "      <td>2018984115718</td>\n",
       "      <td>23/12/2018</td>\n",
       "      <td>13:45</td>\n",
       "      <td>S12000006</td>\n",
       "      <td>NaN</td>\n",
       "    </tr>\n",
       "    <tr>\n",
       "      <th>122631</th>\n",
       "      <td>2018984115918</td>\n",
       "      <td>24/12/2018</td>\n",
       "      <td>10:45</td>\n",
       "      <td>S12000006</td>\n",
       "      <td>NaN</td>\n",
       "    </tr>\n",
       "    <tr>\n",
       "      <th>122632</th>\n",
       "      <td>2018984116018</td>\n",
       "      <td>20/12/2018</td>\n",
       "      <td>18:00</td>\n",
       "      <td>S12000006</td>\n",
       "      <td>NaN</td>\n",
       "    </tr>\n",
       "    <tr>\n",
       "      <th>122633</th>\n",
       "      <td>2018984116318</td>\n",
       "      <td>24/12/2018</td>\n",
       "      <td>11:50</td>\n",
       "      <td>S12000006</td>\n",
       "      <td>NaN</td>\n",
       "    </tr>\n",
       "    <tr>\n",
       "      <th>122634</th>\n",
       "      <td>2018984116418</td>\n",
       "      <td>31/12/2018</td>\n",
       "      <td>07:10</td>\n",
       "      <td>S12000006</td>\n",
       "      <td>NaN</td>\n",
       "    </tr>\n",
       "  </tbody>\n",
       "</table>\n",
       "<p>122635 rows × 5 columns</p>\n",
       "</div>"
      ],
      "text/plain": [
       "       Accident_Index        Date   Time Local_Authority_(Highway)  \\\n",
       "0       2018010080971  01/01/2018  01:30                 E09000007   \n",
       "1       2018010080973  01/01/2018  00:50                 E09000025   \n",
       "2       2018010080974  01/01/2018  00:45                 E09000019   \n",
       "3       2018010080981  01/01/2018  03:00                 E09000025   \n",
       "4       2018010080982  01/01/2018  02:20                 E09000011   \n",
       "...               ...         ...    ...                       ...   \n",
       "122630  2018984115718  23/12/2018  13:45                 S12000006   \n",
       "122631  2018984115918  24/12/2018  10:45                 S12000006   \n",
       "122632  2018984116018  20/12/2018  18:00                 S12000006   \n",
       "122633  2018984116318  24/12/2018  11:50                 S12000006   \n",
       "122634  2018984116418  31/12/2018  07:10                 S12000006   \n",
       "\n",
       "       LSOA_of_Accident_Location  \n",
       "0                      E01000854  \n",
       "1                      E01003531  \n",
       "2                      E01002723  \n",
       "3                      E01003492  \n",
       "4                      E01001682  \n",
       "...                          ...  \n",
       "122630                       NaN  \n",
       "122631                       NaN  \n",
       "122632                       NaN  \n",
       "122633                       NaN  \n",
       "122634                       NaN  \n",
       "\n",
       "[122635 rows x 5 columns]"
      ]
     },
     "execution_count": 81,
     "metadata": {},
     "output_type": "execute_result"
    }
   ],
   "source": [
    "#To show only Objects\n",
    "df.select_dtypes(include=['object'])"
   ]
  },
  {
   "cell_type": "code",
   "execution_count": 82,
   "metadata": {},
   "outputs": [
    {
     "data": {
      "text/html": [
       "<div>\n",
       "<style scoped>\n",
       "    .dataframe tbody tr th:only-of-type {\n",
       "        vertical-align: middle;\n",
       "    }\n",
       "\n",
       "    .dataframe tbody tr th {\n",
       "        vertical-align: top;\n",
       "    }\n",
       "\n",
       "    .dataframe thead th {\n",
       "        text-align: right;\n",
       "    }\n",
       "</style>\n",
       "<table border=\"1\" class=\"dataframe\">\n",
       "  <thead>\n",
       "    <tr style=\"text-align: right;\">\n",
       "      <th></th>\n",
       "      <th>Police_Force</th>\n",
       "      <th>Accident_Severity</th>\n",
       "      <th>Number_of_Vehicles</th>\n",
       "      <th>Number_of_Casualties</th>\n",
       "      <th>Day_of_Week</th>\n",
       "      <th>Local_Authority_(District)</th>\n",
       "      <th>1st_Road_Class</th>\n",
       "      <th>1st_Road_Number</th>\n",
       "      <th>Road_Type</th>\n",
       "      <th>Speed_limit</th>\n",
       "      <th>...</th>\n",
       "      <th>2nd_Road_Number</th>\n",
       "      <th>Pedestrian_Crossing-Human_Control</th>\n",
       "      <th>Pedestrian_Crossing-Physical_Facilities</th>\n",
       "      <th>Light_Conditions</th>\n",
       "      <th>Weather_Conditions</th>\n",
       "      <th>Road_Surface_Conditions</th>\n",
       "      <th>Special_Conditions_at_Site</th>\n",
       "      <th>Carriageway_Hazards</th>\n",
       "      <th>Urban_or_Rural_Area</th>\n",
       "      <th>Did_Police_Officer_Attend_Scene_of_Accident</th>\n",
       "    </tr>\n",
       "  </thead>\n",
       "  <tbody>\n",
       "    <tr>\n",
       "      <th>0</th>\n",
       "      <td>1</td>\n",
       "      <td>3</td>\n",
       "      <td>2</td>\n",
       "      <td>2</td>\n",
       "      <td>2</td>\n",
       "      <td>2</td>\n",
       "      <td>3</td>\n",
       "      <td>501</td>\n",
       "      <td>3</td>\n",
       "      <td>30</td>\n",
       "      <td>...</td>\n",
       "      <td>0</td>\n",
       "      <td>0</td>\n",
       "      <td>0</td>\n",
       "      <td>4</td>\n",
       "      <td>1</td>\n",
       "      <td>1</td>\n",
       "      <td>0</td>\n",
       "      <td>0</td>\n",
       "      <td>1</td>\n",
       "      <td>1</td>\n",
       "    </tr>\n",
       "    <tr>\n",
       "      <th>1</th>\n",
       "      <td>1</td>\n",
       "      <td>3</td>\n",
       "      <td>1</td>\n",
       "      <td>1</td>\n",
       "      <td>2</td>\n",
       "      <td>17</td>\n",
       "      <td>4</td>\n",
       "      <td>165</td>\n",
       "      <td>6</td>\n",
       "      <td>30</td>\n",
       "      <td>...</td>\n",
       "      <td>0</td>\n",
       "      <td>0</td>\n",
       "      <td>0</td>\n",
       "      <td>4</td>\n",
       "      <td>1</td>\n",
       "      <td>1</td>\n",
       "      <td>0</td>\n",
       "      <td>0</td>\n",
       "      <td>1</td>\n",
       "      <td>1</td>\n",
       "    </tr>\n",
       "    <tr>\n",
       "      <th>2</th>\n",
       "      <td>1</td>\n",
       "      <td>3</td>\n",
       "      <td>2</td>\n",
       "      <td>1</td>\n",
       "      <td>2</td>\n",
       "      <td>3</td>\n",
       "      <td>3</td>\n",
       "      <td>1</td>\n",
       "      <td>6</td>\n",
       "      <td>20</td>\n",
       "      <td>...</td>\n",
       "      <td>0</td>\n",
       "      <td>0</td>\n",
       "      <td>5</td>\n",
       "      <td>4</td>\n",
       "      <td>1</td>\n",
       "      <td>1</td>\n",
       "      <td>0</td>\n",
       "      <td>0</td>\n",
       "      <td>1</td>\n",
       "      <td>1</td>\n",
       "    </tr>\n",
       "    <tr>\n",
       "      <th>3</th>\n",
       "      <td>1</td>\n",
       "      <td>2</td>\n",
       "      <td>2</td>\n",
       "      <td>1</td>\n",
       "      <td>2</td>\n",
       "      <td>17</td>\n",
       "      <td>4</td>\n",
       "      <td>167</td>\n",
       "      <td>3</td>\n",
       "      <td>30</td>\n",
       "      <td>...</td>\n",
       "      <td>124</td>\n",
       "      <td>0</td>\n",
       "      <td>5</td>\n",
       "      <td>4</td>\n",
       "      <td>2</td>\n",
       "      <td>2</td>\n",
       "      <td>0</td>\n",
       "      <td>0</td>\n",
       "      <td>1</td>\n",
       "      <td>1</td>\n",
       "    </tr>\n",
       "    <tr>\n",
       "      <th>4</th>\n",
       "      <td>1</td>\n",
       "      <td>2</td>\n",
       "      <td>2</td>\n",
       "      <td>2</td>\n",
       "      <td>2</td>\n",
       "      <td>6</td>\n",
       "      <td>3</td>\n",
       "      <td>207</td>\n",
       "      <td>6</td>\n",
       "      <td>30</td>\n",
       "      <td>...</td>\n",
       "      <td>0</td>\n",
       "      <td>0</td>\n",
       "      <td>0</td>\n",
       "      <td>4</td>\n",
       "      <td>1</td>\n",
       "      <td>2</td>\n",
       "      <td>0</td>\n",
       "      <td>0</td>\n",
       "      <td>1</td>\n",
       "      <td>1</td>\n",
       "    </tr>\n",
       "    <tr>\n",
       "      <th>...</th>\n",
       "      <td>...</td>\n",
       "      <td>...</td>\n",
       "      <td>...</td>\n",
       "      <td>...</td>\n",
       "      <td>...</td>\n",
       "      <td>...</td>\n",
       "      <td>...</td>\n",
       "      <td>...</td>\n",
       "      <td>...</td>\n",
       "      <td>...</td>\n",
       "      <td>...</td>\n",
       "      <td>...</td>\n",
       "      <td>...</td>\n",
       "      <td>...</td>\n",
       "      <td>...</td>\n",
       "      <td>...</td>\n",
       "      <td>...</td>\n",
       "      <td>...</td>\n",
       "      <td>...</td>\n",
       "      <td>...</td>\n",
       "      <td>...</td>\n",
       "    </tr>\n",
       "    <tr>\n",
       "      <th>122630</th>\n",
       "      <td>98</td>\n",
       "      <td>3</td>\n",
       "      <td>2</td>\n",
       "      <td>1</td>\n",
       "      <td>1</td>\n",
       "      <td>917</td>\n",
       "      <td>3</td>\n",
       "      <td>701</td>\n",
       "      <td>6</td>\n",
       "      <td>60</td>\n",
       "      <td>...</td>\n",
       "      <td>0</td>\n",
       "      <td>0</td>\n",
       "      <td>0</td>\n",
       "      <td>1</td>\n",
       "      <td>1</td>\n",
       "      <td>2</td>\n",
       "      <td>0</td>\n",
       "      <td>0</td>\n",
       "      <td>2</td>\n",
       "      <td>1</td>\n",
       "    </tr>\n",
       "    <tr>\n",
       "      <th>122631</th>\n",
       "      <td>98</td>\n",
       "      <td>3</td>\n",
       "      <td>2</td>\n",
       "      <td>1</td>\n",
       "      <td>2</td>\n",
       "      <td>917</td>\n",
       "      <td>2</td>\n",
       "      <td>74</td>\n",
       "      <td>3</td>\n",
       "      <td>70</td>\n",
       "      <td>...</td>\n",
       "      <td>0</td>\n",
       "      <td>0</td>\n",
       "      <td>0</td>\n",
       "      <td>1</td>\n",
       "      <td>1</td>\n",
       "      <td>1</td>\n",
       "      <td>0</td>\n",
       "      <td>0</td>\n",
       "      <td>1</td>\n",
       "      <td>1</td>\n",
       "    </tr>\n",
       "    <tr>\n",
       "      <th>122632</th>\n",
       "      <td>98</td>\n",
       "      <td>3</td>\n",
       "      <td>3</td>\n",
       "      <td>1</td>\n",
       "      <td>5</td>\n",
       "      <td>917</td>\n",
       "      <td>4</td>\n",
       "      <td>7076</td>\n",
       "      <td>6</td>\n",
       "      <td>30</td>\n",
       "      <td>...</td>\n",
       "      <td>0</td>\n",
       "      <td>0</td>\n",
       "      <td>0</td>\n",
       "      <td>4</td>\n",
       "      <td>1</td>\n",
       "      <td>2</td>\n",
       "      <td>0</td>\n",
       "      <td>0</td>\n",
       "      <td>2</td>\n",
       "      <td>1</td>\n",
       "    </tr>\n",
       "    <tr>\n",
       "      <th>122633</th>\n",
       "      <td>98</td>\n",
       "      <td>2</td>\n",
       "      <td>1</td>\n",
       "      <td>1</td>\n",
       "      <td>2</td>\n",
       "      <td>917</td>\n",
       "      <td>5</td>\n",
       "      <td>50</td>\n",
       "      <td>6</td>\n",
       "      <td>60</td>\n",
       "      <td>...</td>\n",
       "      <td>552</td>\n",
       "      <td>0</td>\n",
       "      <td>0</td>\n",
       "      <td>1</td>\n",
       "      <td>1</td>\n",
       "      <td>4</td>\n",
       "      <td>0</td>\n",
       "      <td>0</td>\n",
       "      <td>2</td>\n",
       "      <td>1</td>\n",
       "    </tr>\n",
       "    <tr>\n",
       "      <th>122634</th>\n",
       "      <td>98</td>\n",
       "      <td>3</td>\n",
       "      <td>1</td>\n",
       "      <td>1</td>\n",
       "      <td>2</td>\n",
       "      <td>917</td>\n",
       "      <td>4</td>\n",
       "      <td>7020</td>\n",
       "      <td>6</td>\n",
       "      <td>60</td>\n",
       "      <td>...</td>\n",
       "      <td>0</td>\n",
       "      <td>0</td>\n",
       "      <td>0</td>\n",
       "      <td>6</td>\n",
       "      <td>1</td>\n",
       "      <td>1</td>\n",
       "      <td>0</td>\n",
       "      <td>7</td>\n",
       "      <td>2</td>\n",
       "      <td>2</td>\n",
       "    </tr>\n",
       "  </tbody>\n",
       "</table>\n",
       "<p>122635 rows × 23 columns</p>\n",
       "</div>"
      ],
      "text/plain": [
       "        Police_Force  Accident_Severity  Number_of_Vehicles  \\\n",
       "0                  1                  3                   2   \n",
       "1                  1                  3                   1   \n",
       "2                  1                  3                   2   \n",
       "3                  1                  2                   2   \n",
       "4                  1                  2                   2   \n",
       "...              ...                ...                 ...   \n",
       "122630            98                  3                   2   \n",
       "122631            98                  3                   2   \n",
       "122632            98                  3                   3   \n",
       "122633            98                  2                   1   \n",
       "122634            98                  3                   1   \n",
       "\n",
       "        Number_of_Casualties  Day_of_Week  Local_Authority_(District)  \\\n",
       "0                          2            2                           2   \n",
       "1                          1            2                          17   \n",
       "2                          1            2                           3   \n",
       "3                          1            2                          17   \n",
       "4                          2            2                           6   \n",
       "...                      ...          ...                         ...   \n",
       "122630                     1            1                         917   \n",
       "122631                     1            2                         917   \n",
       "122632                     1            5                         917   \n",
       "122633                     1            2                         917   \n",
       "122634                     1            2                         917   \n",
       "\n",
       "        1st_Road_Class  1st_Road_Number  Road_Type  Speed_limit  ...  \\\n",
       "0                    3              501          3           30  ...   \n",
       "1                    4              165          6           30  ...   \n",
       "2                    3                1          6           20  ...   \n",
       "3                    4              167          3           30  ...   \n",
       "4                    3              207          6           30  ...   \n",
       "...                ...              ...        ...          ...  ...   \n",
       "122630               3              701          6           60  ...   \n",
       "122631               2               74          3           70  ...   \n",
       "122632               4             7076          6           30  ...   \n",
       "122633               5               50          6           60  ...   \n",
       "122634               4             7020          6           60  ...   \n",
       "\n",
       "        2nd_Road_Number  Pedestrian_Crossing-Human_Control  \\\n",
       "0                     0                                  0   \n",
       "1                     0                                  0   \n",
       "2                     0                                  0   \n",
       "3                   124                                  0   \n",
       "4                     0                                  0   \n",
       "...                 ...                                ...   \n",
       "122630                0                                  0   \n",
       "122631                0                                  0   \n",
       "122632                0                                  0   \n",
       "122633              552                                  0   \n",
       "122634                0                                  0   \n",
       "\n",
       "        Pedestrian_Crossing-Physical_Facilities  Light_Conditions  \\\n",
       "0                                             0                 4   \n",
       "1                                             0                 4   \n",
       "2                                             5                 4   \n",
       "3                                             5                 4   \n",
       "4                                             0                 4   \n",
       "...                                         ...               ...   \n",
       "122630                                        0                 1   \n",
       "122631                                        0                 1   \n",
       "122632                                        0                 4   \n",
       "122633                                        0                 1   \n",
       "122634                                        0                 6   \n",
       "\n",
       "        Weather_Conditions  Road_Surface_Conditions  \\\n",
       "0                        1                        1   \n",
       "1                        1                        1   \n",
       "2                        1                        1   \n",
       "3                        2                        2   \n",
       "4                        1                        2   \n",
       "...                    ...                      ...   \n",
       "122630                   1                        2   \n",
       "122631                   1                        1   \n",
       "122632                   1                        2   \n",
       "122633                   1                        4   \n",
       "122634                   1                        1   \n",
       "\n",
       "        Special_Conditions_at_Site  Carriageway_Hazards  Urban_or_Rural_Area  \\\n",
       "0                                0                    0                    1   \n",
       "1                                0                    0                    1   \n",
       "2                                0                    0                    1   \n",
       "3                                0                    0                    1   \n",
       "4                                0                    0                    1   \n",
       "...                            ...                  ...                  ...   \n",
       "122630                           0                    0                    2   \n",
       "122631                           0                    0                    1   \n",
       "122632                           0                    0                    2   \n",
       "122633                           0                    0                    2   \n",
       "122634                           0                    7                    2   \n",
       "\n",
       "        Did_Police_Officer_Attend_Scene_of_Accident  \n",
       "0                                                 1  \n",
       "1                                                 1  \n",
       "2                                                 1  \n",
       "3                                                 1  \n",
       "4                                                 1  \n",
       "...                                             ...  \n",
       "122630                                            1  \n",
       "122631                                            1  \n",
       "122632                                            1  \n",
       "122633                                            1  \n",
       "122634                                            2  \n",
       "\n",
       "[122635 rows x 23 columns]"
      ]
     },
     "execution_count": 82,
     "metadata": {},
     "output_type": "execute_result"
    }
   ],
   "source": [
    "#To show only integers\n",
    "df.select_dtypes(include=['int'])"
   ]
  },
  {
   "cell_type": "code",
   "execution_count": 83,
   "metadata": {},
   "outputs": [
    {
     "data": {
      "text/html": [
       "<div>\n",
       "<style scoped>\n",
       "    .dataframe tbody tr th:only-of-type {\n",
       "        vertical-align: middle;\n",
       "    }\n",
       "\n",
       "    .dataframe tbody tr th {\n",
       "        vertical-align: top;\n",
       "    }\n",
       "\n",
       "    .dataframe thead th {\n",
       "        text-align: right;\n",
       "    }\n",
       "</style>\n",
       "<table border=\"1\" class=\"dataframe\">\n",
       "  <thead>\n",
       "    <tr style=\"text-align: right;\">\n",
       "      <th></th>\n",
       "    </tr>\n",
       "  </thead>\n",
       "  <tbody>\n",
       "    <tr>\n",
       "      <th>0</th>\n",
       "    </tr>\n",
       "    <tr>\n",
       "      <th>1</th>\n",
       "    </tr>\n",
       "    <tr>\n",
       "      <th>2</th>\n",
       "    </tr>\n",
       "    <tr>\n",
       "      <th>3</th>\n",
       "    </tr>\n",
       "    <tr>\n",
       "      <th>4</th>\n",
       "    </tr>\n",
       "    <tr>\n",
       "      <th>...</th>\n",
       "    </tr>\n",
       "    <tr>\n",
       "      <th>122630</th>\n",
       "    </tr>\n",
       "    <tr>\n",
       "      <th>122631</th>\n",
       "    </tr>\n",
       "    <tr>\n",
       "      <th>122632</th>\n",
       "    </tr>\n",
       "    <tr>\n",
       "      <th>122633</th>\n",
       "    </tr>\n",
       "    <tr>\n",
       "      <th>122634</th>\n",
       "    </tr>\n",
       "  </tbody>\n",
       "</table>\n",
       "<p>122635 rows × 0 columns</p>\n",
       "</div>"
      ],
      "text/plain": [
       "Empty DataFrame\n",
       "Columns: []\n",
       "Index: [0, 1, 2, 3, 4, 5, 6, 7, 8, 9, 10, 11, 12, 13, 14, 15, 16, 17, 18, 19, 20, 21, 22, 23, 24, 25, 26, 27, 28, 29, 30, 31, 32, 33, 34, 35, 36, 37, 38, 39, 40, 41, 42, 43, 44, 45, 46, 47, 48, 49, 50, 51, 52, 53, 54, 55, 56, 57, 58, 59, 60, 61, 62, 63, 64, 65, 66, 67, 68, 69, 70, 71, 72, 73, 74, 75, 76, 77, 78, 79, 80, 81, 82, 83, 84, 85, 86, 87, 88, 89, 90, 91, 92, 93, 94, 95, 96, 97, 98, 99, ...]\n",
       "\n",
       "[122635 rows x 0 columns]"
      ]
     },
     "execution_count": 83,
     "metadata": {},
     "output_type": "execute_result"
    }
   ],
   "source": [
    "#To show only booleans\n",
    "df.select_dtypes(include=['boolean'])"
   ]
  },
  {
   "cell_type": "code",
   "execution_count": 84,
   "metadata": {},
   "outputs": [
    {
     "data": {
      "text/html": [
       "<div>\n",
       "<style scoped>\n",
       "    .dataframe tbody tr th:only-of-type {\n",
       "        vertical-align: middle;\n",
       "    }\n",
       "\n",
       "    .dataframe tbody tr th {\n",
       "        vertical-align: top;\n",
       "    }\n",
       "\n",
       "    .dataframe thead th {\n",
       "        text-align: right;\n",
       "    }\n",
       "</style>\n",
       "<table border=\"1\" class=\"dataframe\">\n",
       "  <thead>\n",
       "    <tr style=\"text-align: right;\">\n",
       "      <th></th>\n",
       "      <th>Location_Easting_OSGR</th>\n",
       "      <th>Location_Northing_OSGR</th>\n",
       "      <th>Longitude</th>\n",
       "      <th>Latitude</th>\n",
       "    </tr>\n",
       "  </thead>\n",
       "  <tbody>\n",
       "    <tr>\n",
       "      <th>0</th>\n",
       "      <td>529150.0</td>\n",
       "      <td>182270.0</td>\n",
       "      <td>-0.139737</td>\n",
       "      <td>51.524587</td>\n",
       "    </tr>\n",
       "    <tr>\n",
       "      <th>1</th>\n",
       "      <td>542020.0</td>\n",
       "      <td>184290.0</td>\n",
       "      <td>0.046471</td>\n",
       "      <td>51.539651</td>\n",
       "    </tr>\n",
       "    <tr>\n",
       "      <th>2</th>\n",
       "      <td>531720.0</td>\n",
       "      <td>182910.0</td>\n",
       "      <td>-0.102474</td>\n",
       "      <td>51.529746</td>\n",
       "    </tr>\n",
       "    <tr>\n",
       "      <th>3</th>\n",
       "      <td>541450.0</td>\n",
       "      <td>183220.0</td>\n",
       "      <td>0.037828</td>\n",
       "      <td>51.530179</td>\n",
       "    </tr>\n",
       "    <tr>\n",
       "      <th>4</th>\n",
       "      <td>543580.0</td>\n",
       "      <td>176500.0</td>\n",
       "      <td>0.065781</td>\n",
       "      <td>51.469258</td>\n",
       "    </tr>\n",
       "    <tr>\n",
       "      <th>...</th>\n",
       "      <td>...</td>\n",
       "      <td>...</td>\n",
       "      <td>...</td>\n",
       "      <td>...</td>\n",
       "    </tr>\n",
       "    <tr>\n",
       "      <th>122630</th>\n",
       "      <td>307124.0</td>\n",
       "      <td>594145.0</td>\n",
       "      <td>-3.461918</td>\n",
       "      <td>55.232746</td>\n",
       "    </tr>\n",
       "    <tr>\n",
       "      <th>122631</th>\n",
       "      <td>313325.0</td>\n",
       "      <td>581065.0</td>\n",
       "      <td>-3.360440</td>\n",
       "      <td>55.116374</td>\n",
       "    </tr>\n",
       "    <tr>\n",
       "      <th>122632</th>\n",
       "      <td>319337.0</td>\n",
       "      <td>574511.0</td>\n",
       "      <td>-3.264352</td>\n",
       "      <td>55.058510</td>\n",
       "    </tr>\n",
       "    <tr>\n",
       "      <th>122633</th>\n",
       "      <td>318858.0</td>\n",
       "      <td>566932.0</td>\n",
       "      <td>-3.269695</td>\n",
       "      <td>54.990344</td>\n",
       "    </tr>\n",
       "    <tr>\n",
       "      <th>122634</th>\n",
       "      <td>316008.0</td>\n",
       "      <td>568771.0</td>\n",
       "      <td>-3.314764</td>\n",
       "      <td>55.006392</td>\n",
       "    </tr>\n",
       "  </tbody>\n",
       "</table>\n",
       "<p>122635 rows × 4 columns</p>\n",
       "</div>"
      ],
      "text/plain": [
       "        Location_Easting_OSGR  Location_Northing_OSGR  Longitude   Latitude\n",
       "0                    529150.0                182270.0  -0.139737  51.524587\n",
       "1                    542020.0                184290.0   0.046471  51.539651\n",
       "2                    531720.0                182910.0  -0.102474  51.529746\n",
       "3                    541450.0                183220.0   0.037828  51.530179\n",
       "4                    543580.0                176500.0   0.065781  51.469258\n",
       "...                       ...                     ...        ...        ...\n",
       "122630               307124.0                594145.0  -3.461918  55.232746\n",
       "122631               313325.0                581065.0  -3.360440  55.116374\n",
       "122632               319337.0                574511.0  -3.264352  55.058510\n",
       "122633               318858.0                566932.0  -3.269695  54.990344\n",
       "122634               316008.0                568771.0  -3.314764  55.006392\n",
       "\n",
       "[122635 rows x 4 columns]"
      ]
     },
     "execution_count": 84,
     "metadata": {},
     "output_type": "execute_result"
    }
   ],
   "source": [
    "#To show only float64\n",
    "df.select_dtypes(include=['float64'])"
   ]
  },
  {
   "cell_type": "markdown",
   "metadata": {},
   "source": [
    "<h3>3. Get the statistics according to Data Distribution</h3>\n",
    "<h5>A. Get the statistics according to each of the group</h5>"
   ]
  },
  {
   "cell_type": "code",
   "execution_count": 85,
   "metadata": {},
   "outputs": [
    {
     "data": {
      "text/html": [
       "<div>\n",
       "<style scoped>\n",
       "    .dataframe tbody tr th:only-of-type {\n",
       "        vertical-align: middle;\n",
       "    }\n",
       "\n",
       "    .dataframe tbody tr th {\n",
       "        vertical-align: top;\n",
       "    }\n",
       "\n",
       "    .dataframe thead tr th {\n",
       "        text-align: left;\n",
       "    }\n",
       "\n",
       "    .dataframe thead tr:last-of-type th {\n",
       "        text-align: right;\n",
       "    }\n",
       "</style>\n",
       "<table border=\"1\" class=\"dataframe\">\n",
       "  <thead>\n",
       "    <tr>\n",
       "      <th></th>\n",
       "      <th colspan=\"8\" halign=\"left\">Location_Easting_OSGR</th>\n",
       "      <th colspan=\"2\" halign=\"left\">Location_Northing_OSGR</th>\n",
       "      <th>...</th>\n",
       "      <th colspan=\"2\" halign=\"left\">Urban_or_Rural_Area</th>\n",
       "      <th colspan=\"8\" halign=\"left\">Did_Police_Officer_Attend_Scene_of_Accident</th>\n",
       "    </tr>\n",
       "    <tr>\n",
       "      <th></th>\n",
       "      <th>count</th>\n",
       "      <th>mean</th>\n",
       "      <th>std</th>\n",
       "      <th>min</th>\n",
       "      <th>25%</th>\n",
       "      <th>50%</th>\n",
       "      <th>75%</th>\n",
       "      <th>max</th>\n",
       "      <th>count</th>\n",
       "      <th>mean</th>\n",
       "      <th>...</th>\n",
       "      <th>75%</th>\n",
       "      <th>max</th>\n",
       "      <th>count</th>\n",
       "      <th>mean</th>\n",
       "      <th>std</th>\n",
       "      <th>min</th>\n",
       "      <th>25%</th>\n",
       "      <th>50%</th>\n",
       "      <th>75%</th>\n",
       "      <th>max</th>\n",
       "    </tr>\n",
       "    <tr>\n",
       "      <th>Accident_Severity</th>\n",
       "      <th></th>\n",
       "      <th></th>\n",
       "      <th></th>\n",
       "      <th></th>\n",
       "      <th></th>\n",
       "      <th></th>\n",
       "      <th></th>\n",
       "      <th></th>\n",
       "      <th></th>\n",
       "      <th></th>\n",
       "      <th></th>\n",
       "      <th></th>\n",
       "      <th></th>\n",
       "      <th></th>\n",
       "      <th></th>\n",
       "      <th></th>\n",
       "      <th></th>\n",
       "      <th></th>\n",
       "      <th></th>\n",
       "      <th></th>\n",
       "      <th></th>\n",
       "    </tr>\n",
       "  </thead>\n",
       "  <tbody>\n",
       "    <tr>\n",
       "      <th>1</th>\n",
       "      <td>1670.0</td>\n",
       "      <td>424985.656886</td>\n",
       "      <td>96425.514452</td>\n",
       "      <td>146943.0</td>\n",
       "      <td>360237.75</td>\n",
       "      <td>428844.0</td>\n",
       "      <td>500832.5</td>\n",
       "      <td>652392.0</td>\n",
       "      <td>1670.0</td>\n",
       "      <td>320541.679042</td>\n",
       "      <td>...</td>\n",
       "      <td>2.0</td>\n",
       "      <td>3.0</td>\n",
       "      <td>1671.0</td>\n",
       "      <td>1.089168</td>\n",
       "      <td>0.285072</td>\n",
       "      <td>1.0</td>\n",
       "      <td>1.0</td>\n",
       "      <td>1.0</td>\n",
       "      <td>1.0</td>\n",
       "      <td>2.0</td>\n",
       "    </tr>\n",
       "    <tr>\n",
       "      <th>2</th>\n",
       "      <td>23154.0</td>\n",
       "      <td>448305.932884</td>\n",
       "      <td>95999.518171</td>\n",
       "      <td>111851.0</td>\n",
       "      <td>385114.00</td>\n",
       "      <td>453576.0</td>\n",
       "      <td>527420.0</td>\n",
       "      <td>655235.0</td>\n",
       "      <td>23154.0</td>\n",
       "      <td>290500.524747</td>\n",
       "      <td>...</td>\n",
       "      <td>2.0</td>\n",
       "      <td>3.0</td>\n",
       "      <td>23165.0</td>\n",
       "      <td>1.173840</td>\n",
       "      <td>0.385082</td>\n",
       "      <td>-1.0</td>\n",
       "      <td>1.0</td>\n",
       "      <td>1.0</td>\n",
       "      <td>1.0</td>\n",
       "      <td>3.0</td>\n",
       "    </tr>\n",
       "    <tr>\n",
       "      <th>3</th>\n",
       "      <td>97756.0</td>\n",
       "      <td>452567.121271</td>\n",
       "      <td>94857.500729</td>\n",
       "      <td>84654.0</td>\n",
       "      <td>388009.25</td>\n",
       "      <td>459164.5</td>\n",
       "      <td>529430.0</td>\n",
       "      <td>655275.0</td>\n",
       "      <td>97756.0</td>\n",
       "      <td>280309.738635</td>\n",
       "      <td>...</td>\n",
       "      <td>2.0</td>\n",
       "      <td>3.0</td>\n",
       "      <td>97799.0</td>\n",
       "      <td>1.325842</td>\n",
       "      <td>0.487826</td>\n",
       "      <td>-1.0</td>\n",
       "      <td>1.0</td>\n",
       "      <td>1.0</td>\n",
       "      <td>2.0</td>\n",
       "      <td>3.0</td>\n",
       "    </tr>\n",
       "  </tbody>\n",
       "</table>\n",
       "<p>3 rows × 208 columns</p>\n",
       "</div>"
      ],
      "text/plain": [
       "                  Location_Easting_OSGR                               \\\n",
       "                                  count           mean           std   \n",
       "Accident_Severity                                                      \n",
       "1                                1670.0  424985.656886  96425.514452   \n",
       "2                               23154.0  448305.932884  95999.518171   \n",
       "3                               97756.0  452567.121271  94857.500729   \n",
       "\n",
       "                                                                      \\\n",
       "                        min        25%       50%       75%       max   \n",
       "Accident_Severity                                                      \n",
       "1                  146943.0  360237.75  428844.0  500832.5  652392.0   \n",
       "2                  111851.0  385114.00  453576.0  527420.0  655235.0   \n",
       "3                   84654.0  388009.25  459164.5  529430.0  655275.0   \n",
       "\n",
       "                  Location_Northing_OSGR                 ...  \\\n",
       "                                   count           mean  ...   \n",
       "Accident_Severity                                        ...   \n",
       "1                                 1670.0  320541.679042  ...   \n",
       "2                                23154.0  290500.524747  ...   \n",
       "3                                97756.0  280309.738635  ...   \n",
       "\n",
       "                  Urban_or_Rural_Area       \\\n",
       "                                  75%  max   \n",
       "Accident_Severity                            \n",
       "1                                 2.0  3.0   \n",
       "2                                 2.0  3.0   \n",
       "3                                 2.0  3.0   \n",
       "\n",
       "                  Did_Police_Officer_Attend_Scene_of_Accident            \\\n",
       "                                                        count      mean   \n",
       "Accident_Severity                                                         \n",
       "1                                                      1671.0  1.089168   \n",
       "2                                                     23165.0  1.173840   \n",
       "3                                                     97799.0  1.325842   \n",
       "\n",
       "                                                      \n",
       "                        std  min  25%  50%  75%  max  \n",
       "Accident_Severity                                     \n",
       "1                  0.285072  1.0  1.0  1.0  1.0  2.0  \n",
       "2                  0.385082 -1.0  1.0  1.0  1.0  3.0  \n",
       "3                  0.487826 -1.0  1.0  1.0  2.0  3.0  \n",
       "\n",
       "[3 rows x 208 columns]"
      ]
     },
     "execution_count": 85,
     "metadata": {},
     "output_type": "execute_result"
    }
   ],
   "source": [
    "df.groupby('Accident_Severity').describe()"
   ]
  },
  {
   "cell_type": "markdown",
   "metadata": {},
   "source": [
    "<h5>B. You can also examine each group for each of the attributes</h5>"
   ]
  },
  {
   "cell_type": "code",
   "execution_count": 86,
   "metadata": {},
   "outputs": [
    {
     "data": {
      "text/html": [
       "<div>\n",
       "<style scoped>\n",
       "    .dataframe tbody tr th:only-of-type {\n",
       "        vertical-align: middle;\n",
       "    }\n",
       "\n",
       "    .dataframe tbody tr th {\n",
       "        vertical-align: top;\n",
       "    }\n",
       "\n",
       "    .dataframe thead th {\n",
       "        text-align: right;\n",
       "    }\n",
       "</style>\n",
       "<table border=\"1\" class=\"dataframe\">\n",
       "  <thead>\n",
       "    <tr style=\"text-align: right;\">\n",
       "      <th></th>\n",
       "      <th>count</th>\n",
       "      <th>mean</th>\n",
       "      <th>std</th>\n",
       "      <th>min</th>\n",
       "      <th>25%</th>\n",
       "      <th>50%</th>\n",
       "      <th>75%</th>\n",
       "      <th>max</th>\n",
       "    </tr>\n",
       "    <tr>\n",
       "      <th>Accident_Severity</th>\n",
       "      <th></th>\n",
       "      <th></th>\n",
       "      <th></th>\n",
       "      <th></th>\n",
       "      <th></th>\n",
       "      <th></th>\n",
       "      <th></th>\n",
       "      <th></th>\n",
       "    </tr>\n",
       "  </thead>\n",
       "  <tbody>\n",
       "    <tr>\n",
       "      <th>1</th>\n",
       "      <td>1671.0</td>\n",
       "      <td>1.678037</td>\n",
       "      <td>1.301492</td>\n",
       "      <td>1.0</td>\n",
       "      <td>1.0</td>\n",
       "      <td>1.0</td>\n",
       "      <td>2.0</td>\n",
       "      <td>20.0</td>\n",
       "    </tr>\n",
       "    <tr>\n",
       "      <th>2</th>\n",
       "      <td>23165.0</td>\n",
       "      <td>1.387481</td>\n",
       "      <td>0.974152</td>\n",
       "      <td>1.0</td>\n",
       "      <td>1.0</td>\n",
       "      <td>1.0</td>\n",
       "      <td>1.0</td>\n",
       "      <td>59.0</td>\n",
       "    </tr>\n",
       "    <tr>\n",
       "      <th>3</th>\n",
       "      <td>97799.0</td>\n",
       "      <td>1.284798</td>\n",
       "      <td>0.687646</td>\n",
       "      <td>1.0</td>\n",
       "      <td>1.0</td>\n",
       "      <td>1.0</td>\n",
       "      <td>1.0</td>\n",
       "      <td>23.0</td>\n",
       "    </tr>\n",
       "  </tbody>\n",
       "</table>\n",
       "</div>"
      ],
      "text/plain": [
       "                     count      mean       std  min  25%  50%  75%   max\n",
       "Accident_Severity                                                       \n",
       "1                   1671.0  1.678037  1.301492  1.0  1.0  1.0  2.0  20.0\n",
       "2                  23165.0  1.387481  0.974152  1.0  1.0  1.0  1.0  59.0\n",
       "3                  97799.0  1.284798  0.687646  1.0  1.0  1.0  1.0  23.0"
      ]
     },
     "execution_count": 86,
     "metadata": {},
     "output_type": "execute_result"
    }
   ],
   "source": [
    "df.groupby('Accident_Severity').Number_of_Casualties.describe()"
   ]
  },
  {
   "cell_type": "code",
   "execution_count": 87,
   "metadata": {},
   "outputs": [
    {
     "data": {
      "text/html": [
       "<div>\n",
       "<style scoped>\n",
       "    .dataframe tbody tr th:only-of-type {\n",
       "        vertical-align: middle;\n",
       "    }\n",
       "\n",
       "    .dataframe tbody tr th {\n",
       "        vertical-align: top;\n",
       "    }\n",
       "\n",
       "    .dataframe thead th {\n",
       "        text-align: right;\n",
       "    }\n",
       "</style>\n",
       "<table border=\"1\" class=\"dataframe\">\n",
       "  <thead>\n",
       "    <tr style=\"text-align: right;\">\n",
       "      <th></th>\n",
       "      <th>count</th>\n",
       "      <th>mean</th>\n",
       "      <th>std</th>\n",
       "      <th>min</th>\n",
       "      <th>25%</th>\n",
       "      <th>50%</th>\n",
       "      <th>75%</th>\n",
       "      <th>max</th>\n",
       "    </tr>\n",
       "    <tr>\n",
       "      <th>Accident_Severity</th>\n",
       "      <th></th>\n",
       "      <th></th>\n",
       "      <th></th>\n",
       "      <th></th>\n",
       "      <th></th>\n",
       "      <th></th>\n",
       "      <th></th>\n",
       "      <th></th>\n",
       "    </tr>\n",
       "  </thead>\n",
       "  <tbody>\n",
       "    <tr>\n",
       "      <th>1</th>\n",
       "      <td>1671.0</td>\n",
       "      <td>5.263914</td>\n",
       "      <td>1.413497</td>\n",
       "      <td>1.0</td>\n",
       "      <td>6.0</td>\n",
       "      <td>6.0</td>\n",
       "      <td>6.0</td>\n",
       "      <td>9.0</td>\n",
       "    </tr>\n",
       "    <tr>\n",
       "      <th>2</th>\n",
       "      <td>23165.0</td>\n",
       "      <td>5.298338</td>\n",
       "      <td>1.539403</td>\n",
       "      <td>1.0</td>\n",
       "      <td>6.0</td>\n",
       "      <td>6.0</td>\n",
       "      <td>6.0</td>\n",
       "      <td>9.0</td>\n",
       "    </tr>\n",
       "    <tr>\n",
       "      <th>3</th>\n",
       "      <td>97799.0</td>\n",
       "      <td>5.145390</td>\n",
       "      <td>1.749998</td>\n",
       "      <td>1.0</td>\n",
       "      <td>3.0</td>\n",
       "      <td>6.0</td>\n",
       "      <td>6.0</td>\n",
       "      <td>9.0</td>\n",
       "    </tr>\n",
       "  </tbody>\n",
       "</table>\n",
       "</div>"
      ],
      "text/plain": [
       "                     count      mean       std  min  25%  50%  75%  max\n",
       "Accident_Severity                                                      \n",
       "1                   1671.0  5.263914  1.413497  1.0  6.0  6.0  6.0  9.0\n",
       "2                  23165.0  5.298338  1.539403  1.0  6.0  6.0  6.0  9.0\n",
       "3                  97799.0  5.145390  1.749998  1.0  3.0  6.0  6.0  9.0"
      ]
     },
     "execution_count": 87,
     "metadata": {},
     "output_type": "execute_result"
    }
   ],
   "source": [
    "df.groupby('Accident_Severity').Road_Type.describe()"
   ]
  },
  {
   "cell_type": "code",
   "execution_count": 88,
   "metadata": {},
   "outputs": [
    {
     "data": {
      "text/html": [
       "<div>\n",
       "<style scoped>\n",
       "    .dataframe tbody tr th:only-of-type {\n",
       "        vertical-align: middle;\n",
       "    }\n",
       "\n",
       "    .dataframe tbody tr th {\n",
       "        vertical-align: top;\n",
       "    }\n",
       "\n",
       "    .dataframe thead th {\n",
       "        text-align: right;\n",
       "    }\n",
       "</style>\n",
       "<table border=\"1\" class=\"dataframe\">\n",
       "  <thead>\n",
       "    <tr style=\"text-align: right;\">\n",
       "      <th></th>\n",
       "      <th>count</th>\n",
       "      <th>mean</th>\n",
       "      <th>std</th>\n",
       "      <th>min</th>\n",
       "      <th>25%</th>\n",
       "      <th>50%</th>\n",
       "      <th>75%</th>\n",
       "      <th>max</th>\n",
       "    </tr>\n",
       "    <tr>\n",
       "      <th>Accident_Severity</th>\n",
       "      <th></th>\n",
       "      <th></th>\n",
       "      <th></th>\n",
       "      <th></th>\n",
       "      <th></th>\n",
       "      <th></th>\n",
       "      <th></th>\n",
       "      <th></th>\n",
       "    </tr>\n",
       "  </thead>\n",
       "  <tbody>\n",
       "    <tr>\n",
       "      <th>1</th>\n",
       "      <td>1671.0</td>\n",
       "      <td>1.529623</td>\n",
       "      <td>1.552723</td>\n",
       "      <td>1.0</td>\n",
       "      <td>1.0</td>\n",
       "      <td>1.0</td>\n",
       "      <td>1.0</td>\n",
       "      <td>9.0</td>\n",
       "    </tr>\n",
       "    <tr>\n",
       "      <th>2</th>\n",
       "      <td>23165.0</td>\n",
       "      <td>1.499331</td>\n",
       "      <td>1.560295</td>\n",
       "      <td>-1.0</td>\n",
       "      <td>1.0</td>\n",
       "      <td>1.0</td>\n",
       "      <td>1.0</td>\n",
       "      <td>9.0</td>\n",
       "    </tr>\n",
       "    <tr>\n",
       "      <th>3</th>\n",
       "      <td>97799.0</td>\n",
       "      <td>1.646346</td>\n",
       "      <td>1.833214</td>\n",
       "      <td>-1.0</td>\n",
       "      <td>1.0</td>\n",
       "      <td>1.0</td>\n",
       "      <td>1.0</td>\n",
       "      <td>9.0</td>\n",
       "    </tr>\n",
       "  </tbody>\n",
       "</table>\n",
       "</div>"
      ],
      "text/plain": [
       "                     count      mean       std  min  25%  50%  75%  max\n",
       "Accident_Severity                                                      \n",
       "1                   1671.0  1.529623  1.552723  1.0  1.0  1.0  1.0  9.0\n",
       "2                  23165.0  1.499331  1.560295 -1.0  1.0  1.0  1.0  9.0\n",
       "3                  97799.0  1.646346  1.833214 -1.0  1.0  1.0  1.0  9.0"
      ]
     },
     "execution_count": 88,
     "metadata": {},
     "output_type": "execute_result"
    }
   ],
   "source": [
    "df.groupby('Accident_Severity').Weather_Conditions.describe()"
   ]
  },
  {
   "cell_type": "code",
   "execution_count": 89,
   "metadata": {},
   "outputs": [
    {
     "data": {
      "text/html": [
       "<div>\n",
       "<style scoped>\n",
       "    .dataframe tbody tr th:only-of-type {\n",
       "        vertical-align: middle;\n",
       "    }\n",
       "\n",
       "    .dataframe tbody tr th {\n",
       "        vertical-align: top;\n",
       "    }\n",
       "\n",
       "    .dataframe thead th {\n",
       "        text-align: right;\n",
       "    }\n",
       "</style>\n",
       "<table border=\"1\" class=\"dataframe\">\n",
       "  <thead>\n",
       "    <tr style=\"text-align: right;\">\n",
       "      <th></th>\n",
       "      <th>count</th>\n",
       "      <th>mean</th>\n",
       "      <th>std</th>\n",
       "      <th>min</th>\n",
       "      <th>25%</th>\n",
       "      <th>50%</th>\n",
       "      <th>75%</th>\n",
       "      <th>max</th>\n",
       "    </tr>\n",
       "    <tr>\n",
       "      <th>Accident_Severity</th>\n",
       "      <th></th>\n",
       "      <th></th>\n",
       "      <th></th>\n",
       "      <th></th>\n",
       "      <th></th>\n",
       "      <th></th>\n",
       "      <th></th>\n",
       "      <th></th>\n",
       "    </tr>\n",
       "  </thead>\n",
       "  <tbody>\n",
       "    <tr>\n",
       "      <th>1</th>\n",
       "      <td>1671.0</td>\n",
       "      <td>2.669060</td>\n",
       "      <td>2.083581</td>\n",
       "      <td>1.0</td>\n",
       "      <td>1.0</td>\n",
       "      <td>1.0</td>\n",
       "      <td>4.0</td>\n",
       "      <td>7.0</td>\n",
       "    </tr>\n",
       "    <tr>\n",
       "      <th>2</th>\n",
       "      <td>23165.0</td>\n",
       "      <td>2.111375</td>\n",
       "      <td>1.765631</td>\n",
       "      <td>1.0</td>\n",
       "      <td>1.0</td>\n",
       "      <td>1.0</td>\n",
       "      <td>4.0</td>\n",
       "      <td>7.0</td>\n",
       "    </tr>\n",
       "    <tr>\n",
       "      <th>3</th>\n",
       "      <td>97799.0</td>\n",
       "      <td>1.967229</td>\n",
       "      <td>1.674968</td>\n",
       "      <td>1.0</td>\n",
       "      <td>1.0</td>\n",
       "      <td>1.0</td>\n",
       "      <td>4.0</td>\n",
       "      <td>7.0</td>\n",
       "    </tr>\n",
       "  </tbody>\n",
       "</table>\n",
       "</div>"
      ],
      "text/plain": [
       "                     count      mean       std  min  25%  50%  75%  max\n",
       "Accident_Severity                                                      \n",
       "1                   1671.0  2.669060  2.083581  1.0  1.0  1.0  4.0  7.0\n",
       "2                  23165.0  2.111375  1.765631  1.0  1.0  1.0  4.0  7.0\n",
       "3                  97799.0  1.967229  1.674968  1.0  1.0  1.0  4.0  7.0"
      ]
     },
     "execution_count": 89,
     "metadata": {},
     "output_type": "execute_result"
    }
   ],
   "source": [
    "df.groupby('Accident_Severity').Light_Conditions.describe()"
   ]
  },
  {
   "cell_type": "markdown",
   "metadata": {},
   "source": [
    "<h1> Data Cleaning </h1>\n",
    "<h3>1. Removing the redundant variables</h3>"
   ]
  },
  {
   "cell_type": "code",
   "execution_count": 114,
   "metadata": {},
   "outputs": [],
   "source": [
    "df_cleaned=df.copy().drop(['Location_Easting_OSGR','Location_Northing_OSGR','Local_Authority_(District)'],axis=1)\n"
   ]
  },
  {
   "cell_type": "markdown",
   "metadata": {},
   "source": [
    "<h3>2. Attribute Selection</h3>"
   ]
  },
  {
   "cell_type": "markdown",
   "metadata": {},
   "source": [
    "<h3>3. Removing Outliers</h3>"
   ]
  },
  {
   "cell_type": "markdown",
   "metadata": {},
   "source": [
    "<h3>4. Removing Rows with Null Values</h3>"
   ]
  },
  {
   "cell_type": "code",
   "execution_count": null,
   "metadata": {},
   "outputs": [],
   "source": [
    "df[df.Longitude.isnull()]"
   ]
  },
  {
   "cell_type": "code",
   "execution_count": null,
   "metadata": {
    "scrolled": false
   },
   "outputs": [],
   "source": [
    "df[df.isnull().any(axis=1)]"
   ]
  },
  {
   "cell_type": "code",
   "execution_count": null,
   "metadata": {
    "scrolled": false
   },
   "outputs": [],
   "source": [
    "mask= False\n",
    "for col in df_cleaned.copy().drop(['Date'],axis=1).columns:\n",
    "        mask = mask | df[col].isnull()\n",
    "df_nulls = df[mask]\n",
    "df_nulls"
   ]
  },
  {
   "cell_type": "code",
   "execution_count": 134,
   "metadata": {},
   "outputs": [
    {
     "data": {
      "text/plain": [
       "(116181, 29)"
      ]
     },
     "execution_count": 134,
     "metadata": {},
     "output_type": "execute_result"
    }
   ],
   "source": [
    "df_cleaned=df_cleaned.dropna(subset=['Accident_Index', 'Longitude', 'Latitude', 'Police_Force', 'Accident_Severity',\n",
    "       'Number_of_Vehicles', 'Number_of_Casualties', 'Day_of_Week',\n",
    "       'Time', 'Local_Authority_(Highway)',\n",
    "       '1st_Road_Class', '1st_Road_Number', 'Road_Type', 'Speed_limit',\n",
    "       'Junction_Detail', 'Junction_Control', '2nd_Road_Class',\n",
    "       '2nd_Road_Number', 'Pedestrian_Crossing-Human_Control',\n",
    "       'Pedestrian_Crossing-Physical_Facilities', 'Light_Conditions',\n",
    "       'Weather_Conditions', 'Road_Surface_Conditions',\n",
    "       'Special_Conditions_at_Site', 'Carriageway_Hazards',\n",
    "       'Urban_or_Rural_Area', 'Did_Police_Officer_Attend_Scene_of_Accident',\n",
    "       'LSOA_of_Accident_Location'],axis=0)"
   ]
  },
  {
   "cell_type": "markdown",
   "metadata": {},
   "source": [
    "<h3>5. Removing Duplicate rows</h3>"
   ]
  },
  {
   "cell_type": "code",
   "execution_count": 187,
   "metadata": {},
   "outputs": [],
   "source": [
    "df_cleaned=df_cleaned[~df_cleaned.duplicated(subset=['Longitude', 'Latitude', 'Police_Force',\n",
    "       'Accident_Severity', 'Number_of_Vehicles', 'Number_of_Casualties',\n",
    "       'Date', 'Day_of_Week', 'Time', 'Local_Authority_(Highway)',\n",
    "       '1st_Road_Class', '1st_Road_Number', 'Road_Type', 'Speed_limit',\n",
    "       'Junction_Detail', 'Junction_Control', '2nd_Road_Class',\n",
    "       '2nd_Road_Number', 'Pedestrian_Crossing-Human_Control',\n",
    "       'Pedestrian_Crossing-Physical_Facilities', 'Light_Conditions',\n",
    "       'Weather_Conditions', 'Road_Surface_Conditions',\n",
    "       'Special_Conditions_at_Site', 'Carriageway_Hazards',\n",
    "       'Urban_or_Rural_Area', 'Did_Police_Officer_Attend_Scene_of_Accident',\n",
    "       'LSOA_of_Accident_Location'],keep='last')]"
   ]
  },
  {
   "cell_type": "code",
   "execution_count": 188,
   "metadata": {},
   "outputs": [
    {
     "data": {
      "text/plain": [
       "Accident_Index                                 116175\n",
       "Longitude                                      111657\n",
       "Latitude                                       110374\n",
       "Police_Force                                       43\n",
       "Accident_Severity                                   3\n",
       "Number_of_Vehicles                                 14\n",
       "Number_of_Casualties                               17\n",
       "Date                                              365\n",
       "Day_of_Week                                         7\n",
       "Time                                             1438\n",
       "Local_Authority_(Highway)                         175\n",
       "1st_Road_Class                                      6\n",
       "1st_Road_Number                                  3381\n",
       "Road_Type                                           6\n",
       "Speed_limit                                         6\n",
       "Junction_Detail                                    10\n",
       "Junction_Control                                    5\n",
       "2nd_Road_Class                                      7\n",
       "2nd_Road_Number                                  2995\n",
       "Pedestrian_Crossing-Human_Control                   4\n",
       "Pedestrian_Crossing-Physical_Facilities             7\n",
       "Light_Conditions                                    5\n",
       "Weather_Conditions                                  9\n",
       "Road_Surface_Conditions                             6\n",
       "Special_Conditions_at_Site                          9\n",
       "Carriageway_Hazards                                 7\n",
       "Urban_or_Rural_Area                                 2\n",
       "Did_Police_Officer_Attend_Scene_of_Accident         3\n",
       "LSOA_of_Accident_Location                       27964\n",
       "dtype: int64"
      ]
     },
     "execution_count": 188,
     "metadata": {},
     "output_type": "execute_result"
    }
   ],
   "source": [
    "df_cleaned.nunique(axis=0)"
   ]
  },
  {
   "cell_type": "markdown",
   "metadata": {},
   "source": [
    "<h3>6. Divide the Data for Distribution (Group By)</h3>\n",
    "\n",
    "<h5>A. Group the data according to its severity level(Accident_Severity)</h5>"
   ]
  },
  {
   "cell_type": "code",
   "execution_count": 189,
   "metadata": {},
   "outputs": [],
   "source": [
    "severity_1=df_cleaned.groupby('Accident_Severity').get_group(1)\n",
    "severity_2=df_cleaned.groupby('Accident_Severity').get_group(2)\n",
    "severity_3=df_cleaned.groupby('Accident_Severity').get_group(3)"
   ]
  },
  {
   "cell_type": "markdown",
   "metadata": {},
   "source": [
    "<h1>Building Data Profile Tables & Plots.\n",
    "Exploring the relationships in the data</h1>\n",
    "<h3>1. Distribution Plot </h3>"
   ]
  },
  {
   "cell_type": "code",
   "execution_count": 190,
   "metadata": {
    "scrolled": false
   },
   "outputs": [
    {
     "data": {
      "image/png": "[encoded data removed]",
      "text/plain": [
       "<Figure size 720x720 with 4 Axes>"
      ]
     },
     "metadata": {
      "needs_background": "light"
     },
     "output_type": "display_data"
    }
   ],
   "source": [
    "plt.figure(figsize=(10,10))\n",
    "plt.subplot(2,2,1)\n",
    "sns.distplot(a=severity_1['Number_of_Casualties'], label=\"Low-Severity\", kde=False)\n",
    "sns.distplot(a=severity_2['Number_of_Casualties'], label=\"Medium-Severity\", kde=False)\n",
    "sns.distplot(a=severity_3['Number_of_Casualties'], label=\"High-Severity\", kde=False)\n",
    "plt.xlim(0,6)\n",
    "plt.legend()\n",
    "\n",
    "plt.subplot(2,2,2)\n",
    "sns.distplot(a=severity_1['Road_Type'], label=\"Low-Severity\", kde=False)\n",
    "sns.distplot(a=severity_2['Road_Type'], label=\"Medium-Severity\", kde=False)\n",
    "sns.distplot(a=severity_3['Road_Type'], label=\"High-Severity\", kde=False)\n",
    "plt.legend()\n",
    "\n",
    "plt.subplot(2,2,3)\n",
    "sns.distplot(a=severity_1['Weather_Conditions'], label=\"Low-Severity\", kde=False)\n",
    "sns.distplot(a=severity_2['Weather_Conditions'], label=\"Medium-Severity\", kde=False)\n",
    "sns.distplot(a=severity_3['Weather_Conditions'], label=\"High-Severity\", kde=False)\n",
    "plt.legend()\n",
    "\n",
    "plt.subplot(2,2,4)\n",
    "sns.distplot(a=severity_1['Light_Conditions'], label=\"Low-Severity\", kde=False)\n",
    "sns.distplot(a=severity_2['Light_Conditions'], label=\"Medium-Severity\", kde=False)\n",
    "sns.distplot(a=severity_3['Light_Conditions'], label=\"High-Severity\", kde=False)\n",
    "plt.legend()\n",
    "\n",
    "\n",
    "plt.show()"
   ]
  },
  {
   "cell_type": "markdown",
   "metadata": {},
   "source": [
    "<h3>2. Histogram</h3>"
   ]
  },
  {
   "cell_type": "code",
   "execution_count": 191,
   "metadata": {},
   "outputs": [
    {
     "data": {
      "text/plain": [
       "array([<matplotlib.axes._subplots.AxesSubplot object at 0x13dc805d0>,\n",
       "       <matplotlib.axes._subplots.AxesSubplot object at 0x1a2376450>,\n",
       "       <matplotlib.axes._subplots.AxesSubplot object at 0x198777a50>],\n",
       "      dtype=object)"
      ]
     },
     "execution_count": 191,
     "metadata": {},
     "output_type": "execute_result"
    },
    {
     "data": {
      "image/png": "[encoded data removed]",
      "text/plain": [
       "<Figure size 1152x144 with 3 Axes>"
      ]
     },
     "metadata": {
      "needs_background": "light"
     },
     "output_type": "display_data"
    }
   ],
   "source": [
    "df_cleaned['Number_of_Casualties'].hist(by=df_cleaned['Accident_Severity'], layout=(1,3), figsize=(16,2))"
   ]
  },
  {
   "cell_type": "code",
   "execution_count": 192,
   "metadata": {},
   "outputs": [
    {
     "data": {
      "text/plain": [
       "array([<matplotlib.axes._subplots.AxesSubplot object at 0x13dc80990>,\n",
       "       <matplotlib.axes._subplots.AxesSubplot object at 0x1a0c69850>,\n",
       "       <matplotlib.axes._subplots.AxesSubplot object at 0x1a0ca6d50>],\n",
       "      dtype=object)"
      ]
     },
     "execution_count": 192,
     "metadata": {},
     "output_type": "execute_result"
    },
    {
     "data": {
      "image/png": "[encoded data removed]",
      "text/plain": [
       "<Figure size 1152x144 with 3 Axes>"
      ]
     },
     "metadata": {
      "needs_background": "light"
     },
     "output_type": "display_data"
    }
   ],
   "source": [
    "df_cleaned['Road_Type'].hist(by=df_cleaned['Accident_Severity'], layout=(1,3), figsize=(16,2))"
   ]
  },
  {
   "cell_type": "code",
   "execution_count": 193,
   "metadata": {},
   "outputs": [
    {
     "data": {
      "text/plain": [
       "array([<matplotlib.axes._subplots.AxesSubplot object at 0x17fddb190>,\n",
       "       <matplotlib.axes._subplots.AxesSubplot object at 0x159478290>,\n",
       "       <matplotlib.axes._subplots.AxesSubplot object at 0x176817790>],\n",
       "      dtype=object)"
      ]
     },
     "execution_count": 193,
     "metadata": {},
     "output_type": "execute_result"
    },
    {
     "data": {
      "image/png": "[encoded data removed]",
      "text/plain": [
       "<Figure size 1152x144 with 3 Axes>"
      ]
     },
     "metadata": {
      "needs_background": "light"
     },
     "output_type": "display_data"
    }
   ],
   "source": [
    "df_cleaned['Weather_Conditions'].hist(by=df_cleaned['Accident_Severity'], layout=(1,3), figsize=(16,2))"
   ]
  },
  {
   "cell_type": "code",
   "execution_count": 194,
   "metadata": {},
   "outputs": [
    {
     "data": {
      "text/plain": [
       "array([<matplotlib.axes._subplots.AxesSubplot object at 0x17faab910>,\n",
       "       <matplotlib.axes._subplots.AxesSubplot object at 0x154245850>,\n",
       "       <matplotlib.axes._subplots.AxesSubplot object at 0x18071bd50>],\n",
       "      dtype=object)"
      ]
     },
     "execution_count": 194,
     "metadata": {},
     "output_type": "execute_result"
    },
    {
     "data": {
      "image/png": "[encoded data removed]",
      "text/plain": [
       "<Figure size 1152x144 with 3 Axes>"
      ]
     },
     "metadata": {
      "needs_background": "light"
     },
     "output_type": "display_data"
    }
   ],
   "source": [
    "df_cleaned['Light_Conditions'].hist(by=df_cleaned['Accident_Severity'], layout=(1,3), figsize=(16,2))"
   ]
  },
  {
   "cell_type": "markdown",
   "metadata": {},
   "source": [
    "<h3>3. Box Plot</h3>"
   ]
  },
  {
   "cell_type": "code",
   "execution_count": 195,
   "metadata": {},
   "outputs": [
    {
     "data": {
      "text/plain": [
       "<matplotlib.axes._subplots.AxesSubplot at 0x196ebd790>"
      ]
     },
     "execution_count": 195,
     "metadata": {},
     "output_type": "execute_result"
    },
    {
     "data": {
      "image/png": "[encoded data removed]",
      "text/plain": [
       "<Figure size 432x288 with 1 Axes>"
      ]
     },
     "metadata": {
      "needs_background": "light"
     },
     "output_type": "display_data"
    }
   ],
   "source": [
    "sns.boxplot(x='Accident_Severity',y='Light_Conditions',data=df_cleaned)\n",
    "sns.stripplot(x='Accident_Severity',y='Light_Conditions',data=df_cleaned,\n",
    "             jitter=True,\n",
    "            marker='o',\n",
    "              alpha=0.8,\n",
    "              color='black'\n",
    "             )\n",
    "\n"
   ]
  },
  {
   "cell_type": "markdown",
   "metadata": {},
   "source": [
    "<h3>4. Heat Map and Correlation Matrix</h3>\n"
   ]
  },
  {
   "cell_type": "code",
   "execution_count": 196,
   "metadata": {},
   "outputs": [
    {
     "data": {
      "text/html": [
       "<div>\n",
       "<style scoped>\n",
       "    .dataframe tbody tr th:only-of-type {\n",
       "        vertical-align: middle;\n",
       "    }\n",
       "\n",
       "    .dataframe tbody tr th {\n",
       "        vertical-align: top;\n",
       "    }\n",
       "\n",
       "    .dataframe thead th {\n",
       "        text-align: right;\n",
       "    }\n",
       "</style>\n",
       "<table border=\"1\" class=\"dataframe\">\n",
       "  <thead>\n",
       "    <tr style=\"text-align: right;\">\n",
       "      <th></th>\n",
       "      <th>Longitude</th>\n",
       "      <th>Latitude</th>\n",
       "      <th>Police_Force</th>\n",
       "      <th>Accident_Severity</th>\n",
       "      <th>Number_of_Vehicles</th>\n",
       "      <th>Number_of_Casualties</th>\n",
       "      <th>Day_of_Week</th>\n",
       "      <th>1st_Road_Class</th>\n",
       "      <th>1st_Road_Number</th>\n",
       "      <th>Road_Type</th>\n",
       "      <th>...</th>\n",
       "      <th>2nd_Road_Number</th>\n",
       "      <th>Pedestrian_Crossing-Human_Control</th>\n",
       "      <th>Pedestrian_Crossing-Physical_Facilities</th>\n",
       "      <th>Light_Conditions</th>\n",
       "      <th>Weather_Conditions</th>\n",
       "      <th>Road_Surface_Conditions</th>\n",
       "      <th>Special_Conditions_at_Site</th>\n",
       "      <th>Carriageway_Hazards</th>\n",
       "      <th>Urban_or_Rural_Area</th>\n",
       "      <th>Did_Police_Officer_Attend_Scene_of_Accident</th>\n",
       "    </tr>\n",
       "  </thead>\n",
       "  <tbody>\n",
       "    <tr>\n",
       "      <th>Longitude</th>\n",
       "      <td>1.000000</td>\n",
       "      <td>-0.263808</td>\n",
       "      <td>-0.156582</td>\n",
       "      <td>0.025637</td>\n",
       "      <td>0.010367</td>\n",
       "      <td>-0.035536</td>\n",
       "      <td>0.006687</td>\n",
       "      <td>-0.016195</td>\n",
       "      <td>-0.168512</td>\n",
       "      <td>-0.024675</td>\n",
       "      <td>...</td>\n",
       "      <td>-0.057625</td>\n",
       "      <td>-0.046081</td>\n",
       "      <td>0.047364</td>\n",
       "      <td>0.016502</td>\n",
       "      <td>-0.006119</td>\n",
       "      <td>-0.055215</td>\n",
       "      <td>-0.023756</td>\n",
       "      <td>-0.014916</td>\n",
       "      <td>-0.112690</td>\n",
       "      <td>0.066355</td>\n",
       "    </tr>\n",
       "    <tr>\n",
       "      <th>Latitude</th>\n",
       "      <td>-0.263808</td>\n",
       "      <td>1.000000</td>\n",
       "      <td>-0.394165</td>\n",
       "      <td>-0.026559</td>\n",
       "      <td>-0.014128</td>\n",
       "      <td>0.032241</td>\n",
       "      <td>0.001399</td>\n",
       "      <td>0.043588</td>\n",
       "      <td>0.085030</td>\n",
       "      <td>0.014660</td>\n",
       "      <td>...</td>\n",
       "      <td>0.040883</td>\n",
       "      <td>0.041518</td>\n",
       "      <td>-0.026188</td>\n",
       "      <td>-0.021449</td>\n",
       "      <td>0.022705</td>\n",
       "      <td>0.041236</td>\n",
       "      <td>0.016686</td>\n",
       "      <td>-0.000740</td>\n",
       "      <td>0.030670</td>\n",
       "      <td>0.028967</td>\n",
       "    </tr>\n",
       "    <tr>\n",
       "      <th>Police_Force</th>\n",
       "      <td>-0.156582</td>\n",
       "      <td>-0.394165</td>\n",
       "      <td>1.000000</td>\n",
       "      <td>-0.048632</td>\n",
       "      <td>0.044214</td>\n",
       "      <td>0.049271</td>\n",
       "      <td>-0.002927</td>\n",
       "      <td>0.062286</td>\n",
       "      <td>0.034139</td>\n",
       "      <td>0.020267</td>\n",
       "      <td>...</td>\n",
       "      <td>0.013374</td>\n",
       "      <td>0.072407</td>\n",
       "      <td>-0.136817</td>\n",
       "      <td>-0.001792</td>\n",
       "      <td>-0.052917</td>\n",
       "      <td>0.083769</td>\n",
       "      <td>0.025678</td>\n",
       "      <td>0.028654</td>\n",
       "      <td>0.330631</td>\n",
       "      <td>-0.018460</td>\n",
       "    </tr>\n",
       "    <tr>\n",
       "      <th>Accident_Severity</th>\n",
       "      <td>0.025637</td>\n",
       "      <td>-0.026559</td>\n",
       "      <td>-0.048632</td>\n",
       "      <td>1.000000</td>\n",
       "      <td>0.064116</td>\n",
       "      <td>-0.070263</td>\n",
       "      <td>0.005341</td>\n",
       "      <td>0.015085</td>\n",
       "      <td>-0.017094</td>\n",
       "      <td>-0.032834</td>\n",
       "      <td>...</td>\n",
       "      <td>0.014422</td>\n",
       "      <td>-0.027597</td>\n",
       "      <td>0.006760</td>\n",
       "      <td>-0.052233</td>\n",
       "      <td>0.030151</td>\n",
       "      <td>-0.009673</td>\n",
       "      <td>-0.010681</td>\n",
       "      <td>-0.012046</td>\n",
       "      <td>-0.087460</td>\n",
       "      <td>0.134250</td>\n",
       "    </tr>\n",
       "    <tr>\n",
       "      <th>Number_of_Vehicles</th>\n",
       "      <td>0.010367</td>\n",
       "      <td>-0.014128</td>\n",
       "      <td>0.044214</td>\n",
       "      <td>0.064116</td>\n",
       "      <td>1.000000</td>\n",
       "      <td>0.222661</td>\n",
       "      <td>-0.000784</td>\n",
       "      <td>-0.131345</td>\n",
       "      <td>-0.004484</td>\n",
       "      <td>-0.072488</td>\n",
       "      <td>...</td>\n",
       "      <td>0.012940</td>\n",
       "      <td>-0.007366</td>\n",
       "      <td>-0.060027</td>\n",
       "      <td>-0.065988</td>\n",
       "      <td>-0.032182</td>\n",
       "      <td>-0.030266</td>\n",
       "      <td>-0.004110</td>\n",
       "      <td>-0.024270</td>\n",
       "      <td>0.071188</td>\n",
       "      <td>-0.044956</td>\n",
       "    </tr>\n",
       "    <tr>\n",
       "      <th>Number_of_Casualties</th>\n",
       "      <td>-0.035536</td>\n",
       "      <td>0.032241</td>\n",
       "      <td>0.049271</td>\n",
       "      <td>-0.070263</td>\n",
       "      <td>0.222661</td>\n",
       "      <td>1.000000</td>\n",
       "      <td>-0.003698</td>\n",
       "      <td>-0.090577</td>\n",
       "      <td>0.008137</td>\n",
       "      <td>-0.023061</td>\n",
       "      <td>...</td>\n",
       "      <td>0.002862</td>\n",
       "      <td>0.014519</td>\n",
       "      <td>-0.030500</td>\n",
       "      <td>0.023112</td>\n",
       "      <td>-0.023564</td>\n",
       "      <td>0.024204</td>\n",
       "      <td>0.012653</td>\n",
       "      <td>0.007368</td>\n",
       "      <td>0.134524</td>\n",
       "      <td>-0.099583</td>\n",
       "    </tr>\n",
       "    <tr>\n",
       "      <th>Day_of_Week</th>\n",
       "      <td>0.006687</td>\n",
       "      <td>0.001399</td>\n",
       "      <td>-0.002927</td>\n",
       "      <td>0.005341</td>\n",
       "      <td>-0.000784</td>\n",
       "      <td>-0.003698</td>\n",
       "      <td>1.000000</td>\n",
       "      <td>0.011715</td>\n",
       "      <td>0.000127</td>\n",
       "      <td>0.010136</td>\n",
       "      <td>...</td>\n",
       "      <td>-0.001322</td>\n",
       "      <td>-0.002213</td>\n",
       "      <td>0.003093</td>\n",
       "      <td>0.012656</td>\n",
       "      <td>0.007466</td>\n",
       "      <td>0.004203</td>\n",
       "      <td>-0.004059</td>\n",
       "      <td>-0.001165</td>\n",
       "      <td>-0.018762</td>\n",
       "      <td>0.002626</td>\n",
       "    </tr>\n",
       "    <tr>\n",
       "      <th>1st_Road_Class</th>\n",
       "      <td>-0.016195</td>\n",
       "      <td>0.043588</td>\n",
       "      <td>0.062286</td>\n",
       "      <td>0.015085</td>\n",
       "      <td>-0.131345</td>\n",
       "      <td>-0.090577</td>\n",
       "      <td>0.011715</td>\n",
       "      <td>1.000000</td>\n",
       "      <td>-0.196537</td>\n",
       "      <td>0.281949</td>\n",
       "      <td>...</td>\n",
       "      <td>-0.052918</td>\n",
       "      <td>0.000127</td>\n",
       "      <td>-0.111182</td>\n",
       "      <td>-0.035520</td>\n",
       "      <td>0.005580</td>\n",
       "      <td>0.001217</td>\n",
       "      <td>-0.020653</td>\n",
       "      <td>-0.005337</td>\n",
       "      <td>-0.208871</td>\n",
       "      <td>0.094640</td>\n",
       "    </tr>\n",
       "    <tr>\n",
       "      <th>1st_Road_Number</th>\n",
       "      <td>-0.168512</td>\n",
       "      <td>0.085030</td>\n",
       "      <td>0.034139</td>\n",
       "      <td>-0.017094</td>\n",
       "      <td>-0.004484</td>\n",
       "      <td>0.008137</td>\n",
       "      <td>0.000127</td>\n",
       "      <td>-0.196537</td>\n",
       "      <td>1.000000</td>\n",
       "      <td>0.013620</td>\n",
       "      <td>...</td>\n",
       "      <td>0.193939</td>\n",
       "      <td>0.019741</td>\n",
       "      <td>0.066639</td>\n",
       "      <td>0.004870</td>\n",
       "      <td>0.003662</td>\n",
       "      <td>0.014477</td>\n",
       "      <td>0.004259</td>\n",
       "      <td>0.001306</td>\n",
       "      <td>0.002944</td>\n",
       "      <td>-0.027317</td>\n",
       "    </tr>\n",
       "    <tr>\n",
       "      <th>Road_Type</th>\n",
       "      <td>-0.024675</td>\n",
       "      <td>0.014660</td>\n",
       "      <td>0.020267</td>\n",
       "      <td>-0.032834</td>\n",
       "      <td>-0.072488</td>\n",
       "      <td>-0.023061</td>\n",
       "      <td>0.010136</td>\n",
       "      <td>0.281949</td>\n",
       "      <td>0.013620</td>\n",
       "      <td>1.000000</td>\n",
       "      <td>...</td>\n",
       "      <td>-0.087141</td>\n",
       "      <td>-0.061077</td>\n",
       "      <td>-0.069101</td>\n",
       "      <td>-0.007728</td>\n",
       "      <td>0.045764</td>\n",
       "      <td>-0.032485</td>\n",
       "      <td>-0.019655</td>\n",
       "      <td>-0.016983</td>\n",
       "      <td>-0.049149</td>\n",
       "      <td>0.034122</td>\n",
       "    </tr>\n",
       "    <tr>\n",
       "      <th>Speed_limit</th>\n",
       "      <td>-0.076598</td>\n",
       "      <td>0.049874</td>\n",
       "      <td>0.269753</td>\n",
       "      <td>-0.080312</td>\n",
       "      <td>0.120790</td>\n",
       "      <td>0.165027</td>\n",
       "      <td>-0.017781</td>\n",
       "      <td>-0.373361</td>\n",
       "      <td>-0.028550</td>\n",
       "      <td>-0.190871</td>\n",
       "      <td>...</td>\n",
       "      <td>-0.019068</td>\n",
       "      <td>0.018461</td>\n",
       "      <td>-0.198777</td>\n",
       "      <td>0.059018</td>\n",
       "      <td>-0.013781</td>\n",
       "      <td>0.112908</td>\n",
       "      <td>0.063087</td>\n",
       "      <td>0.051992</td>\n",
       "      <td>0.670235</td>\n",
       "      <td>-0.131479</td>\n",
       "    </tr>\n",
       "    <tr>\n",
       "      <th>Junction_Detail</th>\n",
       "      <td>0.019561</td>\n",
       "      <td>-0.016741</td>\n",
       "      <td>-0.133931</td>\n",
       "      <td>0.030274</td>\n",
       "      <td>0.033975</td>\n",
       "      <td>-0.008342</td>\n",
       "      <td>0.009679</td>\n",
       "      <td>0.026558</td>\n",
       "      <td>0.033547</td>\n",
       "      <td>0.091281</td>\n",
       "      <td>...</td>\n",
       "      <td>0.123987</td>\n",
       "      <td>0.043835</td>\n",
       "      <td>0.187907</td>\n",
       "      <td>-0.034404</td>\n",
       "      <td>-0.023873</td>\n",
       "      <td>-0.035836</td>\n",
       "      <td>-0.025372</td>\n",
       "      <td>-0.023433</td>\n",
       "      <td>-0.207429</td>\n",
       "      <td>-0.057170</td>\n",
       "    </tr>\n",
       "    <tr>\n",
       "      <th>Junction_Control</th>\n",
       "      <td>0.004084</td>\n",
       "      <td>-0.001215</td>\n",
       "      <td>-0.043383</td>\n",
       "      <td>0.035070</td>\n",
       "      <td>0.045956</td>\n",
       "      <td>-0.027255</td>\n",
       "      <td>0.010855</td>\n",
       "      <td>0.061182</td>\n",
       "      <td>0.040807</td>\n",
       "      <td>-0.067479</td>\n",
       "      <td>...</td>\n",
       "      <td>0.192706</td>\n",
       "      <td>0.066238</td>\n",
       "      <td>0.090434</td>\n",
       "      <td>-0.054074</td>\n",
       "      <td>-0.046319</td>\n",
       "      <td>-0.020282</td>\n",
       "      <td>-0.026906</td>\n",
       "      <td>-0.027325</td>\n",
       "      <td>-0.178207</td>\n",
       "      <td>-0.071739</td>\n",
       "    </tr>\n",
       "    <tr>\n",
       "      <th>2nd_Road_Class</th>\n",
       "      <td>0.041709</td>\n",
       "      <td>-0.029841</td>\n",
       "      <td>-0.103064</td>\n",
       "      <td>0.048555</td>\n",
       "      <td>0.034577</td>\n",
       "      <td>-0.034978</td>\n",
       "      <td>0.010462</td>\n",
       "      <td>0.080372</td>\n",
       "      <td>0.039248</td>\n",
       "      <td>-0.000200</td>\n",
       "      <td>...</td>\n",
       "      <td>0.120061</td>\n",
       "      <td>-0.000217</td>\n",
       "      <td>0.142927</td>\n",
       "      <td>-0.046829</td>\n",
       "      <td>-0.013822</td>\n",
       "      <td>-0.054851</td>\n",
       "      <td>-0.044292</td>\n",
       "      <td>-0.049275</td>\n",
       "      <td>-0.256474</td>\n",
       "      <td>-0.006699</td>\n",
       "    </tr>\n",
       "    <tr>\n",
       "      <th>2nd_Road_Number</th>\n",
       "      <td>-0.057625</td>\n",
       "      <td>0.040883</td>\n",
       "      <td>0.013374</td>\n",
       "      <td>0.014422</td>\n",
       "      <td>0.012940</td>\n",
       "      <td>0.002862</td>\n",
       "      <td>-0.001322</td>\n",
       "      <td>-0.052918</td>\n",
       "      <td>0.193939</td>\n",
       "      <td>-0.087141</td>\n",
       "      <td>...</td>\n",
       "      <td>1.000000</td>\n",
       "      <td>0.009440</td>\n",
       "      <td>0.106482</td>\n",
       "      <td>-0.004009</td>\n",
       "      <td>-0.008160</td>\n",
       "      <td>0.001154</td>\n",
       "      <td>-0.000295</td>\n",
       "      <td>-0.010607</td>\n",
       "      <td>-0.022766</td>\n",
       "      <td>-0.009697</td>\n",
       "    </tr>\n",
       "    <tr>\n",
       "      <th>Pedestrian_Crossing-Human_Control</th>\n",
       "      <td>-0.046081</td>\n",
       "      <td>0.041518</td>\n",
       "      <td>0.072407</td>\n",
       "      <td>-0.027597</td>\n",
       "      <td>-0.007366</td>\n",
       "      <td>0.014519</td>\n",
       "      <td>-0.002213</td>\n",
       "      <td>0.000127</td>\n",
       "      <td>0.019741</td>\n",
       "      <td>-0.061077</td>\n",
       "      <td>...</td>\n",
       "      <td>0.009440</td>\n",
       "      <td>1.000000</td>\n",
       "      <td>0.125469</td>\n",
       "      <td>-0.017420</td>\n",
       "      <td>-0.111570</td>\n",
       "      <td>0.109979</td>\n",
       "      <td>0.064458</td>\n",
       "      <td>0.079188</td>\n",
       "      <td>0.020897</td>\n",
       "      <td>-0.176151</td>\n",
       "    </tr>\n",
       "    <tr>\n",
       "      <th>Pedestrian_Crossing-Physical_Facilities</th>\n",
       "      <td>0.047364</td>\n",
       "      <td>-0.026188</td>\n",
       "      <td>-0.136817</td>\n",
       "      <td>0.006760</td>\n",
       "      <td>-0.060027</td>\n",
       "      <td>-0.030500</td>\n",
       "      <td>0.003093</td>\n",
       "      <td>-0.111182</td>\n",
       "      <td>0.066639</td>\n",
       "      <td>-0.069101</td>\n",
       "      <td>...</td>\n",
       "      <td>0.106482</td>\n",
       "      <td>0.125469</td>\n",
       "      <td>1.000000</td>\n",
       "      <td>0.001702</td>\n",
       "      <td>-0.028858</td>\n",
       "      <td>-0.008597</td>\n",
       "      <td>0.000534</td>\n",
       "      <td>0.010626</td>\n",
       "      <td>-0.231311</td>\n",
       "      <td>-0.017782</td>\n",
       "    </tr>\n",
       "    <tr>\n",
       "      <th>Light_Conditions</th>\n",
       "      <td>0.016502</td>\n",
       "      <td>-0.021449</td>\n",
       "      <td>-0.001792</td>\n",
       "      <td>-0.052233</td>\n",
       "      <td>-0.065988</td>\n",
       "      <td>0.023112</td>\n",
       "      <td>0.012656</td>\n",
       "      <td>-0.035520</td>\n",
       "      <td>0.004870</td>\n",
       "      <td>-0.007728</td>\n",
       "      <td>...</td>\n",
       "      <td>-0.004009</td>\n",
       "      <td>-0.017420</td>\n",
       "      <td>0.001702</td>\n",
       "      <td>1.000000</td>\n",
       "      <td>0.104086</td>\n",
       "      <td>0.166020</td>\n",
       "      <td>0.005712</td>\n",
       "      <td>0.034319</td>\n",
       "      <td>0.035309</td>\n",
       "      <td>-0.031773</td>\n",
       "    </tr>\n",
       "    <tr>\n",
       "      <th>Weather_Conditions</th>\n",
       "      <td>-0.006119</td>\n",
       "      <td>0.022705</td>\n",
       "      <td>-0.052917</td>\n",
       "      <td>0.030151</td>\n",
       "      <td>-0.032182</td>\n",
       "      <td>-0.023564</td>\n",
       "      <td>0.007466</td>\n",
       "      <td>0.005580</td>\n",
       "      <td>0.003662</td>\n",
       "      <td>0.045764</td>\n",
       "      <td>...</td>\n",
       "      <td>-0.008160</td>\n",
       "      <td>-0.111570</td>\n",
       "      <td>-0.028858</td>\n",
       "      <td>0.104086</td>\n",
       "      <td>1.000000</td>\n",
       "      <td>0.084457</td>\n",
       "      <td>-0.034376</td>\n",
       "      <td>-0.040887</td>\n",
       "      <td>-0.012429</td>\n",
       "      <td>0.128791</td>\n",
       "    </tr>\n",
       "    <tr>\n",
       "      <th>Road_Surface_Conditions</th>\n",
       "      <td>-0.055215</td>\n",
       "      <td>0.041236</td>\n",
       "      <td>0.083769</td>\n",
       "      <td>-0.009673</td>\n",
       "      <td>-0.030266</td>\n",
       "      <td>0.024204</td>\n",
       "      <td>0.004203</td>\n",
       "      <td>0.001217</td>\n",
       "      <td>0.014477</td>\n",
       "      <td>-0.032485</td>\n",
       "      <td>...</td>\n",
       "      <td>0.001154</td>\n",
       "      <td>0.109979</td>\n",
       "      <td>-0.008597</td>\n",
       "      <td>0.166020</td>\n",
       "      <td>0.084457</td>\n",
       "      <td>1.000000</td>\n",
       "      <td>0.074407</td>\n",
       "      <td>0.062346</td>\n",
       "      <td>0.114805</td>\n",
       "      <td>-0.121092</td>\n",
       "    </tr>\n",
       "    <tr>\n",
       "      <th>Special_Conditions_at_Site</th>\n",
       "      <td>-0.023756</td>\n",
       "      <td>0.016686</td>\n",
       "      <td>0.025678</td>\n",
       "      <td>-0.010681</td>\n",
       "      <td>-0.004110</td>\n",
       "      <td>0.012653</td>\n",
       "      <td>-0.004059</td>\n",
       "      <td>-0.020653</td>\n",
       "      <td>0.004259</td>\n",
       "      <td>-0.019655</td>\n",
       "      <td>...</td>\n",
       "      <td>-0.000295</td>\n",
       "      <td>0.064458</td>\n",
       "      <td>0.000534</td>\n",
       "      <td>0.005712</td>\n",
       "      <td>-0.034376</td>\n",
       "      <td>0.074407</td>\n",
       "      <td>1.000000</td>\n",
       "      <td>0.061281</td>\n",
       "      <td>0.071730</td>\n",
       "      <td>-0.047825</td>\n",
       "    </tr>\n",
       "    <tr>\n",
       "      <th>Carriageway_Hazards</th>\n",
       "      <td>-0.014916</td>\n",
       "      <td>-0.000740</td>\n",
       "      <td>0.028654</td>\n",
       "      <td>-0.012046</td>\n",
       "      <td>-0.024270</td>\n",
       "      <td>0.007368</td>\n",
       "      <td>-0.001165</td>\n",
       "      <td>-0.005337</td>\n",
       "      <td>0.001306</td>\n",
       "      <td>-0.016983</td>\n",
       "      <td>...</td>\n",
       "      <td>-0.010607</td>\n",
       "      <td>0.079188</td>\n",
       "      <td>0.010626</td>\n",
       "      <td>0.034319</td>\n",
       "      <td>-0.040887</td>\n",
       "      <td>0.062346</td>\n",
       "      <td>0.061281</td>\n",
       "      <td>1.000000</td>\n",
       "      <td>0.051126</td>\n",
       "      <td>-0.060345</td>\n",
       "    </tr>\n",
       "    <tr>\n",
       "      <th>Urban_or_Rural_Area</th>\n",
       "      <td>-0.112690</td>\n",
       "      <td>0.030670</td>\n",
       "      <td>0.330631</td>\n",
       "      <td>-0.087460</td>\n",
       "      <td>0.071188</td>\n",
       "      <td>0.134524</td>\n",
       "      <td>-0.018762</td>\n",
       "      <td>-0.208871</td>\n",
       "      <td>0.002944</td>\n",
       "      <td>-0.049149</td>\n",
       "      <td>...</td>\n",
       "      <td>-0.022766</td>\n",
       "      <td>0.020897</td>\n",
       "      <td>-0.231311</td>\n",
       "      <td>0.035309</td>\n",
       "      <td>-0.012429</td>\n",
       "      <td>0.114805</td>\n",
       "      <td>0.071730</td>\n",
       "      <td>0.051126</td>\n",
       "      <td>1.000000</td>\n",
       "      <td>-0.115420</td>\n",
       "    </tr>\n",
       "    <tr>\n",
       "      <th>Did_Police_Officer_Attend_Scene_of_Accident</th>\n",
       "      <td>0.066355</td>\n",
       "      <td>0.028967</td>\n",
       "      <td>-0.018460</td>\n",
       "      <td>0.134250</td>\n",
       "      <td>-0.044956</td>\n",
       "      <td>-0.099583</td>\n",
       "      <td>0.002626</td>\n",
       "      <td>0.094640</td>\n",
       "      <td>-0.027317</td>\n",
       "      <td>0.034122</td>\n",
       "      <td>...</td>\n",
       "      <td>-0.009697</td>\n",
       "      <td>-0.176151</td>\n",
       "      <td>-0.017782</td>\n",
       "      <td>-0.031773</td>\n",
       "      <td>0.128791</td>\n",
       "      <td>-0.121092</td>\n",
       "      <td>-0.047825</td>\n",
       "      <td>-0.060345</td>\n",
       "      <td>-0.115420</td>\n",
       "      <td>1.000000</td>\n",
       "    </tr>\n",
       "  </tbody>\n",
       "</table>\n",
       "<p>24 rows × 24 columns</p>\n",
       "</div>"
      ],
      "text/plain": [
       "                                             Longitude  Latitude  \\\n",
       "Longitude                                     1.000000 -0.263808   \n",
       "Latitude                                     -0.263808  1.000000   \n",
       "Police_Force                                 -0.156582 -0.394165   \n",
       "Accident_Severity                             0.025637 -0.026559   \n",
       "Number_of_Vehicles                            0.010367 -0.014128   \n",
       "Number_of_Casualties                         -0.035536  0.032241   \n",
       "Day_of_Week                                   0.006687  0.001399   \n",
       "1st_Road_Class                               -0.016195  0.043588   \n",
       "1st_Road_Number                              -0.168512  0.085030   \n",
       "Road_Type                                    -0.024675  0.014660   \n",
       "Speed_limit                                  -0.076598  0.049874   \n",
       "Junction_Detail                               0.019561 -0.016741   \n",
       "Junction_Control                              0.004084 -0.001215   \n",
       "2nd_Road_Class                                0.041709 -0.029841   \n",
       "2nd_Road_Number                              -0.057625  0.040883   \n",
       "Pedestrian_Crossing-Human_Control            -0.046081  0.041518   \n",
       "Pedestrian_Crossing-Physical_Facilities       0.047364 -0.026188   \n",
       "Light_Conditions                              0.016502 -0.021449   \n",
       "Weather_Conditions                           -0.006119  0.022705   \n",
       "Road_Surface_Conditions                      -0.055215  0.041236   \n",
       "Special_Conditions_at_Site                   -0.023756  0.016686   \n",
       "Carriageway_Hazards                          -0.014916 -0.000740   \n",
       "Urban_or_Rural_Area                          -0.112690  0.030670   \n",
       "Did_Police_Officer_Attend_Scene_of_Accident   0.066355  0.028967   \n",
       "\n",
       "                                             Police_Force  Accident_Severity  \\\n",
       "Longitude                                       -0.156582           0.025637   \n",
       "Latitude                                        -0.394165          -0.026559   \n",
       "Police_Force                                     1.000000          -0.048632   \n",
       "Accident_Severity                               -0.048632           1.000000   \n",
       "Number_of_Vehicles                               0.044214           0.064116   \n",
       "Number_of_Casualties                             0.049271          -0.070263   \n",
       "Day_of_Week                                     -0.002927           0.005341   \n",
       "1st_Road_Class                                   0.062286           0.015085   \n",
       "1st_Road_Number                                  0.034139          -0.017094   \n",
       "Road_Type                                        0.020267          -0.032834   \n",
       "Speed_limit                                      0.269753          -0.080312   \n",
       "Junction_Detail                                 -0.133931           0.030274   \n",
       "Junction_Control                                -0.043383           0.035070   \n",
       "2nd_Road_Class                                  -0.103064           0.048555   \n",
       "2nd_Road_Number                                  0.013374           0.014422   \n",
       "Pedestrian_Crossing-Human_Control                0.072407          -0.027597   \n",
       "Pedestrian_Crossing-Physical_Facilities         -0.136817           0.006760   \n",
       "Light_Conditions                                -0.001792          -0.052233   \n",
       "Weather_Conditions                              -0.052917           0.030151   \n",
       "Road_Surface_Conditions                          0.083769          -0.009673   \n",
       "Special_Conditions_at_Site                       0.025678          -0.010681   \n",
       "Carriageway_Hazards                              0.028654          -0.012046   \n",
       "Urban_or_Rural_Area                              0.330631          -0.087460   \n",
       "Did_Police_Officer_Attend_Scene_of_Accident     -0.018460           0.134250   \n",
       "\n",
       "                                             Number_of_Vehicles  \\\n",
       "Longitude                                              0.010367   \n",
       "Latitude                                              -0.014128   \n",
       "Police_Force                                           0.044214   \n",
       "Accident_Severity                                      0.064116   \n",
       "Number_of_Vehicles                                     1.000000   \n",
       "Number_of_Casualties                                   0.222661   \n",
       "Day_of_Week                                           -0.000784   \n",
       "1st_Road_Class                                        -0.131345   \n",
       "1st_Road_Number                                       -0.004484   \n",
       "Road_Type                                             -0.072488   \n",
       "Speed_limit                                            0.120790   \n",
       "Junction_Detail                                        0.033975   \n",
       "Junction_Control                                       0.045956   \n",
       "2nd_Road_Class                                         0.034577   \n",
       "2nd_Road_Number                                        0.012940   \n",
       "Pedestrian_Crossing-Human_Control                     -0.007366   \n",
       "Pedestrian_Crossing-Physical_Facilities               -0.060027   \n",
       "Light_Conditions                                      -0.065988   \n",
       "Weather_Conditions                                    -0.032182   \n",
       "Road_Surface_Conditions                               -0.030266   \n",
       "Special_Conditions_at_Site                            -0.004110   \n",
       "Carriageway_Hazards                                   -0.024270   \n",
       "Urban_or_Rural_Area                                    0.071188   \n",
       "Did_Police_Officer_Attend_Scene_of_Accident           -0.044956   \n",
       "\n",
       "                                             Number_of_Casualties  \\\n",
       "Longitude                                               -0.035536   \n",
       "Latitude                                                 0.032241   \n",
       "Police_Force                                             0.049271   \n",
       "Accident_Severity                                       -0.070263   \n",
       "Number_of_Vehicles                                       0.222661   \n",
       "Number_of_Casualties                                     1.000000   \n",
       "Day_of_Week                                             -0.003698   \n",
       "1st_Road_Class                                          -0.090577   \n",
       "1st_Road_Number                                          0.008137   \n",
       "Road_Type                                               -0.023061   \n",
       "Speed_limit                                              0.165027   \n",
       "Junction_Detail                                         -0.008342   \n",
       "Junction_Control                                        -0.027255   \n",
       "2nd_Road_Class                                          -0.034978   \n",
       "2nd_Road_Number                                          0.002862   \n",
       "Pedestrian_Crossing-Human_Control                        0.014519   \n",
       "Pedestrian_Crossing-Physical_Facilities                 -0.030500   \n",
       "Light_Conditions                                         0.023112   \n",
       "Weather_Conditions                                      -0.023564   \n",
       "Road_Surface_Conditions                                  0.024204   \n",
       "Special_Conditions_at_Site                               0.012653   \n",
       "Carriageway_Hazards                                      0.007368   \n",
       "Urban_or_Rural_Area                                      0.134524   \n",
       "Did_Police_Officer_Attend_Scene_of_Accident             -0.099583   \n",
       "\n",
       "                                             Day_of_Week  1st_Road_Class  \\\n",
       "Longitude                                       0.006687       -0.016195   \n",
       "Latitude                                        0.001399        0.043588   \n",
       "Police_Force                                   -0.002927        0.062286   \n",
       "Accident_Severity                               0.005341        0.015085   \n",
       "Number_of_Vehicles                             -0.000784       -0.131345   \n",
       "Number_of_Casualties                           -0.003698       -0.090577   \n",
       "Day_of_Week                                     1.000000        0.011715   \n",
       "1st_Road_Class                                  0.011715        1.000000   \n",
       "1st_Road_Number                                 0.000127       -0.196537   \n",
       "Road_Type                                       0.010136        0.281949   \n",
       "Speed_limit                                    -0.017781       -0.373361   \n",
       "Junction_Detail                                 0.009679        0.026558   \n",
       "Junction_Control                                0.010855        0.061182   \n",
       "2nd_Road_Class                                  0.010462        0.080372   \n",
       "2nd_Road_Number                                -0.001322       -0.052918   \n",
       "Pedestrian_Crossing-Human_Control              -0.002213        0.000127   \n",
       "Pedestrian_Crossing-Physical_Facilities         0.003093       -0.111182   \n",
       "Light_Conditions                                0.012656       -0.035520   \n",
       "Weather_Conditions                              0.007466        0.005580   \n",
       "Road_Surface_Conditions                         0.004203        0.001217   \n",
       "Special_Conditions_at_Site                     -0.004059       -0.020653   \n",
       "Carriageway_Hazards                            -0.001165       -0.005337   \n",
       "Urban_or_Rural_Area                            -0.018762       -0.208871   \n",
       "Did_Police_Officer_Attend_Scene_of_Accident     0.002626        0.094640   \n",
       "\n",
       "                                             1st_Road_Number  Road_Type  ...  \\\n",
       "Longitude                                          -0.168512  -0.024675  ...   \n",
       "Latitude                                            0.085030   0.014660  ...   \n",
       "Police_Force                                        0.034139   0.020267  ...   \n",
       "Accident_Severity                                  -0.017094  -0.032834  ...   \n",
       "Number_of_Vehicles                                 -0.004484  -0.072488  ...   \n",
       "Number_of_Casualties                                0.008137  -0.023061  ...   \n",
       "Day_of_Week                                         0.000127   0.010136  ...   \n",
       "1st_Road_Class                                     -0.196537   0.281949  ...   \n",
       "1st_Road_Number                                     1.000000   0.013620  ...   \n",
       "Road_Type                                           0.013620   1.000000  ...   \n",
       "Speed_limit                                        -0.028550  -0.190871  ...   \n",
       "Junction_Detail                                     0.033547   0.091281  ...   \n",
       "Junction_Control                                    0.040807  -0.067479  ...   \n",
       "2nd_Road_Class                                      0.039248  -0.000200  ...   \n",
       "2nd_Road_Number                                     0.193939  -0.087141  ...   \n",
       "Pedestrian_Crossing-Human_Control                   0.019741  -0.061077  ...   \n",
       "Pedestrian_Crossing-Physical_Facilities             0.066639  -0.069101  ...   \n",
       "Light_Conditions                                    0.004870  -0.007728  ...   \n",
       "Weather_Conditions                                  0.003662   0.045764  ...   \n",
       "Road_Surface_Conditions                             0.014477  -0.032485  ...   \n",
       "Special_Conditions_at_Site                          0.004259  -0.019655  ...   \n",
       "Carriageway_Hazards                                 0.001306  -0.016983  ...   \n",
       "Urban_or_Rural_Area                                 0.002944  -0.049149  ...   \n",
       "Did_Police_Officer_Attend_Scene_of_Accident        -0.027317   0.034122  ...   \n",
       "\n",
       "                                             2nd_Road_Number  \\\n",
       "Longitude                                          -0.057625   \n",
       "Latitude                                            0.040883   \n",
       "Police_Force                                        0.013374   \n",
       "Accident_Severity                                   0.014422   \n",
       "Number_of_Vehicles                                  0.012940   \n",
       "Number_of_Casualties                                0.002862   \n",
       "Day_of_Week                                        -0.001322   \n",
       "1st_Road_Class                                     -0.052918   \n",
       "1st_Road_Number                                     0.193939   \n",
       "Road_Type                                          -0.087141   \n",
       "Speed_limit                                        -0.019068   \n",
       "Junction_Detail                                     0.123987   \n",
       "Junction_Control                                    0.192706   \n",
       "2nd_Road_Class                                      0.120061   \n",
       "2nd_Road_Number                                     1.000000   \n",
       "Pedestrian_Crossing-Human_Control                   0.009440   \n",
       "Pedestrian_Crossing-Physical_Facilities             0.106482   \n",
       "Light_Conditions                                   -0.004009   \n",
       "Weather_Conditions                                 -0.008160   \n",
       "Road_Surface_Conditions                             0.001154   \n",
       "Special_Conditions_at_Site                         -0.000295   \n",
       "Carriageway_Hazards                                -0.010607   \n",
       "Urban_or_Rural_Area                                -0.022766   \n",
       "Did_Police_Officer_Attend_Scene_of_Accident        -0.009697   \n",
       "\n",
       "                                             Pedestrian_Crossing-Human_Control  \\\n",
       "Longitude                                                            -0.046081   \n",
       "Latitude                                                              0.041518   \n",
       "Police_Force                                                          0.072407   \n",
       "Accident_Severity                                                    -0.027597   \n",
       "Number_of_Vehicles                                                   -0.007366   \n",
       "Number_of_Casualties                                                  0.014519   \n",
       "Day_of_Week                                                          -0.002213   \n",
       "1st_Road_Class                                                        0.000127   \n",
       "1st_Road_Number                                                       0.019741   \n",
       "Road_Type                                                            -0.061077   \n",
       "Speed_limit                                                           0.018461   \n",
       "Junction_Detail                                                       0.043835   \n",
       "Junction_Control                                                      0.066238   \n",
       "2nd_Road_Class                                                       -0.000217   \n",
       "2nd_Road_Number                                                       0.009440   \n",
       "Pedestrian_Crossing-Human_Control                                     1.000000   \n",
       "Pedestrian_Crossing-Physical_Facilities                               0.125469   \n",
       "Light_Conditions                                                     -0.017420   \n",
       "Weather_Conditions                                                   -0.111570   \n",
       "Road_Surface_Conditions                                               0.109979   \n",
       "Special_Conditions_at_Site                                            0.064458   \n",
       "Carriageway_Hazards                                                   0.079188   \n",
       "Urban_or_Rural_Area                                                   0.020897   \n",
       "Did_Police_Officer_Attend_Scene_of_Accident                          -0.176151   \n",
       "\n",
       "                                             Pedestrian_Crossing-Physical_Facilities  \\\n",
       "Longitude                                                                   0.047364   \n",
       "Latitude                                                                   -0.026188   \n",
       "Police_Force                                                               -0.136817   \n",
       "Accident_Severity                                                           0.006760   \n",
       "Number_of_Vehicles                                                         -0.060027   \n",
       "Number_of_Casualties                                                       -0.030500   \n",
       "Day_of_Week                                                                 0.003093   \n",
       "1st_Road_Class                                                             -0.111182   \n",
       "1st_Road_Number                                                             0.066639   \n",
       "Road_Type                                                                  -0.069101   \n",
       "Speed_limit                                                                -0.198777   \n",
       "Junction_Detail                                                             0.187907   \n",
       "Junction_Control                                                            0.090434   \n",
       "2nd_Road_Class                                                              0.142927   \n",
       "2nd_Road_Number                                                             0.106482   \n",
       "Pedestrian_Crossing-Human_Control                                           0.125469   \n",
       "Pedestrian_Crossing-Physical_Facilities                                     1.000000   \n",
       "Light_Conditions                                                            0.001702   \n",
       "Weather_Conditions                                                         -0.028858   \n",
       "Road_Surface_Conditions                                                    -0.008597   \n",
       "Special_Conditions_at_Site                                                  0.000534   \n",
       "Carriageway_Hazards                                                         0.010626   \n",
       "Urban_or_Rural_Area                                                        -0.231311   \n",
       "Did_Police_Officer_Attend_Scene_of_Accident                                -0.017782   \n",
       "\n",
       "                                             Light_Conditions  \\\n",
       "Longitude                                            0.016502   \n",
       "Latitude                                            -0.021449   \n",
       "Police_Force                                        -0.001792   \n",
       "Accident_Severity                                   -0.052233   \n",
       "Number_of_Vehicles                                  -0.065988   \n",
       "Number_of_Casualties                                 0.023112   \n",
       "Day_of_Week                                          0.012656   \n",
       "1st_Road_Class                                      -0.035520   \n",
       "1st_Road_Number                                      0.004870   \n",
       "Road_Type                                           -0.007728   \n",
       "Speed_limit                                          0.059018   \n",
       "Junction_Detail                                     -0.034404   \n",
       "Junction_Control                                    -0.054074   \n",
       "2nd_Road_Class                                      -0.046829   \n",
       "2nd_Road_Number                                     -0.004009   \n",
       "Pedestrian_Crossing-Human_Control                   -0.017420   \n",
       "Pedestrian_Crossing-Physical_Facilities              0.001702   \n",
       "Light_Conditions                                     1.000000   \n",
       "Weather_Conditions                                   0.104086   \n",
       "Road_Surface_Conditions                              0.166020   \n",
       "Special_Conditions_at_Site                           0.005712   \n",
       "Carriageway_Hazards                                  0.034319   \n",
       "Urban_or_Rural_Area                                  0.035309   \n",
       "Did_Police_Officer_Attend_Scene_of_Accident         -0.031773   \n",
       "\n",
       "                                             Weather_Conditions  \\\n",
       "Longitude                                             -0.006119   \n",
       "Latitude                                               0.022705   \n",
       "Police_Force                                          -0.052917   \n",
       "Accident_Severity                                      0.030151   \n",
       "Number_of_Vehicles                                    -0.032182   \n",
       "Number_of_Casualties                                  -0.023564   \n",
       "Day_of_Week                                            0.007466   \n",
       "1st_Road_Class                                         0.005580   \n",
       "1st_Road_Number                                        0.003662   \n",
       "Road_Type                                              0.045764   \n",
       "Speed_limit                                           -0.013781   \n",
       "Junction_Detail                                       -0.023873   \n",
       "Junction_Control                                      -0.046319   \n",
       "2nd_Road_Class                                        -0.013822   \n",
       "2nd_Road_Number                                       -0.008160   \n",
       "Pedestrian_Crossing-Human_Control                     -0.111570   \n",
       "Pedestrian_Crossing-Physical_Facilities               -0.028858   \n",
       "Light_Conditions                                       0.104086   \n",
       "Weather_Conditions                                     1.000000   \n",
       "Road_Surface_Conditions                                0.084457   \n",
       "Special_Conditions_at_Site                            -0.034376   \n",
       "Carriageway_Hazards                                   -0.040887   \n",
       "Urban_or_Rural_Area                                   -0.012429   \n",
       "Did_Police_Officer_Attend_Scene_of_Accident            0.128791   \n",
       "\n",
       "                                             Road_Surface_Conditions  \\\n",
       "Longitude                                                  -0.055215   \n",
       "Latitude                                                    0.041236   \n",
       "Police_Force                                                0.083769   \n",
       "Accident_Severity                                          -0.009673   \n",
       "Number_of_Vehicles                                         -0.030266   \n",
       "Number_of_Casualties                                        0.024204   \n",
       "Day_of_Week                                                 0.004203   \n",
       "1st_Road_Class                                              0.001217   \n",
       "1st_Road_Number                                             0.014477   \n",
       "Road_Type                                                  -0.032485   \n",
       "Speed_limit                                                 0.112908   \n",
       "Junction_Detail                                            -0.035836   \n",
       "Junction_Control                                           -0.020282   \n",
       "2nd_Road_Class                                             -0.054851   \n",
       "2nd_Road_Number                                             0.001154   \n",
       "Pedestrian_Crossing-Human_Control                           0.109979   \n",
       "Pedestrian_Crossing-Physical_Facilities                    -0.008597   \n",
       "Light_Conditions                                            0.166020   \n",
       "Weather_Conditions                                          0.084457   \n",
       "Road_Surface_Conditions                                     1.000000   \n",
       "Special_Conditions_at_Site                                  0.074407   \n",
       "Carriageway_Hazards                                         0.062346   \n",
       "Urban_or_Rural_Area                                         0.114805   \n",
       "Did_Police_Officer_Attend_Scene_of_Accident                -0.121092   \n",
       "\n",
       "                                             Special_Conditions_at_Site  \\\n",
       "Longitude                                                     -0.023756   \n",
       "Latitude                                                       0.016686   \n",
       "Police_Force                                                   0.025678   \n",
       "Accident_Severity                                             -0.010681   \n",
       "Number_of_Vehicles                                            -0.004110   \n",
       "Number_of_Casualties                                           0.012653   \n",
       "Day_of_Week                                                   -0.004059   \n",
       "1st_Road_Class                                                -0.020653   \n",
       "1st_Road_Number                                                0.004259   \n",
       "Road_Type                                                     -0.019655   \n",
       "Speed_limit                                                    0.063087   \n",
       "Junction_Detail                                               -0.025372   \n",
       "Junction_Control                                              -0.026906   \n",
       "2nd_Road_Class                                                -0.044292   \n",
       "2nd_Road_Number                                               -0.000295   \n",
       "Pedestrian_Crossing-Human_Control                              0.064458   \n",
       "Pedestrian_Crossing-Physical_Facilities                        0.000534   \n",
       "Light_Conditions                                               0.005712   \n",
       "Weather_Conditions                                            -0.034376   \n",
       "Road_Surface_Conditions                                        0.074407   \n",
       "Special_Conditions_at_Site                                     1.000000   \n",
       "Carriageway_Hazards                                            0.061281   \n",
       "Urban_or_Rural_Area                                            0.071730   \n",
       "Did_Police_Officer_Attend_Scene_of_Accident                   -0.047825   \n",
       "\n",
       "                                             Carriageway_Hazards  \\\n",
       "Longitude                                              -0.014916   \n",
       "Latitude                                               -0.000740   \n",
       "Police_Force                                            0.028654   \n",
       "Accident_Severity                                      -0.012046   \n",
       "Number_of_Vehicles                                     -0.024270   \n",
       "Number_of_Casualties                                    0.007368   \n",
       "Day_of_Week                                            -0.001165   \n",
       "1st_Road_Class                                         -0.005337   \n",
       "1st_Road_Number                                         0.001306   \n",
       "Road_Type                                              -0.016983   \n",
       "Speed_limit                                             0.051992   \n",
       "Junction_Detail                                        -0.023433   \n",
       "Junction_Control                                       -0.027325   \n",
       "2nd_Road_Class                                         -0.049275   \n",
       "2nd_Road_Number                                        -0.010607   \n",
       "Pedestrian_Crossing-Human_Control                       0.079188   \n",
       "Pedestrian_Crossing-Physical_Facilities                 0.010626   \n",
       "Light_Conditions                                        0.034319   \n",
       "Weather_Conditions                                     -0.040887   \n",
       "Road_Surface_Conditions                                 0.062346   \n",
       "Special_Conditions_at_Site                              0.061281   \n",
       "Carriageway_Hazards                                     1.000000   \n",
       "Urban_or_Rural_Area                                     0.051126   \n",
       "Did_Police_Officer_Attend_Scene_of_Accident            -0.060345   \n",
       "\n",
       "                                             Urban_or_Rural_Area  \\\n",
       "Longitude                                              -0.112690   \n",
       "Latitude                                                0.030670   \n",
       "Police_Force                                            0.330631   \n",
       "Accident_Severity                                      -0.087460   \n",
       "Number_of_Vehicles                                      0.071188   \n",
       "Number_of_Casualties                                    0.134524   \n",
       "Day_of_Week                                            -0.018762   \n",
       "1st_Road_Class                                         -0.208871   \n",
       "1st_Road_Number                                         0.002944   \n",
       "Road_Type                                              -0.049149   \n",
       "Speed_limit                                             0.670235   \n",
       "Junction_Detail                                        -0.207429   \n",
       "Junction_Control                                       -0.178207   \n",
       "2nd_Road_Class                                         -0.256474   \n",
       "2nd_Road_Number                                        -0.022766   \n",
       "Pedestrian_Crossing-Human_Control                       0.020897   \n",
       "Pedestrian_Crossing-Physical_Facilities                -0.231311   \n",
       "Light_Conditions                                        0.035309   \n",
       "Weather_Conditions                                     -0.012429   \n",
       "Road_Surface_Conditions                                 0.114805   \n",
       "Special_Conditions_at_Site                              0.071730   \n",
       "Carriageway_Hazards                                     0.051126   \n",
       "Urban_or_Rural_Area                                     1.000000   \n",
       "Did_Police_Officer_Attend_Scene_of_Accident            -0.115420   \n",
       "\n",
       "                                             Did_Police_Officer_Attend_Scene_of_Accident  \n",
       "Longitude                                                                       0.066355  \n",
       "Latitude                                                                        0.028967  \n",
       "Police_Force                                                                   -0.018460  \n",
       "Accident_Severity                                                               0.134250  \n",
       "Number_of_Vehicles                                                             -0.044956  \n",
       "Number_of_Casualties                                                           -0.099583  \n",
       "Day_of_Week                                                                     0.002626  \n",
       "1st_Road_Class                                                                  0.094640  \n",
       "1st_Road_Number                                                                -0.027317  \n",
       "Road_Type                                                                       0.034122  \n",
       "Speed_limit                                                                    -0.131479  \n",
       "Junction_Detail                                                                -0.057170  \n",
       "Junction_Control                                                               -0.071739  \n",
       "2nd_Road_Class                                                                 -0.006699  \n",
       "2nd_Road_Number                                                                -0.009697  \n",
       "Pedestrian_Crossing-Human_Control                                              -0.176151  \n",
       "Pedestrian_Crossing-Physical_Facilities                                        -0.017782  \n",
       "Light_Conditions                                                               -0.031773  \n",
       "Weather_Conditions                                                              0.128791  \n",
       "Road_Surface_Conditions                                                        -0.121092  \n",
       "Special_Conditions_at_Site                                                     -0.047825  \n",
       "Carriageway_Hazards                                                            -0.060345  \n",
       "Urban_or_Rural_Area                                                            -0.115420  \n",
       "Did_Police_Officer_Attend_Scene_of_Accident                                     1.000000  \n",
       "\n",
       "[24 rows x 24 columns]"
      ]
     },
     "execution_count": 196,
     "metadata": {},
     "output_type": "execute_result"
    }
   ],
   "source": [
    "corr=df_cleaned.corr()\n",
    "corr"
   ]
  },
  {
   "cell_type": "code",
   "execution_count": 197,
   "metadata": {},
   "outputs": [
    {
     "data": {
      "text/plain": [
       "<matplotlib.axes._subplots.AxesSubplot at 0x17ec12310>"
      ]
     },
     "execution_count": 197,
     "metadata": {},
     "output_type": "execute_result"
    },
    {
     "data": {
      "image/png": "[encoded data removed]",
      "text/plain": [
       "<Figure size 720x720 with 2 Axes>"
      ]
     },
     "metadata": {
      "needs_background": "light"
     },
     "output_type": "display_data"
    }
   ],
   "source": [
    "fig, ax=plt.subplots(figsize=(10,10))\n",
    "sns.heatmap(corr,square=True)"
   ]
  },
  {
   "cell_type": "markdown",
   "metadata": {},
   "source": [
    "<h3>5. Scatter Plot</h3>\n",
    "<h5>A. Grid scatter plot using Seaborn</h5>"
   ]
  },
  {
   "cell_type": "code",
   "execution_count": 198,
   "metadata": {},
   "outputs": [
    {
     "data": {
      "text/html": [
       "<div>\n",
       "<style scoped>\n",
       "    .dataframe tbody tr th:only-of-type {\n",
       "        vertical-align: middle;\n",
       "    }\n",
       "\n",
       "    .dataframe tbody tr th {\n",
       "        vertical-align: top;\n",
       "    }\n",
       "\n",
       "    .dataframe thead th {\n",
       "        text-align: right;\n",
       "    }\n",
       "</style>\n",
       "<table border=\"1\" class=\"dataframe\">\n",
       "  <thead>\n",
       "    <tr style=\"text-align: right;\">\n",
       "      <th></th>\n",
       "      <th>Number_of_Casualties</th>\n",
       "      <th>Road_Type</th>\n",
       "      <th>Weather_Conditions</th>\n",
       "      <th>Light_Conditions</th>\n",
       "      <th>Urban_or_Rural_Area</th>\n",
       "      <th>Road_Surface_Conditions</th>\n",
       "      <th>Speed_limit</th>\n",
       "      <th>Day_of_Week</th>\n",
       "      <th>Accident_Severity</th>\n",
       "    </tr>\n",
       "  </thead>\n",
       "  <tbody>\n",
       "    <tr>\n",
       "      <th>0</th>\n",
       "      <td>2</td>\n",
       "      <td>3</td>\n",
       "      <td>1</td>\n",
       "      <td>4</td>\n",
       "      <td>1</td>\n",
       "      <td>1</td>\n",
       "      <td>30</td>\n",
       "      <td>2</td>\n",
       "      <td>3</td>\n",
       "    </tr>\n",
       "    <tr>\n",
       "      <th>1</th>\n",
       "      <td>1</td>\n",
       "      <td>6</td>\n",
       "      <td>1</td>\n",
       "      <td>4</td>\n",
       "      <td>1</td>\n",
       "      <td>1</td>\n",
       "      <td>30</td>\n",
       "      <td>2</td>\n",
       "      <td>3</td>\n",
       "    </tr>\n",
       "    <tr>\n",
       "      <th>2</th>\n",
       "      <td>1</td>\n",
       "      <td>6</td>\n",
       "      <td>1</td>\n",
       "      <td>4</td>\n",
       "      <td>1</td>\n",
       "      <td>1</td>\n",
       "      <td>20</td>\n",
       "      <td>2</td>\n",
       "      <td>3</td>\n",
       "    </tr>\n",
       "    <tr>\n",
       "      <th>3</th>\n",
       "      <td>1</td>\n",
       "      <td>3</td>\n",
       "      <td>2</td>\n",
       "      <td>4</td>\n",
       "      <td>1</td>\n",
       "      <td>2</td>\n",
       "      <td>30</td>\n",
       "      <td>2</td>\n",
       "      <td>2</td>\n",
       "    </tr>\n",
       "    <tr>\n",
       "      <th>4</th>\n",
       "      <td>2</td>\n",
       "      <td>6</td>\n",
       "      <td>1</td>\n",
       "      <td>4</td>\n",
       "      <td>1</td>\n",
       "      <td>2</td>\n",
       "      <td>30</td>\n",
       "      <td>2</td>\n",
       "      <td>2</td>\n",
       "    </tr>\n",
       "    <tr>\n",
       "      <th>...</th>\n",
       "      <td>...</td>\n",
       "      <td>...</td>\n",
       "      <td>...</td>\n",
       "      <td>...</td>\n",
       "      <td>...</td>\n",
       "      <td>...</td>\n",
       "      <td>...</td>\n",
       "      <td>...</td>\n",
       "      <td>...</td>\n",
       "    </tr>\n",
       "    <tr>\n",
       "      <th>116225</th>\n",
       "      <td>2</td>\n",
       "      <td>6</td>\n",
       "      <td>1</td>\n",
       "      <td>6</td>\n",
       "      <td>2</td>\n",
       "      <td>2</td>\n",
       "      <td>60</td>\n",
       "      <td>3</td>\n",
       "      <td>3</td>\n",
       "    </tr>\n",
       "    <tr>\n",
       "      <th>116226</th>\n",
       "      <td>1</td>\n",
       "      <td>6</td>\n",
       "      <td>1</td>\n",
       "      <td>1</td>\n",
       "      <td>2</td>\n",
       "      <td>1</td>\n",
       "      <td>30</td>\n",
       "      <td>6</td>\n",
       "      <td>3</td>\n",
       "    </tr>\n",
       "    <tr>\n",
       "      <th>116227</th>\n",
       "      <td>1</td>\n",
       "      <td>6</td>\n",
       "      <td>1</td>\n",
       "      <td>1</td>\n",
       "      <td>2</td>\n",
       "      <td>1</td>\n",
       "      <td>30</td>\n",
       "      <td>4</td>\n",
       "      <td>3</td>\n",
       "    </tr>\n",
       "    <tr>\n",
       "      <th>116228</th>\n",
       "      <td>1</td>\n",
       "      <td>6</td>\n",
       "      <td>9</td>\n",
       "      <td>4</td>\n",
       "      <td>2</td>\n",
       "      <td>2</td>\n",
       "      <td>40</td>\n",
       "      <td>2</td>\n",
       "      <td>3</td>\n",
       "    </tr>\n",
       "    <tr>\n",
       "      <th>116229</th>\n",
       "      <td>1</td>\n",
       "      <td>6</td>\n",
       "      <td>1</td>\n",
       "      <td>1</td>\n",
       "      <td>2</td>\n",
       "      <td>1</td>\n",
       "      <td>30</td>\n",
       "      <td>7</td>\n",
       "      <td>1</td>\n",
       "    </tr>\n",
       "  </tbody>\n",
       "</table>\n",
       "<p>116175 rows × 9 columns</p>\n",
       "</div>"
      ],
      "text/plain": [
       "        Number_of_Casualties  Road_Type  Weather_Conditions  Light_Conditions  \\\n",
       "0                          2          3                   1                 4   \n",
       "1                          1          6                   1                 4   \n",
       "2                          1          6                   1                 4   \n",
       "3                          1          3                   2                 4   \n",
       "4                          2          6                   1                 4   \n",
       "...                      ...        ...                 ...               ...   \n",
       "116225                     2          6                   1                 6   \n",
       "116226                     1          6                   1                 1   \n",
       "116227                     1          6                   1                 1   \n",
       "116228                     1          6                   9                 4   \n",
       "116229                     1          6                   1                 1   \n",
       "\n",
       "        Urban_or_Rural_Area  Road_Surface_Conditions  Speed_limit  \\\n",
       "0                         1                        1           30   \n",
       "1                         1                        1           30   \n",
       "2                         1                        1           20   \n",
       "3                         1                        2           30   \n",
       "4                         1                        2           30   \n",
       "...                     ...                      ...          ...   \n",
       "116225                    2                        2           60   \n",
       "116226                    2                        1           30   \n",
       "116227                    2                        1           30   \n",
       "116228                    2                        2           40   \n",
       "116229                    2                        1           30   \n",
       "\n",
       "        Day_of_Week  Accident_Severity  \n",
       "0                 2                  3  \n",
       "1                 2                  3  \n",
       "2                 2                  3  \n",
       "3                 2                  2  \n",
       "4                 2                  2  \n",
       "...             ...                ...  \n",
       "116225            3                  3  \n",
       "116226            6                  3  \n",
       "116227            4                  3  \n",
       "116228            2                  3  \n",
       "116229            7                  1  \n",
       "\n",
       "[116175 rows x 9 columns]"
      ]
     },
     "execution_count": 198,
     "metadata": {},
     "output_type": "execute_result"
    }
   ],
   "source": [
    "numerical_data=df_cleaned.select_dtypes(include=['number'])\n",
    "c5=['Number_of_Casualties','Road_Type','Weather_Conditions','Light_Conditions','Urban_or_Rural_Area','Road_Surface_Conditions','Speed_limit','Day_of_Week','Accident_Severity']\n",
    "numerical_data_filtered=numerical_data[c5]\n",
    "numerical_data_filtered"
   ]
  },
  {
   "cell_type": "code",
   "execution_count": 199,
   "metadata": {},
   "outputs": [
    {
     "data": {
      "text/plain": [
       "<seaborn.axisgrid.PairGrid at 0x15faaa710>"
      ]
     },
     "execution_count": 199,
     "metadata": {},
     "output_type": "execute_result"
    },
    {
     "data": {
      "image/png": "[encoded data removed]",
      "text/plain": [
       "<Figure size 1620x1620 with 81 Axes>"
      ]
     },
     "metadata": {
      "needs_background": "light"
     },
     "output_type": "display_data"
    }
   ],
   "source": [
    "g=sns.PairGrid(numerical_data_filtered)\n",
    "g.map(plt.scatter)"
   ]
  },
  {
   "cell_type": "markdown",
   "metadata": {},
   "source": [
    "<h5>B. 3 Variable scatterplot using Seaborn</h5>"
   ]
  },
  {
   "cell_type": "code",
   "execution_count": 200,
   "metadata": {},
   "outputs": [
    {
     "data": {
      "image/png": "[encoded data removed]",
      "text/plain": [
       "<Figure size 360x360 with 1 Axes>"
      ]
     },
     "metadata": {
      "needs_background": "light"
     },
     "output_type": "display_data"
    }
   ],
   "source": [
    "plt.figure(figsize=(5,5))\n",
    "plt.subplot(1,1,1)\n",
    "sns.scatterplot(x='Accident_Severity', y='Speed_limit', hue='Weather_Conditions',palette=sns.color_palette(\"muted\",n_colors=9),data=df_cleaned)\n",
    "plt.legend(loc=4,bbox_to_anchor=(1.50,0.60))\n",
    "plt.show()"
   ]
  },
  {
   "cell_type": "code",
   "execution_count": 201,
   "metadata": {},
   "outputs": [
    {
     "data": {
      "image/png": "[encoded data removed]",
      "text/plain": [
       "<Figure size 360x360 with 1 Axes>"
      ]
     },
     "metadata": {
      "needs_background": "light"
     },
     "output_type": "display_data"
    }
   ],
   "source": [
    "plt.figure(figsize=(5,5))\n",
    "plt.subplot(1,1,1)\n",
    "sns.scatterplot(x='Accident_Severity', y='Light_Conditions', hue='Speed_limit',palette=sns.color_palette(\"muted\",n_colors=6),data=df_cleaned)\n",
    "plt.legend(loc=4,bbox_to_anchor=(1.40,0.60))\n",
    "plt.show()"
   ]
  },
  {
   "cell_type": "code",
   "execution_count": 202,
   "metadata": {},
   "outputs": [
    {
     "data": {
      "image/png": "[encoded data removed]",
      "text/plain": [
       "<Figure size 360x360 with 1 Axes>"
      ]
     },
     "metadata": {
      "needs_background": "light"
     },
     "output_type": "display_data"
    }
   ],
   "source": [
    "plt.figure(figsize=(5,5))\n",
    "plt.subplot(1,1,1)\n",
    "sns.scatterplot(x='Accident_Severity', y='Light_Conditions', hue='Weather_Conditions',palette=sns.color_palette(\"muted\",n_colors=9),data=df_cleaned)\n",
    "plt.legend(loc=4,bbox_to_anchor=(1.55,0.60))\n",
    "plt.show()"
   ]
  },
  {
   "cell_type": "code",
   "execution_count": 203,
   "metadata": {},
   "outputs": [
    {
     "data": {
      "image/png": "[encoded data removed]",
      "text/plain": [
       "<Figure size 360x360 with 1 Axes>"
      ]
     },
     "metadata": {
      "needs_background": "light"
     },
     "output_type": "display_data"
    }
   ],
   "source": [
    "plt.figure(figsize=(5,5))\n",
    "plt.subplot(1,1,1)\n",
    "sns.scatterplot(x='Road_Surface_Conditions', y='Speed_limit', hue='Accident_Severity',palette=sns.color_palette(\"muted\",n_colors=3),data=df_cleaned)\n",
    "plt.legend(loc=4,bbox_to_anchor=(1.55,0.60))\n",
    "plt.show()"
   ]
  },
  {
   "cell_type": "markdown",
   "metadata": {},
   "source": [
    "<h3>6. Using Pandas Profiling Library </h3>\n"
   ]
  },
  {
   "cell_type": "code",
   "execution_count": 204,
   "metadata": {},
   "outputs": [
    {
     "data": {
      "application/vnd.jupyter.widget-view+json": {
       "model_id": "4d86d84459d043898b542ce5e25df362",
       "version_major": 2,
       "version_minor": 0
      },
      "text/plain": [
       "HBox(children=(FloatProgress(value=0.0, description='Summarize dataset', max=46.0, style=ProgressStyle(descrip…"
      ]
     },
     "metadata": {},
     "output_type": "display_data"
    },
    {
     "name": "stdout",
     "output_type": "stream",
     "text": [
      "\n"
     ]
    },
    {
     "data": {
      "application/vnd.jupyter.widget-view+json": {
       "model_id": "aa31d93846ff4b8a99cb5a6a3154309d",
       "version_major": 2,
       "version_minor": 0
      },
      "text/plain": [
       "HBox(children=(FloatProgress(value=0.0, description='Generate report structure', max=1.0, style=ProgressStyle(…"
      ]
     },
     "metadata": {},
     "output_type": "display_data"
    },
    {
     "name": "stdout",
     "output_type": "stream",
     "text": [
      "\n"
     ]
    },
    {
     "data": {
      "application/vnd.jupyter.widget-view+json": {
       "model_id": "846e7f27a8d54fcbbffa917f6361394a",
       "version_major": 2,
       "version_minor": 0
      },
      "text/plain": [
       "HBox(children=(FloatProgress(value=0.0, description='Render HTML', max=1.0, style=ProgressStyle(description_wi…"
      ]
     },
     "metadata": {},
     "output_type": "display_data"
    },
    {
     "name": "stdout",
     "output_type": "stream",
     "text": [
      "\n"
     ]
    },
    {
     "data": {
      "application/vnd.jupyter.widget-view+json": {
       "model_id": "1d3ae285cf534f81bef236b99c3e4768",
       "version_major": 2,
       "version_minor": 0
      },
      "text/plain": [
       "HBox(children=(FloatProgress(value=0.0, description='Export report to file', max=1.0, style=ProgressStyle(desc…"
      ]
     },
     "metadata": {},
     "output_type": "display_data"
    },
    {
     "name": "stdout",
     "output_type": "stream",
     "text": [
      "\n"
     ]
    }
   ],
   "source": [
    "# Generate the Profiling Report on Uncleaned Data\n",
    "profile = pp.ProfileReport(df, title=\"UK Accident Data-2018\", explorative=True,html={'style': {'full_width': True}}, sort=\"None\")\n",
    "# The Notebook Widgets Interface\n",
    "profile.to_file('Data/RealUKAccidentAnalysisData/dftRoadSafetyData_Accidents_2018.html')"
   ]
  },
  {
   "cell_type": "code",
   "execution_count": 205,
   "metadata": {},
   "outputs": [
    {
     "data": {
      "application/vnd.jupyter.widget-view+json": {
       "model_id": "5c04ad0b194040daa62a17eb6583f1d6",
       "version_major": 2,
       "version_minor": 0
      },
      "text/plain": [
       "HBox(children=(FloatProgress(value=0.0, description='Summarize dataset', max=44.0, style=ProgressStyle(descrip…"
      ]
     },
     "metadata": {},
     "output_type": "display_data"
    },
    {
     "name": "stdout",
     "output_type": "stream",
     "text": [
      "\n"
     ]
    },
    {
     "data": {
      "application/vnd.jupyter.widget-view+json": {
       "model_id": "a42778bc41d74f48b9de169baed18e3d",
       "version_major": 2,
       "version_minor": 0
      },
      "text/plain": [
       "HBox(children=(FloatProgress(value=0.0, description='Generate report structure', max=1.0, style=ProgressStyle(…"
      ]
     },
     "metadata": {},
     "output_type": "display_data"
    },
    {
     "name": "stdout",
     "output_type": "stream",
     "text": [
      "\n"
     ]
    },
    {
     "data": {
      "application/vnd.jupyter.widget-view+json": {
       "model_id": "a267cbb7fa304e5faba0af0694c44912",
       "version_major": 2,
       "version_minor": 0
      },
      "text/plain": [
       "HBox(children=(FloatProgress(value=0.0, description='Render HTML', max=1.0, style=ProgressStyle(description_wi…"
      ]
     },
     "metadata": {},
     "output_type": "display_data"
    },
    {
     "name": "stdout",
     "output_type": "stream",
     "text": [
      "\n"
     ]
    },
    {
     "data": {
      "application/vnd.jupyter.widget-view+json": {
       "model_id": "4f3b1e19fcad42aa8ddeff15d10e9d90",
       "version_major": 2,
       "version_minor": 0
      },
      "text/plain": [
       "HBox(children=(FloatProgress(value=0.0, description='Export report to file', max=1.0, style=ProgressStyle(desc…"
      ]
     },
     "metadata": {},
     "output_type": "display_data"
    },
    {
     "name": "stdout",
     "output_type": "stream",
     "text": [
      "\n"
     ]
    }
   ],
   "source": [
    "# Generate the Profiling Report on Cleaned Data\n",
    "profile = pp.ProfileReport(df_cleaned, title=\"UK Accident Data-2018\", explorative=True,html={'style': {'full_width': True}}, sort=\"None\")\n",
    "# The Notebook Widgets Interface\n",
    "profile.to_file('Data/RealUKAccidentAnalysisData/dftRoadSafetyData_Accidents_2018_cleaned.html')"
   ]
  }
 ],
 "metadata": {
  "kernelspec": {
   "display_name": "Python 3",
   "language": "python",
   "name": "python3"
  },
  "language_info": {
   "codemirror_mode": {
    "name": "ipython",
    "version": 3
   },
   "file_extension": ".py",
   "mimetype": "text/x-python",
   "name": "python",
   "nbconvert_exporter": "python",
   "pygments_lexer": "ipython3",
   "version": "3.7.4"
  }
 },
 "nbformat": 4,
 "nbformat_minor": 2
}
