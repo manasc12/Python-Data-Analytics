{
  "nbformat": 4,
  "nbformat_minor": 0,
  "metadata": {
    "colab": {
      "name": "RandomForest_Implementation_1.0.ipynb",
      "provenance": [],
      "collapsed_sections": [],
      "toc_visible": true,
      "include_colab_link": true
    },
    "kernelspec": {
      "display_name": "Python 3",
      "language": "python",
      "name": "python3"
    },
    "language_info": {
      "codemirror_mode": {
        "name": "ipython",
        "version": 3
      },
      "file_extension": ".py",
      "mimetype": "text/x-python",
      "name": "python",
      "nbconvert_exporter": "python",
      "pygments_lexer": "ipython3",
      "version": "3.7.4"
    }
  },
  "cells": [
    {
      "cell_type": "markdown",
      "metadata": {
        "id": "view-in-github",
        "colab_type": "text"
      },
      "source": [
        "<a href=\"https://colab.research.google.com/github/manasc12/RoadMishapRiskAssessment/blob/master/RandomForest_Implementation_1_0.ipynb\" target=\"_parent\"><img src=\"https://colab.research.google.com/assets/colab-badge.svg\" alt=\"Open In Colab\"/></a>"
      ]
    },
    {
      "cell_type": "markdown",
      "metadata": {
        "colab_type": "text",
        "id": "pbahAQ1j082U"
      },
      "source": [
        "<h1> Implementing Random Forest Classifier </h1>\n",
        "<h3> Importing Required Libraries </h3>"
      ]
    },
    {
      "cell_type": "code",
      "metadata": {
        "colab_type": "code",
        "id": "C2faqwtmJaAJ",
        "colab": {
          "base_uri": "https://localhost:8080/",
          "height": 122
        },
        "outputId": "26f012d5-bf06-4cd4-96df-aa3e113d1178"
      },
      "source": [
        "from google.colab import drive\n",
        "drive.mount('/content/drive')"
      ],
      "execution_count": null,
      "outputs": [
        {
          "output_type": "stream",
          "text": [
            "Go to this URL in a browser: https://accounts.google.com/o/oauth2/auth?client_id=947318989803-6bn6qk8qdgf4n4g3pfee6491hc0brc4i.apps.googleusercontent.com&redirect_uri=urn%3aietf%3awg%3aoauth%3a2.0%3aoob&response_type=code&scope=email%20https%3a%2f%2fwww.googleapis.com%2fauth%2fdocs.test%20https%3a%2f%2fwww.googleapis.com%2fauth%2fdrive%20https%3a%2f%2fwww.googleapis.com%2fauth%2fdrive.photos.readonly%20https%3a%2f%2fwww.googleapis.com%2fauth%2fpeopleapi.readonly\n",
            "\n",
            "Enter your authorization code:\n",
            "··········\n",
            "Mounted at /content/drive\n"
          ],
          "name": "stdout"
        }
      ]
    },
    {
      "cell_type": "code",
      "metadata": {
        "colab_type": "code",
        "id": "aLwB34YY082V",
        "colab": {}
      },
      "source": [
        "import pandas as pd\n",
        "import numpy as np\n",
        "from sklearn import svm\n",
        "from sklearn import datasets"
      ],
      "execution_count": null,
      "outputs": []
    },
    {
      "cell_type": "markdown",
      "metadata": {
        "colab_type": "text",
        "id": "5QzFrj1Z082Z"
      },
      "source": [
        "<h3> Reading the Data from CSV file </h3>"
      ]
    },
    {
      "cell_type": "code",
      "metadata": {
        "colab_type": "code",
        "id": "uoP6lDuG082a",
        "colab": {
          "base_uri": "https://localhost:8080/",
          "height": 241
        },
        "outputId": "36d2eaed-da9e-43d3-e75c-86e862ce69a3"
      },
      "source": [
        "df_Acc=pd.read_csv('/Users/manasc12/MyProjects/Data/Accidents0515.csv')\n",
        "df_Acc.head(5)"
      ],
      "execution_count": null,
      "outputs": [
        {
          "output_type": "execute_result",
          "data": {
            "text/html": [
              "<div>\n",
              "<style scoped>\n",
              "    .dataframe tbody tr th:only-of-type {\n",
              "        vertical-align: middle;\n",
              "    }\n",
              "\n",
              "    .dataframe tbody tr th {\n",
              "        vertical-align: top;\n",
              "    }\n",
              "\n",
              "    .dataframe thead th {\n",
              "        text-align: right;\n",
              "    }\n",
              "</style>\n",
              "<table border=\"1\" class=\"dataframe\">\n",
              "  <thead>\n",
              "    <tr style=\"text-align: right;\">\n",
              "      <th></th>\n",
              "      <th>Accident_Index</th>\n",
              "      <th>Location_Easting_OSGR</th>\n",
              "      <th>Location_Northing_OSGR</th>\n",
              "      <th>Longitude</th>\n",
              "      <th>Latitude</th>\n",
              "      <th>Police_Force</th>\n",
              "      <th>Accident_Severity</th>\n",
              "      <th>Number_of_Vehicles</th>\n",
              "      <th>Number_of_Casualties</th>\n",
              "      <th>Date</th>\n",
              "      <th>...</th>\n",
              "      <th>Pedestrian_Crossing-Human_Control</th>\n",
              "      <th>Pedestrian_Crossing-Physical_Facilities</th>\n",
              "      <th>Light_Conditions</th>\n",
              "      <th>Weather_Conditions</th>\n",
              "      <th>Road_Surface_Conditions</th>\n",
              "      <th>Special_Conditions_at_Site</th>\n",
              "      <th>Carriageway_Hazards</th>\n",
              "      <th>Urban_or_Rural_Area</th>\n",
              "      <th>Did_Police_Officer_Attend_Scene_of_Accident</th>\n",
              "      <th>LSOA_of_Accident_Location</th>\n",
              "    </tr>\n",
              "  </thead>\n",
              "  <tbody>\n",
              "    <tr>\n",
              "      <th>0</th>\n",
              "      <td>200501BS00001</td>\n",
              "      <td>525680.0</td>\n",
              "      <td>178240.0</td>\n",
              "      <td>-0.191170</td>\n",
              "      <td>51.489096</td>\n",
              "      <td>1</td>\n",
              "      <td>2</td>\n",
              "      <td>1</td>\n",
              "      <td>1</td>\n",
              "      <td>04/01/2005</td>\n",
              "      <td>...</td>\n",
              "      <td>0</td>\n",
              "      <td>1</td>\n",
              "      <td>1</td>\n",
              "      <td>2</td>\n",
              "      <td>2</td>\n",
              "      <td>0</td>\n",
              "      <td>0</td>\n",
              "      <td>1</td>\n",
              "      <td>1</td>\n",
              "      <td>E01002849</td>\n",
              "    </tr>\n",
              "    <tr>\n",
              "      <th>1</th>\n",
              "      <td>200501BS00002</td>\n",
              "      <td>524170.0</td>\n",
              "      <td>181650.0</td>\n",
              "      <td>-0.211708</td>\n",
              "      <td>51.520075</td>\n",
              "      <td>1</td>\n",
              "      <td>3</td>\n",
              "      <td>1</td>\n",
              "      <td>1</td>\n",
              "      <td>05/01/2005</td>\n",
              "      <td>...</td>\n",
              "      <td>0</td>\n",
              "      <td>5</td>\n",
              "      <td>4</td>\n",
              "      <td>1</td>\n",
              "      <td>1</td>\n",
              "      <td>0</td>\n",
              "      <td>0</td>\n",
              "      <td>1</td>\n",
              "      <td>1</td>\n",
              "      <td>E01002909</td>\n",
              "    </tr>\n",
              "    <tr>\n",
              "      <th>2</th>\n",
              "      <td>200501BS00003</td>\n",
              "      <td>524520.0</td>\n",
              "      <td>182240.0</td>\n",
              "      <td>-0.206458</td>\n",
              "      <td>51.525301</td>\n",
              "      <td>1</td>\n",
              "      <td>3</td>\n",
              "      <td>2</td>\n",
              "      <td>1</td>\n",
              "      <td>06/01/2005</td>\n",
              "      <td>...</td>\n",
              "      <td>0</td>\n",
              "      <td>0</td>\n",
              "      <td>4</td>\n",
              "      <td>1</td>\n",
              "      <td>1</td>\n",
              "      <td>0</td>\n",
              "      <td>0</td>\n",
              "      <td>1</td>\n",
              "      <td>1</td>\n",
              "      <td>E01002857</td>\n",
              "    </tr>\n",
              "    <tr>\n",
              "      <th>3</th>\n",
              "      <td>200501BS00004</td>\n",
              "      <td>526900.0</td>\n",
              "      <td>177530.0</td>\n",
              "      <td>-0.173862</td>\n",
              "      <td>51.482442</td>\n",
              "      <td>1</td>\n",
              "      <td>3</td>\n",
              "      <td>1</td>\n",
              "      <td>1</td>\n",
              "      <td>07/01/2005</td>\n",
              "      <td>...</td>\n",
              "      <td>0</td>\n",
              "      <td>0</td>\n",
              "      <td>1</td>\n",
              "      <td>1</td>\n",
              "      <td>1</td>\n",
              "      <td>0</td>\n",
              "      <td>0</td>\n",
              "      <td>1</td>\n",
              "      <td>1</td>\n",
              "      <td>E01002840</td>\n",
              "    </tr>\n",
              "    <tr>\n",
              "      <th>4</th>\n",
              "      <td>200501BS00005</td>\n",
              "      <td>528060.0</td>\n",
              "      <td>179040.0</td>\n",
              "      <td>-0.156618</td>\n",
              "      <td>51.495752</td>\n",
              "      <td>1</td>\n",
              "      <td>3</td>\n",
              "      <td>1</td>\n",
              "      <td>1</td>\n",
              "      <td>10/01/2005</td>\n",
              "      <td>...</td>\n",
              "      <td>0</td>\n",
              "      <td>0</td>\n",
              "      <td>7</td>\n",
              "      <td>1</td>\n",
              "      <td>2</td>\n",
              "      <td>0</td>\n",
              "      <td>0</td>\n",
              "      <td>1</td>\n",
              "      <td>1</td>\n",
              "      <td>E01002863</td>\n",
              "    </tr>\n",
              "  </tbody>\n",
              "</table>\n",
              "<p>5 rows × 32 columns</p>\n",
              "</div>"
            ],
            "text/plain": [
              "  Accident_Index  Location_Easting_OSGR  Location_Northing_OSGR  Longitude  \\\n",
              "0  200501BS00001               525680.0                178240.0  -0.191170   \n",
              "1  200501BS00002               524170.0                181650.0  -0.211708   \n",
              "2  200501BS00003               524520.0                182240.0  -0.206458   \n",
              "3  200501BS00004               526900.0                177530.0  -0.173862   \n",
              "4  200501BS00005               528060.0                179040.0  -0.156618   \n",
              "\n",
              "    Latitude  Police_Force  Accident_Severity  Number_of_Vehicles  \\\n",
              "0  51.489096             1                  2                   1   \n",
              "1  51.520075             1                  3                   1   \n",
              "2  51.525301             1                  3                   2   \n",
              "3  51.482442             1                  3                   1   \n",
              "4  51.495752             1                  3                   1   \n",
              "\n",
              "   Number_of_Casualties        Date  ...  Pedestrian_Crossing-Human_Control  \\\n",
              "0                     1  04/01/2005  ...                                  0   \n",
              "1                     1  05/01/2005  ...                                  0   \n",
              "2                     1  06/01/2005  ...                                  0   \n",
              "3                     1  07/01/2005  ...                                  0   \n",
              "4                     1  10/01/2005  ...                                  0   \n",
              "\n",
              "  Pedestrian_Crossing-Physical_Facilities  Light_Conditions  \\\n",
              "0                                       1                 1   \n",
              "1                                       5                 4   \n",
              "2                                       0                 4   \n",
              "3                                       0                 1   \n",
              "4                                       0                 7   \n",
              "\n",
              "  Weather_Conditions  Road_Surface_Conditions  Special_Conditions_at_Site  \\\n",
              "0                  2                        2                           0   \n",
              "1                  1                        1                           0   \n",
              "2                  1                        1                           0   \n",
              "3                  1                        1                           0   \n",
              "4                  1                        2                           0   \n",
              "\n",
              "   Carriageway_Hazards  Urban_or_Rural_Area  \\\n",
              "0                    0                    1   \n",
              "1                    0                    1   \n",
              "2                    0                    1   \n",
              "3                    0                    1   \n",
              "4                    0                    1   \n",
              "\n",
              "   Did_Police_Officer_Attend_Scene_of_Accident  LSOA_of_Accident_Location  \n",
              "0                                            1                  E01002849  \n",
              "1                                            1                  E01002909  \n",
              "2                                            1                  E01002857  \n",
              "3                                            1                  E01002840  \n",
              "4                                            1                  E01002863  \n",
              "\n",
              "[5 rows x 32 columns]"
            ]
          },
          "metadata": {
            "tags": []
          },
          "execution_count": 2
        }
      ]
    },
    {
      "cell_type": "markdown",
      "metadata": {
        "colab_type": "text",
        "id": "zZv2JEnb082d"
      },
      "source": [
        "<h3> Data Cleaning and Wrangling"
      ]
    },
    {
      "cell_type": "code",
      "metadata": {
        "colab_type": "code",
        "id": "avaw6oQv082e",
        "colab": {}
      },
      "source": [
        "df_Acc_clnd=df_Acc[~df_Acc.isnull().any(axis=1)]"
      ],
      "execution_count": null,
      "outputs": []
    },
    {
      "cell_type": "code",
      "metadata": {
        "colab_type": "code",
        "id": "3UZTAq90082h",
        "scrolled": false,
        "colab": {}
      },
      "source": [
        "a= np.array([(int(str(x).split(':')[0])*60+int(str(x).split(':')[1])) for x in df_Acc_clnd['Time'].values])"
      ],
      "execution_count": null,
      "outputs": []
    },
    {
      "cell_type": "code",
      "metadata": {
        "colab_type": "code",
        "id": "gmknXEVm082k",
        "scrolled": false,
        "colab": {
          "base_uri": "https://localhost:8080/",
          "height": 139
        },
        "outputId": "76d42332-9d1d-4f0d-a1de-036f853c8760"
      },
      "source": [
        "df_Acc_clnd['Time_Conv']=a"
      ],
      "execution_count": null,
      "outputs": [
        {
          "output_type": "stream",
          "text": [
            "/Library/Frameworks/Python.framework/Versions/3.7/lib/python3.7/site-packages/ipykernel_launcher.py:1: SettingWithCopyWarning: \n",
            "A value is trying to be set on a copy of a slice from a DataFrame.\n",
            "Try using .loc[row_indexer,col_indexer] = value instead\n",
            "\n",
            "See the caveats in the documentation: https://pandas.pydata.org/pandas-docs/stable/user_guide/indexing.html#returning-a-view-versus-a-copy\n",
            "  \"\"\"Entry point for launching an IPython kernel.\n"
          ],
          "name": "stderr"
        }
      ]
    },
    {
      "cell_type": "code",
      "metadata": {
        "colab_type": "code",
        "id": "Nc-d8dxW082n",
        "colab": {},
        "outputId": "55a7046b-96f1-45af-ab3f-0be080943b77"
      },
      "source": [
        "df_Acc_clnd.nunique(axis=0)"
      ],
      "execution_count": null,
      "outputs": [
        {
          "output_type": "execute_result",
          "data": {
            "text/plain": [
              "Accident_Index                                 1651142\n",
              "Location_Easting_OSGR                           203321\n",
              "Location_Northing_OSGR                          229918\n",
              "Longitude                                      1143738\n",
              "Latitude                                       1064222\n",
              "Police_Force                                        48\n",
              "Accident_Severity                                    3\n",
              "Number_of_Vehicles                                  28\n",
              "Number_of_Casualties                                51\n",
              "Date                                              4017\n",
              "Day_of_Week                                          7\n",
              "Time                                              1439\n",
              "Local_Authority_(District)                         391\n",
              "Local_Authority_(Highway)                          182\n",
              "1st_Road_Class                                       6\n",
              "1st_Road_Number                                   6951\n",
              "Road_Type                                            6\n",
              "Speed_limit                                          9\n",
              "Junction_Detail                                     10\n",
              "Junction_Control                                     6\n",
              "2nd_Road_Class                                       7\n",
              "2nd_Road_Number                                   7361\n",
              "Pedestrian_Crossing-Human_Control                    4\n",
              "Pedestrian_Crossing-Physical_Facilities              7\n",
              "Light_Conditions                                     5\n",
              "Weather_Conditions                                  10\n",
              "Road_Surface_Conditions                              6\n",
              "Special_Conditions_at_Site                           9\n",
              "Carriageway_Hazards                                  7\n",
              "Urban_or_Rural_Area                                  2\n",
              "Did_Police_Officer_Attend_Scene_of_Accident          4\n",
              "LSOA_of_Accident_Location                        35514\n",
              "Time_Conv                                         1439\n",
              "dtype: int64"
            ]
          },
          "metadata": {
            "tags": []
          },
          "execution_count": 6
        }
      ]
    },
    {
      "cell_type": "code",
      "metadata": {
        "colab_type": "code",
        "id": "xDkbnVjN082q",
        "colab": {},
        "outputId": "e35c4368-06b1-42c7-e275-d767baa26a1a"
      },
      "source": [
        "df_Acc_clnd.dtypes"
      ],
      "execution_count": null,
      "outputs": [
        {
          "output_type": "execute_result",
          "data": {
            "text/plain": [
              "Accident_Index                                  object\n",
              "Location_Easting_OSGR                          float64\n",
              "Location_Northing_OSGR                         float64\n",
              "Longitude                                      float64\n",
              "Latitude                                       float64\n",
              "Police_Force                                     int64\n",
              "Accident_Severity                                int64\n",
              "Number_of_Vehicles                               int64\n",
              "Number_of_Casualties                             int64\n",
              "Date                                            object\n",
              "Day_of_Week                                      int64\n",
              "Time                                            object\n",
              "Local_Authority_(District)                       int64\n",
              "Local_Authority_(Highway)                       object\n",
              "1st_Road_Class                                   int64\n",
              "1st_Road_Number                                  int64\n",
              "Road_Type                                        int64\n",
              "Speed_limit                                      int64\n",
              "Junction_Detail                                  int64\n",
              "Junction_Control                                 int64\n",
              "2nd_Road_Class                                   int64\n",
              "2nd_Road_Number                                  int64\n",
              "Pedestrian_Crossing-Human_Control                int64\n",
              "Pedestrian_Crossing-Physical_Facilities          int64\n",
              "Light_Conditions                                 int64\n",
              "Weather_Conditions                               int64\n",
              "Road_Surface_Conditions                          int64\n",
              "Special_Conditions_at_Site                       int64\n",
              "Carriageway_Hazards                              int64\n",
              "Urban_or_Rural_Area                              int64\n",
              "Did_Police_Officer_Attend_Scene_of_Accident      int64\n",
              "LSOA_of_Accident_Location                       object\n",
              "Time_Conv                                        int64\n",
              "dtype: object"
            ]
          },
          "metadata": {
            "tags": []
          },
          "execution_count": 7
        }
      ]
    },
    {
      "cell_type": "code",
      "metadata": {
        "colab_type": "code",
        "id": "m0jLxbWJ082u",
        "colab": {
          "base_uri": "https://localhost:8080/",
          "height": 122
        },
        "outputId": "e3bc9d5d-5ef5-4d0a-8508-9fbf978fb4b3"
      },
      "source": [
        "df_Acc_clnd.drop(['Date','Time','Accident_Index','Location_Easting_OSGR','Location_Northing_OSGR'],axis=1,inplace=True)\n"
      ],
      "execution_count": null,
      "outputs": [
        {
          "output_type": "stream",
          "text": [
            "/Library/Frameworks/Python.framework/Versions/3.7/lib/python3.7/site-packages/pandas/core/frame.py:3997: SettingWithCopyWarning: \n",
            "A value is trying to be set on a copy of a slice from a DataFrame\n",
            "\n",
            "See the caveats in the documentation: https://pandas.pydata.org/pandas-docs/stable/user_guide/indexing.html#returning-a-view-versus-a-copy\n",
            "  errors=errors,\n"
          ],
          "name": "stderr"
        }
      ]
    },
    {
      "cell_type": "code",
      "metadata": {
        "colab_type": "code",
        "id": "iMalb4q9082x",
        "colab": {},
        "outputId": "b861bbc1-1392-476f-d43e-cd1503a81adc"
      },
      "source": [
        "df_Acc_clnd.shape"
      ],
      "execution_count": null,
      "outputs": [
        {
          "output_type": "execute_result",
          "data": {
            "text/plain": [
              "(1651142, 28)"
            ]
          },
          "metadata": {
            "tags": []
          },
          "execution_count": 9
        }
      ]
    },
    {
      "cell_type": "code",
      "metadata": {
        "colab_type": "code",
        "id": "Eqx8Ri9V0820",
        "colab": {},
        "outputId": "a7c6d5aa-7e46-488c-cf9a-4276f1c0112a"
      },
      "source": [
        "df_Acc_clnd.dtypes"
      ],
      "execution_count": null,
      "outputs": [
        {
          "output_type": "execute_result",
          "data": {
            "text/plain": [
              "Longitude                                      float64\n",
              "Latitude                                       float64\n",
              "Police_Force                                     int64\n",
              "Accident_Severity                                int64\n",
              "Number_of_Vehicles                               int64\n",
              "Number_of_Casualties                             int64\n",
              "Day_of_Week                                      int64\n",
              "Local_Authority_(District)                       int64\n",
              "Local_Authority_(Highway)                       object\n",
              "1st_Road_Class                                   int64\n",
              "1st_Road_Number                                  int64\n",
              "Road_Type                                        int64\n",
              "Speed_limit                                      int64\n",
              "Junction_Detail                                  int64\n",
              "Junction_Control                                 int64\n",
              "2nd_Road_Class                                   int64\n",
              "2nd_Road_Number                                  int64\n",
              "Pedestrian_Crossing-Human_Control                int64\n",
              "Pedestrian_Crossing-Physical_Facilities          int64\n",
              "Light_Conditions                                 int64\n",
              "Weather_Conditions                               int64\n",
              "Road_Surface_Conditions                          int64\n",
              "Special_Conditions_at_Site                       int64\n",
              "Carriageway_Hazards                              int64\n",
              "Urban_or_Rural_Area                              int64\n",
              "Did_Police_Officer_Attend_Scene_of_Accident      int64\n",
              "LSOA_of_Accident_Location                       object\n",
              "Time_Conv                                        int64\n",
              "dtype: object"
            ]
          },
          "metadata": {
            "tags": []
          },
          "execution_count": 10
        }
      ]
    },
    {
      "cell_type": "markdown",
      "metadata": {
        "colab_type": "text",
        "id": "Fyhxpc_O0823"
      },
      "source": [
        "<h3> Bifurcating Attributes for Training and Target"
      ]
    },
    {
      "cell_type": "code",
      "metadata": {
        "colab_type": "code",
        "id": "0hmIkNqN0823",
        "colab": {}
      },
      "source": [
        "df=df_Acc_clnd.iloc[0:100000,:].reset_index(drop=True)\n",
        "target_c=['Accident_Severity']\n",
        "df_train=df.drop(target_c,axis=1)\n",
        "df_target=df[target_c]"
      ],
      "execution_count": null,
      "outputs": []
    },
    {
      "cell_type": "markdown",
      "metadata": {
        "colab_type": "text",
        "id": "hiCfVeJY0827"
      },
      "source": [
        "<h3> Preparing Training Data with LabelEncoding and OneHotEncoding"
      ]
    },
    {
      "cell_type": "code",
      "metadata": {
        "colab_type": "code",
        "id": "lJGaG5EA0827",
        "colab": {},
        "outputId": "74215da9-2760-4a03-be66-3397d8cc52d3"
      },
      "source": [
        "pd.get_dummies(df_train)#to be honest this didnt solve my purpose so I had to do One-Hot-Encoding"
      ],
      "execution_count": null,
      "outputs": [
        {
          "output_type": "execute_result",
          "data": {
            "text/html": [
              "<div>\n",
              "<style scoped>\n",
              "    .dataframe tbody tr th:only-of-type {\n",
              "        vertical-align: middle;\n",
              "    }\n",
              "\n",
              "    .dataframe tbody tr th {\n",
              "        vertical-align: top;\n",
              "    }\n",
              "\n",
              "    .dataframe thead th {\n",
              "        text-align: right;\n",
              "    }\n",
              "</style>\n",
              "<table border=\"1\" class=\"dataframe\">\n",
              "  <thead>\n",
              "    <tr style=\"text-align: right;\">\n",
              "      <th></th>\n",
              "      <th>Longitude</th>\n",
              "      <th>Latitude</th>\n",
              "      <th>Police_Force</th>\n",
              "      <th>Number_of_Vehicles</th>\n",
              "      <th>Number_of_Casualties</th>\n",
              "      <th>Day_of_Week</th>\n",
              "      <th>Local_Authority_(District)</th>\n",
              "      <th>1st_Road_Class</th>\n",
              "      <th>1st_Road_Number</th>\n",
              "      <th>Road_Type</th>\n",
              "      <th>...</th>\n",
              "      <th>LSOA_of_Accident_Location_E01032476</th>\n",
              "      <th>LSOA_of_Accident_Location_E01032477</th>\n",
              "      <th>LSOA_of_Accident_Location_E01032478</th>\n",
              "      <th>LSOA_of_Accident_Location_E01032479</th>\n",
              "      <th>LSOA_of_Accident_Location_E01032480</th>\n",
              "      <th>LSOA_of_Accident_Location_E01032481</th>\n",
              "      <th>LSOA_of_Accident_Location_E01032482</th>\n",
              "      <th>LSOA_of_Accident_Location_W01000121</th>\n",
              "      <th>LSOA_of_Accident_Location_W01000328</th>\n",
              "      <th>LSOA_of_Accident_Location_W01000332</th>\n",
              "    </tr>\n",
              "  </thead>\n",
              "  <tbody>\n",
              "    <tr>\n",
              "      <th>0</th>\n",
              "      <td>-0.191170</td>\n",
              "      <td>51.489096</td>\n",
              "      <td>1</td>\n",
              "      <td>1</td>\n",
              "      <td>1</td>\n",
              "      <td>3</td>\n",
              "      <td>12</td>\n",
              "      <td>3</td>\n",
              "      <td>3218</td>\n",
              "      <td>6</td>\n",
              "      <td>...</td>\n",
              "      <td>0</td>\n",
              "      <td>0</td>\n",
              "      <td>0</td>\n",
              "      <td>0</td>\n",
              "      <td>0</td>\n",
              "      <td>0</td>\n",
              "      <td>0</td>\n",
              "      <td>0</td>\n",
              "      <td>0</td>\n",
              "      <td>0</td>\n",
              "    </tr>\n",
              "    <tr>\n",
              "      <th>1</th>\n",
              "      <td>-0.211708</td>\n",
              "      <td>51.520075</td>\n",
              "      <td>1</td>\n",
              "      <td>1</td>\n",
              "      <td>1</td>\n",
              "      <td>4</td>\n",
              "      <td>12</td>\n",
              "      <td>4</td>\n",
              "      <td>450</td>\n",
              "      <td>3</td>\n",
              "      <td>...</td>\n",
              "      <td>0</td>\n",
              "      <td>0</td>\n",
              "      <td>0</td>\n",
              "      <td>0</td>\n",
              "      <td>0</td>\n",
              "      <td>0</td>\n",
              "      <td>0</td>\n",
              "      <td>0</td>\n",
              "      <td>0</td>\n",
              "      <td>0</td>\n",
              "    </tr>\n",
              "    <tr>\n",
              "      <th>2</th>\n",
              "      <td>-0.206458</td>\n",
              "      <td>51.525301</td>\n",
              "      <td>1</td>\n",
              "      <td>2</td>\n",
              "      <td>1</td>\n",
              "      <td>5</td>\n",
              "      <td>12</td>\n",
              "      <td>5</td>\n",
              "      <td>0</td>\n",
              "      <td>6</td>\n",
              "      <td>...</td>\n",
              "      <td>0</td>\n",
              "      <td>0</td>\n",
              "      <td>0</td>\n",
              "      <td>0</td>\n",
              "      <td>0</td>\n",
              "      <td>0</td>\n",
              "      <td>0</td>\n",
              "      <td>0</td>\n",
              "      <td>0</td>\n",
              "      <td>0</td>\n",
              "    </tr>\n",
              "    <tr>\n",
              "      <th>3</th>\n",
              "      <td>-0.173862</td>\n",
              "      <td>51.482442</td>\n",
              "      <td>1</td>\n",
              "      <td>1</td>\n",
              "      <td>1</td>\n",
              "      <td>6</td>\n",
              "      <td>12</td>\n",
              "      <td>3</td>\n",
              "      <td>3220</td>\n",
              "      <td>6</td>\n",
              "      <td>...</td>\n",
              "      <td>0</td>\n",
              "      <td>0</td>\n",
              "      <td>0</td>\n",
              "      <td>0</td>\n",
              "      <td>0</td>\n",
              "      <td>0</td>\n",
              "      <td>0</td>\n",
              "      <td>0</td>\n",
              "      <td>0</td>\n",
              "      <td>0</td>\n",
              "    </tr>\n",
              "    <tr>\n",
              "      <th>4</th>\n",
              "      <td>-0.156618</td>\n",
              "      <td>51.495752</td>\n",
              "      <td>1</td>\n",
              "      <td>1</td>\n",
              "      <td>1</td>\n",
              "      <td>2</td>\n",
              "      <td>12</td>\n",
              "      <td>6</td>\n",
              "      <td>0</td>\n",
              "      <td>6</td>\n",
              "      <td>...</td>\n",
              "      <td>0</td>\n",
              "      <td>0</td>\n",
              "      <td>0</td>\n",
              "      <td>0</td>\n",
              "      <td>0</td>\n",
              "      <td>0</td>\n",
              "      <td>0</td>\n",
              "      <td>0</td>\n",
              "      <td>0</td>\n",
              "      <td>0</td>\n",
              "    </tr>\n",
              "    <tr>\n",
              "      <th>...</th>\n",
              "      <td>...</td>\n",
              "      <td>...</td>\n",
              "      <td>...</td>\n",
              "      <td>...</td>\n",
              "      <td>...</td>\n",
              "      <td>...</td>\n",
              "      <td>...</td>\n",
              "      <td>...</td>\n",
              "      <td>...</td>\n",
              "      <td>...</td>\n",
              "      <td>...</td>\n",
              "      <td>...</td>\n",
              "      <td>...</td>\n",
              "      <td>...</td>\n",
              "      <td>...</td>\n",
              "      <td>...</td>\n",
              "      <td>...</td>\n",
              "      <td>...</td>\n",
              "      <td>...</td>\n",
              "      <td>...</td>\n",
              "      <td>...</td>\n",
              "    </tr>\n",
              "    <tr>\n",
              "      <th>99995</th>\n",
              "      <td>-1.016265</td>\n",
              "      <td>53.357269</td>\n",
              "      <td>31</td>\n",
              "      <td>2</td>\n",
              "      <td>1</td>\n",
              "      <td>7</td>\n",
              "      <td>341</td>\n",
              "      <td>3</td>\n",
              "      <td>634</td>\n",
              "      <td>6</td>\n",
              "      <td>...</td>\n",
              "      <td>0</td>\n",
              "      <td>0</td>\n",
              "      <td>0</td>\n",
              "      <td>0</td>\n",
              "      <td>0</td>\n",
              "      <td>0</td>\n",
              "      <td>0</td>\n",
              "      <td>0</td>\n",
              "      <td>0</td>\n",
              "      <td>0</td>\n",
              "    </tr>\n",
              "    <tr>\n",
              "      <th>99996</th>\n",
              "      <td>-0.998357</td>\n",
              "      <td>53.204482</td>\n",
              "      <td>31</td>\n",
              "      <td>2</td>\n",
              "      <td>1</td>\n",
              "      <td>6</td>\n",
              "      <td>345</td>\n",
              "      <td>3</td>\n",
              "      <td>6075</td>\n",
              "      <td>6</td>\n",
              "      <td>...</td>\n",
              "      <td>0</td>\n",
              "      <td>0</td>\n",
              "      <td>0</td>\n",
              "      <td>0</td>\n",
              "      <td>0</td>\n",
              "      <td>0</td>\n",
              "      <td>0</td>\n",
              "      <td>0</td>\n",
              "      <td>0</td>\n",
              "      <td>0</td>\n",
              "    </tr>\n",
              "    <tr>\n",
              "      <th>99997</th>\n",
              "      <td>-1.118040</td>\n",
              "      <td>53.099622</td>\n",
              "      <td>31</td>\n",
              "      <td>2</td>\n",
              "      <td>3</td>\n",
              "      <td>6</td>\n",
              "      <td>345</td>\n",
              "      <td>4</td>\n",
              "      <td>6020</td>\n",
              "      <td>6</td>\n",
              "      <td>...</td>\n",
              "      <td>0</td>\n",
              "      <td>0</td>\n",
              "      <td>0</td>\n",
              "      <td>0</td>\n",
              "      <td>0</td>\n",
              "      <td>0</td>\n",
              "      <td>0</td>\n",
              "      <td>0</td>\n",
              "      <td>0</td>\n",
              "      <td>0</td>\n",
              "    </tr>\n",
              "    <tr>\n",
              "      <th>99998</th>\n",
              "      <td>-0.924000</td>\n",
              "      <td>53.226217</td>\n",
              "      <td>31</td>\n",
              "      <td>3</td>\n",
              "      <td>1</td>\n",
              "      <td>5</td>\n",
              "      <td>341</td>\n",
              "      <td>3</td>\n",
              "      <td>6075</td>\n",
              "      <td>6</td>\n",
              "      <td>...</td>\n",
              "      <td>0</td>\n",
              "      <td>0</td>\n",
              "      <td>0</td>\n",
              "      <td>0</td>\n",
              "      <td>0</td>\n",
              "      <td>0</td>\n",
              "      <td>0</td>\n",
              "      <td>0</td>\n",
              "      <td>0</td>\n",
              "      <td>0</td>\n",
              "    </tr>\n",
              "    <tr>\n",
              "      <th>99999</th>\n",
              "      <td>-0.913501</td>\n",
              "      <td>53.303611</td>\n",
              "      <td>31</td>\n",
              "      <td>1</td>\n",
              "      <td>1</td>\n",
              "      <td>5</td>\n",
              "      <td>341</td>\n",
              "      <td>5</td>\n",
              "      <td>12</td>\n",
              "      <td>6</td>\n",
              "      <td>...</td>\n",
              "      <td>0</td>\n",
              "      <td>0</td>\n",
              "      <td>0</td>\n",
              "      <td>0</td>\n",
              "      <td>0</td>\n",
              "      <td>0</td>\n",
              "      <td>0</td>\n",
              "      <td>0</td>\n",
              "      <td>0</td>\n",
              "      <td>0</td>\n",
              "    </tr>\n",
              "  </tbody>\n",
              "</table>\n",
              "<p>100000 rows × 16730 columns</p>\n",
              "</div>"
            ],
            "text/plain": [
              "       Longitude   Latitude  Police_Force  Number_of_Vehicles  \\\n",
              "0      -0.191170  51.489096             1                   1   \n",
              "1      -0.211708  51.520075             1                   1   \n",
              "2      -0.206458  51.525301             1                   2   \n",
              "3      -0.173862  51.482442             1                   1   \n",
              "4      -0.156618  51.495752             1                   1   \n",
              "...          ...        ...           ...                 ...   \n",
              "99995  -1.016265  53.357269            31                   2   \n",
              "99996  -0.998357  53.204482            31                   2   \n",
              "99997  -1.118040  53.099622            31                   2   \n",
              "99998  -0.924000  53.226217            31                   3   \n",
              "99999  -0.913501  53.303611            31                   1   \n",
              "\n",
              "       Number_of_Casualties  Day_of_Week  Local_Authority_(District)  \\\n",
              "0                         1            3                          12   \n",
              "1                         1            4                          12   \n",
              "2                         1            5                          12   \n",
              "3                         1            6                          12   \n",
              "4                         1            2                          12   \n",
              "...                     ...          ...                         ...   \n",
              "99995                     1            7                         341   \n",
              "99996                     1            6                         345   \n",
              "99997                     3            6                         345   \n",
              "99998                     1            5                         341   \n",
              "99999                     1            5                         341   \n",
              "\n",
              "       1st_Road_Class  1st_Road_Number  Road_Type  ...  \\\n",
              "0                   3             3218          6  ...   \n",
              "1                   4              450          3  ...   \n",
              "2                   5                0          6  ...   \n",
              "3                   3             3220          6  ...   \n",
              "4                   6                0          6  ...   \n",
              "...               ...              ...        ...  ...   \n",
              "99995               3              634          6  ...   \n",
              "99996               3             6075          6  ...   \n",
              "99997               4             6020          6  ...   \n",
              "99998               3             6075          6  ...   \n",
              "99999               5               12          6  ...   \n",
              "\n",
              "       LSOA_of_Accident_Location_E01032476  \\\n",
              "0                                        0   \n",
              "1                                        0   \n",
              "2                                        0   \n",
              "3                                        0   \n",
              "4                                        0   \n",
              "...                                    ...   \n",
              "99995                                    0   \n",
              "99996                                    0   \n",
              "99997                                    0   \n",
              "99998                                    0   \n",
              "99999                                    0   \n",
              "\n",
              "       LSOA_of_Accident_Location_E01032477  \\\n",
              "0                                        0   \n",
              "1                                        0   \n",
              "2                                        0   \n",
              "3                                        0   \n",
              "4                                        0   \n",
              "...                                    ...   \n",
              "99995                                    0   \n",
              "99996                                    0   \n",
              "99997                                    0   \n",
              "99998                                    0   \n",
              "99999                                    0   \n",
              "\n",
              "       LSOA_of_Accident_Location_E01032478  \\\n",
              "0                                        0   \n",
              "1                                        0   \n",
              "2                                        0   \n",
              "3                                        0   \n",
              "4                                        0   \n",
              "...                                    ...   \n",
              "99995                                    0   \n",
              "99996                                    0   \n",
              "99997                                    0   \n",
              "99998                                    0   \n",
              "99999                                    0   \n",
              "\n",
              "       LSOA_of_Accident_Location_E01032479  \\\n",
              "0                                        0   \n",
              "1                                        0   \n",
              "2                                        0   \n",
              "3                                        0   \n",
              "4                                        0   \n",
              "...                                    ...   \n",
              "99995                                    0   \n",
              "99996                                    0   \n",
              "99997                                    0   \n",
              "99998                                    0   \n",
              "99999                                    0   \n",
              "\n",
              "       LSOA_of_Accident_Location_E01032480  \\\n",
              "0                                        0   \n",
              "1                                        0   \n",
              "2                                        0   \n",
              "3                                        0   \n",
              "4                                        0   \n",
              "...                                    ...   \n",
              "99995                                    0   \n",
              "99996                                    0   \n",
              "99997                                    0   \n",
              "99998                                    0   \n",
              "99999                                    0   \n",
              "\n",
              "       LSOA_of_Accident_Location_E01032481  \\\n",
              "0                                        0   \n",
              "1                                        0   \n",
              "2                                        0   \n",
              "3                                        0   \n",
              "4                                        0   \n",
              "...                                    ...   \n",
              "99995                                    0   \n",
              "99996                                    0   \n",
              "99997                                    0   \n",
              "99998                                    0   \n",
              "99999                                    0   \n",
              "\n",
              "       LSOA_of_Accident_Location_E01032482  \\\n",
              "0                                        0   \n",
              "1                                        0   \n",
              "2                                        0   \n",
              "3                                        0   \n",
              "4                                        0   \n",
              "...                                    ...   \n",
              "99995                                    0   \n",
              "99996                                    0   \n",
              "99997                                    0   \n",
              "99998                                    0   \n",
              "99999                                    0   \n",
              "\n",
              "       LSOA_of_Accident_Location_W01000121  \\\n",
              "0                                        0   \n",
              "1                                        0   \n",
              "2                                        0   \n",
              "3                                        0   \n",
              "4                                        0   \n",
              "...                                    ...   \n",
              "99995                                    0   \n",
              "99996                                    0   \n",
              "99997                                    0   \n",
              "99998                                    0   \n",
              "99999                                    0   \n",
              "\n",
              "       LSOA_of_Accident_Location_W01000328  \\\n",
              "0                                        0   \n",
              "1                                        0   \n",
              "2                                        0   \n",
              "3                                        0   \n",
              "4                                        0   \n",
              "...                                    ...   \n",
              "99995                                    0   \n",
              "99996                                    0   \n",
              "99997                                    0   \n",
              "99998                                    0   \n",
              "99999                                    0   \n",
              "\n",
              "       LSOA_of_Accident_Location_W01000332  \n",
              "0                                        0  \n",
              "1                                        0  \n",
              "2                                        0  \n",
              "3                                        0  \n",
              "4                                        0  \n",
              "...                                    ...  \n",
              "99995                                    0  \n",
              "99996                                    0  \n",
              "99997                                    0  \n",
              "99998                                    0  \n",
              "99999                                    0  \n",
              "\n",
              "[100000 rows x 16730 columns]"
            ]
          },
          "metadata": {
            "tags": []
          },
          "execution_count": 12
        }
      ]
    },
    {
      "cell_type": "markdown",
      "metadata": {
        "colab_type": "text",
        "id": "5kY6DPOQ082-"
      },
      "source": [
        "<h4> 1. LabelEncoding"
      ]
    },
    {
      "cell_type": "code",
      "metadata": {
        "colab_type": "code",
        "id": "urcL5sSY082-",
        "colab": {}
      },
      "source": [
        "from sklearn.preprocessing import LabelEncoder\n",
        "labelEncodeCols=['LSOA_of_Accident_Location','Local_Authority_(Highway)']\n",
        "Local_Authority_Highway               = LabelEncoder()\n",
        "LSOA_of_Accident_Location               = LabelEncoder()\n",
        "\n",
        "Local_Authority_Highway.fit(df_train['Local_Authority_(Highway)'])\n",
        "LSOA_of_Accident_Location.fit(df_train['LSOA_of_Accident_Location'])\n",
        "\n",
        "df_train['Local_Authority_(Highway)_E']=Local_Authority_Highway.transform(df_train['Local_Authority_(Highway)'])\n",
        "df_train['LSOA_of_Accident_Location_E']=LSOA_of_Accident_Location.transform(df_train['LSOA_of_Accident_Location'])\n",
        "df_train.drop(labelEncodeCols,axis=1,inplace=True)\n"
      ],
      "execution_count": null,
      "outputs": []
    },
    {
      "cell_type": "code",
      "metadata": {
        "colab_type": "code",
        "id": "iZh4v3NH083B",
        "colab": {},
        "outputId": "11039a7e-0d39-464c-b322-c3430c547c21"
      },
      "source": [
        "df_train.nunique(axis=0)"
      ],
      "execution_count": null,
      "outputs": [
        {
          "output_type": "execute_result",
          "data": {
            "text/plain": [
              "Longitude                                      89712\n",
              "Latitude                                       88497\n",
              "Police_Force                                      20\n",
              "Number_of_Vehicles                                13\n",
              "Number_of_Casualties                              19\n",
              "Day_of_Week                                        7\n",
              "Local_Authority_(District)                       171\n",
              "1st_Road_Class                                     6\n",
              "1st_Road_Number                                 2331\n",
              "Road_Type                                          6\n",
              "Speed_limit                                        7\n",
              "Junction_Detail                                   10\n",
              "Junction_Control                                   6\n",
              "2nd_Road_Class                                     7\n",
              "2nd_Road_Number                                 2169\n",
              "Pedestrian_Crossing-Human_Control                  4\n",
              "Pedestrian_Crossing-Physical_Facilities            7\n",
              "Light_Conditions                                   5\n",
              "Weather_Conditions                                 9\n",
              "Road_Surface_Conditions                            6\n",
              "Special_Conditions_at_Site                         9\n",
              "Carriageway_Hazards                                7\n",
              "Urban_or_Rural_Area                                2\n",
              "Did_Police_Officer_Attend_Scene_of_Accident        4\n",
              "Time_Conv                                       1439\n",
              "Local_Authority_(Highway)_E                      102\n",
              "LSOA_of_Accident_Location_E                    16603\n",
              "dtype: int64"
            ]
          },
          "metadata": {
            "tags": []
          },
          "execution_count": 14
        }
      ]
    },
    {
      "cell_type": "markdown",
      "metadata": {
        "colab_type": "text",
        "id": "fjB08Ju8083E"
      },
      "source": [
        "<h4> 2. OneHotEncoding"
      ]
    },
    {
      "cell_type": "code",
      "metadata": {
        "colab_type": "code",
        "id": "eCrbgp8m083E",
        "colab": {}
      },
      "source": [
        "from sklearn.preprocessing import OneHotEncoder\n",
        "#from sklearn.compose import ColumnTransformer\n",
        "from sklearn.compose import make_column_transformer\n",
        "#ct = ColumnTransformer([(('Police_Force', 'Number_of_Vehicles'), OneHotEncoder(),[2,3])], remainder = 'passthrough')\n",
        "noOneHotEncCols=['Longitude','Latitude','Local_Authority_(District)','1st_Road_Number','2nd_Road_Number','Time_Conv','Local_Authority_(Highway)_E','LSOA_of_Accident_Location_E']\n",
        "mct = make_column_transformer(( OneHotEncoder(),df_train.drop(noOneHotEncCols,axis=1).columns.to_numpy()), remainder = 'passthrough')\n",
        "train=mct.fit_transform(df_train).toarray()\n",
        "target=df_target.values.reshape(len(df_target))\n"
      ],
      "execution_count": null,
      "outputs": []
    },
    {
      "cell_type": "markdown",
      "metadata": {
        "colab_type": "text",
        "id": "LXkTLh6I083H"
      },
      "source": [
        "<h3> Splitting up Training and Testing Data Samples"
      ]
    },
    {
      "cell_type": "code",
      "metadata": {
        "colab_type": "code",
        "id": "t6Xnv238083H",
        "colab": {}
      },
      "source": [
        "from sklearn.model_selection import train_test_split\n",
        "x_train, x_test, y_train, y_test = train_test_split(train,target,test_size=0.1,random_state=42) #OneHotEncoded Data Samples\n",
        "x1_train, x1_test, y1_train, y1_test = train_test_split(df_train,df_target,test_size=0.1,random_state=42) #Orignal LabelEncoded Data Samples"
      ],
      "execution_count": null,
      "outputs": []
    },
    {
      "cell_type": "markdown",
      "metadata": {
        "colab_type": "text",
        "id": "PzlnKn34083L"
      },
      "source": [
        "<h3> Implementing Random Forest Classifier\n",
        "    <h4> 1. Model with OneHotEncoded Data"
      ]
    },
    {
      "cell_type": "code",
      "metadata": {
        "colab_type": "code",
        "id": "yd51kQSz083L",
        "colab": {
          "base_uri": "https://localhost:8080/",
          "height": 153
        },
        "outputId": "8188b73e-86a0-4229-d5a4-07738c16f11e"
      },
      "source": [
        "from sklearn.ensemble import RandomForestClassifier\n",
        "model_W_Ohe = RandomForestClassifier(n_estimators=50)\n",
        "model_W_Ohe.fit(x_train, y_train)"
      ],
      "execution_count": null,
      "outputs": [
        {
          "output_type": "execute_result",
          "data": {
            "text/plain": [
              "RandomForestClassifier(n_estimators=50)"
            ]
          },
          "metadata": {
            "tags": []
          },
          "execution_count": 17
        }
      ]
    },
    {
      "cell_type": "code",
      "metadata": {
        "colab_type": "code",
        "id": "22JlEmFT083Q",
        "colab": {
          "base_uri": "https://localhost:8080/",
          "height": 34
        },
        "outputId": "200f673f-cf6c-4547-9a14-e0968b753c56"
      },
      "source": [
        "model_W_Ohe.score(x_test, y_test)"
      ],
      "execution_count": null,
      "outputs": [
        {
          "output_type": "execute_result",
          "data": {
            "text/plain": [
              "0.8675"
            ]
          },
          "metadata": {
            "tags": []
          },
          "execution_count": 18
        }
      ]
    },
    {
      "cell_type": "code",
      "metadata": {
        "colab_type": "code",
        "id": "pK3lxn-I083S",
        "scrolled": true,
        "colab": {
          "base_uri": "https://localhost:8080/",
          "height": 68
        },
        "outputId": "d0a60087-89eb-460b-f124-4140e3231fb7"
      },
      "source": [
        "from sklearn import metrics\n",
        "\n",
        "metrics.confusion_matrix(y_test, model_W_Ohe.predict(x_test), labels=[3, 2, 1])"
      ],
      "execution_count": null,
      "outputs": [
        {
          "output_type": "execute_result",
          "data": {
            "text/plain": [
              "array([[8655,   55,    3],\n",
              "       [1159,   20,    0],\n",
              "       [ 104,    4,    0]])"
            ]
          },
          "metadata": {
            "tags": []
          },
          "execution_count": 19
        }
      ]
    },
    {
      "cell_type": "markdown",
      "metadata": {
        "colab_type": "text",
        "id": "KRQC3JCA083V"
      },
      "source": [
        "<h4> Geting the Feature Importance"
      ]
    },
    {
      "cell_type": "code",
      "metadata": {
        "colab_type": "code",
        "id": "sciCmJZ-083V",
        "colab": {},
        "outputId": "ae42d26e-b465-4ef2-d7da-61e3b4df2679"
      },
      "source": [
        "model_W_Ohe.feature_importances_"
      ],
      "execution_count": null,
      "outputs": [
        {
          "output_type": "execute_result",
          "data": {
            "text/plain": [
              "array([2.51715893e-03, 1.47693320e-03, 3.06667380e-03, 2.39227948e-03,\n",
              "       2.88862568e-03, 2.98284887e-03, 2.13952092e-03, 1.70772667e-03,\n",
              "       2.69471474e-03, 3.66406247e-03, 2.82723711e-03, 2.43115194e-03,\n",
              "       1.16259289e-03, 2.79552982e-03, 2.17465968e-03, 2.28034270e-03,\n",
              "       1.42087147e-03, 2.47937540e-03, 9.78094720e-04, 3.20730557e-04,\n",
              "       1.38125161e-02, 1.03118657e-02, 4.81113791e-03, 1.85199031e-03,\n",
              "       7.55060361e-04, 4.46516653e-04, 1.14174315e-04, 1.73105969e-04,\n",
              "       1.29080254e-06, 2.34172585e-06, 1.05468378e-05, 1.63630576e-08,\n",
              "       1.40962089e-05, 1.07285895e-02, 8.68433542e-03, 5.43339681e-03,\n",
              "       4.10217013e-03, 2.49274515e-03, 1.45213267e-03, 7.35371160e-04,\n",
              "       3.85756382e-04, 1.75859108e-04, 3.62291463e-06, 5.78492984e-05,\n",
              "       3.12608879e-05, 1.90864514e-06, 9.82650651e-07, 5.67013642e-05,\n",
              "       4.27230486e-05, 5.53496556e-05, 0.00000000e+00, 1.58541248e-06,\n",
              "       1.07422937e-02, 1.13343155e-02, 1.16394343e-02, 1.16671834e-02,\n",
              "       1.15954233e-02, 1.26549133e-02, 1.17137876e-02, 1.31146667e-03,\n",
              "       4.22886435e-04, 1.14824134e-02, 7.55570148e-03, 6.35867549e-03,\n",
              "       9.55614205e-03, 1.68039986e-03, 2.87420982e-03, 5.84958798e-03,\n",
              "       7.51707090e-03, 1.03022326e-03, 8.31166531e-04, 6.94416797e-07,\n",
              "       7.70307366e-04, 6.54195010e-03, 5.07224976e-03, 2.57357759e-03,\n",
              "       5.34813720e-03, 2.09056895e-03, 3.67776831e-07, 3.25219112e-03,\n",
              "       2.34593298e-03, 9.96964196e-04, 7.59029653e-03, 1.04915069e-03,\n",
              "       5.66968650e-03, 1.72516846e-03, 3.03437846e-03, 2.66501956e-03,\n",
              "       3.41628588e-03, 5.31671019e-04, 3.59075809e-04, 3.42613476e-03,\n",
              "       9.64497048e-04, 4.89627913e-03, 3.18938537e-03, 3.91307761e-04,\n",
              "       1.57411740e-04, 3.57035355e-03, 2.35822311e-03, 2.96518290e-03,\n",
              "       5.49644125e-03, 6.94364102e-05, 6.23303932e-04, 4.28649583e-04,\n",
              "       3.29007712e-04, 9.41621513e-05, 7.64228700e-03, 3.11784468e-03,\n",
              "       4.73069719e-03, 3.63709077e-03, 6.88114048e-04, 2.82759614e-03,\n",
              "       7.81152148e-03, 6.69491998e-03, 1.03100579e-03, 3.33341377e-03,\n",
              "       9.62673705e-04, 7.94123154e-03, 6.02037460e-03, 9.40012411e-04,\n",
              "       2.21232982e-03, 1.60123881e-03, 3.21004304e-04, 9.28129385e-04,\n",
              "       2.27884319e-03, 1.26916895e-03, 2.30870077e-04, 1.08579994e-02,\n",
              "       1.03590227e-02, 8.18420295e-04, 1.92115708e-03, 3.66895509e-04,\n",
              "       2.61760914e-06, 2.50041523e-03, 3.44559708e-04, 1.66918531e-04,\n",
              "       3.76242327e-04, 1.60376667e-03, 6.25998450e-04, 7.66080315e-04,\n",
              "       4.26826922e-04, 4.72451251e-06, 2.29572836e-03, 1.62755776e-04,\n",
              "       1.50729485e-03, 4.20609279e-04, 3.44802143e-04, 6.54082585e-04,\n",
              "       4.06304589e-03, 4.67655947e-03, 2.86059381e-04, 6.60727060e-03,\n",
              "       6.87091070e-03, 3.36645217e-04, 9.23602921e-02, 9.09695796e-02,\n",
              "       5.51006140e-02, 5.76385590e-02, 1.57103598e-02, 9.56716307e-02,\n",
              "       4.60524897e-02, 8.79498218e-02])"
            ]
          },
          "metadata": {
            "tags": []
          },
          "execution_count": 20
        }
      ]
    },
    {
      "cell_type": "markdown",
      "metadata": {
        "colab_type": "text",
        "id": "tcGqJcIz083Y"
      },
      "source": [
        "<h4>2. Model with LabelEncoded Data"
      ]
    },
    {
      "cell_type": "code",
      "metadata": {
        "colab_type": "code",
        "id": "egKWd2Q2083Z",
        "colab": {
          "base_uri": "https://localhost:8080/",
          "height": 153
        },
        "outputId": "640eeec7-474d-41f1-d2dd-e8b35c8db0b8"
      },
      "source": [
        "model_W_Le = RandomForestClassifier(n_estimators=50)\n",
        "model_W_Le.fit(x1_train, y_train)"
      ],
      "execution_count": null,
      "outputs": [
        {
          "output_type": "execute_result",
          "data": {
            "text/plain": [
              "RandomForestClassifier(n_estimators=50)"
            ]
          },
          "metadata": {
            "tags": []
          },
          "execution_count": 21
        }
      ]
    },
    {
      "cell_type": "code",
      "metadata": {
        "colab_type": "code",
        "id": "3WAkiI-U083c",
        "colab": {
          "base_uri": "https://localhost:8080/",
          "height": 34
        },
        "outputId": "c5efb6a3-2e32-4466-ed35-3281dc82c87f"
      },
      "source": [
        "model_W_Le.score(x1_test, y1_test)"
      ],
      "execution_count": null,
      "outputs": [
        {
          "output_type": "execute_result",
          "data": {
            "text/plain": [
              "0.868"
            ]
          },
          "metadata": {
            "tags": []
          },
          "execution_count": 22
        }
      ]
    },
    {
      "cell_type": "code",
      "metadata": {
        "colab_type": "code",
        "id": "C1tK7yao083f",
        "scrolled": true,
        "colab": {
          "base_uri": "https://localhost:8080/",
          "height": 68
        },
        "outputId": "6b9db15e-8221-41ba-a147-bad743ba7eeb"
      },
      "source": [
        "metrics.confusion_matrix(y1_test, model_W_Le.predict(x1_test), labels=[3, 2, 1])"
      ],
      "execution_count": null,
      "outputs": [
        {
          "output_type": "execute_result",
          "data": {
            "text/plain": [
              "array([[8645,   67,    1],\n",
              "       [1143,   35,    1],\n",
              "       [  99,    9,    0]])"
            ]
          },
          "metadata": {
            "tags": []
          },
          "execution_count": 23
        }
      ]
    },
    {
      "cell_type": "markdown",
      "metadata": {
        "colab_type": "text",
        "id": "X_71KkTn083j"
      },
      "source": [
        "<h4> Getting The Feature Importance\n",
        "<h5> The Code below is only Usable if you have Data Frames( i.e. x1_train , y1_train ) as Traning and ( i.e. x1_test , y1_test ) as Testing Data."
      ]
    },
    {
      "cell_type": "code",
      "metadata": {
        "colab_type": "code",
        "id": "XlEPOvSJ083j",
        "colab": {}
      },
      "source": [
        "# Get numerical feature importances\n",
        "importances = list(model_W_Le.feature_importances_)\n",
        "\n",
        "# List of tuples with variable and importance\n",
        "feature_importances = [(feature, round(importance, 2)) for feature, importance in zip(x1_train.columns, importances)]"
      ],
      "execution_count": null,
      "outputs": []
    },
    {
      "cell_type": "code",
      "metadata": {
        "colab_type": "code",
        "id": "u02X4jWu083m",
        "colab": {},
        "outputId": "ca31cb87-9d70-4505-f2bc-3e8976253dd4"
      },
      "source": [
        "feature_importances"
      ],
      "execution_count": null,
      "outputs": [
        {
          "output_type": "execute_result",
          "data": {
            "text/plain": [
              "[('Longitude', 0.12),\n",
              " ('Latitude', 0.12),\n",
              " ('Police_Force', 0.02),\n",
              " ('Number_of_Vehicles', 0.03),\n",
              " ('Number_of_Casualties', 0.03),\n",
              " ('Day_of_Week', 0.06),\n",
              " ('Local_Authority_(District)', 0.05),\n",
              " ('1st_Road_Class', 0.02),\n",
              " ('1st_Road_Number', 0.07),\n",
              " ('Road_Type', 0.02),\n",
              " ('Speed_limit', 0.02),\n",
              " ('Junction_Detail', 0.02),\n",
              " ('Junction_Control', 0.01),\n",
              " ('2nd_Road_Class', 0.01),\n",
              " ('2nd_Road_Number', 0.02),\n",
              " ('Pedestrian_Crossing-Human_Control', 0.0),\n",
              " ('Pedestrian_Crossing-Physical_Facilities', 0.02),\n",
              " ('Light_Conditions', 0.02),\n",
              " ('Weather_Conditions', 0.02),\n",
              " ('Road_Surface_Conditions', 0.02),\n",
              " ('Special_Conditions_at_Site', 0.01),\n",
              " ('Carriageway_Hazards', 0.0),\n",
              " ('Urban_or_Rural_Area', 0.01),\n",
              " ('Did_Police_Officer_Attend_Scene_of_Accident', 0.01),\n",
              " ('Time_Conv', 0.12),\n",
              " ('Local_Authority_(Highway)_E', 0.04),\n",
              " ('LSOA_of_Accident_Location_E', 0.11)]"
            ]
          },
          "metadata": {
            "tags": []
          },
          "execution_count": 25
        }
      ]
    },
    {
      "cell_type": "code",
      "metadata": {
        "colab_type": "code",
        "id": "il-qJPm9083p",
        "colab": {}
      },
      "source": [
        "# Sort the feature importances by most important first\n",
        "feature_importances = sorted(feature_importances, key = lambda x: x[1], reverse = True)\n"
      ],
      "execution_count": null,
      "outputs": []
    },
    {
      "cell_type": "code",
      "metadata": {
        "colab_type": "code",
        "id": "-jUC0ath083s",
        "colab": {},
        "outputId": "497e3058-975a-4be1-916d-b595e3163e22"
      },
      "source": [
        "\n",
        "# Print out the feature and importances \n",
        "[print('Variable--------{}: Importance: {}'.format(*pair)) for pair in feature_importances];"
      ],
      "execution_count": null,
      "outputs": [
        {
          "output_type": "stream",
          "text": [
            "Variable--------Longitude: Importance: 0.12\n",
            "Variable--------Latitude: Importance: 0.12\n",
            "Variable--------Time_Conv: Importance: 0.12\n",
            "Variable--------LSOA_of_Accident_Location_E: Importance: 0.11\n",
            "Variable--------1st_Road_Number: Importance: 0.07\n",
            "Variable--------Day_of_Week: Importance: 0.06\n",
            "Variable--------Local_Authority_(District): Importance: 0.05\n",
            "Variable--------Local_Authority_(Highway)_E: Importance: 0.04\n",
            "Variable--------Number_of_Vehicles: Importance: 0.03\n",
            "Variable--------Number_of_Casualties: Importance: 0.03\n",
            "Variable--------Police_Force: Importance: 0.02\n",
            "Variable--------1st_Road_Class: Importance: 0.02\n",
            "Variable--------Road_Type: Importance: 0.02\n",
            "Variable--------Speed_limit: Importance: 0.02\n",
            "Variable--------Junction_Detail: Importance: 0.02\n",
            "Variable--------2nd_Road_Number: Importance: 0.02\n",
            "Variable--------Pedestrian_Crossing-Physical_Facilities: Importance: 0.02\n",
            "Variable--------Light_Conditions: Importance: 0.02\n",
            "Variable--------Weather_Conditions: Importance: 0.02\n",
            "Variable--------Road_Surface_Conditions: Importance: 0.02\n",
            "Variable--------Junction_Control: Importance: 0.01\n",
            "Variable--------2nd_Road_Class: Importance: 0.01\n",
            "Variable--------Special_Conditions_at_Site: Importance: 0.01\n",
            "Variable--------Urban_or_Rural_Area: Importance: 0.01\n",
            "Variable--------Did_Police_Officer_Attend_Scene_of_Accident: Importance: 0.01\n",
            "Variable--------Pedestrian_Crossing-Human_Control: Importance: 0.0\n",
            "Variable--------Carriageway_Hazards: Importance: 0.0\n"
          ],
          "name": "stdout"
        }
      ]
    },
    {
      "cell_type": "markdown",
      "metadata": {
        "colab_type": "text",
        "id": "M2TQeB3t083u"
      },
      "source": [
        "<h3> Visualize a random Tree from the Forest"
      ]
    },
    {
      "cell_type": "code",
      "metadata": {
        "colab_type": "code",
        "id": "7BD3TXw6083v",
        "colab": {}
      },
      "source": [
        "\n",
        "# Import tools needed for visualization\n",
        "#from sklearn.tree import export_graphviz\n",
        "#import pydot\n",
        "\n",
        "# Pull out one tree from the forest\n",
        "#tree = model_W_Le.estimators_[5]\n",
        "\n",
        "# Export the image to a dot file\n",
        "#export_graphviz(tree, out_file = 'tree.dot', feature_names = x1_train.columns, rounded = True, precision = 1)\n",
        "\n",
        "\n",
        "\n"
      ],
      "execution_count": null,
      "outputs": []
    },
    {
      "cell_type": "code",
      "metadata": {
        "colab_type": "code",
        "id": "rlc9c80x083y",
        "colab": {}
      },
      "source": [
        "# Use dot file to create a graph\n",
        "#(graph, ) = pydot.graph_from_dot_file('tree.dot')"
      ],
      "execution_count": null,
      "outputs": []
    },
    {
      "cell_type": "code",
      "metadata": {
        "colab_type": "code",
        "id": "qCB-S7EG0830",
        "colab": {}
      },
      "source": [
        "# Write graph to a png file\n",
        "#graph.write_png('tree.jpg')"
      ],
      "execution_count": null,
      "outputs": []
    },
    {
      "cell_type": "markdown",
      "metadata": {
        "colab_type": "text",
        "id": "fJMjNZJy0832"
      },
      "source": [
        "<h3> Now Lets Implement Our Classifier with some HyperParameters using Parameter Tuning</h3>\n",
        "<h7>-----------------------------------------------------------------------------------------------------------------------------------------------------------------</h7>\n",
        "<h7><br> We tried to implement Random Forest Classifier on both OneHotEncoded and Label-Encoded Data. But the results are not looking promising for: <br>Accident Severity=2 <b>(Serious)</b> and Accident Severity=1 <b>(Fatal)</b></h7>"
      ]
    },
    {
      "cell_type": "markdown",
      "metadata": {
        "colab_type": "text",
        "id": "atXTpcLbeDSk"
      },
      "source": [
        "<h4>3. Model with LabelEncoded Data + HyperParameters + RandomizedSearchCV + CrossValidation "
      ]
    },
    {
      "cell_type": "code",
      "metadata": {
        "colab_type": "code",
        "id": "NgxtrI9J0833",
        "colab": {},
        "outputId": "ec9ac5fa-9d69-42c7-c1ff-738134db2a09"
      },
      "source": [
        "from sklearn.model_selection import RandomizedSearchCV\n",
        "# Number of trees in random forest\n",
        "n_estimators = [int(x) for x in np.linspace(start = 20, stop = 100, num = 10)]\n",
        "# Number of features to consider at every split\n",
        "max_features = ['auto', 'sqrt']\n",
        "# Maximum number of levels in tree\n",
        "max_depth = [int(x) for x in np.linspace(10, 110, num = 11)]\n",
        "max_depth.append(None)\n",
        "# Minimum number of samples required to split a node\n",
        "min_samples_split = [2, 5, 10]\n",
        "# Minimum number of samples required at each leaf node\n",
        "min_samples_leaf = [1, 2, 4]\n",
        "# Method of selecting samples for training each tree\n",
        "bootstrap = [True, False]\n",
        "# Create the random grid\n",
        "random_grid = {'n_estimators': n_estimators,\n",
        "               'max_features': max_features,\n",
        "               'max_depth': max_depth,\n",
        "               'min_samples_split': min_samples_split,\n",
        "               'min_samples_leaf': min_samples_leaf,\n",
        "               'bootstrap': bootstrap}\n",
        "print(random_grid)"
      ],
      "execution_count": null,
      "outputs": [
        {
          "output_type": "stream",
          "text": [
            "{'n_estimators': [20, 28, 37, 46, 55, 64, 73, 82, 91, 100], 'max_features': ['auto', 'sqrt'], 'max_depth': [10, 20, 30, 40, 50, 60, 70, 80, 90, 100, 110, None], 'min_samples_split': [2, 5, 10], 'min_samples_leaf': [1, 2, 4], 'bootstrap': [True, False]}\n"
          ],
          "name": "stdout"
        }
      ]
    },
    {
      "cell_type": "code",
      "metadata": {
        "colab_type": "code",
        "id": "6Q6QKe5B0835",
        "colab": {}
      },
      "source": [
        "from sklearn.ensemble import RandomForestClassifier\n",
        "# Use the random grid to search for best hyperparameters\n",
        "# First create the base model to tune\n",
        "model_W_Le_Hp = RandomForestClassifier()\n",
        "# Random search of parameters, using 3 fold cross validation, \n",
        "# search across 100 different combinations, and use all available cores\n",
        "model_W_Le_Hp_Rnd = RandomizedSearchCV(estimator = model_W_Le_Hp, param_distributions = random_grid, n_iter = 100, cv = 3, verbose=2, random_state=42, n_jobs = -1)\n",
        "# Fit the random search model\n",
        "model_W_Le_Hp_Rnd.fit(x1_train, y1_train)\n"
      ],
      "execution_count": null,
      "outputs": []
    },
    {
      "cell_type": "code",
      "metadata": {
        "colab_type": "code",
        "id": "osJfcAQQ0837",
        "colab": {}
      },
      "source": [
        "from joblib import dump, load #to save ur model\n",
        "dump(model_W_Le_Hp_Rnd, '/content/models/RF_model_W_Le_Hp_Rnd.joblib') \n",
        "#model_W_Le_Hp_Rnd=load('/content/models/RF_model_W_Le_Hp_Rnd.joblib')\n"
      ],
      "execution_count": null,
      "outputs": []
    },
    {
      "cell_type": "code",
      "metadata": {
        "colab_type": "code",
        "id": "Rk0Zvxc_dNYJ",
        "colab": {
          "base_uri": "https://localhost:8080/",
          "height": 119
        },
        "outputId": "fe304d98-e73a-4bd1-e6a1-da14ad03643c"
      },
      "source": [
        "#View the best parameters of the best estimator\n",
        "model_W_Le_Hp_Rnd.best_params_"
      ],
      "execution_count": null,
      "outputs": [
        {
          "output_type": "execute_result",
          "data": {
            "text/plain": [
              "{'n_estimators': 55,\n",
              " 'min_samples_split': 10,\n",
              " 'min_samples_leaf': 2,\n",
              " 'max_features': 'sqrt',\n",
              " 'max_depth': 10,\n",
              " 'bootstrap': True}"
            ]
          },
          "metadata": {
            "tags": []
          },
          "execution_count": 34
        }
      ]
    },
    {
      "cell_type": "code",
      "metadata": {
        "colab_type": "code",
        "id": "n7zG3msTdO02",
        "colab": {
          "base_uri": "https://localhost:8080/",
          "height": 34
        },
        "outputId": "6bc7b12b-c178-4d84-d283-b4ff4dd8bdb9"
      },
      "source": [
        "#Test ur model with the best estimator \n",
        "metrics.accuracy_score(y1_test, model_W_Le_Hp_Rnd.best_estimator_.predict(x1_test))"
      ],
      "execution_count": null,
      "outputs": [
        {
          "output_type": "execute_result",
          "data": {
            "text/plain": [
              "0.8713"
            ]
          },
          "metadata": {
            "tags": []
          },
          "execution_count": 35
        }
      ]
    },
    {
      "cell_type": "code",
      "metadata": {
        "colab_type": "code",
        "id": "pILWTfp7D3ZQ",
        "colab": {
          "base_uri": "https://localhost:8080/",
          "height": 51
        },
        "outputId": "675d50ec-6773-4767-b8ec-246904ab686f"
      },
      "source": [
        "#Getting the predicted value counts\n",
        "pd.value_counts(pd.DataFrame({'A':model_W_Le_Hp_Rnd.best_estimator_.predict(x1_test)})['A'],sort=True)"
      ],
      "execution_count": null,
      "outputs": [
        {
          "output_type": "execute_result",
          "data": {
            "text/plain": [
              "3    10000\n",
              "Name: A, dtype: int64"
            ]
          },
          "metadata": {
            "tags": []
          },
          "execution_count": 36
        }
      ]
    },
    {
      "cell_type": "code",
      "metadata": {
        "colab_type": "code",
        "id": "40kJVzu2dRZE",
        "colab": {
          "base_uri": "https://localhost:8080/",
          "height": 68
        },
        "outputId": "1d4eb2bd-599f-476a-ee9c-6341e9ed88f3"
      },
      "source": [
        "#Getting the confusion matrix\n",
        "metrics.confusion_matrix(y1_test, model_W_Le_Hp_Rnd.best_estimator_.predict(x1_test), labels=[3, 2, 1])"
      ],
      "execution_count": null,
      "outputs": [
        {
          "output_type": "execute_result",
          "data": {
            "text/plain": [
              "array([[8713,    0,    0],\n",
              "       [1179,    0,    0],\n",
              "       [ 108,    0,    0]])"
            ]
          },
          "metadata": {
            "tags": []
          },
          "execution_count": 37
        }
      ]
    },
    {
      "cell_type": "markdown",
      "metadata": {
        "colab_type": "text",
        "id": "9qJz35rkdd_g"
      },
      "source": [
        "<h4>4. Model with LabelEncoded Data + HyperParameters + GridSearchCV + CrossValidation "
      ]
    },
    {
      "cell_type": "code",
      "metadata": {
        "colab_type": "code",
        "id": "2ZPVwppidj7i",
        "colab": {
          "base_uri": "https://localhost:8080/",
          "height": 564
        },
        "outputId": "8fe42738-8801-4ddf-b834-df9601ef7e15"
      },
      "source": [
        "from sklearn.model_selection import GridSearchCV\n",
        "# Create the parameter grid based on the results of ur above random search \n",
        "param_grid_2 = {\n",
        "    'bootstrap': [False],\n",
        "    'max_depth': [8, 10, 12],\n",
        "    'max_features': ['sqrt'],\n",
        "    'min_samples_leaf': [1, 2, 3],\n",
        "    'min_samples_split': [8, 10, 12],\n",
        "    'n_estimators': [100, 50, 75]\n",
        "}\n",
        "\n",
        "# Instantiate the grid search model\n",
        "model_W_Le_Hp_Grd = GridSearchCV(estimator = model_W_Le_Hp, param_grid = param_grid_2, \n",
        "                          cv = 3, n_jobs = -1, verbose = 2)\n",
        "model_W_Le_Hp_Grd.fit(x1_train, y1_train)"
      ],
      "execution_count": null,
      "outputs": [
        {
          "output_type": "stream",
          "text": [
            "Fitting 3 folds for each of 81 candidates, totalling 243 fits\n"
          ],
          "name": "stdout"
        },
        {
          "output_type": "stream",
          "text": [
            "[Parallel(n_jobs=-1)]: Using backend LokyBackend with 2 concurrent workers.\n",
            "[Parallel(n_jobs=-1)]: Done  37 tasks      | elapsed:  3.3min\n",
            "[Parallel(n_jobs=-1)]: Done 158 tasks      | elapsed: 15.3min\n",
            "[Parallel(n_jobs=-1)]: Done 243 out of 243 | elapsed: 25.4min finished\n",
            "/usr/local/lib/python3.6/dist-packages/sklearn/model_selection/_search.py:739: DataConversionWarning: A column-vector y was passed when a 1d array was expected. Please change the shape of y to (n_samples,), for example using ravel().\n",
            "  self.best_estimator_.fit(X, y, **fit_params)\n"
          ],
          "name": "stderr"
        },
        {
          "output_type": "execute_result",
          "data": {
            "text/plain": [
              "GridSearchCV(cv=3, error_score=nan,\n",
              "             estimator=RandomForestClassifier(bootstrap=True, ccp_alpha=0.0,\n",
              "                                              class_weight=None,\n",
              "                                              criterion='gini', max_depth=None,\n",
              "                                              max_features='auto',\n",
              "                                              max_leaf_nodes=None,\n",
              "                                              max_samples=None,\n",
              "                                              min_impurity_decrease=0.0,\n",
              "                                              min_impurity_split=None,\n",
              "                                              min_samples_leaf=1,\n",
              "                                              min_samples_split=2,\n",
              "                                              min_weight_fraction_leaf=0.0,\n",
              "                                              n_estimators=100, n_jobs=None,\n",
              "                                              oob_score=False,\n",
              "                                              random_state=None, verbose=0,\n",
              "                                              warm_start=False),\n",
              "             iid='deprecated', n_jobs=-1,\n",
              "             param_grid={'bootstrap': [False], 'max_depth': [8, 10, 12],\n",
              "                         'max_features': ['sqrt'],\n",
              "                         'min_samples_leaf': [1, 2, 3],\n",
              "                         'min_samples_split': [8, 10, 12],\n",
              "                         'n_estimators': [100, 50, 75]},\n",
              "             pre_dispatch='2*n_jobs', refit=True, return_train_score=False,\n",
              "             scoring=None, verbose=2)"
            ]
          },
          "metadata": {
            "tags": []
          },
          "execution_count": 40
        }
      ]
    },
    {
      "cell_type": "code",
      "metadata": {
        "colab_type": "code",
        "id": "gH6Hy9NkdnVu",
        "colab": {
          "base_uri": "https://localhost:8080/",
          "height": 34
        },
        "outputId": "432e58c1-b547-4a7d-96df-67b1deae3871"
      },
      "source": [
        "dump(model_W_Le_Hp_Grd, '/content/models/RF_model_W_Le_Hp_Grd.joblib') \n",
        "#model_W_Le_Hp_Grd=load('/content/models/RF_model_W_Le_Hp_Grd.joblib')"
      ],
      "execution_count": null,
      "outputs": [
        {
          "output_type": "execute_result",
          "data": {
            "text/plain": [
              "['/content/models/RF_model_W_Le_Hp_Grd.joblib']"
            ]
          },
          "metadata": {
            "tags": []
          },
          "execution_count": 41
        }
      ]
    },
    {
      "cell_type": "code",
      "metadata": {
        "colab_type": "code",
        "id": "cLKnF-szdw_Y",
        "colab": {
          "base_uri": "https://localhost:8080/",
          "height": 119
        },
        "outputId": "08fa0554-d738-447f-aba3-367250d073d5"
      },
      "source": [
        "#View the best parameters of the best estimator\n",
        "model_W_Le_Hp_Grd.best_params_"
      ],
      "execution_count": null,
      "outputs": [
        {
          "output_type": "execute_result",
          "data": {
            "text/plain": [
              "{'bootstrap': False,\n",
              " 'max_depth': 12,\n",
              " 'max_features': 'sqrt',\n",
              " 'min_samples_leaf': 1,\n",
              " 'min_samples_split': 12,\n",
              " 'n_estimators': 50}"
            ]
          },
          "metadata": {
            "tags": []
          },
          "execution_count": 42
        }
      ]
    },
    {
      "cell_type": "code",
      "metadata": {
        "colab_type": "code",
        "id": "IqlIlBw6dzhV",
        "colab": {
          "base_uri": "https://localhost:8080/",
          "height": 34
        },
        "outputId": "26cfaf20-a126-4847-ff0a-67b892ecdf0a"
      },
      "source": [
        "#Test ur model with the best estimator \n",
        "best_Mdl_W_Le_Hp_Grd=model_W_Le_Hp_Grd.best_estimator_\n",
        "best_Mdl_W_Le_Hp_Grd.score(x1_test, y1_test)"
      ],
      "execution_count": null,
      "outputs": [
        {
          "output_type": "execute_result",
          "data": {
            "text/plain": [
              "0.8713"
            ]
          },
          "metadata": {
            "tags": []
          },
          "execution_count": 43
        }
      ]
    },
    {
      "cell_type": "code",
      "metadata": {
        "colab_type": "code",
        "id": "EuXKIFjkd3Mc",
        "colab": {
          "base_uri": "https://localhost:8080/",
          "height": 68
        },
        "outputId": "d5ad3d99-d1df-422d-89c4-f81709d018da"
      },
      "source": [
        "metrics.confusion_matrix(y1_test,best_Mdl_W_Le_Hp_Grd.predict(x1_test),labels=[3,2,1])"
      ],
      "execution_count": null,
      "outputs": [
        {
          "output_type": "execute_result",
          "data": {
            "text/plain": [
              "array([[8710,    3,    0],\n",
              "       [1176,    3,    0],\n",
              "       [ 107,    1,    0]])"
            ]
          },
          "metadata": {
            "tags": []
          },
          "execution_count": 44
        }
      ]
    },
    {
      "cell_type": "markdown",
      "metadata": {
        "id": "f9klbGVefUcp",
        "colab_type": "text"
      },
      "source": [
        "<h3>Accuracy Description After Adding More Features + Performing Sampling:-\n",
        "<br>-------------------------------------------------------------------------------------------------\n",
        "<h4>1. Model with OneHotEncoded Data -------------------- 86.75%\n",
        "<br>2. Model with LabelEncoded Data --------------------- 86.8%\n",
        "<br>3. Model with LabelEncoded Data + HyperParameters + RandomizedSearchCV + CrossValidation --------- 87.13%\n",
        "<br>4. Model with LabelEncoded Data + HyperParameters + GridSearchCV + CrossValidation --------------- 87.13%\n",
        "<br>\n",
        "<br>From the Confusion matrices calucalated in each of the above cases you can now verify that our Trained classifier is not providing well suited results for Accident_Severity type 2 and 1. Well it might be for 2 below reasons:\n",
        "<br>\n",
        "<br>    1. The Training Dataset is not Balanced\n",
        "<br>\n",
        "<br>    2. We might not have enough features which can comfortably classify the results.</h4>\n",
        "\n",
        "<h4>Lets try to fix the above 2 issue points first and then apply our RandomForestClassifier. \n",
        "<br>Please refer to RandomForest_Implementation_2.0.ipynb for further exploration.</h4>\n",
        "    "
      ]
    },
    {
      "cell_type": "code",
      "metadata": {
        "id": "KFlVNDRRfUcp",
        "colab_type": "code",
        "colab": {}
      },
      "source": [
        ""
      ],
      "execution_count": null,
      "outputs": []
    }
  ]
}