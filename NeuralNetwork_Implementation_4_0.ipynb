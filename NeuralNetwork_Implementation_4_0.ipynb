{
  "nbformat": 4,
  "nbformat_minor": 0,
  "metadata": {
    "kernelspec": {
      "display_name": "Python 3",
      "language": "python",
      "name": "python3"
    },
    "language_info": {
      "codemirror_mode": {
        "name": "ipython",
        "version": 3
      },
      "file_extension": ".py",
      "mimetype": "text/x-python",
      "name": "python",
      "nbconvert_exporter": "python",
      "pygments_lexer": "ipython3",
      "version": "3.8.2"
    },
    "colab": {
      "name": "NeuralNetwork_Implementation_4.0.ipynb",
      "provenance": [],
      "collapsed_sections": [],
      "toc_visible": true,
      "include_colab_link": true
    },
    "accelerator": "GPU"
  },
  "cells": [
    {
      "cell_type": "markdown",
      "metadata": {
        "id": "view-in-github",
        "colab_type": "text"
      },
      "source": [
        "<a href=\"https://colab.research.google.com/github/manasc12/Road_Mishap_Risk_Analysis_Using_Machine_Learning_and_Deep_Learning/blob/master/NeuralNetwork_Implementation_4_0.ipynb\" target=\"_parent\"><img src=\"https://colab.research.google.com/assets/colab-badge.svg\" alt=\"Open In Colab\"/></a>"
      ]
    },
    {
      "cell_type": "markdown",
      "metadata": {
        "id": "yySzJmEVf4cb"
      },
      "source": [
        "## Implementing Neural Networks\n",
        "### Importing Required Libraries"
      ]
    },
    {
      "cell_type": "code",
      "metadata": {
        "id": "Qiparse6gA9a",
        "outputId": "a596d7ca-4d8c-41e3-a0c9-b699c62cc80b",
        "colab": {
          "base_uri": "https://localhost:8080/"
        }
      },
      "source": [
        "from google.colab import drive\n",
        "drive.mount('/content/drive')"
      ],
      "execution_count": null,
      "outputs": [
        {
          "output_type": "stream",
          "text": [
            "Drive already mounted at /content/drive; to attempt to forcibly remount, call drive.mount(\"/content/drive\", force_remount=True).\n"
          ],
          "name": "stdout"
        }
      ]
    },
    {
      "cell_type": "code",
      "metadata": {
        "id": "HysW2STpf4ch"
      },
      "source": [
        "import pandas as pd\n",
        "import numpy as np\n",
        "from matplotlib import pyplot as plt\n",
        "%matplotlib inline\n",
        "import seaborn as sns\n",
        "from sklearn.preprocessing import LabelEncoder\n",
        "from imblearn.over_sampling import RandomOverSampler\n",
        "from sklearn.model_selection import train_test_split\n",
        "from sklearn.preprocessing import StandardScaler"
      ],
      "execution_count": null,
      "outputs": []
    },
    {
      "cell_type": "code",
      "metadata": {
        "id": "VAWfeJFFf4co"
      },
      "source": [
        "import tensorflow as tf\n",
        "from tensorflow import keras\n",
        "from tensorflow.keras import Sequential\n",
        "from tensorflow.keras.layers import Flatten, Dense, Conv1D, BatchNormalization, Dropout"
      ],
      "execution_count": null,
      "outputs": []
    },
    {
      "cell_type": "markdown",
      "metadata": {
        "id": "RC-LF6xIf4cv"
      },
      "source": [
        "<h3> Reading the Data from CSV file </h3>\n",
        "<h4>1. Accident Data\n",
        "<br>3. Vehicles Data\n",
        "<br> We will try to add more and more features this time to build a highly accurate classifier.\n",
        "<br><h3>Provided:</h3> <h5>Previously we have only used Accident Data to build our classifier without balancing the data and we didn't got a single considerable classifier which can classify most effectively in all of the accident_severity(3,2,1) scenarios.</h5></h4>"
      ]
    },
    {
      "cell_type": "code",
      "metadata": {
        "id": "t4APLQAUf4cv",
        "outputId": "d27e43b0-c242-43f7-f972-032f81429b47",
        "colab": {
          "base_uri": "https://localhost:8080/",
          "height": 275
        }
      },
      "source": [
        "df_Acc=pd.read_csv('/content/drive/My Drive/data/dftRoadSafetyData_Accidents_2018.csv')\n",
        "df_Veh=pd.read_csv('/content/drive/My Drive/data/dftRoadSafetyData_Vehicles_2018.csv')\n",
        "df_Acc.head(5)"
      ],
      "execution_count": null,
      "outputs": [
        {
          "output_type": "stream",
          "text": [
            "/usr/local/lib/python3.6/dist-packages/IPython/core/interactiveshell.py:2718: DtypeWarning: Columns (0) have mixed types.Specify dtype option on import or set low_memory=False.\n",
            "  interactivity=interactivity, compiler=compiler, result=result)\n"
          ],
          "name": "stderr"
        },
        {
          "output_type": "execute_result",
          "data": {
            "text/html": [
              "<div>\n",
              "<style scoped>\n",
              "    .dataframe tbody tr th:only-of-type {\n",
              "        vertical-align: middle;\n",
              "    }\n",
              "\n",
              "    .dataframe tbody tr th {\n",
              "        vertical-align: top;\n",
              "    }\n",
              "\n",
              "    .dataframe thead th {\n",
              "        text-align: right;\n",
              "    }\n",
              "</style>\n",
              "<table border=\"1\" class=\"dataframe\">\n",
              "  <thead>\n",
              "    <tr style=\"text-align: right;\">\n",
              "      <th></th>\n",
              "      <th>Accident_Index</th>\n",
              "      <th>Location_Easting_OSGR</th>\n",
              "      <th>Location_Northing_OSGR</th>\n",
              "      <th>Longitude</th>\n",
              "      <th>Latitude</th>\n",
              "      <th>Police_Force</th>\n",
              "      <th>Accident_Severity</th>\n",
              "      <th>Number_of_Vehicles</th>\n",
              "      <th>Number_of_Casualties</th>\n",
              "      <th>Date</th>\n",
              "      <th>Day_of_Week</th>\n",
              "      <th>Time</th>\n",
              "      <th>Local_Authority_(District)</th>\n",
              "      <th>Local_Authority_(Highway)</th>\n",
              "      <th>1st_Road_Class</th>\n",
              "      <th>1st_Road_Number</th>\n",
              "      <th>Road_Type</th>\n",
              "      <th>Speed_limit</th>\n",
              "      <th>Junction_Detail</th>\n",
              "      <th>Junction_Control</th>\n",
              "      <th>2nd_Road_Class</th>\n",
              "      <th>2nd_Road_Number</th>\n",
              "      <th>Pedestrian_Crossing-Human_Control</th>\n",
              "      <th>Pedestrian_Crossing-Physical_Facilities</th>\n",
              "      <th>Light_Conditions</th>\n",
              "      <th>Weather_Conditions</th>\n",
              "      <th>Road_Surface_Conditions</th>\n",
              "      <th>Special_Conditions_at_Site</th>\n",
              "      <th>Carriageway_Hazards</th>\n",
              "      <th>Urban_or_Rural_Area</th>\n",
              "      <th>Did_Police_Officer_Attend_Scene_of_Accident</th>\n",
              "      <th>LSOA_of_Accident_Location</th>\n",
              "    </tr>\n",
              "  </thead>\n",
              "  <tbody>\n",
              "    <tr>\n",
              "      <th>0</th>\n",
              "      <td>2018010080971</td>\n",
              "      <td>529150.0</td>\n",
              "      <td>182270.0</td>\n",
              "      <td>-0.139737</td>\n",
              "      <td>51.524587</td>\n",
              "      <td>1</td>\n",
              "      <td>3</td>\n",
              "      <td>2</td>\n",
              "      <td>2</td>\n",
              "      <td>01/01/2018</td>\n",
              "      <td>2</td>\n",
              "      <td>01:30</td>\n",
              "      <td>2</td>\n",
              "      <td>E09000007</td>\n",
              "      <td>3</td>\n",
              "      <td>501</td>\n",
              "      <td>3</td>\n",
              "      <td>30</td>\n",
              "      <td>0</td>\n",
              "      <td>-1</td>\n",
              "      <td>-1</td>\n",
              "      <td>0</td>\n",
              "      <td>0</td>\n",
              "      <td>0</td>\n",
              "      <td>4</td>\n",
              "      <td>1</td>\n",
              "      <td>1</td>\n",
              "      <td>0</td>\n",
              "      <td>0</td>\n",
              "      <td>1</td>\n",
              "      <td>1</td>\n",
              "      <td>E01000854</td>\n",
              "    </tr>\n",
              "    <tr>\n",
              "      <th>1</th>\n",
              "      <td>2018010080973</td>\n",
              "      <td>542020.0</td>\n",
              "      <td>184290.0</td>\n",
              "      <td>0.046471</td>\n",
              "      <td>51.539651</td>\n",
              "      <td>1</td>\n",
              "      <td>3</td>\n",
              "      <td>1</td>\n",
              "      <td>1</td>\n",
              "      <td>01/01/2018</td>\n",
              "      <td>2</td>\n",
              "      <td>00:50</td>\n",
              "      <td>17</td>\n",
              "      <td>E09000025</td>\n",
              "      <td>4</td>\n",
              "      <td>165</td>\n",
              "      <td>6</td>\n",
              "      <td>30</td>\n",
              "      <td>2</td>\n",
              "      <td>4</td>\n",
              "      <td>6</td>\n",
              "      <td>0</td>\n",
              "      <td>0</td>\n",
              "      <td>0</td>\n",
              "      <td>4</td>\n",
              "      <td>1</td>\n",
              "      <td>1</td>\n",
              "      <td>0</td>\n",
              "      <td>0</td>\n",
              "      <td>1</td>\n",
              "      <td>1</td>\n",
              "      <td>E01003531</td>\n",
              "    </tr>\n",
              "    <tr>\n",
              "      <th>2</th>\n",
              "      <td>2018010080974</td>\n",
              "      <td>531720.0</td>\n",
              "      <td>182910.0</td>\n",
              "      <td>-0.102474</td>\n",
              "      <td>51.529746</td>\n",
              "      <td>1</td>\n",
              "      <td>3</td>\n",
              "      <td>2</td>\n",
              "      <td>1</td>\n",
              "      <td>01/01/2018</td>\n",
              "      <td>2</td>\n",
              "      <td>00:45</td>\n",
              "      <td>3</td>\n",
              "      <td>E09000019</td>\n",
              "      <td>3</td>\n",
              "      <td>1</td>\n",
              "      <td>6</td>\n",
              "      <td>20</td>\n",
              "      <td>6</td>\n",
              "      <td>4</td>\n",
              "      <td>5</td>\n",
              "      <td>0</td>\n",
              "      <td>0</td>\n",
              "      <td>5</td>\n",
              "      <td>4</td>\n",
              "      <td>1</td>\n",
              "      <td>1</td>\n",
              "      <td>0</td>\n",
              "      <td>0</td>\n",
              "      <td>1</td>\n",
              "      <td>1</td>\n",
              "      <td>E01002723</td>\n",
              "    </tr>\n",
              "    <tr>\n",
              "      <th>3</th>\n",
              "      <td>2018010080981</td>\n",
              "      <td>541450.0</td>\n",
              "      <td>183220.0</td>\n",
              "      <td>0.037828</td>\n",
              "      <td>51.530179</td>\n",
              "      <td>1</td>\n",
              "      <td>2</td>\n",
              "      <td>2</td>\n",
              "      <td>1</td>\n",
              "      <td>01/01/2018</td>\n",
              "      <td>2</td>\n",
              "      <td>03:00</td>\n",
              "      <td>17</td>\n",
              "      <td>E09000025</td>\n",
              "      <td>4</td>\n",
              "      <td>167</td>\n",
              "      <td>3</td>\n",
              "      <td>30</td>\n",
              "      <td>7</td>\n",
              "      <td>2</td>\n",
              "      <td>3</td>\n",
              "      <td>124</td>\n",
              "      <td>0</td>\n",
              "      <td>5</td>\n",
              "      <td>4</td>\n",
              "      <td>2</td>\n",
              "      <td>2</td>\n",
              "      <td>0</td>\n",
              "      <td>0</td>\n",
              "      <td>1</td>\n",
              "      <td>1</td>\n",
              "      <td>E01003492</td>\n",
              "    </tr>\n",
              "    <tr>\n",
              "      <th>4</th>\n",
              "      <td>2018010080982</td>\n",
              "      <td>543580.0</td>\n",
              "      <td>176500.0</td>\n",
              "      <td>0.065781</td>\n",
              "      <td>51.469258</td>\n",
              "      <td>1</td>\n",
              "      <td>2</td>\n",
              "      <td>2</td>\n",
              "      <td>2</td>\n",
              "      <td>01/01/2018</td>\n",
              "      <td>2</td>\n",
              "      <td>02:20</td>\n",
              "      <td>6</td>\n",
              "      <td>E09000011</td>\n",
              "      <td>3</td>\n",
              "      <td>207</td>\n",
              "      <td>6</td>\n",
              "      <td>30</td>\n",
              "      <td>0</td>\n",
              "      <td>-1</td>\n",
              "      <td>-1</td>\n",
              "      <td>0</td>\n",
              "      <td>0</td>\n",
              "      <td>0</td>\n",
              "      <td>4</td>\n",
              "      <td>1</td>\n",
              "      <td>2</td>\n",
              "      <td>0</td>\n",
              "      <td>0</td>\n",
              "      <td>1</td>\n",
              "      <td>1</td>\n",
              "      <td>E01001682</td>\n",
              "    </tr>\n",
              "  </tbody>\n",
              "</table>\n",
              "</div>"
            ],
            "text/plain": [
              "  Accident_Index  ...  LSOA_of_Accident_Location\n",
              "0  2018010080971  ...                  E01000854\n",
              "1  2018010080973  ...                  E01003531\n",
              "2  2018010080974  ...                  E01002723\n",
              "3  2018010080981  ...                  E01003492\n",
              "4  2018010080982  ...                  E01001682\n",
              "\n",
              "[5 rows x 32 columns]"
            ]
          },
          "metadata": {
            "tags": []
          },
          "execution_count": 74
        }
      ]
    },
    {
      "cell_type": "code",
      "metadata": {
        "id": "_vVi855cf4c6",
        "outputId": "a67fe9a4-d19b-4953-c70c-6b97fdb2cdb0",
        "colab": {
          "base_uri": "https://localhost:8080/",
          "height": 456
        }
      },
      "source": [
        "df_Veh"
      ],
      "execution_count": null,
      "outputs": [
        {
          "output_type": "execute_result",
          "data": {
            "text/html": [
              "<div>\n",
              "<style scoped>\n",
              "    .dataframe tbody tr th:only-of-type {\n",
              "        vertical-align: middle;\n",
              "    }\n",
              "\n",
              "    .dataframe tbody tr th {\n",
              "        vertical-align: top;\n",
              "    }\n",
              "\n",
              "    .dataframe thead th {\n",
              "        text-align: right;\n",
              "    }\n",
              "</style>\n",
              "<table border=\"1\" class=\"dataframe\">\n",
              "  <thead>\n",
              "    <tr style=\"text-align: right;\">\n",
              "      <th></th>\n",
              "      <th>Accident_Index</th>\n",
              "      <th>Vehicle_Reference</th>\n",
              "      <th>Vehicle_Type</th>\n",
              "      <th>Towing_and_Articulation</th>\n",
              "      <th>Vehicle_Manoeuvre</th>\n",
              "      <th>Vehicle_Location-Restricted_Lane</th>\n",
              "      <th>Junction_Location</th>\n",
              "      <th>Skidding_and_Overturning</th>\n",
              "      <th>Hit_Object_in_Carriageway</th>\n",
              "      <th>Vehicle_Leaving_Carriageway</th>\n",
              "      <th>Hit_Object_off_Carriageway</th>\n",
              "      <th>1st_Point_of_Impact</th>\n",
              "      <th>Was_Vehicle_Left_Hand_Drive?</th>\n",
              "      <th>Journey_Purpose_of_Driver</th>\n",
              "      <th>Sex_of_Driver</th>\n",
              "      <th>Age_of_Driver</th>\n",
              "      <th>Age_Band_of_Driver</th>\n",
              "      <th>Engine_Capacity_(CC)</th>\n",
              "      <th>Propulsion_Code</th>\n",
              "      <th>Age_of_Vehicle</th>\n",
              "      <th>Driver_IMD_Decile</th>\n",
              "      <th>Driver_Home_Area_Type</th>\n",
              "      <th>Vehicle_IMD_Decile</th>\n",
              "    </tr>\n",
              "  </thead>\n",
              "  <tbody>\n",
              "    <tr>\n",
              "      <th>0</th>\n",
              "      <td>2018010080971</td>\n",
              "      <td>1</td>\n",
              "      <td>9</td>\n",
              "      <td>0</td>\n",
              "      <td>18</td>\n",
              "      <td>0</td>\n",
              "      <td>0</td>\n",
              "      <td>0</td>\n",
              "      <td>0</td>\n",
              "      <td>0</td>\n",
              "      <td>0</td>\n",
              "      <td>1</td>\n",
              "      <td>1</td>\n",
              "      <td>6</td>\n",
              "      <td>1</td>\n",
              "      <td>32</td>\n",
              "      <td>6</td>\n",
              "      <td>1995</td>\n",
              "      <td>2</td>\n",
              "      <td>5</td>\n",
              "      <td>8</td>\n",
              "      <td>1</td>\n",
              "      <td>8</td>\n",
              "    </tr>\n",
              "    <tr>\n",
              "      <th>1</th>\n",
              "      <td>2018010080971</td>\n",
              "      <td>2</td>\n",
              "      <td>8</td>\n",
              "      <td>0</td>\n",
              "      <td>18</td>\n",
              "      <td>0</td>\n",
              "      <td>0</td>\n",
              "      <td>0</td>\n",
              "      <td>0</td>\n",
              "      <td>0</td>\n",
              "      <td>0</td>\n",
              "      <td>2</td>\n",
              "      <td>1</td>\n",
              "      <td>6</td>\n",
              "      <td>1</td>\n",
              "      <td>48</td>\n",
              "      <td>8</td>\n",
              "      <td>1798</td>\n",
              "      <td>8</td>\n",
              "      <td>6</td>\n",
              "      <td>1</td>\n",
              "      <td>1</td>\n",
              "      <td>1</td>\n",
              "    </tr>\n",
              "    <tr>\n",
              "      <th>2</th>\n",
              "      <td>2018010080973</td>\n",
              "      <td>1</td>\n",
              "      <td>9</td>\n",
              "      <td>0</td>\n",
              "      <td>18</td>\n",
              "      <td>0</td>\n",
              "      <td>2</td>\n",
              "      <td>0</td>\n",
              "      <td>0</td>\n",
              "      <td>0</td>\n",
              "      <td>0</td>\n",
              "      <td>1</td>\n",
              "      <td>1</td>\n",
              "      <td>6</td>\n",
              "      <td>3</td>\n",
              "      <td>-1</td>\n",
              "      <td>-1</td>\n",
              "      <td>-1</td>\n",
              "      <td>-1</td>\n",
              "      <td>-1</td>\n",
              "      <td>-1</td>\n",
              "      <td>-1</td>\n",
              "      <td>-1</td>\n",
              "    </tr>\n",
              "    <tr>\n",
              "      <th>3</th>\n",
              "      <td>2018010080974</td>\n",
              "      <td>1</td>\n",
              "      <td>8</td>\n",
              "      <td>0</td>\n",
              "      <td>7</td>\n",
              "      <td>0</td>\n",
              "      <td>8</td>\n",
              "      <td>0</td>\n",
              "      <td>0</td>\n",
              "      <td>0</td>\n",
              "      <td>0</td>\n",
              "      <td>1</td>\n",
              "      <td>1</td>\n",
              "      <td>1</td>\n",
              "      <td>1</td>\n",
              "      <td>40</td>\n",
              "      <td>7</td>\n",
              "      <td>1797</td>\n",
              "      <td>8</td>\n",
              "      <td>6</td>\n",
              "      <td>3</td>\n",
              "      <td>1</td>\n",
              "      <td>3</td>\n",
              "    </tr>\n",
              "    <tr>\n",
              "      <th>4</th>\n",
              "      <td>2018010080974</td>\n",
              "      <td>2</td>\n",
              "      <td>9</td>\n",
              "      <td>0</td>\n",
              "      <td>18</td>\n",
              "      <td>0</td>\n",
              "      <td>1</td>\n",
              "      <td>0</td>\n",
              "      <td>0</td>\n",
              "      <td>3</td>\n",
              "      <td>1</td>\n",
              "      <td>1</td>\n",
              "      <td>1</td>\n",
              "      <td>6</td>\n",
              "      <td>1</td>\n",
              "      <td>21</td>\n",
              "      <td>5</td>\n",
              "      <td>-1</td>\n",
              "      <td>-1</td>\n",
              "      <td>-1</td>\n",
              "      <td>5</td>\n",
              "      <td>1</td>\n",
              "      <td>5</td>\n",
              "    </tr>\n",
              "    <tr>\n",
              "      <th>...</th>\n",
              "      <td>...</td>\n",
              "      <td>...</td>\n",
              "      <td>...</td>\n",
              "      <td>...</td>\n",
              "      <td>...</td>\n",
              "      <td>...</td>\n",
              "      <td>...</td>\n",
              "      <td>...</td>\n",
              "      <td>...</td>\n",
              "      <td>...</td>\n",
              "      <td>...</td>\n",
              "      <td>...</td>\n",
              "      <td>...</td>\n",
              "      <td>...</td>\n",
              "      <td>...</td>\n",
              "      <td>...</td>\n",
              "      <td>...</td>\n",
              "      <td>...</td>\n",
              "      <td>...</td>\n",
              "      <td>...</td>\n",
              "      <td>...</td>\n",
              "      <td>...</td>\n",
              "      <td>...</td>\n",
              "    </tr>\n",
              "    <tr>\n",
              "      <th>226404</th>\n",
              "      <td>2018984116018</td>\n",
              "      <td>1</td>\n",
              "      <td>9</td>\n",
              "      <td>0</td>\n",
              "      <td>9</td>\n",
              "      <td>0</td>\n",
              "      <td>0</td>\n",
              "      <td>0</td>\n",
              "      <td>0</td>\n",
              "      <td>0</td>\n",
              "      <td>0</td>\n",
              "      <td>3</td>\n",
              "      <td>1</td>\n",
              "      <td>6</td>\n",
              "      <td>1</td>\n",
              "      <td>67</td>\n",
              "      <td>10</td>\n",
              "      <td>998</td>\n",
              "      <td>1</td>\n",
              "      <td>4</td>\n",
              "      <td>-1</td>\n",
              "      <td>3</td>\n",
              "      <td>-1</td>\n",
              "    </tr>\n",
              "    <tr>\n",
              "      <th>226405</th>\n",
              "      <td>2018984116018</td>\n",
              "      <td>2</td>\n",
              "      <td>9</td>\n",
              "      <td>0</td>\n",
              "      <td>15</td>\n",
              "      <td>0</td>\n",
              "      <td>0</td>\n",
              "      <td>1</td>\n",
              "      <td>0</td>\n",
              "      <td>7</td>\n",
              "      <td>4</td>\n",
              "      <td>4</td>\n",
              "      <td>1</td>\n",
              "      <td>6</td>\n",
              "      <td>1</td>\n",
              "      <td>24</td>\n",
              "      <td>5</td>\n",
              "      <td>3000</td>\n",
              "      <td>2</td>\n",
              "      <td>21</td>\n",
              "      <td>-1</td>\n",
              "      <td>3</td>\n",
              "      <td>-1</td>\n",
              "    </tr>\n",
              "    <tr>\n",
              "      <th>226406</th>\n",
              "      <td>2018984116018</td>\n",
              "      <td>3</td>\n",
              "      <td>9</td>\n",
              "      <td>0</td>\n",
              "      <td>2</td>\n",
              "      <td>6</td>\n",
              "      <td>0</td>\n",
              "      <td>0</td>\n",
              "      <td>0</td>\n",
              "      <td>0</td>\n",
              "      <td>0</td>\n",
              "      <td>4</td>\n",
              "      <td>1</td>\n",
              "      <td>6</td>\n",
              "      <td>3</td>\n",
              "      <td>-1</td>\n",
              "      <td>-1</td>\n",
              "      <td>2400</td>\n",
              "      <td>2</td>\n",
              "      <td>5</td>\n",
              "      <td>-1</td>\n",
              "      <td>-1</td>\n",
              "      <td>-1</td>\n",
              "    </tr>\n",
              "    <tr>\n",
              "      <th>226407</th>\n",
              "      <td>2018984116318</td>\n",
              "      <td>1</td>\n",
              "      <td>2</td>\n",
              "      <td>0</td>\n",
              "      <td>18</td>\n",
              "      <td>0</td>\n",
              "      <td>1</td>\n",
              "      <td>1</td>\n",
              "      <td>0</td>\n",
              "      <td>0</td>\n",
              "      <td>0</td>\n",
              "      <td>3</td>\n",
              "      <td>1</td>\n",
              "      <td>1</td>\n",
              "      <td>1</td>\n",
              "      <td>60</td>\n",
              "      <td>9</td>\n",
              "      <td>49</td>\n",
              "      <td>1</td>\n",
              "      <td>10</td>\n",
              "      <td>-1</td>\n",
              "      <td>3</td>\n",
              "      <td>-1</td>\n",
              "    </tr>\n",
              "    <tr>\n",
              "      <th>226408</th>\n",
              "      <td>2018984116418</td>\n",
              "      <td>1</td>\n",
              "      <td>9</td>\n",
              "      <td>0</td>\n",
              "      <td>18</td>\n",
              "      <td>0</td>\n",
              "      <td>0</td>\n",
              "      <td>0</td>\n",
              "      <td>12</td>\n",
              "      <td>0</td>\n",
              "      <td>0</td>\n",
              "      <td>1</td>\n",
              "      <td>1</td>\n",
              "      <td>2</td>\n",
              "      <td>2</td>\n",
              "      <td>21</td>\n",
              "      <td>5</td>\n",
              "      <td>899</td>\n",
              "      <td>1</td>\n",
              "      <td>5</td>\n",
              "      <td>-1</td>\n",
              "      <td>2</td>\n",
              "      <td>-1</td>\n",
              "    </tr>\n",
              "  </tbody>\n",
              "</table>\n",
              "<p>226409 rows × 23 columns</p>\n",
              "</div>"
            ],
            "text/plain": [
              "       Accident_Index  ...  Vehicle_IMD_Decile\n",
              "0       2018010080971  ...                   8\n",
              "1       2018010080971  ...                   1\n",
              "2       2018010080973  ...                  -1\n",
              "3       2018010080974  ...                   3\n",
              "4       2018010080974  ...                   5\n",
              "...               ...  ...                 ...\n",
              "226404  2018984116018  ...                  -1\n",
              "226405  2018984116018  ...                  -1\n",
              "226406  2018984116018  ...                  -1\n",
              "226407  2018984116318  ...                  -1\n",
              "226408  2018984116418  ...                  -1\n",
              "\n",
              "[226409 rows x 23 columns]"
            ]
          },
          "metadata": {
            "tags": []
          },
          "execution_count": 75
        }
      ]
    },
    {
      "cell_type": "markdown",
      "metadata": {
        "id": "ppIWHDPNf4c-"
      },
      "source": [
        "<h3> Data Cleaning and Wrangling"
      ]
    },
    {
      "cell_type": "code",
      "metadata": {
        "id": "ZcsBaXQsf4c_"
      },
      "source": [
        "#Cleaning up the null valued rows\n",
        "df_Acc_clnd=df_Acc[~df_Acc.isnull().any(axis=1)]\n",
        "df_Veh_clnd=df_Veh[~df_Veh.isnull().any(axis=1)]"
      ],
      "execution_count": null,
      "outputs": []
    },
    {
      "cell_type": "code",
      "metadata": {
        "scrolled": false,
        "id": "HDgeM38Tf4dD",
        "outputId": "ad6ad5f5-66e3-4b50-8ef2-871bab43ad34",
        "colab": {
          "base_uri": "https://localhost:8080/"
        }
      },
      "source": [
        "#Transforming 'Time' Attribute from hh:mm to only minutes\n",
        "a= np.array([(int(str(x).split(':')[0])*60+int(str(x).split(':')[1])) for x in df_Acc_clnd['Time'].values])\n",
        "df_Acc_clnd['Time_Conv']=a"
      ],
      "execution_count": null,
      "outputs": [
        {
          "output_type": "stream",
          "text": [
            "/usr/local/lib/python3.6/dist-packages/ipykernel_launcher.py:3: SettingWithCopyWarning: \n",
            "A value is trying to be set on a copy of a slice from a DataFrame.\n",
            "Try using .loc[row_indexer,col_indexer] = value instead\n",
            "\n",
            "See the caveats in the documentation: https://pandas.pydata.org/pandas-docs/stable/user_guide/indexing.html#returning-a-view-versus-a-copy\n",
            "  This is separate from the ipykernel package so we can avoid doing imports until\n"
          ],
          "name": "stderr"
        }
      ]
    },
    {
      "cell_type": "code",
      "metadata": {
        "id": "1p_bYUAxf4dJ",
        "outputId": "a3353ce4-7a46-4da7-9568-a526fb713598",
        "colab": {
          "base_uri": "https://localhost:8080/"
        }
      },
      "source": [
        "#Visualizing the shape \n",
        "print('df_Acc.shape---'+str(df_Acc.shape))\n",
        "print('df_Veh.shape---'+str(df_Veh.shape))\n",
        "print('df_Acc_clnd.shape---'+str(df_Acc_clnd.shape))\n",
        "print('df_Veh_clnd.shape---'+str(df_Veh_clnd.shape))\n",
        "print('----------------------------------------------------------------------')\n",
        "print('df_Acc_clnd unique values---')\n",
        "print('----------------------------------------------------------------------')\n",
        "print(df_Acc_clnd.nunique(axis=0))\n",
        "print('----------------------------------------------------------------------')\n",
        "print('df_Veh_clnd unique values---')\n",
        "print('----------------------------------------------------------------------')\n",
        "print(df_Veh_clnd.nunique(axis=0))"
      ],
      "execution_count": null,
      "outputs": [
        {
          "output_type": "stream",
          "text": [
            "df_Acc.shape---(122635, 32)\n",
            "df_Veh.shape---(226409, 23)\n",
            "df_Acc_clnd.shape---(116181, 33)\n",
            "df_Veh_clnd.shape---(226409, 23)\n",
            "----------------------------------------------------------------------\n",
            "df_Acc_clnd unique values---\n",
            "----------------------------------------------------------------------\n",
            "Accident_Index                                 116181\n",
            "Location_Easting_OSGR                           79980\n",
            "Location_Northing_OSGR                          80961\n",
            "Longitude                                      111657\n",
            "Latitude                                       110374\n",
            "Police_Force                                       43\n",
            "Accident_Severity                                   3\n",
            "Number_of_Vehicles                                 14\n",
            "Number_of_Casualties                               17\n",
            "Date                                              365\n",
            "Day_of_Week                                         7\n",
            "Time                                             1438\n",
            "Local_Authority_(District)                        348\n",
            "Local_Authority_(Highway)                         175\n",
            "1st_Road_Class                                      6\n",
            "1st_Road_Number                                  3381\n",
            "Road_Type                                           6\n",
            "Speed_limit                                         6\n",
            "Junction_Detail                                    10\n",
            "Junction_Control                                    5\n",
            "2nd_Road_Class                                      7\n",
            "2nd_Road_Number                                  2995\n",
            "Pedestrian_Crossing-Human_Control                   4\n",
            "Pedestrian_Crossing-Physical_Facilities             7\n",
            "Light_Conditions                                    5\n",
            "Weather_Conditions                                  9\n",
            "Road_Surface_Conditions                             6\n",
            "Special_Conditions_at_Site                          9\n",
            "Carriageway_Hazards                                 7\n",
            "Urban_or_Rural_Area                                 2\n",
            "Did_Police_Officer_Attend_Scene_of_Accident         3\n",
            "LSOA_of_Accident_Location                       27964\n",
            "Time_Conv                                        1438\n",
            "dtype: int64\n",
            "----------------------------------------------------------------------\n",
            "df_Veh_clnd unique values---\n",
            "----------------------------------------------------------------------\n",
            "Accident_Index                      122635\n",
            "Vehicle_Reference                       26\n",
            "Vehicle_Type                            21\n",
            "Towing_and_Articulation                  7\n",
            "Vehicle_Manoeuvre                       19\n",
            "Vehicle_Location-Restricted_Lane        11\n",
            "Junction_Location                       10\n",
            "Skidding_and_Overturning                 7\n",
            "Hit_Object_in_Carriageway               13\n",
            "Vehicle_Leaving_Carriageway             10\n",
            "Hit_Object_off_Carriageway              13\n",
            "1st_Point_of_Impact                      6\n",
            "Was_Vehicle_Left_Hand_Drive?             3\n",
            "Journey_Purpose_of_Driver                7\n",
            "Sex_of_Driver                            4\n",
            "Age_of_Driver                          101\n",
            "Age_Band_of_Driver                      12\n",
            "Engine_Capacity_(CC)                  1111\n",
            "Propulsion_Code                          9\n",
            "Age_of_Vehicle                          72\n",
            "Driver_IMD_Decile                       11\n",
            "Driver_Home_Area_Type                    4\n",
            "Vehicle_IMD_Decile                      11\n",
            "dtype: int64\n"
          ],
          "name": "stdout"
        }
      ]
    },
    {
      "cell_type": "code",
      "metadata": {
        "id": "3Jny6XyZf4dP",
        "outputId": "04fa1a7b-3e77-4974-b43c-d323844986f9",
        "colab": {
          "base_uri": "https://localhost:8080/"
        }
      },
      "source": [
        "#and Data Types\n",
        "print('----------------------------------------------------------------------')\n",
        "print('df_Acc_clnd Data types---')\n",
        "print('----------------------------------------------------------------------')\n",
        "print(df_Acc_clnd.dtypes)\n",
        "print('----------------------------------------------------------------------')\n",
        "print('df_Veh_clnd Data types---')\n",
        "print('----------------------------------------------------------------------')\n",
        "print(df_Veh_clnd.dtypes)"
      ],
      "execution_count": null,
      "outputs": [
        {
          "output_type": "stream",
          "text": [
            "----------------------------------------------------------------------\n",
            "df_Acc_clnd Data types---\n",
            "----------------------------------------------------------------------\n",
            "Accident_Index                                  object\n",
            "Location_Easting_OSGR                          float64\n",
            "Location_Northing_OSGR                         float64\n",
            "Longitude                                      float64\n",
            "Latitude                                       float64\n",
            "Police_Force                                     int64\n",
            "Accident_Severity                                int64\n",
            "Number_of_Vehicles                               int64\n",
            "Number_of_Casualties                             int64\n",
            "Date                                            object\n",
            "Day_of_Week                                      int64\n",
            "Time                                            object\n",
            "Local_Authority_(District)                       int64\n",
            "Local_Authority_(Highway)                       object\n",
            "1st_Road_Class                                   int64\n",
            "1st_Road_Number                                  int64\n",
            "Road_Type                                        int64\n",
            "Speed_limit                                      int64\n",
            "Junction_Detail                                  int64\n",
            "Junction_Control                                 int64\n",
            "2nd_Road_Class                                   int64\n",
            "2nd_Road_Number                                  int64\n",
            "Pedestrian_Crossing-Human_Control                int64\n",
            "Pedestrian_Crossing-Physical_Facilities          int64\n",
            "Light_Conditions                                 int64\n",
            "Weather_Conditions                               int64\n",
            "Road_Surface_Conditions                          int64\n",
            "Special_Conditions_at_Site                       int64\n",
            "Carriageway_Hazards                              int64\n",
            "Urban_or_Rural_Area                              int64\n",
            "Did_Police_Officer_Attend_Scene_of_Accident      int64\n",
            "LSOA_of_Accident_Location                       object\n",
            "Time_Conv                                        int64\n",
            "dtype: object\n",
            "----------------------------------------------------------------------\n",
            "df_Veh_clnd Data types---\n",
            "----------------------------------------------------------------------\n",
            "Accident_Index                      object\n",
            "Vehicle_Reference                    int64\n",
            "Vehicle_Type                         int64\n",
            "Towing_and_Articulation              int64\n",
            "Vehicle_Manoeuvre                    int64\n",
            "Vehicle_Location-Restricted_Lane     int64\n",
            "Junction_Location                    int64\n",
            "Skidding_and_Overturning             int64\n",
            "Hit_Object_in_Carriageway            int64\n",
            "Vehicle_Leaving_Carriageway          int64\n",
            "Hit_Object_off_Carriageway           int64\n",
            "1st_Point_of_Impact                  int64\n",
            "Was_Vehicle_Left_Hand_Drive?         int64\n",
            "Journey_Purpose_of_Driver            int64\n",
            "Sex_of_Driver                        int64\n",
            "Age_of_Driver                        int64\n",
            "Age_Band_of_Driver                   int64\n",
            "Engine_Capacity_(CC)                 int64\n",
            "Propulsion_Code                      int64\n",
            "Age_of_Vehicle                       int64\n",
            "Driver_IMD_Decile                    int64\n",
            "Driver_Home_Area_Type                int64\n",
            "Vehicle_IMD_Decile                   int64\n",
            "dtype: object\n"
          ],
          "name": "stdout"
        }
      ]
    },
    {
      "cell_type": "markdown",
      "metadata": {
        "id": "_0jygom_f4dT"
      },
      "source": [
        "<h4>There are 2 sheets(2 dataframes). So lets check which are the columns(attributes/features) on which we can perform our join operation. Inorder to get a single dataframe."
      ]
    },
    {
      "cell_type": "code",
      "metadata": {
        "id": "xH16djlif4dT",
        "outputId": "f0c40ee7-6632-4e26-dfcd-876ab281b371",
        "colab": {
          "base_uri": "https://localhost:8080/"
        }
      },
      "source": [
        "print('-----------------------------------------')\n",
        "print('Columns same in Accident and Vehicle:')\n",
        "print('-----------------------------------------')\n",
        "for c1 in df_Acc_clnd.columns:\n",
        "    for c2 in df_Veh_clnd.columns:\n",
        "        if(c1==c2):\n",
        "            print(c1)"
      ],
      "execution_count": null,
      "outputs": [
        {
          "output_type": "stream",
          "text": [
            "-----------------------------------------\n",
            "Columns same in Accident and Vehicle:\n",
            "-----------------------------------------\n",
            "Accident_Index\n"
          ],
          "name": "stdout"
        }
      ]
    },
    {
      "cell_type": "markdown",
      "metadata": {
        "id": "HTnpfPuOf4dX"
      },
      "source": [
        "<h4>Now that we know our join keys so lets merge our 3 dataframes"
      ]
    },
    {
      "cell_type": "code",
      "metadata": {
        "id": "56tGkL3Gf4dX"
      },
      "source": [
        "df_All_clnd=pd.merge(df_Acc_clnd,df_Veh_clnd,how='inner',on=['Accident_Index'])"
      ],
      "execution_count": null,
      "outputs": []
    },
    {
      "cell_type": "markdown",
      "metadata": {
        "id": "kekyYxwvf4db"
      },
      "source": [
        "<h4> Bifurcating Attributes for Training and Target"
      ]
    },
    {
      "cell_type": "code",
      "metadata": {
        "id": "d6Sy5Pzdf4db"
      },
      "source": [
        "df=df_All_clnd.reset_index(drop=True)\n",
        "\n",
        "##Drop the columns which are irrelevant to get before the accident or totally irrelevant w.r.t the prediction model.\n",
        "##We are dropping 'Time' because we have added 'Time_Conv' feature which represents the time of the day.\n",
        "##The Date feature will be irrelevant while predicting the future accident severities.\n",
        "df.drop(['Date','Time','Accident_Index','Number_of_Casualties','Vehicle_Reference'\n",
        "         ,'Police_Force','Did_Police_Officer_Attend_Scene_of_Accident','1st_Point_of_Impact'\n",
        "         ,'Vehicle_Leaving_Carriageway','Hit_Object_off_Carriageway'\n",
        "         ,'Carriageway_Hazards','Towing_and_Articulation','Vehicle_Location-Restricted_Lane'\n",
        "        ,'Hit_Object_in_Carriageway'],axis=1,inplace=True)\n",
        "\n",
        "target_c=['Accident_Severity']\n",
        "df_train=df.drop(target_c,axis=1)\n",
        "df_target=df[target_c]"
      ],
      "execution_count": null,
      "outputs": []
    },
    {
      "cell_type": "markdown",
      "metadata": {
        "id": "8SQRXJ12f4dg"
      },
      "source": [
        "<h4> Balancing/Sampling"
      ]
    },
    {
      "cell_type": "code",
      "metadata": {
        "id": "F03Pfu9ff4dh",
        "outputId": "1096f4a9-42a8-4096-9755-38845223a527",
        "colab": {
          "base_uri": "https://localhost:8080/",
          "height": 347
        }
      },
      "source": [
        "#Determining Balance of our Data Samples\n",
        "acc_sev_counts=pd.value_counts(df_target['Accident_Severity'],sort=True)\n",
        "plt.figure(figsize=(5,5))\n",
        "acc_sev_counts.plot(kind='bar')\n",
        "plt.xlabel('Accident Severity')\n",
        "plt.ylabel('No. Of Records')\n"
      ],
      "execution_count": null,
      "outputs": [
        {
          "output_type": "execute_result",
          "data": {
            "text/plain": [
              "Text(0, 0.5, 'No. Of Records')"
            ]
          },
          "metadata": {
            "tags": []
          },
          "execution_count": 83
        },
        {
          "output_type": "display_data",
          "data": {
            "image/png": "[encoded data removed]",
            "text/plain": [
              "<Figure size 360x360 with 1 Axes>"
            ]
          },
          "metadata": {
            "tags": [],
            "needs_background": "light"
          }
        }
      ]
    },
    {
      "cell_type": "markdown",
      "metadata": {
        "id": "ege9SBBwf4dl"
      },
      "source": [
        "<h3>As u can see our data set is highly unbalanced w.r.t our output feature.\n",
        "    <h5><br>1. And probably the reason for which we aren't able to train an effective model in our previous attempts.\n",
        "    <br>2. But now we will resample our data to balance it and then we will apply our 1DCNN on top of it."
      ]
    },
    {
      "cell_type": "markdown",
      "metadata": {
        "id": "OE-fq6fJf4dm"
      },
      "source": [
        "<h4> LabelEncoding"
      ]
    },
    {
      "cell_type": "code",
      "metadata": {
        "id": "w91rKy_Sf4dm",
        "outputId": "5f80da8a-b3b9-4ee7-a0e7-060214ae4df0",
        "colab": {
          "base_uri": "https://localhost:8080/",
          "height": 419
        }
      },
      "source": [
        "df_train[['LSOA_of_Accident_Location','Local_Authority_(Highway)']]"
      ],
      "execution_count": null,
      "outputs": [
        {
          "output_type": "execute_result",
          "data": {
            "text/html": [
              "<div>\n",
              "<style scoped>\n",
              "    .dataframe tbody tr th:only-of-type {\n",
              "        vertical-align: middle;\n",
              "    }\n",
              "\n",
              "    .dataframe tbody tr th {\n",
              "        vertical-align: top;\n",
              "    }\n",
              "\n",
              "    .dataframe thead th {\n",
              "        text-align: right;\n",
              "    }\n",
              "</style>\n",
              "<table border=\"1\" class=\"dataframe\">\n",
              "  <thead>\n",
              "    <tr style=\"text-align: right;\">\n",
              "      <th></th>\n",
              "      <th>LSOA_of_Accident_Location</th>\n",
              "      <th>Local_Authority_(Highway)</th>\n",
              "    </tr>\n",
              "  </thead>\n",
              "  <tbody>\n",
              "    <tr>\n",
              "      <th>0</th>\n",
              "      <td>E01000854</td>\n",
              "      <td>E09000007</td>\n",
              "    </tr>\n",
              "    <tr>\n",
              "      <th>1</th>\n",
              "      <td>E01000854</td>\n",
              "      <td>E09000007</td>\n",
              "    </tr>\n",
              "    <tr>\n",
              "      <th>2</th>\n",
              "      <td>E01003531</td>\n",
              "      <td>E09000025</td>\n",
              "    </tr>\n",
              "    <tr>\n",
              "      <th>3</th>\n",
              "      <td>E01002723</td>\n",
              "      <td>E09000019</td>\n",
              "    </tr>\n",
              "    <tr>\n",
              "      <th>4</th>\n",
              "      <td>E01002723</td>\n",
              "      <td>E09000019</td>\n",
              "    </tr>\n",
              "    <tr>\n",
              "      <th>...</th>\n",
              "      <td>...</td>\n",
              "      <td>...</td>\n",
              "    </tr>\n",
              "    <tr>\n",
              "      <th>211605</th>\n",
              "      <td>W01000498</td>\n",
              "      <td>W06000023</td>\n",
              "    </tr>\n",
              "    <tr>\n",
              "      <th>211606</th>\n",
              "      <td>W01000498</td>\n",
              "      <td>W06000023</td>\n",
              "    </tr>\n",
              "    <tr>\n",
              "      <th>211607</th>\n",
              "      <td>W01000467</td>\n",
              "      <td>W06000023</td>\n",
              "    </tr>\n",
              "    <tr>\n",
              "      <th>211608</th>\n",
              "      <td>W01000496</td>\n",
              "      <td>W06000023</td>\n",
              "    </tr>\n",
              "    <tr>\n",
              "      <th>211609</th>\n",
              "      <td>W01000434</td>\n",
              "      <td>W06000023</td>\n",
              "    </tr>\n",
              "  </tbody>\n",
              "</table>\n",
              "<p>211610 rows × 2 columns</p>\n",
              "</div>"
            ],
            "text/plain": [
              "       LSOA_of_Accident_Location Local_Authority_(Highway)\n",
              "0                      E01000854                 E09000007\n",
              "1                      E01000854                 E09000007\n",
              "2                      E01003531                 E09000025\n",
              "3                      E01002723                 E09000019\n",
              "4                      E01002723                 E09000019\n",
              "...                          ...                       ...\n",
              "211605                 W01000498                 W06000023\n",
              "211606                 W01000498                 W06000023\n",
              "211607                 W01000467                 W06000023\n",
              "211608                 W01000496                 W06000023\n",
              "211609                 W01000434                 W06000023\n",
              "\n",
              "[211610 rows x 2 columns]"
            ]
          },
          "metadata": {
            "tags": []
          },
          "execution_count": 84
        }
      ]
    },
    {
      "cell_type": "code",
      "metadata": {
        "id": "45qFlb50f4dq"
      },
      "source": [
        "labelEncodeCols=['LSOA_of_Accident_Location','Local_Authority_(Highway)']\n",
        "#labelEncodeCols=['Local_Authority_(Highway)']\n",
        "Local_Authority_Highway               = LabelEncoder()\n",
        "LSOA_of_Accident_Location               = LabelEncoder()\n",
        "\n",
        "Local_Authority_Highway.fit(df_train['Local_Authority_(Highway)'])\n",
        "LSOA_of_Accident_Location.fit(df_train['LSOA_of_Accident_Location'])\n",
        "\n",
        "df_train['Local_Authority_(Highway)_E']=Local_Authority_Highway.transform(df_train['Local_Authority_(Highway)'])\n",
        "df_train['LSOA_of_Accident_Location_E']=LSOA_of_Accident_Location.transform(df_train['LSOA_of_Accident_Location'])\n",
        "df_train.drop(labelEncodeCols,axis=1,inplace=True)\n"
      ],
      "execution_count": null,
      "outputs": []
    },
    {
      "cell_type": "code",
      "metadata": {
        "id": "IO-Wbh5Zf4dx",
        "outputId": "c14b5603-216c-4b25-c322-6077809485a6",
        "colab": {
          "base_uri": "https://localhost:8080/"
        }
      },
      "source": [
        "#Performing Over Sampling\n",
        "#There are various sampling technique you can use like;- NearMiss, SMOTETomek, RandomOverSampler\n",
        "## RandomOverSampler to handle imbalanced data\n",
        "\n",
        "os =  RandomOverSampler(random_state=42)\n",
        "df_train_smpl, df_target_smpl = os.fit_sample(df_train, df_target)"
      ],
      "execution_count": null,
      "outputs": [
        {
          "output_type": "stream",
          "text": [
            "/usr/local/lib/python3.6/dist-packages/sklearn/utils/validation.py:760: DataConversionWarning: A column-vector y was passed when a 1d array was expected. Please change the shape of y to (n_samples, ), for example using ravel().\n",
            "  y = column_or_1d(y, warn=True)\n",
            "/usr/local/lib/python3.6/dist-packages/sklearn/utils/deprecation.py:87: FutureWarning: Function safe_indexing is deprecated; safe_indexing is deprecated in version 0.22 and will be removed in version 0.24.\n",
            "  warnings.warn(msg, category=FutureWarning)\n"
          ],
          "name": "stderr"
        }
      ]
    },
    {
      "cell_type": "code",
      "metadata": {
        "id": "fT1lLE_9f4d1",
        "outputId": "d4591bb0-b1a5-477f-db7b-cfc4ddfce7c5",
        "colab": {
          "base_uri": "https://localhost:8080/",
          "height": 358
        }
      },
      "source": [
        "#Checking the new sampled Data set for balance\n",
        "acc_sev_counts=pd.DataFrame(df_target_smpl).value_counts(sort=True)\n",
        "plt.figure(figsize=(5,5))\n",
        "acc_sev_counts.plot(kind='bar')\n",
        "plt.xlabel('Accident Severity')\n",
        "plt.ylabel('No. Of Records')\n"
      ],
      "execution_count": null,
      "outputs": [
        {
          "output_type": "execute_result",
          "data": {
            "text/plain": [
              "Text(0, 0.5, 'No. Of Records')"
            ]
          },
          "metadata": {
            "tags": []
          },
          "execution_count": 87
        },
        {
          "output_type": "display_data",
          "data": {
            "image/png": "[encoded data removed]",
            "text/plain": [
              "<Figure size 360x360 with 1 Axes>"
            ]
          },
          "metadata": {
            "tags": [],
            "needs_background": "light"
          }
        }
      ]
    },
    {
      "cell_type": "markdown",
      "metadata": {
        "id": "lpbs5tgBf4d4"
      },
      "source": [
        "<h3> Splitting up Training and Testing Data Samples"
      ]
    },
    {
      "cell_type": "code",
      "metadata": {
        "id": "RpLdSXVOf4d4"
      },
      "source": [
        "x1_train, x1_test, y1_train, y1_test = train_test_split(df_train_smpl,df_target_smpl,test_size=0.3,random_state=42,stratify=df_target_smpl)\n",
        "y1_train=y1_train.reshape(len(y1_train),)\n",
        "y1_test=y1_test.reshape(len(y1_test),)"
      ],
      "execution_count": null,
      "outputs": []
    },
    {
      "cell_type": "markdown",
      "metadata": {
        "id": "OkJmNRKmf4d7"
      },
      "source": [
        "### Scaling the Data with standard scaler"
      ]
    },
    {
      "cell_type": "code",
      "metadata": {
        "id": "o2Vzxi19f4d9",
        "outputId": "67503190-35ec-4ac7-f926-fcc466be57ec",
        "colab": {
          "base_uri": "https://localhost:8080/"
        }
      },
      "source": [
        "scaler=StandardScaler()\n",
        "x2_train=scaler.fit_transform(x1_train)\n",
        "x2_test=scaler.transform(x1_test)\n",
        "x2_train.min(),x2_train.max()"
      ],
      "execution_count": null,
      "outputs": [
        {
          "output_type": "execute_result",
          "data": {
            "text/plain": [
              "(-6.947563730835579, 45.035460634688825)"
            ]
          },
          "metadata": {
            "tags": []
          },
          "execution_count": 89
        }
      ]
    },
    {
      "cell_type": "code",
      "metadata": {
        "id": "S_KR2aEMf4eA"
      },
      "source": [
        "# Reshaping is only necessary incase of Conv1D Neural networks. Normal ANN donot require reshaping.\n",
        "x2_train=x2_train.reshape((x2_train.shape[0],x2_train.shape[1],1))\n",
        "x2_test=x2_test.reshape((x2_test.shape[0],x2_test.shape[1],1))"
      ],
      "execution_count": null,
      "outputs": []
    },
    {
      "cell_type": "markdown",
      "metadata": {
        "id": "ZJd4nJJFf4eD"
      },
      "source": [
        "### Build the Neural Network Model"
      ]
    },
    {
      "cell_type": "code",
      "metadata": {
        "id": "IrafJhVUf4eE",
        "outputId": "b1d8c780-f22c-4e45-bc17-fae4aca1c196",
        "colab": {
          "base_uri": "https://localhost:8080/"
        }
      },
      "source": [
        "model= Sequential()\n",
        "model.add(Conv1D(32,2,activation='relu',padding='same',input_shape=x2_train[0].shape))\n",
        "model.add(BatchNormalization())\n",
        "model.add(Dropout(0.2))\n",
        "\n",
        "model.add(Conv1D(64,2,activation='relu',padding='same'))\n",
        "model.add(BatchNormalization())\n",
        "model.add(Dropout(0.2))\n",
        "\n",
        "model.add(Conv1D(128,2,activation='relu',padding='same'))\n",
        "model.add(BatchNormalization())\n",
        "model.add(Dropout(0.4))\n",
        "\n",
        "model.add(Conv1D(256,2,activation='relu',padding='same'))\n",
        "model.add(BatchNormalization())\n",
        "model.add(Dropout(0.5))\n",
        "\n",
        "model.add(Flatten())\n",
        "model.add(Dense(1024,activation='relu'))\n",
        "model.add(Dense(512,activation='relu'))\n",
        "model.add(Dense(128,activation='relu'))\n",
        "model.add(Dense(4,activation='softmax'))\n",
        "\n",
        "model.summary()"
      ],
      "execution_count": null,
      "outputs": [
        {
          "output_type": "stream",
          "text": [
            "Model: \"sequential_6\"\n",
            "_________________________________________________________________\n",
            "Layer (type)                 Output Shape              Param #   \n",
            "=================================================================\n",
            "conv1d_19 (Conv1D)           (None, 40, 32)            96        \n",
            "_________________________________________________________________\n",
            "batch_normalization_19 (Batc (None, 40, 32)            128       \n",
            "_________________________________________________________________\n",
            "dropout_19 (Dropout)         (None, 40, 32)            0         \n",
            "_________________________________________________________________\n",
            "conv1d_20 (Conv1D)           (None, 40, 64)            4160      \n",
            "_________________________________________________________________\n",
            "batch_normalization_20 (Batc (None, 40, 64)            256       \n",
            "_________________________________________________________________\n",
            "dropout_20 (Dropout)         (None, 40, 64)            0         \n",
            "_________________________________________________________________\n",
            "conv1d_21 (Conv1D)           (None, 40, 128)           16512     \n",
            "_________________________________________________________________\n",
            "batch_normalization_21 (Batc (None, 40, 128)           512       \n",
            "_________________________________________________________________\n",
            "dropout_21 (Dropout)         (None, 40, 128)           0         \n",
            "_________________________________________________________________\n",
            "conv1d_22 (Conv1D)           (None, 40, 256)           65792     \n",
            "_________________________________________________________________\n",
            "batch_normalization_22 (Batc (None, 40, 256)           1024      \n",
            "_________________________________________________________________\n",
            "dropout_22 (Dropout)         (None, 40, 256)           0         \n",
            "_________________________________________________________________\n",
            "flatten_6 (Flatten)          (None, 10240)             0         \n",
            "_________________________________________________________________\n",
            "dense_19 (Dense)             (None, 1024)              10486784  \n",
            "_________________________________________________________________\n",
            "dense_20 (Dense)             (None, 512)               524800    \n",
            "_________________________________________________________________\n",
            "dense_21 (Dense)             (None, 128)               65664     \n",
            "_________________________________________________________________\n",
            "dense_22 (Dense)             (None, 4)                 516       \n",
            "=================================================================\n",
            "Total params: 11,166,244\n",
            "Trainable params: 11,165,284\n",
            "Non-trainable params: 960\n",
            "_________________________________________________________________\n"
          ],
          "name": "stdout"
        }
      ]
    },
    {
      "cell_type": "markdown",
      "metadata": {
        "id": "8Osxh3ggwYun"
      },
      "source": [
        "### We Write a call back function to stop the model from overfitting"
      ]
    },
    {
      "cell_type": "code",
      "metadata": {
        "id": "KEOqWwrFwgVF"
      },
      "source": [
        "# Define a Callback class that stops training once training_accuracy becomes >= validation_accuracy\n",
        "class myCallback(tf.keras.callbacks.Callback):\n",
        "  def on_epoch_end(self, epoch, logs={}):\n",
        "    if(logs.get('accuracy')>=logs.get('val_accuracy')):\n",
        "      print(\"\\nReached Training accuracy of: {}\".format(logs.get('accuracy')))\n",
        "      print(\"\\nReached Validation accuracy of: {}\".format(logs.get('val_accuracy')))\n",
        "      print(\"\\nNow that our training_accuracy has already reached >= validation_accuracy, we should stop the training!!!\")\n",
        "      self.model.stop_training = True"
      ],
      "execution_count": null,
      "outputs": []
    },
    {
      "cell_type": "markdown",
      "metadata": {
        "id": "uiZz0stof4eN"
      },
      "source": [
        "### Write functions for prediction and Evaluation Criteria"
      ]
    },
    {
      "cell_type": "code",
      "metadata": {
        "id": "JpN6R77Kf4eO"
      },
      "source": [
        "def predict(x2_test):\n",
        "    pred=model.predict(x2_test)\n",
        "    final_pred=[]\n",
        "    for arr in range(len(pred)):\n",
        "        final_pred=np.append(final_pred,np.argmax(pred[arr]))\n",
        "    return final_pred\n",
        "def plot_confusion_matrix(actual_target_list,predicted_target_list,classes_list,axis_notation_list=[]):\n",
        "    if len(axis_notation_list)==0:\n",
        "      axis_notation_list=classes_list\n",
        "    conf_mat=[]\n",
        "    actual_target_list=list(actual_target_list)\n",
        "    for aclass in classes_list:\n",
        "        row_list=[]\n",
        "        for pclass in classes_list:\n",
        "            row_list.append(sum(pd.Series(predicted_target_list)[pd.Series(actual_target_list)==aclass]==pclass))\n",
        "        conf_mat.append(row_list)\n",
        "    hw=len(classes_list)*1.5\n",
        "    fig, ax = plt.subplots(figsize=(hw,hw/2))\n",
        "    heatmap=sns.heatmap(conf_mat,\n",
        "            xticklabels=axis_notation_list,yticklabels=axis_notation_list,\n",
        "            annot=True,cbar=False,ax=ax,fmt='g',cmap='Blues',\n",
        "                       linewidths=0.3, linecolor='black')\n",
        "\n",
        "\n",
        "    ax.set(xlabel='Predicted',ylabel='Actual')\n",
        "    ax.xaxis.tick_top()\n",
        "    ax.xaxis.set_label_position(\"top\")\n",
        "    plt.show()\n",
        "    return conf_mat\n",
        "\n",
        "def plot_learning_curve(history):\n",
        "    plt.plot(history.history['accuracy'])\n",
        "    plt.plot(history.history['val_accuracy'])\n",
        "    plt.xlabel('Epochs')\n",
        "    plt.ylabel('Accuracy')\n",
        "    plt.title('Model_Accuracy')\n",
        "    plt.legend(['Train','Validate'],loc='upper left')\n",
        "    plt.show()\n",
        "\n",
        "    plt.plot(history.history['loss'])\n",
        "    plt.plot(history.history['val_loss'])\n",
        "    plt.xlabel('Epochs')\n",
        "    plt.ylabel('Loss')\n",
        "    plt.title('Model_loss')\n",
        "    plt.legend(['Train','Validate'],loc='upper left')\n",
        "    plt.show()"
      ],
      "execution_count": null,
      "outputs": []
    },
    {
      "cell_type": "markdown",
      "metadata": {
        "id": "KLqB4BUof4eR"
      },
      "source": [
        "#### Compile The Model"
      ]
    },
    {
      "cell_type": "code",
      "metadata": {
        "id": "cjgQlbOnf4eR"
      },
      "source": [
        "model.compile(optimizer=tf.keras.optimizers.Adam(learning_rate=0.0001),loss='sparse_categorical_crossentropy',metrics=['accuracy'])"
      ],
      "execution_count": null,
      "outputs": []
    },
    {
      "cell_type": "markdown",
      "metadata": {
        "id": "ZfumlXrhf4eb"
      },
      "source": [
        "#### Train The Model\n",
        "- batch_size is the number of inputs after which gradient descent method updates the models weights\n",
        "- epoch is the number of times we will train the model\n",
        "- Just to stop the model from over-fitting, make sure to limit the training upto an acceptable number of epochs(i.e. where u will hardly notice any significant decrease in loss or increase in accuracy)."
      ]
    },
    {
      "cell_type": "code",
      "metadata": {
        "id": "k_mPchVVf4eb",
        "outputId": "9ab1ec53-d190-4b04-addc-78613e7b4fcb",
        "colab": {
          "base_uri": "https://localhost:8080/"
        }
      },
      "source": [
        "callbacks = myCallback()\n",
        "history=model.fit(x2_train,y1_train,batch_size=100, epochs=50, validation_data=(x2_test,y1_test),verbose = 1,callbacks=[callbacks])"
      ],
      "execution_count": null,
      "outputs": [
        {
          "output_type": "stream",
          "text": [
            "Epoch 1/50\n",
            "3597/3597 [==============================] - 80s 22ms/step - loss: 0.9387 - accuracy: 0.5317 - val_loss: 0.8011 - val_accuracy: 0.6151\n",
            "Epoch 2/50\n",
            "3597/3597 [==============================] - 79s 22ms/step - loss: 0.6897 - accuracy: 0.6605 - val_loss: 0.5129 - val_accuracy: 0.7348\n",
            "Epoch 3/50\n",
            "3597/3597 [==============================] - 79s 22ms/step - loss: 0.5054 - accuracy: 0.7402 - val_loss: 0.4379 - val_accuracy: 0.7696\n",
            "Epoch 4/50\n",
            "3597/3597 [==============================] - 79s 22ms/step - loss: 0.4420 - accuracy: 0.7710 - val_loss: 0.4152 - val_accuracy: 0.7839\n",
            "Epoch 5/50\n",
            "3597/3597 [==============================] - 80s 22ms/step - loss: 0.4029 - accuracy: 0.7954 - val_loss: 0.3935 - val_accuracy: 0.8020\n",
            "Epoch 6/50\n",
            "3597/3597 [==============================] - 79s 22ms/step - loss: 0.3690 - accuracy: 0.8184 - val_loss: 0.3528 - val_accuracy: 0.8280\n",
            "Epoch 7/50\n",
            "3597/3597 [==============================] - 79s 22ms/step - loss: 0.3363 - accuracy: 0.8390 - val_loss: 0.3359 - val_accuracy: 0.8433\n",
            "Epoch 8/50\n",
            "3596/3597 [============================>.] - ETA: 0s - loss: 0.3033 - accuracy: 0.8597\n",
            "Reached Training accuracy of: 0.8596722483634949\n",
            "\n",
            "Reached Validation accuracy of: 0.8526663780212402\n",
            "\n",
            "Now that our training_accuracy has already reached >= validation_accuracy, we should stop the training!!!\n",
            "3597/3597 [==============================] - 79s 22ms/step - loss: 0.3033 - accuracy: 0.8597 - val_loss: 0.3237 - val_accuracy: 0.8527\n"
          ],
          "name": "stdout"
        }
      ]
    },
    {
      "cell_type": "code",
      "metadata": {
        "id": "FDaAZg5wf4er"
      },
      "source": [
        "y1_pred=predict(x2_test)"
      ],
      "execution_count": null,
      "outputs": []
    },
    {
      "cell_type": "code",
      "metadata": {
        "id": "rnVJzgW6f4ev",
        "outputId": "a516e8a2-9499-4e60-82c4-428affe00e4f",
        "colab": {
          "base_uri": "https://localhost:8080/"
        }
      },
      "source": [
        "np.unique(y1_pred,return_counts=False)"
      ],
      "execution_count": null,
      "outputs": [
        {
          "output_type": "execute_result",
          "data": {
            "text/plain": [
              "array([1., 2., 3.])"
            ]
          },
          "metadata": {
            "tags": []
          },
          "execution_count": 100
        }
      ]
    },
    {
      "cell_type": "markdown",
      "metadata": {
        "id": "fKY9PAuWf4e0"
      },
      "source": [
        "#### Plot Confusion Matrix and other relevant Evaluation Criteria"
      ]
    },
    {
      "cell_type": "code",
      "metadata": {
        "id": "jlqqFZ3Xf4e1",
        "outputId": "6e47c815-477e-407c-8a57-28f9233797a7",
        "colab": {
          "base_uri": "https://localhost:8080/",
          "height": 199
        }
      },
      "source": [
        "plot_confusion_matrix(y1_test,y1_pred,[1,2,3],['Fatal','Moderate','Slight'])"
      ],
      "execution_count": null,
      "outputs": [
        {
          "output_type": "display_data",
          "data": {
            "image/png": "[encoded data removed]",
            "text/plain": [
              "<Figure size 324x162 with 1 Axes>"
            ]
          },
          "metadata": {
            "tags": [],
            "needs_background": "light"
          }
        },
        {
          "output_type": "execute_result",
          "data": {
            "text/plain": [
              "[[51380, 0, 0], [97, 44556, 6727], [614, 15272, 35494]]"
            ]
          },
          "metadata": {
            "tags": []
          },
          "execution_count": 101
        }
      ]
    },
    {
      "cell_type": "markdown",
      "metadata": {
        "id": "5I52_X9Lf4e9"
      },
      "source": [
        "#### Plot the Learning Curve"
      ]
    },
    {
      "cell_type": "code",
      "metadata": {
        "id": "0Hra-_xsf4e-",
        "outputId": "b6e93244-ca73-45a9-be41-563041e4c823",
        "colab": {
          "base_uri": "https://localhost:8080/",
          "height": 573
        }
      },
      "source": [
        "plot_learning_curve(history)"
      ],
      "execution_count": null,
      "outputs": [
        {
          "output_type": "display_data",
          "data": {
            "image/png": "[encoded data removed]",
            "text/plain": [
              "<Figure size 432x288 with 1 Axes>"
            ]
          },
          "metadata": {
            "tags": [],
            "needs_background": "light"
          }
        },
        {
          "output_type": "display_data",
          "data": {
            "image/png": "[encoded data removed]",
            "text/plain": [
              "<Figure size 432x288 with 1 Axes>"
            ]
          },
          "metadata": {
            "tags": [],
            "needs_background": "light"
          }
        }
      ]
    }
  ]
}